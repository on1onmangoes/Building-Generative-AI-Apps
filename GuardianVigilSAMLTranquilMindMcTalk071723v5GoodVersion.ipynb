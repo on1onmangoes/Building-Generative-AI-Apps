{
  "cells": [
    {
      "cell_type": "markdown",
      "metadata": {
        "id": "view-in-github",
        "colab_type": "text"
      },
      "source": [
        "<a href=\"https://colab.research.google.com/github/on1onmangoes/Building-Generative-AI-Apps/blob/main/GuardianVigilSAMLTranquilMindMcTalk071723v5GoodVersion.ipynb\" target=\"_parent\"><img src=\"https://colab.research.google.com/assets/colab-badge.svg\" alt=\"Open In Colab\"/></a>"
      ]
    },
    {
      "cell_type": "code",
      "execution_count": null,
      "metadata": {
        "id": "2IplliftTAT7",
        "colab": {
          "base_uri": "https://localhost:8080/"
        },
        "outputId": "0803dd61-197b-4c61-b031-f22ec0a4e0b4"
      },
      "outputs": [
        {
          "output_type": "stream",
          "name": "stdout",
          "text": [
            "Requirement already satisfied: librosa in /usr/local/lib/python3.10/dist-packages (0.10.0.post2)\n",
            "Requirement already satisfied: audioread>=2.1.9 in /usr/local/lib/python3.10/dist-packages (from librosa) (3.0.0)\n",
            "Requirement already satisfied: numpy!=1.22.0,!=1.22.1,!=1.22.2,>=1.20.3 in /usr/local/lib/python3.10/dist-packages (from librosa) (1.22.4)\n",
            "Requirement already satisfied: scipy>=1.2.0 in /usr/local/lib/python3.10/dist-packages (from librosa) (1.10.1)\n",
            "Requirement already satisfied: scikit-learn>=0.20.0 in /usr/local/lib/python3.10/dist-packages (from librosa) (1.2.2)\n",
            "Requirement already satisfied: joblib>=0.14 in /usr/local/lib/python3.10/dist-packages (from librosa) (1.3.1)\n",
            "Requirement already satisfied: decorator>=4.3.0 in /usr/local/lib/python3.10/dist-packages (from librosa) (4.4.2)\n",
            "Requirement already satisfied: numba>=0.51.0 in /usr/local/lib/python3.10/dist-packages (from librosa) (0.56.4)\n",
            "Requirement already satisfied: soundfile>=0.12.1 in /usr/local/lib/python3.10/dist-packages (from librosa) (0.12.1)\n",
            "Requirement already satisfied: pooch<1.7,>=1.0 in /usr/local/lib/python3.10/dist-packages (from librosa) (1.6.0)\n",
            "Requirement already satisfied: soxr>=0.3.2 in /usr/local/lib/python3.10/dist-packages (from librosa) (0.3.5)\n",
            "Requirement already satisfied: typing-extensions>=4.1.1 in /usr/local/lib/python3.10/dist-packages (from librosa) (4.7.1)\n",
            "Requirement already satisfied: lazy-loader>=0.1 in /usr/local/lib/python3.10/dist-packages (from librosa) (0.3)\n",
            "Requirement already satisfied: msgpack>=1.0 in /usr/local/lib/python3.10/dist-packages (from librosa) (1.0.5)\n",
            "Requirement already satisfied: llvmlite<0.40,>=0.39.0dev0 in /usr/local/lib/python3.10/dist-packages (from numba>=0.51.0->librosa) (0.39.1)\n",
            "Requirement already satisfied: setuptools in /usr/local/lib/python3.10/dist-packages (from numba>=0.51.0->librosa) (67.7.2)\n",
            "Requirement already satisfied: appdirs>=1.3.0 in /usr/local/lib/python3.10/dist-packages (from pooch<1.7,>=1.0->librosa) (1.4.4)\n",
            "Requirement already satisfied: packaging>=20.0 in /usr/local/lib/python3.10/dist-packages (from pooch<1.7,>=1.0->librosa) (23.1)\n",
            "Requirement already satisfied: requests>=2.19.0 in /usr/local/lib/python3.10/dist-packages (from pooch<1.7,>=1.0->librosa) (2.27.1)\n",
            "Requirement already satisfied: threadpoolctl>=2.0.0 in /usr/local/lib/python3.10/dist-packages (from scikit-learn>=0.20.0->librosa) (3.1.0)\n",
            "Requirement already satisfied: cffi>=1.0 in /usr/local/lib/python3.10/dist-packages (from soundfile>=0.12.1->librosa) (1.15.1)\n",
            "Requirement already satisfied: pycparser in /usr/local/lib/python3.10/dist-packages (from cffi>=1.0->soundfile>=0.12.1->librosa) (2.21)\n",
            "Requirement already satisfied: urllib3<1.27,>=1.21.1 in /usr/local/lib/python3.10/dist-packages (from requests>=2.19.0->pooch<1.7,>=1.0->librosa) (1.26.16)\n",
            "Requirement already satisfied: certifi>=2017.4.17 in /usr/local/lib/python3.10/dist-packages (from requests>=2.19.0->pooch<1.7,>=1.0->librosa) (2023.5.7)\n",
            "Requirement already satisfied: charset-normalizer~=2.0.0 in /usr/local/lib/python3.10/dist-packages (from requests>=2.19.0->pooch<1.7,>=1.0->librosa) (2.0.12)\n",
            "Requirement already satisfied: idna<4,>=2.5 in /usr/local/lib/python3.10/dist-packages (from requests>=2.19.0->pooch<1.7,>=1.0->librosa) (3.4)\n"
          ]
        }
      ],
      "source": [
        "import os\n",
        "!pip install librosa"
      ]
    },
    {
      "cell_type": "markdown",
      "metadata": {
        "id": "pNbfz4foh8Mq"
      },
      "source": [
        "### **GaurdianVigil + SAML v4 Support Notebook**\n",
        "1. Harmony Frequency and Voice\n",
        "1. McTalk Baseline\n",
        "*******\n",
        "SAML or Sound Acoustic Machine Learning leverages the power of machine learning and advanced speech processing techniques to enhance the conversation analysis and transcription process.\n",
        "1. By incorporating latest techniques, pipelines coupled with data-centric apporach we are plesed bring you McTalk and HarmonyFrequency\n",
        "with (NER), McTalk provides detailed and accurate information about who said what in a conversation, along with identifying relevant medical entities. This innovative feature improves context understanding, sentiment analysis, and enables targeted analysis for applications like TranquilMind, MINISense, and GuardianVigil.\n",
        "2. With McTalk, you can unlock deeper insights and optimize patient outcomes while ensuring a collaborative and privacy-conscious approach to conversation analysis.\n",
        "3. With HarmonyFrequency we can ensure secure, privacy preserving AI that provides improved workflow, identification/delineation\n",
        "4. By applying sophisticated algorithms, ReMine enhances the clarity of audio data, removing noise and irrelevant elements to reveal the true essence of the conversation. With ReMine, researchers and analysts can effortlessly navigate through conversational data, uncovering valuable patterns, sentiments, and information that can drive impactful discoveries\n"
      ]
    },
    {
      "cell_type": "code",
      "execution_count": null,
      "metadata": {
        "id": "WsGlW6LIk8i1"
      },
      "outputs": [],
      "source": []
    },
    {
      "cell_type": "markdown",
      "metadata": {
        "id": "RL1wE9he0J62"
      },
      "source": [
        "### Import logger"
      ]
    },
    {
      "cell_type": "code",
      "execution_count": null,
      "metadata": {
        "id": "mxs4kavr0NUW"
      },
      "outputs": [],
      "source": [
        "import logging\n",
        "\n",
        "# Set up logging\n",
        "logging.basicConfig(level=logging.INFO)  # You can set the level to DEBUG, INFO, WARNING, ERROR, or CRITICAL\n",
        "logger = logging.getLogger(__name__)  # __name__ is the name of the current Python script, so logger knows where it's running\n"
      ]
    },
    {
      "cell_type": "code",
      "execution_count": null,
      "metadata": {
        "id": "rFD52iHliTXI",
        "colab": {
          "base_uri": "https://localhost:8080/"
        },
        "outputId": "4fbb70d3-9192-4530-e0d9-a687875bf529"
      },
      "outputs": [
        {
          "output_type": "stream",
          "name": "stdout",
          "text": [
            "Traceback (most recent call last):\n",
            "  File \"/usr/local/lib/python3.10/dist-packages/pip/_internal/cli/base_command.py\", line 169, in exc_logging_wrapper\n",
            "    status = run_func(*args)\n",
            "  File \"/usr/local/lib/python3.10/dist-packages/pip/_internal/cli/req_command.py\", line 242, in wrapper\n",
            "    return func(self, options, args)\n",
            "  File \"/usr/local/lib/python3.10/dist-packages/pip/_internal/commands/install.py\", line 324, in run\n",
            "    session = self.get_default_session(options)\n",
            "  File \"/usr/local/lib/python3.10/dist-packages/pip/_internal/cli/req_command.py\", line 98, in get_default_session\n",
            "    self._session = self.enter_context(self._build_session(options))\n",
            "  File \"/usr/local/lib/python3.10/dist-packages/pip/_internal/cli/req_command.py\", line 125, in _build_session\n",
            "    session = PipSession(\n",
            "  File \"/usr/local/lib/python3.10/dist-packages/pip/_internal/network/session.py\", line 342, in __init__\n",
            "    self.headers[\"User-Agent\"] = user_agent()\n",
            "  File \"/usr/local/lib/python3.10/dist-packages/pip/_internal/network/session.py\", line 175, in user_agent\n",
            "    setuptools_dist = get_default_environment().get_distribution(\"setuptools\")\n",
            "  File \"/usr/local/lib/python3.10/dist-packages/pip/_internal/metadata/__init__.py\", line 75, in get_default_environment\n",
            "    return select_backend().Environment.default()\n",
            "  File \"/usr/local/lib/python3.10/dist-packages/pip/_internal/metadata/__init__.py\", line 63, in select_backend\n",
            "    from . import pkg_resources\n",
            "  File \"/usr/local/lib/python3.10/dist-packages/pip/_internal/metadata/pkg_resources.py\", line 8, in <module>\n",
            "    from pip._vendor import pkg_resources\n",
            "  File \"/usr/local/lib/python3.10/dist-packages/pip/_vendor/pkg_resources/__init__.py\", line 1177, in <module>\n",
            "    class ExtractionError(RuntimeError):\n",
            "KeyboardInterrupt\n",
            "\n",
            "During handling of the above exception, another exception occurred:\n",
            "\n",
            "Traceback (most recent call last):\n",
            "  File \"/usr/local/bin/pip3\", line 8, in <module>\n",
            "    sys.exit(main())\n",
            "  File \"/usr/local/lib/python3.10/dist-packages/pip/_internal/cli/main.py\", line 79, in main\n",
            "    return command.main(cmd_args)\n",
            "  File \"/usr/local/lib/python3.10/dist-packages/pip/_internal/cli/base_command.py\", line 101, in main\n",
            "    return self._main(args)\n",
            "  File \"/usr/local/lib/python3.10/dist-packages/pip/_internal/cli/base_command.py\", line 223, in _main\n",
            "    return run(options, args)\n",
            "  File \"/usr/local/lib/python3.10/dist-packages/pip/_internal/cli/base_command.py\", line 206, in exc_logging_wrapper\n",
            "    logger.critical(\"Operation cancelled by user\")\n",
            "  File \"/usr/lib/python3.10/logging/__init__.py\", line 1524, in critical\n",
            "    self._log(CRITICAL, msg, args, **kwargs)\n",
            "  File \"/usr/lib/python3.10/logging/__init__.py\", line 1622, in _log\n",
            "    record = self.makeRecord(self.name, level, fn, lno, msg, args,\n",
            "  File \"/usr/lib/python3.10/logging/__init__.py\", line 1591, in makeRecord\n",
            "    rv = _logRecordFactory(name, level, fn, lno, msg, args, exc_info, func,\n",
            "  File \"/usr/lib/python3.10/logging/__init__.py\", line 351, in __init__\n",
            "    self.process = os.getpid()\n",
            "KeyboardInterrupt\n",
            "^C\n"
          ]
        }
      ],
      "source": [
        "! pip install pytube moviepy pydub gradio tqdm ffmpeg-python\n",
        "\n",
        "\n"
      ]
    },
    {
      "cell_type": "code",
      "execution_count": null,
      "metadata": {
        "id": "HR284Z_TmEDA",
        "colab": {
          "base_uri": "https://localhost:8080/"
        },
        "outputId": "fcf0fb84-231e-4fda-bd52-452e63e6bccf"
      },
      "outputs": [
        {
          "output_type": "stream",
          "name": "stdout",
          "text": [
            "Collecting transformers\n",
            "  Downloading transformers-4.31.0-py3-none-any.whl (7.4 MB)\n",
            "\u001b[2K     \u001b[90m━━━━━━━━━━━━━━━━━━━━━━━━━━━━━━━━━━━━━━━━\u001b[0m \u001b[32m7.4/7.4 MB\u001b[0m \u001b[31m47.4 MB/s\u001b[0m eta \u001b[36m0:00:00\u001b[0m\n",
            "\u001b[?25hCollecting youtube-dl\n",
            "  Downloading youtube_dl-2021.12.17-py2.py3-none-any.whl (1.9 MB)\n",
            "\u001b[2K     \u001b[90m━━━━━━━━━━━━━━━━━━━━━━━━━━━━━━━━━━━━━━━━\u001b[0m \u001b[32m1.9/1.9 MB\u001b[0m \u001b[31m88.1 MB/s\u001b[0m eta \u001b[36m0:00:00\u001b[0m\n",
            "\u001b[?25hRequirement already satisfied: filelock in /usr/local/lib/python3.10/dist-packages (from transformers) (3.12.2)\n",
            "Collecting huggingface-hub<1.0,>=0.14.1 (from transformers)\n",
            "  Downloading huggingface_hub-0.16.4-py3-none-any.whl (268 kB)\n",
            "\u001b[2K     \u001b[90m━━━━━━━━━━━━━━━━━━━━━━━━━━━━━━━━━━━━━━\u001b[0m \u001b[32m268.8/268.8 kB\u001b[0m \u001b[31m30.8 MB/s\u001b[0m eta \u001b[36m0:00:00\u001b[0m\n",
            "\u001b[?25hRequirement already satisfied: numpy>=1.17 in /usr/local/lib/python3.10/dist-packages (from transformers) (1.22.4)\n",
            "Requirement already satisfied: packaging>=20.0 in /usr/local/lib/python3.10/dist-packages (from transformers) (23.1)\n",
            "Requirement already satisfied: pyyaml>=5.1 in /usr/local/lib/python3.10/dist-packages (from transformers) (6.0)\n",
            "Requirement already satisfied: regex!=2019.12.17 in /usr/local/lib/python3.10/dist-packages (from transformers) (2022.10.31)\n",
            "Requirement already satisfied: requests in /usr/local/lib/python3.10/dist-packages (from transformers) (2.27.1)\n",
            "Collecting tokenizers!=0.11.3,<0.14,>=0.11.1 (from transformers)\n",
            "  Downloading tokenizers-0.13.3-cp310-cp310-manylinux_2_17_x86_64.manylinux2014_x86_64.whl (7.8 MB)\n",
            "\u001b[2K     \u001b[90m━━━━━━━━━━━━━━━━━━━━━━━━━━━━━━━━━━━━━━━━\u001b[0m \u001b[32m7.8/7.8 MB\u001b[0m \u001b[31m90.7 MB/s\u001b[0m eta \u001b[36m0:00:00\u001b[0m\n",
            "\u001b[?25hCollecting safetensors>=0.3.1 (from transformers)\n",
            "  Downloading safetensors-0.3.1-cp310-cp310-manylinux_2_17_x86_64.manylinux2014_x86_64.whl (1.3 MB)\n",
            "\u001b[2K     \u001b[90m━━━━━━━━━━━━━━━━━━━━━━━━━━━━━━━━━━━━━━━━\u001b[0m \u001b[32m1.3/1.3 MB\u001b[0m \u001b[31m77.2 MB/s\u001b[0m eta \u001b[36m0:00:00\u001b[0m\n",
            "\u001b[?25hRequirement already satisfied: tqdm>=4.27 in /usr/local/lib/python3.10/dist-packages (from transformers) (4.65.0)\n",
            "Requirement already satisfied: fsspec in /usr/local/lib/python3.10/dist-packages (from huggingface-hub<1.0,>=0.14.1->transformers) (2023.6.0)\n",
            "Requirement already satisfied: typing-extensions>=3.7.4.3 in /usr/local/lib/python3.10/dist-packages (from huggingface-hub<1.0,>=0.14.1->transformers) (4.7.1)\n",
            "Requirement already satisfied: urllib3<1.27,>=1.21.1 in /usr/local/lib/python3.10/dist-packages (from requests->transformers) (1.26.16)\n",
            "Requirement already satisfied: certifi>=2017.4.17 in /usr/local/lib/python3.10/dist-packages (from requests->transformers) (2023.5.7)\n",
            "Requirement already satisfied: charset-normalizer~=2.0.0 in /usr/local/lib/python3.10/dist-packages (from requests->transformers) (2.0.12)\n",
            "Requirement already satisfied: idna<4,>=2.5 in /usr/local/lib/python3.10/dist-packages (from requests->transformers) (3.4)\n",
            "Installing collected packages: youtube-dl, tokenizers, safetensors, huggingface-hub, transformers\n",
            "Successfully installed huggingface-hub-0.16.4 safetensors-0.3.1 tokenizers-0.13.3 transformers-4.31.0 youtube-dl-2021.12.17\n"
          ]
        }
      ],
      "source": [
        "!pip install transformers youtube-dl\n",
        "\n"
      ]
    },
    {
      "cell_type": "markdown",
      "metadata": {
        "id": "lwzqrw36OhAS"
      },
      "source": [
        "### Install JAX"
      ]
    },
    {
      "cell_type": "code",
      "execution_count": null,
      "metadata": {
        "id": "vs3DgB49me9F",
        "colab": {
          "base_uri": "https://localhost:8080/"
        },
        "outputId": "9bb23fac-aad8-4b98-a087-684d1efe8694"
      },
      "outputs": [
        {
          "output_type": "stream",
          "name": "stdout",
          "text": [
            "Requirement already satisfied: jax in /usr/local/lib/python3.10/dist-packages (0.4.13)\n",
            "Requirement already satisfied: ml-dtypes>=0.1.0 in /usr/local/lib/python3.10/dist-packages (from jax) (0.2.0)\n",
            "Requirement already satisfied: numpy>=1.21 in /usr/local/lib/python3.10/dist-packages (from jax) (1.22.4)\n",
            "Requirement already satisfied: opt-einsum in /usr/local/lib/python3.10/dist-packages (from jax) (3.3.0)\n",
            "Requirement already satisfied: scipy>=1.7 in /usr/local/lib/python3.10/dist-packages (from jax) (1.10.1)\n",
            "Collecting git+https://github.com/sanchit-gandhi/whisper-jax.git\n",
            "  Cloning https://github.com/sanchit-gandhi/whisper-jax.git to /tmp/pip-req-build-lqqt2uy3\n",
            "  Running command git clone --filter=blob:none --quiet https://github.com/sanchit-gandhi/whisper-jax.git /tmp/pip-req-build-lqqt2uy3\n",
            "  Resolved https://github.com/sanchit-gandhi/whisper-jax.git to commit 0d3bc54c8c673d71732ba6bc20fa0323b1101fa6\n",
            "  Installing build dependencies ... \u001b[?25l\u001b[?25hdone\n",
            "  Getting requirements to build wheel ... \u001b[?25l\u001b[?25hdone\n",
            "  Preparing metadata (pyproject.toml) ... \u001b[?25l\u001b[?25hdone\n",
            "Requirement already satisfied: transformers>=4.27.4 in /usr/local/lib/python3.10/dist-packages (from whisper-jax==0.0.1) (4.31.0)\n",
            "Requirement already satisfied: flax in /usr/local/lib/python3.10/dist-packages (from whisper-jax==0.0.1) (0.7.0)\n",
            "Requirement already satisfied: filelock in /usr/local/lib/python3.10/dist-packages (from transformers>=4.27.4->whisper-jax==0.0.1) (3.12.2)\n",
            "Requirement already satisfied: huggingface-hub<1.0,>=0.14.1 in /usr/local/lib/python3.10/dist-packages (from transformers>=4.27.4->whisper-jax==0.0.1) (0.16.4)\n",
            "Requirement already satisfied: numpy>=1.17 in /usr/local/lib/python3.10/dist-packages (from transformers>=4.27.4->whisper-jax==0.0.1) (1.22.4)\n",
            "Requirement already satisfied: packaging>=20.0 in /usr/local/lib/python3.10/dist-packages (from transformers>=4.27.4->whisper-jax==0.0.1) (23.1)\n",
            "Requirement already satisfied: pyyaml>=5.1 in /usr/local/lib/python3.10/dist-packages (from transformers>=4.27.4->whisper-jax==0.0.1) (6.0)\n",
            "Requirement already satisfied: regex!=2019.12.17 in /usr/local/lib/python3.10/dist-packages (from transformers>=4.27.4->whisper-jax==0.0.1) (2022.10.31)\n",
            "Requirement already satisfied: requests in /usr/local/lib/python3.10/dist-packages (from transformers>=4.27.4->whisper-jax==0.0.1) (2.27.1)\n",
            "Requirement already satisfied: tokenizers!=0.11.3,<0.14,>=0.11.1 in /usr/local/lib/python3.10/dist-packages (from transformers>=4.27.4->whisper-jax==0.0.1) (0.13.3)\n",
            "Requirement already satisfied: safetensors>=0.3.1 in /usr/local/lib/python3.10/dist-packages (from transformers>=4.27.4->whisper-jax==0.0.1) (0.3.1)\n",
            "Requirement already satisfied: tqdm>=4.27 in /usr/local/lib/python3.10/dist-packages (from transformers>=4.27.4->whisper-jax==0.0.1) (4.65.0)\n",
            "Requirement already satisfied: jax>=0.4.2 in /usr/local/lib/python3.10/dist-packages (from flax->whisper-jax==0.0.1) (0.4.13)\n",
            "Requirement already satisfied: msgpack in /usr/local/lib/python3.10/dist-packages (from flax->whisper-jax==0.0.1) (1.0.5)\n",
            "Requirement already satisfied: optax in /usr/local/lib/python3.10/dist-packages (from flax->whisper-jax==0.0.1) (0.1.5)\n",
            "Requirement already satisfied: orbax-checkpoint in /usr/local/lib/python3.10/dist-packages (from flax->whisper-jax==0.0.1) (0.2.7)\n",
            "Requirement already satisfied: tensorstore in /usr/local/lib/python3.10/dist-packages (from flax->whisper-jax==0.0.1) (0.1.40)\n",
            "Requirement already satisfied: rich>=11.1 in /usr/local/lib/python3.10/dist-packages (from flax->whisper-jax==0.0.1) (13.4.2)\n",
            "Requirement already satisfied: typing-extensions>=4.1.1 in /usr/local/lib/python3.10/dist-packages (from flax->whisper-jax==0.0.1) (4.7.1)\n",
            "Requirement already satisfied: fsspec in /usr/local/lib/python3.10/dist-packages (from huggingface-hub<1.0,>=0.14.1->transformers>=4.27.4->whisper-jax==0.0.1) (2023.6.0)\n",
            "Requirement already satisfied: ml-dtypes>=0.1.0 in /usr/local/lib/python3.10/dist-packages (from jax>=0.4.2->flax->whisper-jax==0.0.1) (0.2.0)\n",
            "Requirement already satisfied: opt-einsum in /usr/local/lib/python3.10/dist-packages (from jax>=0.4.2->flax->whisper-jax==0.0.1) (3.3.0)\n",
            "Requirement already satisfied: scipy>=1.7 in /usr/local/lib/python3.10/dist-packages (from jax>=0.4.2->flax->whisper-jax==0.0.1) (1.10.1)\n",
            "Requirement already satisfied: markdown-it-py>=2.2.0 in /usr/local/lib/python3.10/dist-packages (from rich>=11.1->flax->whisper-jax==0.0.1) (3.0.0)\n",
            "Requirement already satisfied: pygments<3.0.0,>=2.13.0 in /usr/local/lib/python3.10/dist-packages (from rich>=11.1->flax->whisper-jax==0.0.1) (2.14.0)\n",
            "Requirement already satisfied: absl-py>=0.7.1 in /usr/local/lib/python3.10/dist-packages (from optax->flax->whisper-jax==0.0.1) (1.4.0)\n",
            "Requirement already satisfied: chex>=0.1.5 in /usr/local/lib/python3.10/dist-packages (from optax->flax->whisper-jax==0.0.1) (0.1.7)\n",
            "Requirement already satisfied: jaxlib>=0.1.37 in /usr/local/lib/python3.10/dist-packages (from optax->flax->whisper-jax==0.0.1) (0.4.13+cuda11.cudnn86)\n",
            "Requirement already satisfied: etils[epath,epy] in /usr/local/lib/python3.10/dist-packages (from orbax-checkpoint->flax->whisper-jax==0.0.1) (1.3.0)\n",
            "Requirement already satisfied: nest_asyncio in /usr/local/lib/python3.10/dist-packages (from orbax-checkpoint->flax->whisper-jax==0.0.1) (1.5.6)\n",
            "Requirement already satisfied: protobuf in /usr/local/lib/python3.10/dist-packages (from orbax-checkpoint->flax->whisper-jax==0.0.1) (3.20.3)\n",
            "Requirement already satisfied: urllib3<1.27,>=1.21.1 in /usr/local/lib/python3.10/dist-packages (from requests->transformers>=4.27.4->whisper-jax==0.0.1) (1.26.16)\n",
            "Requirement already satisfied: certifi>=2017.4.17 in /usr/local/lib/python3.10/dist-packages (from requests->transformers>=4.27.4->whisper-jax==0.0.1) (2023.5.7)\n",
            "Requirement already satisfied: charset-normalizer~=2.0.0 in /usr/local/lib/python3.10/dist-packages (from requests->transformers>=4.27.4->whisper-jax==0.0.1) (2.0.12)\n",
            "Requirement already satisfied: idna<4,>=2.5 in /usr/local/lib/python3.10/dist-packages (from requests->transformers>=4.27.4->whisper-jax==0.0.1) (3.4)\n",
            "Requirement already satisfied: dm-tree>=0.1.5 in /usr/local/lib/python3.10/dist-packages (from chex>=0.1.5->optax->flax->whisper-jax==0.0.1) (0.1.8)\n",
            "Requirement already satisfied: toolz>=0.9.0 in /usr/local/lib/python3.10/dist-packages (from chex>=0.1.5->optax->flax->whisper-jax==0.0.1) (0.12.0)\n",
            "Requirement already satisfied: mdurl~=0.1 in /usr/local/lib/python3.10/dist-packages (from markdown-it-py>=2.2.0->rich>=11.1->flax->whisper-jax==0.0.1) (0.1.2)\n",
            "Requirement already satisfied: importlib_resources in /usr/local/lib/python3.10/dist-packages (from etils[epath,epy]->orbax-checkpoint->flax->whisper-jax==0.0.1) (6.0.0)\n",
            "Requirement already satisfied: zipp in /usr/local/lib/python3.10/dist-packages (from etils[epath,epy]->orbax-checkpoint->flax->whisper-jax==0.0.1) (3.16.1)\n",
            "Building wheels for collected packages: whisper-jax\n",
            "  Building wheel for whisper-jax (pyproject.toml) ... \u001b[?25l\u001b[?25hdone\n",
            "  Created wheel for whisper-jax: filename=whisper_jax-0.0.1-py3-none-any.whl size=60177 sha256=5b992f089f00e7abb1d605a91ff9c9f995446069a65dfd646d0e858c35bc6046\n",
            "  Stored in directory: /tmp/pip-ephem-wheel-cache-qji9oqy5/wheels/19/7f/50/36e503232cafa814d4b088fcb9ce13d5d3b3c9e9d29e139a94\n",
            "Successfully built whisper-jax\n",
            "Installing collected packages: whisper-jax\n",
            "Successfully installed whisper-jax-0.0.1\n"
          ]
        }
      ],
      "source": [
        "! pip install jax\n",
        "! pip install git+https://github.com/sanchit-gandhi/whisper-jax.git\n"
      ]
    },
    {
      "cell_type": "markdown",
      "metadata": {
        "id": "tK0beR42OqLO"
      },
      "source": [
        "### Install librosa duplicate already installed in the first step"
      ]
    },
    {
      "cell_type": "code",
      "execution_count": null,
      "metadata": {
        "id": "5qfTUU6WnNF6",
        "colab": {
          "base_uri": "https://localhost:8080/"
        },
        "outputId": "b88c403e-679c-4cae-fd8e-30bd5015f24a"
      },
      "outputs": [
        {
          "output_type": "stream",
          "name": "stdout",
          "text": [
            "Requirement already satisfied: librosa in /usr/local/lib/python3.10/dist-packages (0.10.0.post2)\n",
            "Requirement already satisfied: audioread>=2.1.9 in /usr/local/lib/python3.10/dist-packages (from librosa) (3.0.0)\n",
            "Requirement already satisfied: numpy!=1.22.0,!=1.22.1,!=1.22.2,>=1.20.3 in /usr/local/lib/python3.10/dist-packages (from librosa) (1.23.5)\n",
            "Requirement already satisfied: scipy>=1.2.0 in /usr/local/lib/python3.10/dist-packages (from librosa) (1.11.1)\n",
            "Requirement already satisfied: scikit-learn>=0.20.0 in /usr/local/lib/python3.10/dist-packages (from librosa) (1.2.2)\n",
            "Requirement already satisfied: joblib>=0.14 in /usr/local/lib/python3.10/dist-packages (from librosa) (1.3.1)\n",
            "Requirement already satisfied: decorator>=4.3.0 in /usr/local/lib/python3.10/dist-packages (from librosa) (4.4.2)\n",
            "Requirement already satisfied: numba>=0.51.0 in /usr/local/lib/python3.10/dist-packages (from librosa) (0.56.4)\n",
            "Requirement already satisfied: soundfile>=0.12.1 in /usr/local/lib/python3.10/dist-packages (from librosa) (0.12.1)\n",
            "Requirement already satisfied: pooch<1.7,>=1.0 in /usr/local/lib/python3.10/dist-packages (from librosa) (1.6.0)\n",
            "Requirement already satisfied: soxr>=0.3.2 in /usr/local/lib/python3.10/dist-packages (from librosa) (0.3.5)\n",
            "Requirement already satisfied: typing-extensions>=4.1.1 in /usr/local/lib/python3.10/dist-packages (from librosa) (4.7.1)\n",
            "Requirement already satisfied: lazy-loader>=0.1 in /usr/local/lib/python3.10/dist-packages (from librosa) (0.3)\n",
            "Requirement already satisfied: msgpack>=1.0 in /usr/local/lib/python3.10/dist-packages (from librosa) (1.0.5)\n",
            "Requirement already satisfied: llvmlite<0.40,>=0.39.0dev0 in /usr/local/lib/python3.10/dist-packages (from numba>=0.51.0->librosa) (0.39.1)\n",
            "Requirement already satisfied: setuptools in /usr/local/lib/python3.10/dist-packages (from numba>=0.51.0->librosa) (67.7.2)\n",
            "Requirement already satisfied: appdirs>=1.3.0 in /usr/local/lib/python3.10/dist-packages (from pooch<1.7,>=1.0->librosa) (1.4.4)\n",
            "Requirement already satisfied: packaging>=20.0 in /usr/local/lib/python3.10/dist-packages (from pooch<1.7,>=1.0->librosa) (23.1)\n",
            "Requirement already satisfied: requests>=2.19.0 in /usr/local/lib/python3.10/dist-packages (from pooch<1.7,>=1.0->librosa) (2.27.1)\n",
            "Requirement already satisfied: threadpoolctl>=2.0.0 in /usr/local/lib/python3.10/dist-packages (from scikit-learn>=0.20.0->librosa) (3.1.0)\n",
            "Requirement already satisfied: cffi>=1.0 in /usr/local/lib/python3.10/dist-packages (from soundfile>=0.12.1->librosa) (1.15.1)\n",
            "Requirement already satisfied: pycparser in /usr/local/lib/python3.10/dist-packages (from cffi>=1.0->soundfile>=0.12.1->librosa) (2.21)\n",
            "Requirement already satisfied: urllib3<1.27,>=1.21.1 in /usr/local/lib/python3.10/dist-packages (from requests>=2.19.0->pooch<1.7,>=1.0->librosa) (1.26.16)\n",
            "Requirement already satisfied: certifi>=2017.4.17 in /usr/local/lib/python3.10/dist-packages (from requests>=2.19.0->pooch<1.7,>=1.0->librosa) (2023.5.7)\n",
            "Requirement already satisfied: charset-normalizer~=2.0.0 in /usr/local/lib/python3.10/dist-packages (from requests>=2.19.0->pooch<1.7,>=1.0->librosa) (2.0.12)\n",
            "Requirement already satisfied: idna<4,>=2.5 in /usr/local/lib/python3.10/dist-packages (from requests>=2.19.0->pooch<1.7,>=1.0->librosa) (3.4)\n"
          ]
        }
      ],
      "source": [
        "!pip install librosa"
      ]
    },
    {
      "cell_type": "markdown",
      "metadata": {
        "id": "T3y16eLyOwvE"
      },
      "source": [
        "### Install YouTube\n",
        "run this block again after you install Other imports and later move this block below"
      ]
    },
    {
      "cell_type": "code",
      "execution_count": null,
      "metadata": {
        "id": "JTTqZYMKnaDm",
        "colab": {
          "base_uri": "https://localhost:8080/"
        },
        "outputId": "bad451e1-6613-4c6f-ea2b-1563342c960d"
      },
      "outputs": [
        {
          "output_type": "stream",
          "name": "stdout",
          "text": [
            "Collecting yt_dlp\n",
            "  Downloading yt_dlp-2023.7.6-py2.py3-none-any.whl (3.0 MB)\n",
            "\u001b[2K     \u001b[90m━━━━━━━━━━━━━━━━━━━━━━━━━━━━━━━━━━━━━━━━\u001b[0m \u001b[32m3.0/3.0 MB\u001b[0m \u001b[31m29.3 MB/s\u001b[0m eta \u001b[36m0:00:00\u001b[0m\n",
            "\u001b[?25hCollecting mutagen (from yt_dlp)\n",
            "  Downloading mutagen-1.46.0-py3-none-any.whl (193 kB)\n",
            "\u001b[2K     \u001b[90m━━━━━━━━━━━━━━━━━━━━━━━━━━━━━━━━━━━━━━\u001b[0m \u001b[32m193.6/193.6 kB\u001b[0m \u001b[31m20.6 MB/s\u001b[0m eta \u001b[36m0:00:00\u001b[0m\n",
            "\u001b[?25hCollecting pycryptodomex (from yt_dlp)\n",
            "  Downloading pycryptodomex-3.18.0-cp35-abi3-manylinux_2_17_x86_64.manylinux2014_x86_64.whl (2.1 MB)\n",
            "\u001b[2K     \u001b[90m━━━━━━━━━━━━━━━━━━━━━━━━━━━━━━━━━━━━━━━━\u001b[0m \u001b[32m2.1/2.1 MB\u001b[0m \u001b[31m88.4 MB/s\u001b[0m eta \u001b[36m0:00:00\u001b[0m\n",
            "\u001b[?25hCollecting websockets (from yt_dlp)\n",
            "  Downloading websockets-11.0.3-cp310-cp310-manylinux_2_5_x86_64.manylinux1_x86_64.manylinux_2_17_x86_64.manylinux2014_x86_64.whl (129 kB)\n",
            "\u001b[2K     \u001b[90m━━━━━━━━━━━━━━━━━━━━━━━━━━━━━━━━━━━━━━\u001b[0m \u001b[32m129.9/129.9 kB\u001b[0m \u001b[31m15.2 MB/s\u001b[0m eta \u001b[36m0:00:00\u001b[0m\n",
            "\u001b[?25hRequirement already satisfied: certifi in /usr/local/lib/python3.10/dist-packages (from yt_dlp) (2023.5.7)\n",
            "Collecting brotli (from yt_dlp)\n",
            "  Downloading Brotli-1.0.9-cp310-cp310-manylinux_2_5_x86_64.manylinux1_x86_64.manylinux_2_12_x86_64.manylinux2010_x86_64.whl (2.7 MB)\n",
            "\u001b[2K     \u001b[90m━━━━━━━━━━━━━━━━━━━━━━━━━━━━━━━━━━━━━━━━\u001b[0m \u001b[32m2.7/2.7 MB\u001b[0m \u001b[31m89.9 MB/s\u001b[0m eta \u001b[36m0:00:00\u001b[0m\n",
            "\u001b[?25hInstalling collected packages: brotli, websockets, pycryptodomex, mutagen, yt_dlp\n",
            "Successfully installed brotli-1.0.9 mutagen-1.46.0 pycryptodomex-3.18.0 websockets-11.0.3 yt_dlp-2023.7.6\n"
          ]
        }
      ],
      "source": [
        "! pip install yt_dlp"
      ]
    },
    {
      "cell_type": "markdown",
      "source": [
        "May not be required please verify"
      ],
      "metadata": {
        "id": "FQ8fC-lQrMA-"
      }
    },
    {
      "cell_type": "code",
      "execution_count": null,
      "metadata": {
        "id": "ekm4NEq9nrHQ",
        "colab": {
          "base_uri": "https://localhost:8080/"
        },
        "outputId": "7fc99d85-fe2b-4ee5-e16a-168eef8c3046"
      },
      "outputs": [
        {
          "output_type": "stream",
          "name": "stdout",
          "text": [
            "Requirement already satisfied: whisper_jax in /usr/local/lib/python3.10/dist-packages (0.0.1)\n",
            "Requirement already satisfied: transformers>=4.27.4 in /usr/local/lib/python3.10/dist-packages (from whisper_jax) (4.30.2)\n",
            "Requirement already satisfied: flax in /usr/local/lib/python3.10/dist-packages (from whisper_jax) (0.7.0)\n",
            "Requirement already satisfied: filelock in /usr/local/lib/python3.10/dist-packages (from transformers>=4.27.4->whisper_jax) (3.12.2)\n",
            "Requirement already satisfied: huggingface-hub<1.0,>=0.14.1 in /usr/local/lib/python3.10/dist-packages (from transformers>=4.27.4->whisper_jax) (0.16.4)\n",
            "Requirement already satisfied: numpy>=1.17 in /usr/local/lib/python3.10/dist-packages (from transformers>=4.27.4->whisper_jax) (1.22.4)\n",
            "Requirement already satisfied: packaging>=20.0 in /usr/local/lib/python3.10/dist-packages (from transformers>=4.27.4->whisper_jax) (23.1)\n",
            "Requirement already satisfied: pyyaml>=5.1 in /usr/local/lib/python3.10/dist-packages (from transformers>=4.27.4->whisper_jax) (6.0)\n",
            "Requirement already satisfied: regex!=2019.12.17 in /usr/local/lib/python3.10/dist-packages (from transformers>=4.27.4->whisper_jax) (2022.10.31)\n",
            "Requirement already satisfied: requests in /usr/local/lib/python3.10/dist-packages (from transformers>=4.27.4->whisper_jax) (2.27.1)\n",
            "Requirement already satisfied: tokenizers!=0.11.3,<0.14,>=0.11.1 in /usr/local/lib/python3.10/dist-packages (from transformers>=4.27.4->whisper_jax) (0.13.3)\n",
            "Requirement already satisfied: safetensors>=0.3.1 in /usr/local/lib/python3.10/dist-packages (from transformers>=4.27.4->whisper_jax) (0.3.1)\n",
            "Requirement already satisfied: tqdm>=4.27 in /usr/local/lib/python3.10/dist-packages (from transformers>=4.27.4->whisper_jax) (4.65.0)\n",
            "Requirement already satisfied: jax>=0.4.2 in /usr/local/lib/python3.10/dist-packages (from flax->whisper_jax) (0.4.13)\n",
            "Requirement already satisfied: msgpack in /usr/local/lib/python3.10/dist-packages (from flax->whisper_jax) (1.0.5)\n",
            "Requirement already satisfied: optax in /usr/local/lib/python3.10/dist-packages (from flax->whisper_jax) (0.1.5)\n",
            "Requirement already satisfied: orbax-checkpoint in /usr/local/lib/python3.10/dist-packages (from flax->whisper_jax) (0.2.7)\n",
            "Requirement already satisfied: tensorstore in /usr/local/lib/python3.10/dist-packages (from flax->whisper_jax) (0.1.40)\n",
            "Requirement already satisfied: rich>=11.1 in /usr/local/lib/python3.10/dist-packages (from flax->whisper_jax) (13.4.2)\n",
            "Requirement already satisfied: typing-extensions>=4.1.1 in /usr/local/lib/python3.10/dist-packages (from flax->whisper_jax) (4.7.1)\n",
            "Requirement already satisfied: fsspec in /usr/local/lib/python3.10/dist-packages (from huggingface-hub<1.0,>=0.14.1->transformers>=4.27.4->whisper_jax) (2023.6.0)\n",
            "Requirement already satisfied: ml-dtypes>=0.1.0 in /usr/local/lib/python3.10/dist-packages (from jax>=0.4.2->flax->whisper_jax) (0.2.0)\n",
            "Requirement already satisfied: opt-einsum in /usr/local/lib/python3.10/dist-packages (from jax>=0.4.2->flax->whisper_jax) (3.3.0)\n",
            "Requirement already satisfied: scipy>=1.7 in /usr/local/lib/python3.10/dist-packages (from jax>=0.4.2->flax->whisper_jax) (1.10.1)\n",
            "Requirement already satisfied: markdown-it-py>=2.2.0 in /usr/local/lib/python3.10/dist-packages (from rich>=11.1->flax->whisper_jax) (2.2.0)\n",
            "Requirement already satisfied: pygments<3.0.0,>=2.13.0 in /usr/local/lib/python3.10/dist-packages (from rich>=11.1->flax->whisper_jax) (2.14.0)\n",
            "Requirement already satisfied: absl-py>=0.7.1 in /usr/local/lib/python3.10/dist-packages (from optax->flax->whisper_jax) (1.4.0)\n",
            "Requirement already satisfied: chex>=0.1.5 in /usr/local/lib/python3.10/dist-packages (from optax->flax->whisper_jax) (0.1.7)\n",
            "Requirement already satisfied: jaxlib>=0.1.37 in /usr/local/lib/python3.10/dist-packages (from optax->flax->whisper_jax) (0.4.13+cuda11.cudnn86)\n",
            "Requirement already satisfied: etils[epath,epy] in /usr/local/lib/python3.10/dist-packages (from orbax-checkpoint->flax->whisper_jax) (1.3.0)\n",
            "Requirement already satisfied: nest_asyncio in /usr/local/lib/python3.10/dist-packages (from orbax-checkpoint->flax->whisper_jax) (1.5.6)\n",
            "Requirement already satisfied: protobuf in /usr/local/lib/python3.10/dist-packages (from orbax-checkpoint->flax->whisper_jax) (3.20.3)\n",
            "Requirement already satisfied: urllib3<1.27,>=1.21.1 in /usr/local/lib/python3.10/dist-packages (from requests->transformers>=4.27.4->whisper_jax) (1.26.16)\n",
            "Requirement already satisfied: certifi>=2017.4.17 in /usr/local/lib/python3.10/dist-packages (from requests->transformers>=4.27.4->whisper_jax) (2023.5.7)\n",
            "Requirement already satisfied: charset-normalizer~=2.0.0 in /usr/local/lib/python3.10/dist-packages (from requests->transformers>=4.27.4->whisper_jax) (2.0.12)\n",
            "Requirement already satisfied: idna<4,>=2.5 in /usr/local/lib/python3.10/dist-packages (from requests->transformers>=4.27.4->whisper_jax) (3.4)\n",
            "Requirement already satisfied: dm-tree>=0.1.5 in /usr/local/lib/python3.10/dist-packages (from chex>=0.1.5->optax->flax->whisper_jax) (0.1.8)\n",
            "Requirement already satisfied: toolz>=0.9.0 in /usr/local/lib/python3.10/dist-packages (from chex>=0.1.5->optax->flax->whisper_jax) (0.12.0)\n",
            "Requirement already satisfied: mdurl~=0.1 in /usr/local/lib/python3.10/dist-packages (from markdown-it-py>=2.2.0->rich>=11.1->flax->whisper_jax) (0.1.2)\n",
            "Requirement already satisfied: importlib_resources in /usr/local/lib/python3.10/dist-packages (from etils[epath,epy]->orbax-checkpoint->flax->whisper_jax) (6.0.0)\n",
            "Requirement already satisfied: zipp in /usr/local/lib/python3.10/dist-packages (from etils[epath,epy]->orbax-checkpoint->flax->whisper_jax) (3.16.1)\n"
          ]
        }
      ],
      "source": [
        "! pip install whisper_jax"
      ]
    },
    {
      "cell_type": "markdown",
      "metadata": {
        "id": "ZMwJgzKLz--h"
      },
      "source": [
        "### HarmonyVoice Imports"
      ]
    },
    {
      "cell_type": "markdown",
      "source": [
        "May not be required please verify"
      ],
      "metadata": {
        "id": "I_sI-VCGrT32"
      }
    },
    {
      "cell_type": "code",
      "execution_count": null,
      "metadata": {
        "id": "8tHqGPFN1gBZ",
        "colab": {
          "base_uri": "https://localhost:8080/"
        },
        "outputId": "f73da1fa-9b84-402a-a94f-97af67241d5d"
      },
      "outputs": [
        {
          "output_type": "stream",
          "name": "stdout",
          "text": [
            "Looking in links: https://storage.googleapis.com/jax-releases/jaxlib-0.4.11-cp37-cp37m-linux_x86_64.whl\n",
            "Requirement already satisfied: jaxlib==0.4.11 in /usr/local/lib/python3.10/dist-packages (0.4.11)\n",
            "Requirement already satisfied: scipy>=1.7 in /usr/local/lib/python3.10/dist-packages (from jaxlib==0.4.11) (1.11.1)\n",
            "Requirement already satisfied: numpy>=1.21 in /usr/local/lib/python3.10/dist-packages (from jaxlib==0.4.11) (1.23.5)\n",
            "Requirement already satisfied: ml-dtypes>=0.1.0 in /usr/local/lib/python3.10/dist-packages (from jaxlib==0.4.11) (0.2.0)\n"
          ]
        }
      ],
      "source": [
        "! pip install jaxlib==0.4.11 -f https://storage.googleapis.com/jax-releases/jaxlib-0.4.11-cp37-cp37m-linux_x86_64.whl\n"
      ]
    },
    {
      "cell_type": "code",
      "source": [
        "!pip install gradio"
      ],
      "metadata": {
        "colab": {
          "base_uri": "https://localhost:8080/"
        },
        "id": "GjDTjfsI1fD2",
        "outputId": "a9104f37-29f2-4a3a-8407-49ca84c628e3"
      },
      "execution_count": null,
      "outputs": [
        {
          "output_type": "stream",
          "name": "stdout",
          "text": [
            "Collecting gradio\n",
            "  Downloading gradio-3.37.0-py3-none-any.whl (19.8 MB)\n",
            "\u001b[2K     \u001b[90m━━━━━━━━━━━━━━━━━━━━━━━━━━━━━━━━━━━━━━━━\u001b[0m \u001b[32m19.8/19.8 MB\u001b[0m \u001b[31m76.4 MB/s\u001b[0m eta \u001b[36m0:00:00\u001b[0m\n",
            "\u001b[?25hCollecting aiofiles<24.0,>=22.0 (from gradio)\n",
            "  Downloading aiofiles-23.1.0-py3-none-any.whl (14 kB)\n",
            "Requirement already satisfied: aiohttp~=3.0 in /usr/local/lib/python3.10/dist-packages (from gradio) (3.8.4)\n",
            "Requirement already satisfied: altair<6.0,>=4.2.0 in /usr/local/lib/python3.10/dist-packages (from gradio) (4.2.2)\n",
            "Collecting fastapi (from gradio)\n",
            "  Downloading fastapi-0.100.0-py3-none-any.whl (65 kB)\n",
            "\u001b[2K     \u001b[90m━━━━━━━━━━━━━━━━━━━━━━━━━━━━━━━━━━━━━━━━\u001b[0m \u001b[32m65.7/65.7 kB\u001b[0m \u001b[31m8.0 MB/s\u001b[0m eta \u001b[36m0:00:00\u001b[0m\n",
            "\u001b[?25hCollecting ffmpy (from gradio)\n",
            "  Downloading ffmpy-0.3.1.tar.gz (5.5 kB)\n",
            "  Preparing metadata (setup.py) ... \u001b[?25l\u001b[?25hdone\n",
            "Collecting gradio-client>=0.2.10 (from gradio)\n",
            "  Downloading gradio_client-0.2.10-py3-none-any.whl (288 kB)\n",
            "\u001b[2K     \u001b[90m━━━━━━━━━━━━━━━━━━━━━━━━━━━━━━━━━━━━━━\u001b[0m \u001b[32m289.0/289.0 kB\u001b[0m \u001b[31m25.8 MB/s\u001b[0m eta \u001b[36m0:00:00\u001b[0m\n",
            "\u001b[?25hCollecting httpx (from gradio)\n",
            "  Downloading httpx-0.24.1-py3-none-any.whl (75 kB)\n",
            "\u001b[2K     \u001b[90m━━━━━━━━━━━━━━━━━━━━━━━━━━━━━━━━━━━━━━━━\u001b[0m \u001b[32m75.4/75.4 kB\u001b[0m \u001b[31m9.9 MB/s\u001b[0m eta \u001b[36m0:00:00\u001b[0m\n",
            "\u001b[?25hRequirement already satisfied: huggingface-hub>=0.14.0 in /usr/local/lib/python3.10/dist-packages (from gradio) (0.16.4)\n",
            "Requirement already satisfied: jinja2<4.0 in /usr/local/lib/python3.10/dist-packages (from gradio) (3.1.2)\n",
            "Requirement already satisfied: markdown-it-py[linkify]>=2.0.0 in /usr/local/lib/python3.10/dist-packages (from gradio) (3.0.0)\n",
            "Requirement already satisfied: markupsafe~=2.0 in /usr/local/lib/python3.10/dist-packages (from gradio) (2.1.3)\n",
            "Requirement already satisfied: matplotlib~=3.0 in /usr/local/lib/python3.10/dist-packages (from gradio) (3.7.1)\n",
            "Collecting mdit-py-plugins<=0.3.3 (from gradio)\n",
            "  Downloading mdit_py_plugins-0.3.3-py3-none-any.whl (50 kB)\n",
            "\u001b[2K     \u001b[90m━━━━━━━━━━━━━━━━━━━━━━━━━━━━━━━━━━━━━━━━\u001b[0m \u001b[32m50.5/50.5 kB\u001b[0m \u001b[31m6.0 MB/s\u001b[0m eta \u001b[36m0:00:00\u001b[0m\n",
            "\u001b[?25hRequirement already satisfied: numpy~=1.0 in /usr/local/lib/python3.10/dist-packages (from gradio) (1.22.4)\n",
            "Collecting orjson~=3.0 (from gradio)\n",
            "  Downloading orjson-3.9.2-cp310-cp310-manylinux_2_17_x86_64.manylinux2014_x86_64.whl (138 kB)\n",
            "\u001b[2K     \u001b[90m━━━━━━━━━━━━━━━━━━━━━━━━━━━━━━━━━━━━━━\u001b[0m \u001b[32m138.7/138.7 kB\u001b[0m \u001b[31m16.3 MB/s\u001b[0m eta \u001b[36m0:00:00\u001b[0m\n",
            "\u001b[?25hRequirement already satisfied: packaging in /usr/local/lib/python3.10/dist-packages (from gradio) (23.1)\n",
            "Requirement already satisfied: pandas<3.0,>=1.0 in /usr/local/lib/python3.10/dist-packages (from gradio) (1.5.3)\n",
            "Requirement already satisfied: pillow<11.0,>=8.0 in /usr/local/lib/python3.10/dist-packages (from gradio) (8.4.0)\n",
            "Requirement already satisfied: pydantic!=1.8,!=1.8.1,!=2.0.0,!=2.0.1,<3.0.0,>=1.7.4 in /usr/local/lib/python3.10/dist-packages (from gradio) (1.10.11)\n",
            "Collecting pydub (from gradio)\n",
            "  Downloading pydub-0.25.1-py2.py3-none-any.whl (32 kB)\n",
            "Collecting python-multipart (from gradio)\n",
            "  Downloading python_multipart-0.0.6-py3-none-any.whl (45 kB)\n",
            "\u001b[2K     \u001b[90m━━━━━━━━━━━━━━━━━━━━━━━━━━━━━━━━━━━━━━━━\u001b[0m \u001b[32m45.7/45.7 kB\u001b[0m \u001b[31m5.6 MB/s\u001b[0m eta \u001b[36m0:00:00\u001b[0m\n",
            "\u001b[?25hRequirement already satisfied: pyyaml<7.0,>=5.0 in /usr/local/lib/python3.10/dist-packages (from gradio) (6.0)\n",
            "Requirement already satisfied: requests~=2.0 in /usr/local/lib/python3.10/dist-packages (from gradio) (2.27.1)\n",
            "Collecting semantic-version~=2.0 (from gradio)\n",
            "  Downloading semantic_version-2.10.0-py2.py3-none-any.whl (15 kB)\n",
            "Requirement already satisfied: typing-extensions~=4.0 in /usr/local/lib/python3.10/dist-packages (from gradio) (4.7.1)\n",
            "Collecting uvicorn>=0.14.0 (from gradio)\n",
            "  Downloading uvicorn-0.23.1-py3-none-any.whl (59 kB)\n",
            "\u001b[2K     \u001b[90m━━━━━━━━━━━━━━━━━━━━━━━━━━━━━━━━━━━━━━━━\u001b[0m \u001b[32m59.5/59.5 kB\u001b[0m \u001b[31m7.9 MB/s\u001b[0m eta \u001b[36m0:00:00\u001b[0m\n",
            "\u001b[?25hRequirement already satisfied: websockets<12.0,>=10.0 in /usr/local/lib/python3.10/dist-packages (from gradio) (11.0.3)\n",
            "Requirement already satisfied: attrs>=17.3.0 in /usr/local/lib/python3.10/dist-packages (from aiohttp~=3.0->gradio) (23.1.0)\n",
            "Requirement already satisfied: charset-normalizer<4.0,>=2.0 in /usr/local/lib/python3.10/dist-packages (from aiohttp~=3.0->gradio) (2.0.12)\n",
            "Requirement already satisfied: multidict<7.0,>=4.5 in /usr/local/lib/python3.10/dist-packages (from aiohttp~=3.0->gradio) (6.0.4)\n",
            "Requirement already satisfied: async-timeout<5.0,>=4.0.0a3 in /usr/local/lib/python3.10/dist-packages (from aiohttp~=3.0->gradio) (4.0.2)\n",
            "Requirement already satisfied: yarl<2.0,>=1.0 in /usr/local/lib/python3.10/dist-packages (from aiohttp~=3.0->gradio) (1.9.2)\n",
            "Requirement already satisfied: frozenlist>=1.1.1 in /usr/local/lib/python3.10/dist-packages (from aiohttp~=3.0->gradio) (1.4.0)\n",
            "Requirement already satisfied: aiosignal>=1.1.2 in /usr/local/lib/python3.10/dist-packages (from aiohttp~=3.0->gradio) (1.3.1)\n",
            "Requirement already satisfied: entrypoints in /usr/local/lib/python3.10/dist-packages (from altair<6.0,>=4.2.0->gradio) (0.4)\n",
            "Requirement already satisfied: jsonschema>=3.0 in /usr/local/lib/python3.10/dist-packages (from altair<6.0,>=4.2.0->gradio) (4.3.3)\n",
            "Requirement already satisfied: toolz in /usr/local/lib/python3.10/dist-packages (from altair<6.0,>=4.2.0->gradio) (0.12.0)\n",
            "Requirement already satisfied: fsspec in /usr/local/lib/python3.10/dist-packages (from gradio-client>=0.2.10->gradio) (2023.6.0)\n",
            "Requirement already satisfied: filelock in /usr/local/lib/python3.10/dist-packages (from huggingface-hub>=0.14.0->gradio) (3.12.2)\n",
            "Requirement already satisfied: tqdm>=4.42.1 in /usr/local/lib/python3.10/dist-packages (from huggingface-hub>=0.14.0->gradio) (4.65.0)\n",
            "Requirement already satisfied: mdurl~=0.1 in /usr/local/lib/python3.10/dist-packages (from markdown-it-py[linkify]>=2.0.0->gradio) (0.1.2)\n",
            "Collecting linkify-it-py<3,>=1 (from markdown-it-py[linkify]>=2.0.0->gradio)\n",
            "  Downloading linkify_it_py-2.0.2-py3-none-any.whl (19 kB)\n",
            "Requirement already satisfied: contourpy>=1.0.1 in /usr/local/lib/python3.10/dist-packages (from matplotlib~=3.0->gradio) (1.1.0)\n",
            "Requirement already satisfied: cycler>=0.10 in /usr/local/lib/python3.10/dist-packages (from matplotlib~=3.0->gradio) (0.11.0)\n",
            "Requirement already satisfied: fonttools>=4.22.0 in /usr/local/lib/python3.10/dist-packages (from matplotlib~=3.0->gradio) (4.41.0)\n",
            "Requirement already satisfied: kiwisolver>=1.0.1 in /usr/local/lib/python3.10/dist-packages (from matplotlib~=3.0->gradio) (1.4.4)\n",
            "Requirement already satisfied: pyparsing>=2.3.1 in /usr/local/lib/python3.10/dist-packages (from matplotlib~=3.0->gradio) (3.1.0)\n",
            "Requirement already satisfied: python-dateutil>=2.7 in /usr/local/lib/python3.10/dist-packages (from matplotlib~=3.0->gradio) (2.8.2)\n",
            "INFO: pip is looking at multiple versions of mdit-py-plugins to determine which version is compatible with other requirements. This could take a while.\n",
            "Collecting mdit-py-plugins<=0.3.3 (from gradio)\n",
            "  Downloading mdit_py_plugins-0.3.2-py3-none-any.whl (50 kB)\n",
            "\u001b[2K     \u001b[90m━━━━━━━━━━━━━━━━━━━━━━━━━━━━━━━━━━━━━━━━\u001b[0m \u001b[32m50.4/50.4 kB\u001b[0m \u001b[31m6.2 MB/s\u001b[0m eta \u001b[36m0:00:00\u001b[0m\n",
            "\u001b[?25h  Downloading mdit_py_plugins-0.3.1-py3-none-any.whl (46 kB)\n",
            "\u001b[2K     \u001b[90m━━━━━━━━━━━━━━━━━━━━━━━━━━━━━━━━━━━━━━━━\u001b[0m \u001b[32m46.5/46.5 kB\u001b[0m \u001b[31m5.7 MB/s\u001b[0m eta \u001b[36m0:00:00\u001b[0m\n",
            "\u001b[?25h  Downloading mdit_py_plugins-0.3.0-py3-none-any.whl (43 kB)\n",
            "\u001b[2K     \u001b[90m━━━━━━━━━━━━━━━━━━━━━━━━━━━━━━━━━━━━━━━━\u001b[0m \u001b[32m43.7/43.7 kB\u001b[0m \u001b[31m5.2 MB/s\u001b[0m eta \u001b[36m0:00:00\u001b[0m\n",
            "\u001b[?25h  Downloading mdit_py_plugins-0.2.8-py3-none-any.whl (41 kB)\n",
            "\u001b[2K     \u001b[90m━━━━━━━━━━━━━━━━━━━━━━━━━━━━━━━━━━━━━━━━\u001b[0m \u001b[32m41.0/41.0 kB\u001b[0m \u001b[31m5.3 MB/s\u001b[0m eta \u001b[36m0:00:00\u001b[0m\n",
            "\u001b[?25h  Downloading mdit_py_plugins-0.2.7-py3-none-any.whl (41 kB)\n",
            "\u001b[2K     \u001b[90m━━━━━━━━━━━━━━━━━━━━━━━━━━━━━━━━━━━━━━━━\u001b[0m \u001b[32m41.0/41.0 kB\u001b[0m \u001b[31m5.1 MB/s\u001b[0m eta \u001b[36m0:00:00\u001b[0m\n",
            "\u001b[?25h  Downloading mdit_py_plugins-0.2.6-py3-none-any.whl (39 kB)\n",
            "  Downloading mdit_py_plugins-0.2.5-py3-none-any.whl (39 kB)\n",
            "INFO: pip is looking at multiple versions of mdit-py-plugins to determine which version is compatible with other requirements. This could take a while.\n",
            "  Downloading mdit_py_plugins-0.2.4-py3-none-any.whl (39 kB)\n",
            "  Downloading mdit_py_plugins-0.2.3-py3-none-any.whl (39 kB)\n",
            "  Downloading mdit_py_plugins-0.2.2-py3-none-any.whl (39 kB)\n",
            "  Downloading mdit_py_plugins-0.2.1-py3-none-any.whl (38 kB)\n",
            "  Downloading mdit_py_plugins-0.2.0-py3-none-any.whl (38 kB)\n",
            "INFO: This is taking longer than usual. You might need to provide the dependency resolver with stricter constraints to reduce runtime. See https://pip.pypa.io/warnings/backtracking for guidance. If you want to abort this run, press Ctrl + C.\n",
            "  Downloading mdit_py_plugins-0.1.0-py3-none-any.whl (37 kB)\n",
            "Collecting markdown-it-py[linkify]>=2.0.0 (from gradio)\n",
            "  Downloading markdown_it_py-3.0.0-py3-none-any.whl (87 kB)\n",
            "\u001b[2K     \u001b[90m━━━━━━━━━━━━━━━━━━━━━━━━━━━━━━━━━━━━━━━━\u001b[0m \u001b[32m87.5/87.5 kB\u001b[0m \u001b[31m12.1 MB/s\u001b[0m eta \u001b[36m0:00:00\u001b[0m\n",
            "\u001b[?25h  Downloading markdown_it_py-2.2.0-py3-none-any.whl (84 kB)\n",
            "\u001b[2K     \u001b[90m━━━━━━━━━━━━━━━━━━━━━━━━━━━━━━━━━━━━━━━━\u001b[0m \u001b[32m84.5/84.5 kB\u001b[0m \u001b[31m11.8 MB/s\u001b[0m eta \u001b[36m0:00:00\u001b[0m\n",
            "\u001b[?25hRequirement already satisfied: pytz>=2020.1 in /usr/local/lib/python3.10/dist-packages (from pandas<3.0,>=1.0->gradio) (2022.7.1)\n",
            "Requirement already satisfied: urllib3<1.27,>=1.21.1 in /usr/local/lib/python3.10/dist-packages (from requests~=2.0->gradio) (1.26.16)\n",
            "Requirement already satisfied: certifi>=2017.4.17 in /usr/local/lib/python3.10/dist-packages (from requests~=2.0->gradio) (2023.5.7)\n",
            "Requirement already satisfied: idna<4,>=2.5 in /usr/local/lib/python3.10/dist-packages (from requests~=2.0->gradio) (3.4)\n",
            "Requirement already satisfied: click>=7.0 in /usr/local/lib/python3.10/dist-packages (from uvicorn>=0.14.0->gradio) (8.1.4)\n",
            "Collecting h11>=0.8 (from uvicorn>=0.14.0->gradio)\n",
            "  Downloading h11-0.14.0-py3-none-any.whl (58 kB)\n",
            "\u001b[2K     \u001b[90m━━━━━━━━━━━━━━━━━━━━━━━━━━━━━━━━━━━━━━━━\u001b[0m \u001b[32m58.3/58.3 kB\u001b[0m \u001b[31m8.1 MB/s\u001b[0m eta \u001b[36m0:00:00\u001b[0m\n",
            "\u001b[?25hCollecting starlette<0.28.0,>=0.27.0 (from fastapi->gradio)\n",
            "  Downloading starlette-0.27.0-py3-none-any.whl (66 kB)\n",
            "\u001b[2K     \u001b[90m━━━━━━━━━━━━━━━━━━━━━━━━━━━━━━━━━━━━━━━━\u001b[0m \u001b[32m67.0/67.0 kB\u001b[0m \u001b[31m7.9 MB/s\u001b[0m eta \u001b[36m0:00:00\u001b[0m\n",
            "\u001b[?25hCollecting httpcore<0.18.0,>=0.15.0 (from httpx->gradio)\n",
            "  Downloading httpcore-0.17.3-py3-none-any.whl (74 kB)\n",
            "\u001b[2K     \u001b[90m━━━━━━━━━━━━━━━━━━━━━━━━━━━━━━━━━━━━━━━━\u001b[0m \u001b[32m74.5/74.5 kB\u001b[0m \u001b[31m8.3 MB/s\u001b[0m eta \u001b[36m0:00:00\u001b[0m\n",
            "\u001b[?25hRequirement already satisfied: sniffio in /usr/local/lib/python3.10/dist-packages (from httpx->gradio) (1.3.0)\n",
            "Requirement already satisfied: anyio<5.0,>=3.0 in /usr/local/lib/python3.10/dist-packages (from httpcore<0.18.0,>=0.15.0->httpx->gradio) (3.7.1)\n",
            "Requirement already satisfied: pyrsistent!=0.17.0,!=0.17.1,!=0.17.2,>=0.14.0 in /usr/local/lib/python3.10/dist-packages (from jsonschema>=3.0->altair<6.0,>=4.2.0->gradio) (0.19.3)\n",
            "Collecting uc-micro-py (from linkify-it-py<3,>=1->markdown-it-py[linkify]>=2.0.0->gradio)\n",
            "  Downloading uc_micro_py-1.0.2-py3-none-any.whl (6.2 kB)\n",
            "Requirement already satisfied: six>=1.5 in /usr/local/lib/python3.10/dist-packages (from python-dateutil>=2.7->matplotlib~=3.0->gradio) (1.16.0)\n",
            "Requirement already satisfied: exceptiongroup in /usr/local/lib/python3.10/dist-packages (from anyio<5.0,>=3.0->httpcore<0.18.0,>=0.15.0->httpx->gradio) (1.1.2)\n",
            "Building wheels for collected packages: ffmpy\n",
            "  Building wheel for ffmpy (setup.py) ... \u001b[?25l\u001b[?25hdone\n",
            "  Created wheel for ffmpy: filename=ffmpy-0.3.1-py3-none-any.whl size=5579 sha256=ca6cc4e90c06b0f93920ac625eff5c322ebc4d6bc56f9a16189ff670b7df650d\n",
            "  Stored in directory: /root/.cache/pip/wheels/01/a6/d1/1c0828c304a4283b2c1639a09ad86f83d7c487ef34c6b4a1bf\n",
            "Successfully built ffmpy\n",
            "Installing collected packages: pydub, ffmpy, uc-micro-py, semantic-version, python-multipart, orjson, markdown-it-py, h11, aiofiles, uvicorn, starlette, mdit-py-plugins, linkify-it-py, httpcore, httpx, fastapi, gradio-client, gradio\n",
            "  Attempting uninstall: markdown-it-py\n",
            "    Found existing installation: markdown-it-py 3.0.0\n",
            "    Uninstalling markdown-it-py-3.0.0:\n",
            "      Successfully uninstalled markdown-it-py-3.0.0\n",
            "Successfully installed aiofiles-23.1.0 fastapi-0.100.0 ffmpy-0.3.1 gradio-3.37.0 gradio-client-0.2.10 h11-0.14.0 httpcore-0.17.3 httpx-0.24.1 linkify-it-py-2.0.2 markdown-it-py-2.2.0 mdit-py-plugins-0.3.3 orjson-3.9.2 pydub-0.25.1 python-multipart-0.0.6 semantic-version-2.10.0 starlette-0.27.0 uc-micro-py-1.0.2 uvicorn-0.23.1\n"
          ]
        }
      ]
    },
    {
      "cell_type": "code",
      "execution_count": null,
      "metadata": {
        "id": "0BKpnhy10EXW"
      },
      "outputs": [],
      "source": [
        "import os\n",
        "import gradio as gr\n",
        "import torch\n",
        "import pydub\n",
        "import torchaudio\n",
        "import librosa\n",
        "from torchaudio.sox_effects import apply_effects_tensor\n",
        "import numpy as np\n",
        "from transformers import AutoFeatureExtractor, AutoModelForAudioXVector"
      ]
    },
    {
      "cell_type": "markdown",
      "metadata": {
        "id": "wUWb_uA5PDp7"
      },
      "source": [
        "### Install pyannotate may not be required. But keep for regression testing"
      ]
    },
    {
      "cell_type": "markdown",
      "source": [
        "Load first due to incompatibility"
      ],
      "metadata": {
        "id": "QWodfFSKJ1jO"
      }
    },
    {
      "cell_type": "code",
      "execution_count": null,
      "metadata": {
        "id": "bbqHmUlkPPFU"
      },
      "outputs": [],
      "source": [
        "# prompt: install pyannote\n",
        "\n",
        "!pip install pyannote.audio\n"
      ]
    },
    {
      "cell_type": "markdown",
      "metadata": {
        "id": "HZO0bxOC0IZq"
      },
      "source": [
        "### Other Imports\n"
      ]
    },
    {
      "cell_type": "code",
      "execution_count": null,
      "metadata": {
        "id": "jh14b73H0Ha6"
      },
      "outputs": [],
      "source": []
    },
    {
      "cell_type": "code",
      "execution_count": null,
      "metadata": {
        "id": "TeseaNfYlgJI"
      },
      "outputs": [],
      "source": [
        "import logging\n",
        "import math\n",
        "import os\n",
        "import tempfile\n",
        "import time\n",
        "from multiprocessing import Pool\n",
        "import pandas as pd\n",
        "\n"
      ]
    },
    {
      "cell_type": "code",
      "execution_count": null,
      "metadata": {
        "id": "u5Y8H9Fjl37y"
      },
      "outputs": [],
      "source": [
        "import jax as jax\n",
        "\n",
        "import gradio as gr\n",
        "import jax.numpy as jnp\n",
        "import numpy as np\n",
        "import yt_dlp as youtube_dl\n",
        "from jax.experimental.compilation_cache import compilation_cache as cc\n",
        "# identify where this is being used added by al on 071522023\n",
        "from transformers.models.whisper.tokenization_whisper import TO_LANGUAGE_CODE\n",
        "from transformers.pipelines.audio_utils import ffmpeg_read\n",
        "\n",
        "# from whisper_jax import FlaxWhisperPipline\n",
        "\n",
        "# #added by al on 070923 to add the matplotlib\n",
        "# import matplotlib\n",
        "# import matplotlib.pyplot as plt\n",
        "# matplotlib.use('Agg')\n",
        "\n",
        "# from pyannote.audio import Pipeline\n",
        "# from speechbox import ASRDiarizationPipeline\n",
        "# import jax.numpy as jnp"
      ]
    },
    {
      "cell_type": "markdown",
      "metadata": {
        "id": "Jg4NWgOL1U8a"
      },
      "source": [
        "### HarmonyFrequency ReMine Effects Clean up and LoadingThresholds"
      ]
    },
    {
      "cell_type": "markdown",
      "metadata": {
        "id": "8YpAHq4d4qbT"
      },
      "source": [
        "Add the function call to implement audio signal clean up loading Harmony on1onmangoes/First11VoiceHarmonyEmbeddings071523GoodVersion. The features will be analyzed then"
      ]
    },
    {
      "cell_type": "code",
      "execution_count": null,
      "metadata": {
        "id": "XgS1kVCP8_vx"
      },
      "outputs": [],
      "source": [
        "from torchaudio.sox_effects import apply_effects_tensor\n"
      ]
    },
    {
      "cell_type": "code",
      "execution_count": null,
      "metadata": {
        "id": "8JlJteZbzEgj"
      },
      "outputs": [],
      "source": [
        "EFFECTS = [\n",
        "    [\"remix\", \"-\"],\n",
        "    [\"channels\", \"1\"],\n",
        "    [\"rate\", \"16000\"],\n",
        "    [\"gain\", \"-1.0\"],\n",
        "    [\"silence\", \"1\", \"0.1\", \"0.1%\", \"-1\", \"0.1\", \"0.1%\"],\n",
        "    [\"trim\", \"0\", \"10\"],\n",
        "]\n",
        "\n",
        "THRESHOLD = 0.85"
      ]
    },
    {
      "cell_type": "code",
      "execution_count": null,
      "metadata": {
        "id": "L_0rXWiY9Lsn"
      },
      "outputs": [],
      "source": []
    },
    {
      "cell_type": "markdown",
      "metadata": {
        "id": "OCAzunnSRF8p"
      },
      "source": [
        "### DELETE later may not be required imports needed for effects"
      ]
    },
    {
      "cell_type": "code",
      "execution_count": null,
      "metadata": {
        "id": "DklvV8aP82VX"
      },
      "outputs": [],
      "source": [
        "from pydub import AudioSegment\n",
        "from pydub import effects\n",
        "import torchaudio\n",
        "\n",
        "# def preprocess_audio(audio):\n",
        "\n",
        "#     # Apply the effects\n",
        "#     audio = audio.set_channels(1)  # set to mono\n",
        "#     audio = audio.set_frame_rate(16000)  # set frame rate to 16000\n",
        "#     audio = effects.normalize(audio)  # normalize the audio\n",
        "\n",
        "#     # Remove silence (parameters might need to be adjusted)\n",
        "#     start_trim = effects.detect_nonsilent(audio, silence_thresh=-50.0, min_silence_len=100)\n",
        "#     end_trim = effects.detect_nonsilent(audio.reverse(), silence_thresh=-50.0, min_silence_len=100)\n",
        "#     duration = len(audio)\n",
        "#     trimmed_sound = audio[start_trim[0][0]:duration-end_trim[0][0]]\n",
        "\n",
        "#     # Convert the pydub.AudioSegment to a numpy array for compatibility with librosa and torchaudio\n",
        "#     audio_arr = np.array(trimmed_sound.get_array_of_samples())\n",
        "#     audio_tensor = torch.from_numpy(audio_arr)\n",
        "\n",
        "#     # Apply the EFFECTS using torchaudio\n",
        "#     wav1, sr1 = torchaudio.sox_effects.apply_effects_tensor(audio_tensor, 16000, EFFECTS)\n",
        "#     wav1, _ = apply_effects_tensor(torch.tensor(wav1).unsqueeze(0), sr1, EFFECTS)\n",
        "#     return wav1.numpy(), sr1\n"
      ]
    },
    {
      "cell_type": "markdown",
      "metadata": {
        "id": "Z-AxpAyc5WtM"
      },
      "source": [
        "Please note audio is to create numpy representation of Audio Embeddings"
      ]
    },
    {
      "cell_type": "markdown",
      "metadata": {
        "id": "ShHC20L62AqU"
      },
      "source": [
        "### ***HarmonyFrequency ReMine Start -->***\n",
        "ReMine is an innovative feature designed to unlock the hidden treasures within spoken conversations. Leveraging advanced techniques in speech analysis and information retrieval, ReMine delves deep into the spoken word to extract valuable insights and knowledge. By applying sophisticated algorithms, ReMine enhances the clarity of audio data, removing noise and irrelevant elements to reveal the true essence of the conversation. With ReMine, researchers and analysts can effortlessly navigate through conversational data, uncovering valuable patterns, sentiments, and information that can drive impactful discoveries. Step into a world where the spoken word becomes a rich source of wisdom, with ReMine leading the way in extracting the gems of knowledge hidden within."
      ]
    },
    {
      "cell_type": "code",
      "execution_count": null,
      "metadata": {
        "id": "km6azMWm0vFT"
      },
      "outputs": [],
      "source": [
        "# def preprocess_audio(audio):\n",
        "#     # First, make sure the data is in numpy array format.\n",
        "#     audio = np.array(audio)\n",
        "\n",
        "#     # If the audio is in `int16` format, convert it to `float32` (expected by WavLM).\n",
        "#     if audio.dtype == np.int16:\n",
        "#         audio = audio.astype(np.float32) / 32768.0 # int16 range is -32768 to 32767\n",
        "\n",
        "#     return audio\n"
      ]
    },
    {
      "cell_type": "markdown",
      "metadata": {
        "id": "eUSFLQbqnHem"
      },
      "source": [
        "### HarmonyFrequency ReMine Load Audio w Librosa for WAV files"
      ]
    },
    {
      "cell_type": "markdown",
      "source": [
        "Function to be used librosa_load_audio for production using WAV files"
      ],
      "metadata": {
        "id": "Wy-TOOUQASz0"
      }
    },
    {
      "cell_type": "code",
      "source": [],
      "metadata": {
        "id": "yjR2EQq6AtOz"
      },
      "execution_count": null,
      "outputs": []
    },
    {
      "cell_type": "code",
      "execution_count": null,
      "metadata": {
        "id": "cGpAsJBX00OT"
      },
      "outputs": [],
      "source": [
        "def librosa_load_audio(path):\n",
        "    # Load audio using librosa\n",
        "    #print(\"hello audio\")\n",
        "    audio, sr = librosa.load(path, sr=None)\n",
        "\n",
        "    return audio, sr\n"
      ]
    },
    {
      "cell_type": "markdown",
      "metadata": {
        "id": "VBc6a6oy1o5z"
      },
      "source": [
        "### HarmonyFrequency Thresholds and audio enhancment helper variables\n",
        "\n",
        "*   Effects for audio file clean up\n",
        "*   Cosine Similarity threshold value[link text]\n",
        "\n"
      ]
    },
    {
      "cell_type": "code",
      "execution_count": null,
      "metadata": {
        "id": "j5wsSbJv1MJA"
      },
      "outputs": [],
      "source": [
        "EFFECTS = [\n",
        "    [\"remix\", \"-\"],\n",
        "    [\"channels\", \"1\"],\n",
        "    [\"rate\", \"16000\"],\n",
        "    [\"gain\", \"-1.0\"],\n",
        "    [\"silence\", \"1\", \"0.1\", \"0.1%\", \"-1\", \"0.1\", \"0.1%\"],\n",
        "    [\"trim\", \"0\", \"10\"],\n",
        "]\n",
        "\n",
        "THRESHOLD = 0.85"
      ]
    },
    {
      "cell_type": "markdown",
      "metadata": {
        "id": "Q3tkyB365miG"
      },
      "source": [
        "### HarmonyFrequency ReMine Imports and Preproessing Good Version"
      ]
    },
    {
      "cell_type": "code",
      "execution_count": null,
      "metadata": {
        "id": "62I855893Ab0"
      },
      "outputs": [],
      "source": [
        "# Create a dictionary to store the embeddings for each speaker\n",
        "speaker_embeddings = {}"
      ]
    },
    {
      "cell_type": "markdown",
      "metadata": {
        "id": "qSGeJRkxBVpx"
      },
      "source": [
        "Imports for ReMine Silence and HighPass\n",
        "Load the audio file using Librosa.\n",
        "Apply noise reduction. This step is generally done first because it can help make the other steps more effective. Noise reduction can help remove unwanted background noise that may interfere with silence detection and filtering.\n",
        "Apply a high-pass filter. This can help remove low-frequency noise and make the speech in the audio more prominent.\n",
        "Trim the silences. Trimming silences from the audio can make the speech content more concentrated and easier to analyze. This step is usually done last because the previous steps can make the silences more distinct, making them easier to detect and remove.\n",
        "Based on your requirements, the following code combines the two functions into one. It first loads and preprocesses the audio file, then applies noise reduction, a high-pass filter, and finally trims silent parts"
      ]
    },
    {
      "cell_type": "markdown",
      "metadata": {
        "id": "nkulJ_kaEUNh"
      },
      "source": [
        "HarmonyFrequency ReMine Install NoiseReduce"
      ]
    },
    {
      "cell_type": "code",
      "execution_count": null,
      "metadata": {
        "id": "-_fcoyMxBzU3",
        "colab": {
          "base_uri": "https://localhost:8080/"
        },
        "outputId": "4dfb34f8-fc98-44d2-e974-117cb9b6bcd5"
      },
      "outputs": [
        {
          "output_type": "stream",
          "name": "stdout",
          "text": [
            "Collecting noisereduce\n",
            "  Downloading noisereduce-2.0.1-py3-none-any.whl (15 kB)\n",
            "Requirement already satisfied: scipy in /usr/local/lib/python3.10/dist-packages (from noisereduce) (1.10.1)\n",
            "Requirement already satisfied: matplotlib in /usr/local/lib/python3.10/dist-packages (from noisereduce) (3.7.1)\n",
            "Requirement already satisfied: librosa in /usr/local/lib/python3.10/dist-packages (from noisereduce) (0.10.0.post2)\n",
            "Requirement already satisfied: numpy in /usr/local/lib/python3.10/dist-packages (from noisereduce) (1.22.4)\n",
            "Requirement already satisfied: tqdm in /usr/local/lib/python3.10/dist-packages (from noisereduce) (4.65.0)\n",
            "Requirement already satisfied: audioread>=2.1.9 in /usr/local/lib/python3.10/dist-packages (from librosa->noisereduce) (3.0.0)\n",
            "Requirement already satisfied: scikit-learn>=0.20.0 in /usr/local/lib/python3.10/dist-packages (from librosa->noisereduce) (1.2.2)\n",
            "Requirement already satisfied: joblib>=0.14 in /usr/local/lib/python3.10/dist-packages (from librosa->noisereduce) (1.3.1)\n",
            "Requirement already satisfied: decorator>=4.3.0 in /usr/local/lib/python3.10/dist-packages (from librosa->noisereduce) (4.4.2)\n",
            "Requirement already satisfied: numba>=0.51.0 in /usr/local/lib/python3.10/dist-packages (from librosa->noisereduce) (0.56.4)\n",
            "Requirement already satisfied: soundfile>=0.12.1 in /usr/local/lib/python3.10/dist-packages (from librosa->noisereduce) (0.12.1)\n",
            "Requirement already satisfied: pooch<1.7,>=1.0 in /usr/local/lib/python3.10/dist-packages (from librosa->noisereduce) (1.6.0)\n",
            "Requirement already satisfied: soxr>=0.3.2 in /usr/local/lib/python3.10/dist-packages (from librosa->noisereduce) (0.3.5)\n",
            "Requirement already satisfied: typing-extensions>=4.1.1 in /usr/local/lib/python3.10/dist-packages (from librosa->noisereduce) (4.7.1)\n",
            "Requirement already satisfied: lazy-loader>=0.1 in /usr/local/lib/python3.10/dist-packages (from librosa->noisereduce) (0.3)\n",
            "Requirement already satisfied: msgpack>=1.0 in /usr/local/lib/python3.10/dist-packages (from librosa->noisereduce) (1.0.5)\n",
            "Requirement already satisfied: contourpy>=1.0.1 in /usr/local/lib/python3.10/dist-packages (from matplotlib->noisereduce) (1.1.0)\n",
            "Requirement already satisfied: cycler>=0.10 in /usr/local/lib/python3.10/dist-packages (from matplotlib->noisereduce) (0.11.0)\n",
            "Requirement already satisfied: fonttools>=4.22.0 in /usr/local/lib/python3.10/dist-packages (from matplotlib->noisereduce) (4.41.0)\n",
            "Requirement already satisfied: kiwisolver>=1.0.1 in /usr/local/lib/python3.10/dist-packages (from matplotlib->noisereduce) (1.4.4)\n",
            "Requirement already satisfied: packaging>=20.0 in /usr/local/lib/python3.10/dist-packages (from matplotlib->noisereduce) (23.1)\n",
            "Requirement already satisfied: pillow>=6.2.0 in /usr/local/lib/python3.10/dist-packages (from matplotlib->noisereduce) (8.4.0)\n",
            "Requirement already satisfied: pyparsing>=2.3.1 in /usr/local/lib/python3.10/dist-packages (from matplotlib->noisereduce) (3.1.0)\n",
            "Requirement already satisfied: python-dateutil>=2.7 in /usr/local/lib/python3.10/dist-packages (from matplotlib->noisereduce) (2.8.2)\n",
            "Requirement already satisfied: llvmlite<0.40,>=0.39.0dev0 in /usr/local/lib/python3.10/dist-packages (from numba>=0.51.0->librosa->noisereduce) (0.39.1)\n",
            "Requirement already satisfied: setuptools in /usr/local/lib/python3.10/dist-packages (from numba>=0.51.0->librosa->noisereduce) (67.7.2)\n",
            "Requirement already satisfied: appdirs>=1.3.0 in /usr/local/lib/python3.10/dist-packages (from pooch<1.7,>=1.0->librosa->noisereduce) (1.4.4)\n",
            "Requirement already satisfied: requests>=2.19.0 in /usr/local/lib/python3.10/dist-packages (from pooch<1.7,>=1.0->librosa->noisereduce) (2.27.1)\n",
            "Requirement already satisfied: six>=1.5 in /usr/local/lib/python3.10/dist-packages (from python-dateutil>=2.7->matplotlib->noisereduce) (1.16.0)\n",
            "Requirement already satisfied: threadpoolctl>=2.0.0 in /usr/local/lib/python3.10/dist-packages (from scikit-learn>=0.20.0->librosa->noisereduce) (3.1.0)\n",
            "Requirement already satisfied: cffi>=1.0 in /usr/local/lib/python3.10/dist-packages (from soundfile>=0.12.1->librosa->noisereduce) (1.15.1)\n",
            "Requirement already satisfied: pycparser in /usr/local/lib/python3.10/dist-packages (from cffi>=1.0->soundfile>=0.12.1->librosa->noisereduce) (2.21)\n",
            "Requirement already satisfied: urllib3<1.27,>=1.21.1 in /usr/local/lib/python3.10/dist-packages (from requests>=2.19.0->pooch<1.7,>=1.0->librosa->noisereduce) (1.26.16)\n",
            "Requirement already satisfied: certifi>=2017.4.17 in /usr/local/lib/python3.10/dist-packages (from requests>=2.19.0->pooch<1.7,>=1.0->librosa->noisereduce) (2023.5.7)\n",
            "Requirement already satisfied: charset-normalizer~=2.0.0 in /usr/local/lib/python3.10/dist-packages (from requests>=2.19.0->pooch<1.7,>=1.0->librosa->noisereduce) (2.0.12)\n",
            "Requirement already satisfied: idna<4,>=2.5 in /usr/local/lib/python3.10/dist-packages (from requests>=2.19.0->pooch<1.7,>=1.0->librosa->noisereduce) (3.4)\n",
            "Installing collected packages: noisereduce\n",
            "Successfully installed noisereduce-2.0.1\n"
          ]
        }
      ],
      "source": [
        "!pip install noisereduce"
      ]
    },
    {
      "cell_type": "code",
      "source": [
        "# !pip uninstall librosa numba\n",
        "# !pip install librosa numba"
      ],
      "metadata": {
        "colab": {
          "base_uri": "https://localhost:8080/",
          "height": 1000
        },
        "id": "k0rSPM5icOM7",
        "outputId": "d5f240e7-7e1e-46da-967c-b4021944606d"
      },
      "execution_count": null,
      "outputs": [
        {
          "output_type": "stream",
          "name": "stdout",
          "text": [
            "Found existing installation: librosa 0.10.0.post2\n",
            "Uninstalling librosa-0.10.0.post2:\n",
            "  Would remove:\n",
            "    /usr/local/lib/python3.10/dist-packages/librosa-0.10.0.post2.dist-info/*\n",
            "    /usr/local/lib/python3.10/dist-packages/librosa/*\n",
            "Proceed (Y/n)? y\n",
            "  Successfully uninstalled librosa-0.10.0.post2\n",
            "Found existing installation: numba 0.56.4\n",
            "Uninstalling numba-0.56.4:\n",
            "  Would remove:\n",
            "    /usr/local/bin/numba\n",
            "    /usr/local/bin/pycc\n",
            "    /usr/local/lib/python3.10/dist-packages/numba-0.56.4.dist-info/*\n",
            "    /usr/local/lib/python3.10/dist-packages/numba/*\n",
            "Proceed (Y/n)? y\n",
            "  Successfully uninstalled numba-0.56.4\n",
            "Collecting librosa\n",
            "  Downloading librosa-0.10.0.post2-py3-none-any.whl (253 kB)\n",
            "\u001b[2K     \u001b[90m━━━━━━━━━━━━━━━━━━━━━━━━━━━━━━━━━━━━━━━\u001b[0m \u001b[32m253.0/253.0 kB\u001b[0m \u001b[31m6.6 MB/s\u001b[0m eta \u001b[36m0:00:00\u001b[0m\n",
            "\u001b[?25hCollecting numba\n",
            "  Downloading numba-0.57.1-cp310-cp310-manylinux2014_x86_64.manylinux_2_17_x86_64.whl (3.6 MB)\n",
            "\u001b[2K     \u001b[90m━━━━━━━━━━━━━━━━━━━━━━━━━━━━━━━━━━━━━━━━\u001b[0m \u001b[32m3.6/3.6 MB\u001b[0m \u001b[31m56.2 MB/s\u001b[0m eta \u001b[36m0:00:00\u001b[0m\n",
            "\u001b[?25hRequirement already satisfied: audioread>=2.1.9 in /usr/local/lib/python3.10/dist-packages (from librosa) (3.0.0)\n",
            "Requirement already satisfied: numpy!=1.22.0,!=1.22.1,!=1.22.2,>=1.20.3 in /usr/local/lib/python3.10/dist-packages (from librosa) (1.23.5)\n",
            "Requirement already satisfied: scipy>=1.2.0 in /usr/local/lib/python3.10/dist-packages (from librosa) (1.11.1)\n",
            "Requirement already satisfied: scikit-learn>=0.20.0 in /usr/local/lib/python3.10/dist-packages (from librosa) (1.2.2)\n",
            "Requirement already satisfied: joblib>=0.14 in /usr/local/lib/python3.10/dist-packages (from librosa) (1.3.1)\n",
            "Requirement already satisfied: decorator>=4.3.0 in /usr/local/lib/python3.10/dist-packages (from librosa) (4.4.2)\n",
            "Requirement already satisfied: soundfile>=0.12.1 in /usr/local/lib/python3.10/dist-packages (from librosa) (0.12.1)\n",
            "Requirement already satisfied: pooch<1.7,>=1.0 in /usr/local/lib/python3.10/dist-packages (from librosa) (1.6.0)\n",
            "Requirement already satisfied: soxr>=0.3.2 in /usr/local/lib/python3.10/dist-packages (from librosa) (0.3.5)\n",
            "Requirement already satisfied: typing-extensions>=4.1.1 in /usr/local/lib/python3.10/dist-packages (from librosa) (4.7.1)\n",
            "Requirement already satisfied: lazy-loader>=0.1 in /usr/local/lib/python3.10/dist-packages (from librosa) (0.3)\n",
            "Requirement already satisfied: msgpack>=1.0 in /usr/local/lib/python3.10/dist-packages (from librosa) (1.0.5)\n",
            "Collecting llvmlite<0.41,>=0.40.0dev0 (from numba)\n",
            "  Downloading llvmlite-0.40.1-cp310-cp310-manylinux_2_17_x86_64.manylinux2014_x86_64.whl (42.1 MB)\n",
            "\u001b[2K     \u001b[90m━━━━━━━━━━━━━━━━━━━━━━━━━━━━━━━━━━━━━━━━\u001b[0m \u001b[32m42.1/42.1 MB\u001b[0m \u001b[31m38.9 MB/s\u001b[0m eta \u001b[36m0:00:00\u001b[0m\n",
            "\u001b[?25hRequirement already satisfied: appdirs>=1.3.0 in /usr/local/lib/python3.10/dist-packages (from pooch<1.7,>=1.0->librosa) (1.4.4)\n",
            "Requirement already satisfied: packaging>=20.0 in /usr/local/lib/python3.10/dist-packages (from pooch<1.7,>=1.0->librosa) (23.1)\n",
            "Requirement already satisfied: requests>=2.19.0 in /usr/local/lib/python3.10/dist-packages (from pooch<1.7,>=1.0->librosa) (2.27.1)\n",
            "Requirement already satisfied: threadpoolctl>=2.0.0 in /usr/local/lib/python3.10/dist-packages (from scikit-learn>=0.20.0->librosa) (3.1.0)\n",
            "Requirement already satisfied: cffi>=1.0 in /usr/local/lib/python3.10/dist-packages (from soundfile>=0.12.1->librosa) (1.15.1)\n",
            "Requirement already satisfied: pycparser in /usr/local/lib/python3.10/dist-packages (from cffi>=1.0->soundfile>=0.12.1->librosa) (2.21)\n",
            "Requirement already satisfied: urllib3<1.27,>=1.21.1 in /usr/local/lib/python3.10/dist-packages (from requests>=2.19.0->pooch<1.7,>=1.0->librosa) (1.26.16)\n",
            "Requirement already satisfied: certifi>=2017.4.17 in /usr/local/lib/python3.10/dist-packages (from requests>=2.19.0->pooch<1.7,>=1.0->librosa) (2023.5.7)\n",
            "Requirement already satisfied: charset-normalizer~=2.0.0 in /usr/local/lib/python3.10/dist-packages (from requests>=2.19.0->pooch<1.7,>=1.0->librosa) (2.0.12)\n",
            "Requirement already satisfied: idna<4,>=2.5 in /usr/local/lib/python3.10/dist-packages (from requests>=2.19.0->pooch<1.7,>=1.0->librosa) (3.4)\n",
            "Installing collected packages: llvmlite, numba, librosa\n",
            "  Attempting uninstall: llvmlite\n",
            "    Found existing installation: llvmlite 0.39.1\n",
            "    Uninstalling llvmlite-0.39.1:\n",
            "      Successfully uninstalled llvmlite-0.39.1\n",
            "Successfully installed librosa-0.10.0.post2 llvmlite-0.40.1 numba-0.57.1\n"
          ]
        },
        {
          "output_type": "display_data",
          "data": {
            "application/vnd.colab-display-data+json": {
              "pip_warning": {
                "packages": [
                  "librosa",
                  "llvmlite"
                ]
              }
            }
          },
          "metadata": {}
        }
      ]
    },
    {
      "cell_type": "code",
      "source": [
        "# pip install --upgrade librosa numba\n"
      ],
      "metadata": {
        "colab": {
          "base_uri": "https://localhost:8080/"
        },
        "id": "RuK7W4S0cgiq",
        "outputId": "b261cbb1-1d44-4484-b765-954fe3a2f9eb"
      },
      "execution_count": null,
      "outputs": [
        {
          "output_type": "stream",
          "name": "stdout",
          "text": [
            "Requirement already satisfied: librosa in /usr/local/lib/python3.10/dist-packages (0.10.0.post2)\n",
            "Requirement already satisfied: numba in /usr/local/lib/python3.10/dist-packages (0.57.1)\n",
            "Requirement already satisfied: audioread>=2.1.9 in /usr/local/lib/python3.10/dist-packages (from librosa) (3.0.0)\n",
            "Requirement already satisfied: numpy!=1.22.0,!=1.22.1,!=1.22.2,>=1.20.3 in /usr/local/lib/python3.10/dist-packages (from librosa) (1.23.5)\n",
            "Requirement already satisfied: scipy>=1.2.0 in /usr/local/lib/python3.10/dist-packages (from librosa) (1.11.1)\n",
            "Requirement already satisfied: scikit-learn>=0.20.0 in /usr/local/lib/python3.10/dist-packages (from librosa) (1.2.2)\n",
            "Requirement already satisfied: joblib>=0.14 in /usr/local/lib/python3.10/dist-packages (from librosa) (1.3.1)\n",
            "Requirement already satisfied: decorator>=4.3.0 in /usr/local/lib/python3.10/dist-packages (from librosa) (4.4.2)\n",
            "Requirement already satisfied: soundfile>=0.12.1 in /usr/local/lib/python3.10/dist-packages (from librosa) (0.12.1)\n",
            "Requirement already satisfied: pooch<1.7,>=1.0 in /usr/local/lib/python3.10/dist-packages (from librosa) (1.6.0)\n",
            "Requirement already satisfied: soxr>=0.3.2 in /usr/local/lib/python3.10/dist-packages (from librosa) (0.3.5)\n",
            "Requirement already satisfied: typing-extensions>=4.1.1 in /usr/local/lib/python3.10/dist-packages (from librosa) (4.7.1)\n",
            "Requirement already satisfied: lazy-loader>=0.1 in /usr/local/lib/python3.10/dist-packages (from librosa) (0.3)\n",
            "Requirement already satisfied: msgpack>=1.0 in /usr/local/lib/python3.10/dist-packages (from librosa) (1.0.5)\n",
            "Requirement already satisfied: llvmlite<0.41,>=0.40.0dev0 in /usr/local/lib/python3.10/dist-packages (from numba) (0.40.1)\n",
            "Requirement already satisfied: appdirs>=1.3.0 in /usr/local/lib/python3.10/dist-packages (from pooch<1.7,>=1.0->librosa) (1.4.4)\n",
            "Requirement already satisfied: packaging>=20.0 in /usr/local/lib/python3.10/dist-packages (from pooch<1.7,>=1.0->librosa) (23.1)\n",
            "Requirement already satisfied: requests>=2.19.0 in /usr/local/lib/python3.10/dist-packages (from pooch<1.7,>=1.0->librosa) (2.27.1)\n",
            "Requirement already satisfied: threadpoolctl>=2.0.0 in /usr/local/lib/python3.10/dist-packages (from scikit-learn>=0.20.0->librosa) (3.1.0)\n",
            "Requirement already satisfied: cffi>=1.0 in /usr/local/lib/python3.10/dist-packages (from soundfile>=0.12.1->librosa) (1.15.1)\n",
            "Requirement already satisfied: pycparser in /usr/local/lib/python3.10/dist-packages (from cffi>=1.0->soundfile>=0.12.1->librosa) (2.21)\n",
            "Requirement already satisfied: urllib3<1.27,>=1.21.1 in /usr/local/lib/python3.10/dist-packages (from requests>=2.19.0->pooch<1.7,>=1.0->librosa) (1.26.16)\n",
            "Requirement already satisfied: certifi>=2017.4.17 in /usr/local/lib/python3.10/dist-packages (from requests>=2.19.0->pooch<1.7,>=1.0->librosa) (2023.5.7)\n",
            "Requirement already satisfied: charset-normalizer~=2.0.0 in /usr/local/lib/python3.10/dist-packages (from requests>=2.19.0->pooch<1.7,>=1.0->librosa) (2.0.12)\n",
            "Requirement already satisfied: idna<4,>=2.5 in /usr/local/lib/python3.10/dist-packages (from requests>=2.19.0->pooch<1.7,>=1.0->librosa) (3.4)\n"
          ]
        }
      ]
    },
    {
      "cell_type": "code",
      "source": [
        "# !pip install numpy==1.23"
      ],
      "metadata": {
        "colab": {
          "base_uri": "https://localhost:8080/",
          "height": 266
        },
        "id": "uTFnC6xGcnac",
        "outputId": "2a9e55e7-fde0-48e9-99b6-cc9f20c84538"
      },
      "execution_count": null,
      "outputs": [
        {
          "output_type": "stream",
          "name": "stdout",
          "text": [
            "Collecting numpy==1.23\n",
            "  Downloading numpy-1.23.0-cp310-cp310-manylinux_2_17_x86_64.manylinux2014_x86_64.whl (17.0 MB)\n",
            "\u001b[2K     \u001b[90m━━━━━━━━━━━━━━━━━━━━━━━━━━━━━━━━━━━━━━━━\u001b[0m \u001b[32m17.0/17.0 MB\u001b[0m \u001b[31m54.8 MB/s\u001b[0m eta \u001b[36m0:00:00\u001b[0m\n",
            "\u001b[?25hInstalling collected packages: numpy\n",
            "  Attempting uninstall: numpy\n",
            "    Found existing installation: numpy 1.24.0\n",
            "    Uninstalling numpy-1.24.0:\n",
            "      Successfully uninstalled numpy-1.24.0\n",
            "Successfully installed numpy-1.23.0\n"
          ]
        },
        {
          "output_type": "display_data",
          "data": {
            "application/vnd.colab-display-data+json": {
              "pip_warning": {
                "packages": [
                  "numpy"
                ]
              }
            }
          },
          "metadata": {}
        }
      ]
    },
    {
      "cell_type": "code",
      "execution_count": null,
      "metadata": {
        "id": "jfpMmxWlDjJ_"
      },
      "outputs": [],
      "source": [
        "# from pydub import AudioSegment\n",
        "# from pydub import effects\n",
        "# import torchaudio\n",
        "# from scipy.signal import butter, lfilter\n",
        "# from pydub.silence import detect_nonsilent\n",
        "\n",
        "# # Loading other necessary modules\n",
        "# from noisereduce import reduce_noise\n",
        "# from librosa.effects import trim"
      ]
    },
    {
      "cell_type": "code",
      "execution_count": null,
      "metadata": {
        "id": "NwWE7oKUDpK5"
      },
      "outputs": [],
      "source": [
        "from torchaudio.sox_effects import apply_effects_tensor\n"
      ]
    },
    {
      "cell_type": "code",
      "execution_count": null,
      "metadata": {
        "id": "Na79rK6HVb3u"
      },
      "outputs": [],
      "source": [
        "# from pydub import AudioSegment\n",
        "# from pydub import effects\n",
        "# import torchaudio\n",
        "\n",
        "# def preprocess_audio(audio):\n",
        "#     # Load the audio file\n",
        "#     #audio = AudioSegment.from_file(path)\n",
        "\n",
        "#     # Apply the effects\n",
        "#     audio = audio.set_channels(1)  # set to mono\n",
        "#     audio = audio.set_frame_rate(16000)  # set frame rate to 16000\n",
        "#     audio = effects.normalize(audio)  # normalize the audio\n",
        "\n",
        "#     # Convert the pydub.AudioSegment to a numpy array for compatibility with librosa and torchaudio\n",
        "#     audio_arr = np.array(audio.get_array_of_samples())\n",
        "#     audio_tensor = torch.from_numpy(audio_arr).float()\n",
        "\n",
        "#     # Add an extra dimension to the tensor and convert it to float\n",
        "#     audio_tensor = audio_tensor.unsqueeze(0)\n",
        "\n",
        "#     # Apply the EFFECTS using torchaudio\n",
        "#     #wav1, sr1 = torchaudio.sox_effects.apply_effects_tensor(audio_tensor, 16000, EFFECTS)\n",
        "#     #return wav1.numpy(), sr1\n",
        "#     return audio_tensor\n"
      ]
    },
    {
      "cell_type": "markdown",
      "metadata": {
        "id": "5aF09Q_hRwfO"
      },
      "source": [
        "Back up code incase we need to use another way to remove the silence the code below is not functional"
      ]
    },
    {
      "cell_type": "code",
      "execution_count": null,
      "metadata": {
        "id": "Pwu2zY9eTg5z"
      },
      "outputs": [],
      "source": [
        "# from pydub import AudioSegment\n",
        "# from pydub import effects\n",
        "# import torchaudio\n",
        "\n",
        "# def preprocess_audio(path):\n",
        "#     # Load the audio file\n",
        "#     audio = AudioSegment.from_file(path)\n",
        "\n",
        "#     # Apply the effects\n",
        "#     audio = audio.set_channels(1)  # set to mono\n",
        "#     audio = audio.set_frame_rate(16000)  # set frame rate to 16000\n",
        "#     audio = effects.normalize(audio)  # normalize the audio\n",
        "\n",
        "#     # Convert the pydub.AudioSegment to a numpy array for compatibility with librosa and torchaudio\n",
        "#     audio_arr = np.array(audio.get_array_of_samples())\n",
        "#     audio_tensor = torch.from_numpy(audio_arr)\n",
        "\n",
        "#     # Apply the EFFECTS using torchaudio\n",
        "#     #wav1, sr1 = torchaudio.sox_effects.apply_effects_tensor(audio_tensor, 16000, EFFECTS)\n",
        "#     wav1, _ = apply_effects_tensor(torch.tensor(audio_tensor).unsqueeze(0), audio_arr, EFFECTS)\n",
        "\n",
        "\n",
        "#     return wav1.numpy(), sr1\n"
      ]
    },
    {
      "cell_type": "code",
      "execution_count": null,
      "metadata": {
        "id": "GB5_yPwHDd-v"
      },
      "outputs": [],
      "source": [
        "# def preprocess_audio(audio_path):\n",
        "#     # Load the audio file\n",
        "#     audio = AudioSegment.from_file(audio_path)\n",
        "\n",
        "#     # Apply the effects\n",
        "#     audio = audio.set_channels(1)  # set to mono\n",
        "#     audio = audio.set_frame_rate(16000)  # set frame rate to 16000\n",
        "#     audio = effects.normalize(audio)  # normalize the audio\n",
        "\n",
        "#     # Remove silence (parameters might need to be adjusted)\n",
        "#     # start_trim = effects.detect_nonsilent(audio, silence_thresh=-50.0, min_silence_len=100)\n",
        "#     # end_trim = effects.detect_nonsilent(audio.reverse(), silence_thresh=-50.0, min_silence_len=100)\n",
        "#     # duration = len(audio)\n",
        "#     # trimmed_sound = audio[start_trim[0][0]:duration-end_trim[0][0]]\n",
        "\n",
        "\n",
        "\n",
        "#     # Convert the pydub.AudioSegment to a numpy array for compatibility with librosa and torchaudio\n",
        "#     audio_arr = np.array(trimmed_sound.get_array_of_samples())\n",
        "#     audio_tensor = torch.from_numpy(audio_arr)\n",
        "\n",
        "#     # Load the audio tensor to numpy array\n",
        "#     audio, sr = librosa.load(path, sr=None)\n",
        "\n",
        "#     # Noise reduction\n",
        "#     reduced_noise = reduce_noise(audio_clip=audio, noise_clip=audio[:5000], verbose=False)\n",
        "\n",
        "#     # High-pass filter\n",
        "#     def butter_highpass(cutoff, fs, order=5):\n",
        "#         nyq = 0.5 * fs\n",
        "#         normal_cutoff = cutoff / nyq\n",
        "#         b, a = butter(order, normal_cutoff, btype='high', analog=False)\n",
        "#         return b, a\n",
        "\n",
        "#     def apply_highpass(data, cutoff, fs, order=5):\n",
        "#         b, a = butter_highpass(cutoff, fs, order=order)\n",
        "#         y = lfilter(b, a, data)\n",
        "#         return y\n",
        "\n",
        "#     filtered = apply_highpass(reduced_noise, 100, sr)\n",
        "\n",
        "#     # Apply the EFFECTS using torchaudio\n",
        "#     wav1, sr1 = torchaudio.sox_effects.apply_effects_tensor(audio_tensor, 16000, EFFECTS)\n",
        "#     wav1, _ = apply_effects_tensor(torch.tensor(wav1).unsqueeze(0), sr1, EFFECTS)\n",
        "\n",
        "#     # Trim silences\n",
        "#     #trimmed, index = trim(filtered, top_db=20, frame_length=512, hop_length=64)\n",
        "\n",
        "#     # ##########\n",
        "#     # # Detect non-silent parts\n",
        "#     # non_silence_ranges = detect_nonsilent(audio, min_silence_len=100, silence_thresh=-50)\n",
        "\n",
        "#     # # Remove silence and concatenate non-silent parts\n",
        "#     # non_silent_audio_clips = [audio[start:end] for start, end in non_silence_ranges]\n",
        "#     # trimmed_audio = sum(non_silent_audio_clips)\n",
        "#     ##########\n",
        "\n",
        "#     return wav1, sr1\n"
      ]
    },
    {
      "cell_type": "markdown",
      "metadata": {
        "id": "OdOC9dezR-AR"
      },
      "source": []
    },
    {
      "cell_type": "code",
      "execution_count": null,
      "metadata": {
        "id": "SmY6tmb3D_v0"
      },
      "outputs": [],
      "source": []
    },
    {
      "cell_type": "markdown",
      "metadata": {
        "id": "EYtYlNAkD7BC"
      },
      "source": [
        "ReMine Backup functions can be revisited do not use for now"
      ]
    },
    {
      "cell_type": "code",
      "execution_count": null,
      "metadata": {
        "id": "byBWiSYrBRQQ"
      },
      "outputs": [],
      "source": [
        "# def remine_silencehighpass_audio(path):\n",
        "#     # Load audio\n",
        "#     audio, sr = librosa.load(path, sr=None)\n",
        "\n",
        "#     # Noise reduction\n",
        "#     reduced_noise = nr.reduce_noise(audio_clip=audio, noise_clip=audio[:5000], verbose=False)\n",
        "\n",
        "#     # High-pass filter\n",
        "#     def butter_highpass(cutoff, fs, order=5):\n",
        "#         nyq = 0.5 * fs\n",
        "#         normal_cutoff = cutoff / nyq\n",
        "#         b, a = butter(order, normal_cutoff, btype='high', analog=False)\n",
        "#         return b, a\n",
        "\n",
        "#     def apply_highpass(data, cutoff, fs, order=5):\n",
        "#         b, a = butter_highpass(cutoff, fs, order=order)\n",
        "#         y = lfilter(b, a, data)\n",
        "#         return y\n",
        "\n",
        "#     filtered = apply_highpass(reduced_noise, 100, sr)\n",
        "\n",
        "#     # Trim silences\n",
        "#     trimmed, index = trim(filtered, top_db=20, frame_length=512, hop_length=64)\n",
        "\n",
        "#     return trimmed, sr\n"
      ]
    },
    {
      "cell_type": "code",
      "execution_count": null,
      "metadata": {
        "id": "CNjmgcIl-0z4"
      },
      "outputs": [],
      "source": [
        "# def ReMine_monoframeratenormalize_audio(path):\n",
        "#     # Load the audio file\n",
        "#     audio = AudioSegment.from_file(path)\n",
        "\n",
        "#     # Apply the effects\n",
        "#     audio = audio.set_channels(1)  # set to mono\n",
        "#     audio = audio.set_frame_rate(16000)  # set frame rate to 16000\n",
        "#     audio = effects.normalize(audio)  # normalize the audio\n",
        "\n",
        "#     # Remove silence (parameters might need to be adjusted)\n",
        "#     start_trim = effects.detect_nonsilent(audio, silence_thresh=-50.0, min_silence_len=100)\n",
        "#     end_trim = effects.detect_nonsilent(audio.reverse(), silence_thresh=-50.0, min_silence_len=100)\n",
        "#     duration = len(audio)\n",
        "#     trimmed_sound = audio[start_trim[0][0]:duration-end_trim[0][0]]\n",
        "\n",
        "#     # Convert the pydub.AudioSegment to a numpy array for compatibility with librosa and torchaudio\n",
        "#     audio_arr = np.array(trimmed_sound.get_array_of_samples())\n",
        "#     audio_tensor = torch.from_numpy(audio_arr)\n",
        "\n",
        "#     # Apply the EFFECTS using torchaudio\n",
        "#     wav1, sr1 = torchaudio.sox_effects.apply_effects_tensor(audio_tensor, 16000, EFFECTS)\n",
        "#     wav1, _ = apply_effects_tensor(torch.tensor(wav1).unsqueeze(0), sr1, EFFECTS)\n",
        "\n",
        "#     return wav1.numpy(), sr1\n"
      ]
    },
    {
      "cell_type": "code",
      "execution_count": null,
      "metadata": {
        "id": "si4ThRHyA299"
      },
      "outputs": [],
      "source": []
    },
    {
      "cell_type": "markdown",
      "metadata": {
        "id": "ESScql052KAr"
      },
      "source": [
        "### HarmonyFrequency Select Device TPU/GPU/CPU\n",
        "Current:\n",
        "*   TPU on Google TRC\n",
        "*   GPU A100G on Collab/HuggingFace\n",
        "*   GPU A10G on Collab/HuggingFace\n",
        "*   CPU\n",
        "\n",
        "Best in Class On Deck:\n",
        "*   Cereberus on University of Illinois National Center SuperComputing Aritificial Intelligence\n",
        "*   HPC on University of Illinois National Center SuperComputing Aritificial Intelligence\n",
        "*   AWS Gravitron\n",
        "*   AWS A100G\n",
        "\n",
        "SOTA Targets:\n",
        "*   Center of Applied Artifical Intelligence University of Chicago\n",
        "*   Argone National Labrotatory\n",
        "\n",
        "*   Odin at University of Texas\n",
        "*   ML Group at University of Texas\n",
        "\n",
        "*   Microsoft Athena?\n",
        "*   Amazong Gravitron?\n",
        "\n",
        "*   Intel Arizona\n",
        "*   Intel SMG\n",
        "\n",
        "\n",
        "\n",
        "\n",
        "\n",
        "\n",
        "\n"
      ]
    },
    {
      "cell_type": "code",
      "execution_count": null,
      "metadata": {
        "id": "5tMQnzIp2fDb",
        "colab": {
          "base_uri": "https://localhost:8080/",
          "height": 222
        },
        "outputId": "2460bc93-fe87-46c3-8888-32361a6a4252"
      },
      "outputs": [
        {
          "output_type": "error",
          "ename": "NameError",
          "evalue": "ignored",
          "traceback": [
            "\u001b[0;31m---------------------------------------------------------------------------\u001b[0m",
            "\u001b[0;31mNameError\u001b[0m                                 Traceback (most recent call last)",
            "\u001b[0;32m<ipython-input-22-5f54bc766952>\u001b[0m in \u001b[0;36m<cell line: 1>\u001b[0;34m()\u001b[0m\n\u001b[0;32m----> 1\u001b[0;31m \u001b[0mprint\u001b[0m\u001b[0;34m(\u001b[0m\u001b[0;34mf\"JAX devices: {jax.devices()}\"\u001b[0m\u001b[0;34m)\u001b[0m\u001b[0;34m\u001b[0m\u001b[0;34m\u001b[0m\u001b[0m\n\u001b[0m\u001b[1;32m      2\u001b[0m \u001b[0;31m# JAX devices: [StreamExecutorGpuDevice(id=0, process_index=0)]\u001b[0m\u001b[0;34m\u001b[0m\u001b[0;34m\u001b[0m\u001b[0m\n\u001b[1;32m      3\u001b[0m \u001b[0mprint\u001b[0m\u001b[0;34m(\u001b[0m\u001b[0;34mf\"JAX device type: {jax.devices()[0].device_kind}\"\u001b[0m\u001b[0;34m)\u001b[0m\u001b[0;34m\u001b[0m\u001b[0;34m\u001b[0m\u001b[0m\n\u001b[1;32m      4\u001b[0m \u001b[0;31m# JAX device type: Tesla T4\u001b[0m\u001b[0;34m\u001b[0m\u001b[0;34m\u001b[0m\u001b[0m\n",
            "\u001b[0;31mNameError\u001b[0m: name 'jax' is not defined"
          ]
        }
      ],
      "source": [
        "print(f\"JAX devices: {jax.devices()}\")\n",
        "# JAX devices: [StreamExecutorGpuDevice(id=0, process_index=0)]\n",
        "print(f\"JAX device type: {jax.devices()[0].device_kind}\")\n",
        "# JAX device type: Tesla T4"
      ]
    },
    {
      "cell_type": "code",
      "execution_count": null,
      "metadata": {
        "id": "a4kDhqQnyBQG",
        "colab": {
          "base_uri": "https://localhost:8080/"
        },
        "outputId": "9e0b75ef-204c-4186-ad3a-87f1c968e562"
      },
      "outputs": [
        {
          "output_type": "stream",
          "name": "stdout",
          "text": [
            "cuda\n"
          ]
        }
      ],
      "source": [
        "device = torch.device('cuda' if torch.cuda.is_available() else 'cpu')\n",
        "print(device)"
      ]
    },
    {
      "cell_type": "markdown",
      "metadata": {
        "id": "2z9PbRI4ZEtL"
      },
      "source": [
        "### **HarmonyVoice Create HarmonyFrequency Model, Feature Extractor and Similarity**\n",
        "*   model_name = \"microsoft/wavlm-base-plus-sv\"\n",
        "*   feature_extractor = AutoFeatureExtractor.from_pretrained(model_name)\n",
        "*   CosineSimilarity"
      ]
    },
    {
      "cell_type": "code",
      "execution_count": null,
      "metadata": {
        "id": "k1Fxx_Th2DgD",
        "colab": {
          "base_uri": "https://localhost:8080/",
          "height": 113,
          "referenced_widgets": [
            "31cd2c1d0ef94c2eacd3ce1876355fbe",
            "3c6d6f8f714d498f9a98f5c170d90c20",
            "a414add365df48369714e71ddbbdf18d",
            "cf39b33da4144e04be071da3c903d377",
            "304ec69a51414fc2a21fd9dfb448ae12",
            "7f5a0c18c77b4bebb780c05783e82895",
            "9edd1075aee7403684945de659412afd",
            "ffe41d9fd81d4109beea393d2caf04c8",
            "2b832f4d6d1b47eba10b8072060a1289",
            "3f7b52bb13d945abb21e7247e3e22f5d",
            "b9a65bdaef5f4b489efcd6fd1ce10161",
            "a3b37576517846a2af44998c7bfc7c8f",
            "ec23de917a314fdd93dee41a8f07022b",
            "24ca7417957a4b26b4f46ba85195e304",
            "b79f31ce44cf41e1986b841667e1c351",
            "949921b4cd714b68b58a0613b10fc288",
            "6faad2598b64436e94071d7e71f158fc",
            "f53edab689be46df9a499e64ab479d58",
            "890476455f83403f93c91d7e5e096f73",
            "df7758e5b70b4863a9294b513691f32d",
            "fded766b8c294c69ac1d0781a5a6c9aa",
            "6b55c2f827d046b3b00eaaa409161ff8",
            "717f087241514643b39b2a1a4b7d64f8",
            "9113bce61f7a4fdea220c1cbf2a89787",
            "e4adf4fd104149d78fadee013c22bdf5",
            "68435ac423cf4401af484dc850ae66a9",
            "71f681789ce544da9cc6450e9649764e",
            "7d03ce1f72714aeeaa9ece0ad38bd1ad",
            "adec101c60b849c98561ce622418c6df",
            "cab327c33f254435b181b5661467f6e0",
            "6172a54946b946f19e2b8f82beae9ca6",
            "31b8f9d5cf774b5eab87354713ffbde1",
            "5342eafc9cac49a0a255635b6a8cd4e7"
          ]
        },
        "outputId": "2a12b848-c143-4f93-96f1-b23d4718e494"
      },
      "outputs": [
        {
          "output_type": "display_data",
          "data": {
            "text/plain": [
              "Downloading (…)rocessor_config.json:   0%|          | 0.00/215 [00:00<?, ?B/s]"
            ],
            "application/vnd.jupyter.widget-view+json": {
              "version_major": 2,
              "version_minor": 0,
              "model_id": "31cd2c1d0ef94c2eacd3ce1876355fbe"
            }
          },
          "metadata": {}
        },
        {
          "output_type": "display_data",
          "data": {
            "text/plain": [
              "Downloading (…)lve/main/config.json:   0%|          | 0.00/58.6k [00:00<?, ?B/s]"
            ],
            "application/vnd.jupyter.widget-view+json": {
              "version_major": 2,
              "version_minor": 0,
              "model_id": "a3b37576517846a2af44998c7bfc7c8f"
            }
          },
          "metadata": {}
        },
        {
          "output_type": "display_data",
          "data": {
            "text/plain": [
              "Downloading pytorch_model.bin:   0%|          | 0.00/405M [00:00<?, ?B/s]"
            ],
            "application/vnd.jupyter.widget-view+json": {
              "version_major": 2,
              "version_minor": 0,
              "model_id": "717f087241514643b39b2a1a4b7d64f8"
            }
          },
          "metadata": {}
        }
      ],
      "source": [
        "# Define the model name\n",
        "model_name = \"microsoft/wavlm-base-plus-sv\"\n",
        "\n",
        "# Load the feature extractor\n",
        "feature_extractor = AutoFeatureExtractor.from_pretrained(model_name)\n",
        "\n",
        "# Load the model, make sure to move the model to GPU if available\n",
        "model = AutoModelForAudioXVector.from_pretrained(model_name).to(device)\n",
        "\n",
        "device = torch.device('cuda' if torch.cuda.is_available() else 'cpu')\n",
        "model.to(device)\n",
        "\n",
        "\n",
        "# Define the cosine similarity function\n",
        "cosine_sim = torch.nn.CosineSimilarity(dim=-1)\n",
        "\n",
        "# # Let's add some asserts to make sure everything is working as expected\n",
        "# assert isinstance(feature_extractor, AutoFeatureExtractor), \"feature_extractor must be an instance of transformers.AutoFeatureExtractor\"\n",
        "# assert isinstance(model, AutoModelForAudioXVector), \"model must be an instance of transformers.AutoModelForAudioXVector\"\n",
        "# assert isinstance(cosine_sim, torch.nn.CosineSimilarity), \"cosine_sim must be an instance of torch.nn.CosineSimilarity\"\n"
      ]
    },
    {
      "cell_type": "markdown",
      "metadata": {
        "id": "jBkPB5BQ3Y8c"
      },
      "source": [
        "audio_to_= audio_to_embedding"
      ]
    },
    {
      "cell_type": "markdown",
      "metadata": {
        "id": "rBVNo_IA3aUK"
      },
      "source": []
    },
    {
      "cell_type": "markdown",
      "metadata": {
        "id": "kLUUebZI3bxv"
      },
      "source": [
        "### HarmonyFrequency Preprocess Audio Float"
      ]
    },
    {
      "cell_type": "code",
      "source": [
        "def preprocess_audio_float(audio):\n",
        "    # First, make sure the data is in numpy array format.\n",
        "    audio = np.array(audio)\n",
        "\n",
        "    # If the audio is in `int16` format, convert it to `float32` (expected by WavLM).\n",
        "    if audio.dtype == np.int16:\n",
        "        audio = audio.astype(np.float32) / 32768.0 # int16 range is -32768 to 32767\n",
        "\n",
        "    return audio"
      ],
      "metadata": {
        "id": "YPA2i93fT08I"
      },
      "execution_count": null,
      "outputs": []
    },
    {
      "cell_type": "markdown",
      "source": [
        "Use the one in AccentNew"
      ],
      "metadata": {
        "id": "agX71aKG03EL"
      }
    },
    {
      "cell_type": "code",
      "execution_count": null,
      "metadata": {
        "id": "sBYz4U1a3SU5"
      },
      "outputs": [],
      "source": [
        "# def audio_to_embedding(chunked_audio, sample_rate, feature_extractor, model, device):\n",
        "#     \"\"\"\n",
        "#     Transform an audio array into a normalized embedding.\n",
        "\n",
        "#     Parameters:\n",
        "#     chunked_audio (numpy.array): Chunked audio array to be processed.\n",
        "#     sample_rate (int): Sample rate of the audio file.\n",
        "#     feature_extractor: The feature extractor object for WavLM.\n",
        "#     model: The pretrained WavLM model.\n",
        "#     device: The device (cpu or gpu) where the model is running.\n",
        "\n",
        "#     Returns:\n",
        "#     normalized_embeddings (torch.Tensor): Normalized embeddings of the audio.\n",
        "#     \"\"\"\n",
        "#     #processed_audio, _ = apply_effects_tensor(torch.tensor(chunked_audio).unsqueeze(0), sample_rate, EFFECTS)\n",
        "#     processed_audio = preprocess_audio_float(processed_audio.numpy())\n",
        "\n",
        "#     input_values = feature_extractor(chunked_audio, return_tensors=\"pt\", sampling_rate=16000).input_values.to(device)\n",
        "#     print(input_values.shape)\n",
        "#     with torch.no_grad():\n",
        "#         embeddings = model(input_values).embeddings\n",
        "#     normalized_embeddings = torch.nn.functional.normalize(embeddings, dim=-1).cpu()\n",
        "#     return normalized_embeddings\n"
      ]
    },
    {
      "cell_type": "code",
      "source": [
        "# # Initialize a dictionary to store the embeddings\n",
        "# speaker_embeddings = {}\n",
        "\n",
        "# # Loop over each data point in the dataset\n",
        "# for i, data in enumerate(first11_dataset):\n",
        "#   try:\n",
        "#     # Get the path to the audio file\n",
        "#     audio_path = first11_dataset[i]['file']\n",
        "#     print(f\"Processing file {i+1}/{len(first11_dataset)}: {audio_path}\")\n",
        "\n",
        "#     # Load and preprocess the audio\n",
        "#     wav1, sr1 = load_audio(audio_path)\n",
        "#     wav1, _ = apply_effects_tensor(torch.tensor(wav1).unsqueeze(0), sr1, EFFECTS)\n",
        "#     wav1 = preprocess_audio(wav1.numpy())\n",
        "\n",
        "  #   # Extract the embeddings\n",
        "  #   input1 = feature_extractor(wav1, return_tensors=\"pt\", sampling_rate=16000).input_values.to(device)\n",
        "  #   with torch.no_grad():\n",
        "  #       emb1 = model(input1).embeddings\n",
        "\n",
        "  #   # Normalize the embeddings\n",
        "  #   emb1 = torch.nn.functional.normalize(emb1, dim=-1).cpu()\n",
        "\n",
        "  #   # Get the speaker ID from the file name and store the embeddings\n",
        "  #   speaker_id = os.path.splitext(os.path.basename(audio_path))[0]\n",
        "  #   speaker_embeddings[speaker_id] = emb1\n",
        "\n",
        "  # except Exception as e:\n",
        "  #   print(f\"An error occurred while processing file {audio_path}: {e}\")\n"
      ],
      "metadata": {
        "id": "BEJOv9BcShfn"
      },
      "execution_count": null,
      "outputs": []
    },
    {
      "cell_type": "markdown",
      "metadata": {
        "id": "8OA2oCio04Vk"
      },
      "source": [
        "### YouTube Helper Functions"
      ]
    },
    {
      "cell_type": "code",
      "execution_count": null,
      "metadata": {
        "id": "B3T8aLflt3Ls"
      },
      "outputs": [],
      "source": [
        " def _return_yt_html_embed(yt_url):\n",
        "        video_id = yt_url.split(\"?v=\")[-1]\n",
        "        HTML_str = (\n",
        "            f'<center> <iframe width=\"500\" height=\"320\" src=\"https://www.youtube.com/embed/{video_id}\"> </iframe>'\n",
        "            \" </center>\"\n",
        "        )\n",
        "        return HTML_str"
      ]
    },
    {
      "cell_type": "code",
      "execution_count": null,
      "metadata": {
        "id": "K9-FrIJvt1al"
      },
      "outputs": [],
      "source": [
        "def download_yt_audio(yt_url, filename):\n",
        "        info_loader = youtube_dl.YoutubeDL()\n",
        "        try:\n",
        "            info = info_loader.extract_info(yt_url, download=False)\n",
        "        except youtube_dl.utils.DownloadError as err:\n",
        "            raise gr.Error(str(err))\n",
        "\n",
        "        file_length = info[\"duration_string\"]\n",
        "        file_h_m_s = file_length.split(\":\")\n",
        "        file_h_m_s = [int(sub_length) for sub_length in file_h_m_s]\n",
        "        if len(file_h_m_s) == 1:\n",
        "            file_h_m_s.insert(0, 0)\n",
        "        if len(file_h_m_s) == 2:\n",
        "            file_h_m_s.insert(0, 0)\n",
        "\n",
        "        file_length_s = file_h_m_s[0] * 3600 + file_h_m_s[1] * 60 + file_h_m_s[2]\n",
        "        if file_length_s > YT_LENGTH_LIMIT_S:\n",
        "            yt_length_limit_hms = time.strftime(\"%HH:%MM:%SS\", time.gmtime(YT_LENGTH_LIMIT_S))\n",
        "            file_length_hms = time.strftime(\"%HH:%MM:%SS\", time.gmtime(file_length_s))\n",
        "            raise gr.Error(f\"Maximum YouTube length is {yt_length_limit_hms}, got {file_length_hms} YouTube video.\")\n",
        "\n",
        "        ydl_opts = {\"outtmpl\": filename, \"format\": \"worstvideo[ext=mp4]+bestaudio[ext=m4a]/best[ext=mp4]/best\"}\n",
        "        with youtube_dl.YoutubeDL(ydl_opts) as ydl:\n",
        "            try:\n",
        "                ydl.download([yt_url])\n",
        "            except youtube_dl.utils.ExtractorError as err:\n",
        "                raise gr.Error(str(err))"
      ]
    },
    {
      "cell_type": "code",
      "execution_count": null,
      "metadata": {
        "id": "KbR3RF9xkr8e"
      },
      "outputs": [],
      "source": [
        "def transcribe_youtube(yt_url, task, return_timestamps, progress=gr.Progress()):\n",
        "        progress(0, desc=\"Loading audio file...\")\n",
        "        logger.info(\"loading youtube file...\")\n",
        "        html_embed_str = _return_yt_html_embed(yt_url)\n",
        "        with tempfile.TemporaryDirectory() as tmpdirname:\n",
        "            filepath = os.path.join(tmpdirname, \"video.mp4\")\n",
        "            download_yt_audio(yt_url, filepath)\n",
        "\n",
        "            with open(filepath, \"rb\") as f:\n",
        "                inputs = f.read()\n",
        "\n",
        "        inputs = ffmpeg_read(inputs, pipeline.feature_extractor.sampling_rate)\n",
        "        inputs = {\"array\": inputs, \"sampling_rate\": pipeline.feature_extractor.sampling_rate}\n",
        "        logger.info(\"done loading...\")\n",
        "        text, runtime = tqdm_generate(inputs, task=task, return_timestamps=return_timestamps, progress=progress)\n",
        "        return html_embed_str, text, runtime"
      ]
    },
    {
      "cell_type": "markdown",
      "metadata": {
        "id": "Px-ssiVGEoZM"
      },
      "source": []
    },
    {
      "cell_type": "markdown",
      "metadata": {
        "id": "jGXHg6-NEoUq"
      },
      "source": []
    },
    {
      "cell_type": "markdown",
      "metadata": {
        "id": "y22yCse29Cyb"
      },
      "source": [
        "\n",
        "### HarmonyFrequency FAISS Speaker Assignment\n",
        "This is the main engine for McTalk where we perform using Faiss which is a library developed by Facebook AI for efficient similarity search and clustering of dense vectors. Faiss allows you to quickly find the nearest vectors in a database for a given query vector.\n",
        "\n",
        "Here's how you could modify the assign_speaker function to use Faiss:\n",
        "\n",
        "First, you would need to install Faiss. If you haven't done so already, you can install it with the following command:"
      ]
    },
    {
      "cell_type": "code",
      "execution_count": null,
      "metadata": {
        "id": "r84AoIbh-XE5",
        "colab": {
          "base_uri": "https://localhost:8080/"
        },
        "outputId": "d6bdb3d6-6439-4e7c-a3a1-2f7023738fca"
      },
      "outputs": [
        {
          "output_type": "stream",
          "name": "stdout",
          "text": [
            "Collecting faiss-cpu==1.7.4\n",
            "  Downloading faiss_cpu-1.7.4-cp310-cp310-manylinux_2_17_x86_64.manylinux2014_x86_64.whl (17.6 MB)\n",
            "\u001b[2K     \u001b[90m━━━━━━━━━━━━━━━━━━━━━━━━━━━━━━━━━━━━━━━━\u001b[0m \u001b[32m17.6/17.6 MB\u001b[0m \u001b[31m63.2 MB/s\u001b[0m eta \u001b[36m0:00:00\u001b[0m\n",
            "\u001b[?25hInstalling collected packages: faiss-cpu\n",
            "Successfully installed faiss-cpu-1.7.4\n"
          ]
        }
      ],
      "source": [
        "! pip install faiss-cpu==1.7.4\n"
      ]
    },
    {
      "cell_type": "code",
      "execution_count": null,
      "metadata": {
        "id": "JzJ6KMhM-Shv"
      },
      "outputs": [],
      "source": [
        "import faiss"
      ]
    },
    {
      "cell_type": "code",
      "execution_count": null,
      "metadata": {
        "id": "d6YRET-5_gSa"
      },
      "outputs": [],
      "source": [
        "def assign_speaker_faiss(emb, speaker_embeddings):\n",
        "    \"\"\"\n",
        "    Assign a speaker based on the similarity of embeddings using Faiss.\n",
        "\n",
        "    Parameters:\n",
        "    emb (torch.Tensor): The embedding of the audio chunk.\n",
        "    speaker_embeddings (dict): A dictionary where keys are speaker IDs and values are their embeddings.\n",
        "\n",
        "    Returns:\n",
        "    speaker_id (str): The ID of the speaker with the closest embedding.\n",
        "    \"\"\"\n",
        "    # Ensure the input types are correct\n",
        "    assert isinstance(emb, torch.Tensor), \"Embedding must be a PyTorch tensor\"\n",
        "    assert isinstance(speaker_embeddings, dict), \"Speaker embeddings must be a dictionary\"\n",
        "\n",
        "    # Convert the embeddings to numpy arrays for use with Faiss\n",
        "    emb_np = emb.cpu().numpy()\n",
        "    # Flatten to 1D array\n",
        "    emb_np = emb_np.reshape(-1)\n",
        "\n",
        "    # Build the database of speaker embeddings for Faiss\n",
        "    emb_ids = list(speaker_embeddings.keys())\n",
        "    emb_vectors = np.stack([speaker_embeddings[id].cpu().numpy().reshape(-1) for id in emb_ids])\n",
        "\n",
        "    # Normalize the vectors\n",
        "    emb_vectors = emb_vectors / np.linalg.norm(emb_vectors, axis=1, keepdims=True)\n",
        "\n",
        "    # Build a Faiss index\n",
        "    index = faiss.IndexFlatL2(emb_vectors.shape[1])\n",
        "\n",
        "    # Add the vectors to the index\n",
        "    index.add(emb_vectors)\n",
        "\n",
        "    # Find the top 1 closest vectors in the database to the query vector\n",
        "    D, I = index.search(np.expand_dims(emb_np, axis=0), 1)\n",
        "\n",
        "    # The index of the closest vector is the speaker ID\n",
        "    speaker_id = emb_ids[I[0][0]]\n",
        "\n",
        "    return speaker_id"
      ]
    },
    {
      "cell_type": "markdown",
      "metadata": {
        "id": "6MmhfA6rTRSF"
      },
      "source": [
        "### Delete HarmonyFrequency Audio To Embedding Function //USE THE CODE TWO BLOCKS UP\n",
        "\n",
        "1. This is a different version from HarmonyFrequency Main Embedding Function\n"
      ]
    },
    {
      "cell_type": "code",
      "execution_count": null,
      "metadata": {
        "id": "ZVzeZpyuy8ib"
      },
      "outputs": [],
      "source": [
        "# def audio_to_embedding(chunked_audio, sample_rate, feature_extractor, model, device):\n",
        "#     \"\"\"\n",
        "#     Transform an audio array into a normalized embedding.\n",
        "\n",
        "#     Parameters:\n",
        "#     chunked_audio (numpy.array): Chunked audio array to be processed.\n",
        "#     sample_rate (int): Sample rate of the audio file.\n",
        "#     feature_extractor: The feature extractor object for WavLM.\n",
        "#     model: The pretrained WavLM model.\n",
        "#     device: The device (cpu or gpu) where the model is running.\n",
        "\n",
        "#     Returns:\n",
        "#     normalized_embeddings (torch.Tensor): Normalized embeddings of the audio.\n",
        "#     \"\"\"\n",
        "#     processed_audio, _ = apply_effects_tensor(torch.tensor(chunked_audio).unsqueeze(0), sample_rate, EFFECTS)\n",
        "#     processed_audio = preprocess_audio(processed_audio.numpy())\n",
        "#     input_values = feature_extractor(processed_audio, return_tensors=\"pt\", sampling_rate=16000).input_values.to(device)\n",
        "#     with torch.no_grad():\n",
        "#         embeddings = model(input_values).embeddings\n",
        "#     normalized_embeddings = torch.nn.functional.normalize(embeddings, dim=-1).cpu()\n",
        "#     return normalized_embeddings\n"
      ]
    },
    {
      "cell_type": "markdown",
      "metadata": {
        "id": "BcuVQyrzUsaF"
      },
      "source": [
        "### HarmonyFrequency Assign Speaker FAISS\n",
        "1. Verify Function"
      ]
    },
    {
      "cell_type": "markdown",
      "metadata": {
        "id": "Njd2jWCATH6_"
      },
      "source": [
        "Assign speakers using FAISS"
      ]
    },
    {
      "cell_type": "code",
      "execution_count": null,
      "metadata": {
        "id": "-7ogEKkJxpaV"
      },
      "outputs": [],
      "source": [
        "def faiss_assign_speaker(emb, speaker_embeddings):\n",
        "    \"\"\"\n",
        "    Assign a speaker based on the similarity of embeddings.\n",
        "\n",
        "    Parameters:\n",
        "    emb (torch.Tensor): The embedding of the audio chunk.\n",
        "    speaker_embeddings (dict): A dictionary where keys are speaker IDs and values are their embeddings.\n",
        "\n",
        "    Returns:\n",
        "    speaker_id (str): The ID of the speaker with the closest embedding.\n",
        "    \"\"\"\n",
        "    # Ensure your code here...\n",
        "    try:\n",
        "      speaker_id = assign_speaker_faiss(emb, faiss_index)\n",
        "    except:\n",
        "      speaker_id = assign_speaker(emb, speaker_embeddings)\n"
      ]
    },
    {
      "cell_type": "code",
      "execution_count": null,
      "metadata": {
        "id": "CKiKMWy688Gl"
      },
      "outputs": [],
      "source": [
        "import gradio as gr"
      ]
    },
    {
      "cell_type": "markdown",
      "metadata": {
        "id": "N2ip059yS8Pg"
      },
      "source": [
        "### HarmonyFrequency FAISS tqdm_generate"
      ]
    },
    {
      "cell_type": "code",
      "execution_count": null,
      "metadata": {
        "id": "rWWYUZ0YxvoK"
      },
      "outputs": [],
      "source": [
        "def faiss_tqdm_generate(inputs: dict, task: str, return_timestamps: bool, progress: gr.Progress):\n",
        "    inputs_len = inputs[\"array\"].shape[0]\n",
        "    all_chunk_start_idx = np.arange(0, inputs_len, step)\n",
        "    num_samples = len(all_chunk_start_idx)\n",
        "    num_batches = math.ceil(num_samples / BATCH_SIZE)\n",
        "    dummy_batches = list(\n",
        "        range(num_batches)\n",
        "    )  # Gradio progress bar not compatible with generator, see https://github.com/gradio-app/gradio/issues/3841\n",
        "\n",
        "    dataloader = pipeline.preprocess_batch(inputs, chunk_length_s=CHUNK_LENGTH_S, batch_size=BATCH_SIZE)\n",
        "    progress(0, desc=\"Pre-processing audio file...\")\n",
        "    logger.info(\"pre-processing audio file...\")\n",
        "    dataloader = pool.map(identity, dataloader)\n",
        "    logger.info(\"done post-processing\")\n",
        "\n",
        "    model_outputs = []\n",
        "    speaker_labels = []  # To store the speaker labels for each chunk\n",
        "    start_time = time.time()\n",
        "    logger.info(\"transcribing and assigning speakers...\")\n",
        "\n",
        "    # Iterate over our chunked audio samples - always predict timestamps to reduce hallucinations\n",
        "    for batch, _ in zip(dataloader, progress.tqdm(dummy_batches, desc=\"Transcribing and assigning speakers...\")):\n",
        "        model_outputs.append(pipeline.forward(batch, batch_size=BATCH_SIZE, task=task, return_timestamps=True))\n",
        "\n",
        "        # Convert audio to embeddings and assign speakers for each chunk in the batch\n",
        "        for audio_chunk in batch:\n",
        "            emb = audio_to_embedding(audio_chunk, feature_extractor, model, device)\n",
        "            speaker_id = assign_speaker(emb, speaker_embeddings)\n",
        "            speaker_labels.append(speaker_id)\n",
        "\n",
        "    runtime = time.time() - start_time\n",
        "    logger.info(\"done transcription and speaker assignment\")\n",
        "\n",
        "    # Your existing code goes here until this point\n",
        "    logger.info(\"post-processing...\")\n",
        "    post_processed = pipeline.postprocess(model_outputs, return_timestamps=True)\n",
        "    full_text = post_processed[\"text\"]\n",
        "    logger.info(\"full_text to be summarized (first 100 characters): %s\", full_text[:100])\n",
        "\n",
        "    logger.info(\"Calling text to be summarized...\")\n",
        "\n",
        "    # Summarize the text first, before introducing timestamps\n",
        "    summarized_text = summarize_text(full_text)\n",
        "\n",
        "    if return_timestamps:\n",
        "        timestamps = post_processed.get(\"chunks\")\n",
        "        timestamps = [\n",
        "            f\"[{format_timestamp(chunk['timestamp'][0])} -> {format_timestamp(chunk['timestamp'][1])}] {chunk['text']}\"\n",
        "            for chunk in timestamps\n",
        "        ]\n",
        "        full_text = \"\\n\".join(str(feature) for feature in timestamps)  # overwrite full_text with timestamped version\n",
        "\n",
        "    logger.info(\"done post-processing\")\n",
        "    return full_text, summarized_text, speaker_labels, runtime\n"
      ]
    },
    {
      "cell_type": "markdown",
      "metadata": {
        "id": "6daLRcE7B_gG"
      },
      "source": [
        "### HarmonyFrequency K Means Clustering\n",
        "\n",
        "For this phase of the process, we'll need a function to handle the actual K-means++ clustering. We can use the sklearn library's implementation, which is both efficient and easy to use. Here's an example of how you might set up this function:\n",
        "\n"
      ]
    },
    {
      "cell_type": "code",
      "execution_count": null,
      "metadata": {
        "id": "0grKkP90CWIt",
        "colab": {
          "base_uri": "https://localhost:8080/"
        },
        "outputId": "56c90674-af8c-4633-bbaf-7ce9e1f23d0d"
      },
      "outputs": [
        {
          "output_type": "stream",
          "name": "stdout",
          "text": [
            "Requirement already satisfied: scikit-learn in /usr/local/lib/python3.10/dist-packages (1.2.2)\n",
            "Requirement already satisfied: numpy>=1.17.3 in /usr/local/lib/python3.10/dist-packages (from scikit-learn) (1.22.4)\n",
            "Requirement already satisfied: scipy>=1.3.2 in /usr/local/lib/python3.10/dist-packages (from scikit-learn) (1.10.1)\n",
            "Requirement already satisfied: joblib>=1.1.1 in /usr/local/lib/python3.10/dist-packages (from scikit-learn) (1.3.1)\n",
            "Requirement already satisfied: threadpoolctl>=2.0.0 in /usr/local/lib/python3.10/dist-packages (from scikit-learn) (3.1.0)\n"
          ]
        }
      ],
      "source": [
        "! pip install scikit-learn\n"
      ]
    },
    {
      "cell_type": "code",
      "execution_count": null,
      "metadata": {
        "id": "UjXUUwhcCSd0"
      },
      "outputs": [],
      "source": [
        "from sklearn.cluster import KMeans\n"
      ]
    },
    {
      "cell_type": "code",
      "execution_count": null,
      "metadata": {
        "id": "U_9DJqkjCgWL"
      },
      "outputs": [],
      "source": [
        "def perform_clustering(embeddings, num_clusters):\n",
        "    \"\"\"\n",
        "    Perform K-means++ clustering on a set of embeddings.\n",
        "\n",
        "    Parameters:\n",
        "    embeddings (numpy.array): A 2D array of embeddings.\n",
        "    num_clusters (int): The number of clusters to form.\n",
        "\n",
        "    Returns:\n",
        "    kmeans (KMeans): The fitted KMeans object.\n",
        "    \"\"\"\n",
        "    kmeans = KMeans(n_clusters=num_clusters, init='k-means++', random_state=42)\n",
        "    kmeans.fit(embeddings)\n",
        "\n",
        "    return kmeans"
      ]
    },
    {
      "cell_type": "markdown",
      "metadata": {
        "id": "fK5pE8e3OUVU"
      },
      "source": [
        "### GuardianVigil Fortification and Foundations"
      ]
    },
    {
      "cell_type": "markdown",
      "metadata": {
        "id": "Grt7znDbPeVk"
      },
      "source": [
        "### GaurdianVigil Imports\n"
      ]
    },
    {
      "cell_type": "code",
      "execution_count": null,
      "metadata": {
        "id": "6Bk147h3VJ1G",
        "colab": {
          "base_uri": "https://localhost:8080/"
        },
        "outputId": "875c055a-3098-430b-f5e2-290075ddbdfc"
      },
      "outputs": [
        {
          "output_type": "stream",
          "name": "stdout",
          "text": [
            "Collecting cached_property\n",
            "  Downloading cached_property-1.5.2-py2.py3-none-any.whl (7.6 kB)\n",
            "Installing collected packages: cached_property\n",
            "Successfully installed cached_property-1.5.2\n"
          ]
        }
      ],
      "source": [
        "!pip install cached_property"
      ]
    },
    {
      "cell_type": "markdown",
      "metadata": {
        "id": "tq_PKZ2MTyD2"
      },
      "source": [
        "Delete maybe the third gradio install"
      ]
    },
    {
      "cell_type": "code",
      "execution_count": null,
      "metadata": {
        "id": "p0TVu1AIPuuS",
        "colab": {
          "base_uri": "https://localhost:8080/"
        },
        "outputId": "99f39f2f-fe58-4dfa-9a78-895ccbd27c20"
      },
      "outputs": [
        {
          "output_type": "stream",
          "name": "stdout",
          "text": [
            "Requirement already satisfied: gradio in /usr/local/lib/python3.10/dist-packages (3.37.0)\n",
            "Requirement already satisfied: aiofiles<24.0,>=22.0 in /usr/local/lib/python3.10/dist-packages (from gradio) (23.1.0)\n",
            "Requirement already satisfied: aiohttp~=3.0 in /usr/local/lib/python3.10/dist-packages (from gradio) (3.8.4)\n",
            "Requirement already satisfied: altair<6.0,>=4.2.0 in /usr/local/lib/python3.10/dist-packages (from gradio) (4.2.2)\n",
            "Requirement already satisfied: fastapi in /usr/local/lib/python3.10/dist-packages (from gradio) (0.100.0)\n",
            "Requirement already satisfied: ffmpy in /usr/local/lib/python3.10/dist-packages (from gradio) (0.3.1)\n",
            "Requirement already satisfied: gradio-client>=0.2.10 in /usr/local/lib/python3.10/dist-packages (from gradio) (0.2.10)\n",
            "Requirement already satisfied: httpx in /usr/local/lib/python3.10/dist-packages (from gradio) (0.24.1)\n",
            "Requirement already satisfied: huggingface-hub>=0.14.0 in /usr/local/lib/python3.10/dist-packages (from gradio) (0.16.4)\n",
            "Requirement already satisfied: jinja2<4.0 in /usr/local/lib/python3.10/dist-packages (from gradio) (3.1.2)\n",
            "Requirement already satisfied: markdown-it-py[linkify]>=2.0.0 in /usr/local/lib/python3.10/dist-packages (from gradio) (2.2.0)\n",
            "Requirement already satisfied: markupsafe~=2.0 in /usr/local/lib/python3.10/dist-packages (from gradio) (2.1.3)\n",
            "Requirement already satisfied: matplotlib~=3.0 in /usr/local/lib/python3.10/dist-packages (from gradio) (3.7.1)\n",
            "Requirement already satisfied: mdit-py-plugins<=0.3.3 in /usr/local/lib/python3.10/dist-packages (from gradio) (0.3.3)\n",
            "Requirement already satisfied: numpy~=1.0 in /usr/local/lib/python3.10/dist-packages (from gradio) (1.23.5)\n",
            "Requirement already satisfied: orjson~=3.0 in /usr/local/lib/python3.10/dist-packages (from gradio) (3.9.2)\n",
            "Requirement already satisfied: packaging in /usr/local/lib/python3.10/dist-packages (from gradio) (23.1)\n",
            "Requirement already satisfied: pandas<3.0,>=1.0 in /usr/local/lib/python3.10/dist-packages (from gradio) (1.5.3)\n",
            "Requirement already satisfied: pillow<11.0,>=8.0 in /usr/local/lib/python3.10/dist-packages (from gradio) (8.4.0)\n",
            "Requirement already satisfied: pydantic!=1.8,!=1.8.1,!=2.0.0,!=2.0.1,<3.0.0,>=1.7.4 in /usr/local/lib/python3.10/dist-packages (from gradio) (1.10.11)\n",
            "Requirement already satisfied: pydub in /usr/local/lib/python3.10/dist-packages (from gradio) (0.25.1)\n",
            "Requirement already satisfied: python-multipart in /usr/local/lib/python3.10/dist-packages (from gradio) (0.0.6)\n",
            "Requirement already satisfied: pyyaml<7.0,>=5.0 in /usr/local/lib/python3.10/dist-packages (from gradio) (6.0)\n",
            "Requirement already satisfied: requests~=2.0 in /usr/local/lib/python3.10/dist-packages (from gradio) (2.27.1)\n",
            "Requirement already satisfied: semantic-version~=2.0 in /usr/local/lib/python3.10/dist-packages (from gradio) (2.10.0)\n",
            "Requirement already satisfied: typing-extensions~=4.0 in /usr/local/lib/python3.10/dist-packages (from gradio) (4.7.1)\n",
            "Requirement already satisfied: uvicorn>=0.14.0 in /usr/local/lib/python3.10/dist-packages (from gradio) (0.23.1)\n",
            "Requirement already satisfied: websockets<12.0,>=10.0 in /usr/local/lib/python3.10/dist-packages (from gradio) (11.0.3)\n",
            "Requirement already satisfied: attrs>=17.3.0 in /usr/local/lib/python3.10/dist-packages (from aiohttp~=3.0->gradio) (23.1.0)\n",
            "Requirement already satisfied: charset-normalizer<4.0,>=2.0 in /usr/local/lib/python3.10/dist-packages (from aiohttp~=3.0->gradio) (2.0.12)\n",
            "Requirement already satisfied: multidict<7.0,>=4.5 in /usr/local/lib/python3.10/dist-packages (from aiohttp~=3.0->gradio) (6.0.4)\n",
            "Requirement already satisfied: async-timeout<5.0,>=4.0.0a3 in /usr/local/lib/python3.10/dist-packages (from aiohttp~=3.0->gradio) (4.0.2)\n",
            "Requirement already satisfied: yarl<2.0,>=1.0 in /usr/local/lib/python3.10/dist-packages (from aiohttp~=3.0->gradio) (1.9.2)\n",
            "Requirement already satisfied: frozenlist>=1.1.1 in /usr/local/lib/python3.10/dist-packages (from aiohttp~=3.0->gradio) (1.4.0)\n",
            "Requirement already satisfied: aiosignal>=1.1.2 in /usr/local/lib/python3.10/dist-packages (from aiohttp~=3.0->gradio) (1.3.1)\n",
            "Requirement already satisfied: entrypoints in /usr/local/lib/python3.10/dist-packages (from altair<6.0,>=4.2.0->gradio) (0.4)\n",
            "Requirement already satisfied: jsonschema>=3.0 in /usr/local/lib/python3.10/dist-packages (from altair<6.0,>=4.2.0->gradio) (4.3.3)\n",
            "Requirement already satisfied: toolz in /usr/local/lib/python3.10/dist-packages (from altair<6.0,>=4.2.0->gradio) (0.12.0)\n",
            "Requirement already satisfied: fsspec in /usr/local/lib/python3.10/dist-packages (from gradio-client>=0.2.10->gradio) (2023.6.0)\n",
            "Requirement already satisfied: filelock in /usr/local/lib/python3.10/dist-packages (from huggingface-hub>=0.14.0->gradio) (3.12.2)\n",
            "Requirement already satisfied: tqdm>=4.42.1 in /usr/local/lib/python3.10/dist-packages (from huggingface-hub>=0.14.0->gradio) (4.65.0)\n",
            "Requirement already satisfied: mdurl~=0.1 in /usr/local/lib/python3.10/dist-packages (from markdown-it-py[linkify]>=2.0.0->gradio) (0.1.2)\n",
            "Requirement already satisfied: linkify-it-py<3,>=1 in /usr/local/lib/python3.10/dist-packages (from markdown-it-py[linkify]>=2.0.0->gradio) (2.0.2)\n",
            "Requirement already satisfied: contourpy>=1.0.1 in /usr/local/lib/python3.10/dist-packages (from matplotlib~=3.0->gradio) (1.1.0)\n",
            "Requirement already satisfied: cycler>=0.10 in /usr/local/lib/python3.10/dist-packages (from matplotlib~=3.0->gradio) (0.11.0)\n",
            "Requirement already satisfied: fonttools>=4.22.0 in /usr/local/lib/python3.10/dist-packages (from matplotlib~=3.0->gradio) (4.41.0)\n",
            "Requirement already satisfied: kiwisolver>=1.0.1 in /usr/local/lib/python3.10/dist-packages (from matplotlib~=3.0->gradio) (1.4.4)\n",
            "Requirement already satisfied: pyparsing>=2.3.1 in /usr/local/lib/python3.10/dist-packages (from matplotlib~=3.0->gradio) (3.1.0)\n",
            "Requirement already satisfied: python-dateutil>=2.7 in /usr/local/lib/python3.10/dist-packages (from matplotlib~=3.0->gradio) (2.8.2)\n",
            "Requirement already satisfied: pytz>=2020.1 in /usr/local/lib/python3.10/dist-packages (from pandas<3.0,>=1.0->gradio) (2022.7.1)\n",
            "Requirement already satisfied: urllib3<1.27,>=1.21.1 in /usr/local/lib/python3.10/dist-packages (from requests~=2.0->gradio) (1.26.16)\n",
            "Requirement already satisfied: certifi>=2017.4.17 in /usr/local/lib/python3.10/dist-packages (from requests~=2.0->gradio) (2023.5.7)\n",
            "Requirement already satisfied: idna<4,>=2.5 in /usr/local/lib/python3.10/dist-packages (from requests~=2.0->gradio) (3.4)\n",
            "Requirement already satisfied: click>=7.0 in /usr/local/lib/python3.10/dist-packages (from uvicorn>=0.14.0->gradio) (8.1.4)\n",
            "Requirement already satisfied: h11>=0.8 in /usr/local/lib/python3.10/dist-packages (from uvicorn>=0.14.0->gradio) (0.14.0)\n",
            "Requirement already satisfied: starlette<0.28.0,>=0.27.0 in /usr/local/lib/python3.10/dist-packages (from fastapi->gradio) (0.27.0)\n",
            "Requirement already satisfied: httpcore<0.18.0,>=0.15.0 in /usr/local/lib/python3.10/dist-packages (from httpx->gradio) (0.17.3)\n",
            "Requirement already satisfied: sniffio in /usr/local/lib/python3.10/dist-packages (from httpx->gradio) (1.3.0)\n",
            "Requirement already satisfied: anyio<5.0,>=3.0 in /usr/local/lib/python3.10/dist-packages (from httpcore<0.18.0,>=0.15.0->httpx->gradio) (3.7.1)\n",
            "Requirement already satisfied: pyrsistent!=0.17.0,!=0.17.1,!=0.17.2,>=0.14.0 in /usr/local/lib/python3.10/dist-packages (from jsonschema>=3.0->altair<6.0,>=4.2.0->gradio) (0.19.3)\n",
            "Requirement already satisfied: uc-micro-py in /usr/local/lib/python3.10/dist-packages (from linkify-it-py<3,>=1->markdown-it-py[linkify]>=2.0.0->gradio) (1.0.2)\n",
            "Requirement already satisfied: six>=1.5 in /usr/local/lib/python3.10/dist-packages (from python-dateutil>=2.7->matplotlib~=3.0->gradio) (1.16.0)\n",
            "Requirement already satisfied: exceptiongroup in /usr/local/lib/python3.10/dist-packages (from anyio<5.0,>=3.0->httpcore<0.18.0,>=0.15.0->httpx->gradio) (1.1.2)\n"
          ]
        }
      ],
      "source": [
        "!pip install gradio"
      ]
    },
    {
      "cell_type": "markdown",
      "metadata": {
        "id": "V3ijhiVaZy9B"
      },
      "source": [
        "Imports from GaurdianVigil Gradio app. Keep in order with the app. Review once in production"
      ]
    },
    {
      "cell_type": "code",
      "execution_count": null,
      "metadata": {
        "id": "e8kGFwLCPqUW",
        "colab": {
          "base_uri": "https://localhost:8080/",
          "height": 496
        },
        "outputId": "4570e5cc-b0ae-414a-8d8e-acfc63bec0ff"
      },
      "outputs": [
        {
          "output_type": "error",
          "ename": "ModuleNotFoundError",
          "evalue": "ignored",
          "traceback": [
            "\u001b[0;31m---------------------------------------------------------------------------\u001b[0m",
            "\u001b[0;31mModuleNotFoundError\u001b[0m                       Traceback (most recent call last)",
            "\u001b[0;32m<ipython-input-56-b4ddd83fbcc9>\u001b[0m in \u001b[0;36m<cell line: 16>\u001b[0;34m()\u001b[0m\n\u001b[1;32m     14\u001b[0m \u001b[0;32mfrom\u001b[0m \u001b[0mtransformers\u001b[0m\u001b[0;34m.\u001b[0m\u001b[0mpipelines\u001b[0m\u001b[0;34m.\u001b[0m\u001b[0maudio_utils\u001b[0m \u001b[0;32mimport\u001b[0m \u001b[0mffmpeg_read\u001b[0m  \u001b[0;31m# For reading audio with ffmpeg\u001b[0m\u001b[0;34m\u001b[0m\u001b[0;34m\u001b[0m\u001b[0m\n\u001b[1;32m     15\u001b[0m \u001b[0;34m\u001b[0m\u001b[0m\n\u001b[0;32m---> 16\u001b[0;31m \u001b[0;32mfrom\u001b[0m \u001b[0mwhisper_jax\u001b[0m \u001b[0;32mimport\u001b[0m \u001b[0mFlaxWhisperPipline\u001b[0m  \u001b[0;31m# The Whisper pipeline from your application\u001b[0m\u001b[0;34m\u001b[0m\u001b[0;34m\u001b[0m\u001b[0m\n\u001b[0m",
            "\u001b[0;32m/usr/local/lib/python3.10/dist-packages/whisper_jax/__init__.py\u001b[0m in \u001b[0;36m<module>\u001b[0;34m\u001b[0m\n\u001b[1;32m     17\u001b[0m \u001b[0;34m\u001b[0m\u001b[0m\n\u001b[1;32m     18\u001b[0m \u001b[0;32mfrom\u001b[0m \u001b[0;34m.\u001b[0m\u001b[0mmodeling_flax_whisper\u001b[0m \u001b[0;32mimport\u001b[0m \u001b[0mFlaxWhisperForConditionalGeneration\u001b[0m\u001b[0;34m\u001b[0m\u001b[0;34m\u001b[0m\u001b[0m\n\u001b[0;32m---> 19\u001b[0;31m \u001b[0;32mfrom\u001b[0m \u001b[0;34m.\u001b[0m\u001b[0mpartitioner\u001b[0m \u001b[0;32mimport\u001b[0m \u001b[0mPjitPartitioner\u001b[0m\u001b[0;34m\u001b[0m\u001b[0;34m\u001b[0m\u001b[0m\n\u001b[0m\u001b[1;32m     20\u001b[0m \u001b[0;32mfrom\u001b[0m \u001b[0;34m.\u001b[0m\u001b[0mpipeline\u001b[0m \u001b[0;32mimport\u001b[0m \u001b[0mFlaxWhisperPipline\u001b[0m\u001b[0;34m\u001b[0m\u001b[0;34m\u001b[0m\u001b[0m\n\u001b[1;32m     21\u001b[0m \u001b[0;32mfrom\u001b[0m \u001b[0;34m.\u001b[0m\u001b[0mtrain_state\u001b[0m \u001b[0;32mimport\u001b[0m \u001b[0mInferenceState\u001b[0m\u001b[0;34m\u001b[0m\u001b[0;34m\u001b[0m\u001b[0m\n",
            "\u001b[0;32m/usr/local/lib/python3.10/dist-packages/whisper_jax/partitioner.py\u001b[0m in \u001b[0;36m<module>\u001b[0;34m\u001b[0m\n\u001b[1;32m     22\u001b[0m \u001b[0;32mfrom\u001b[0m \u001b[0mtyping\u001b[0m \u001b[0;32mimport\u001b[0m \u001b[0mAny\u001b[0m\u001b[0;34m,\u001b[0m \u001b[0mCallable\u001b[0m\u001b[0;34m,\u001b[0m \u001b[0mOptional\u001b[0m\u001b[0;34m,\u001b[0m \u001b[0mSequence\u001b[0m\u001b[0;34m,\u001b[0m \u001b[0mTuple\u001b[0m\u001b[0;34m,\u001b[0m \u001b[0mUnion\u001b[0m\u001b[0;34m\u001b[0m\u001b[0;34m\u001b[0m\u001b[0m\n\u001b[1;32m     23\u001b[0m \u001b[0;34m\u001b[0m\u001b[0m\n\u001b[0;32m---> 24\u001b[0;31m \u001b[0;32mimport\u001b[0m \u001b[0mcached_property\u001b[0m\u001b[0;34m\u001b[0m\u001b[0;34m\u001b[0m\u001b[0m\n\u001b[0m\u001b[1;32m     25\u001b[0m \u001b[0;32mimport\u001b[0m \u001b[0mjax\u001b[0m\u001b[0;34m\u001b[0m\u001b[0;34m\u001b[0m\u001b[0m\n\u001b[1;32m     26\u001b[0m \u001b[0;32mimport\u001b[0m \u001b[0mnumpy\u001b[0m \u001b[0;32mas\u001b[0m \u001b[0mnp\u001b[0m\u001b[0;34m\u001b[0m\u001b[0;34m\u001b[0m\u001b[0m\n",
            "\u001b[0;31mModuleNotFoundError\u001b[0m: No module named 'cached_property'",
            "",
            "\u001b[0;31m---------------------------------------------------------------------------\u001b[0;32m\nNOTE: If your import is failing due to a missing package, you can\nmanually install dependencies using either !pip or !apt.\n\nTo view examples of installing some common dependencies, click the\n\"Open Examples\" button below.\n\u001b[0;31m---------------------------------------------------------------------------\u001b[0m\n"
          ],
          "errorDetails": {
            "actions": [
              {
                "action": "open_url",
                "actionText": "Open Examples",
                "url": "/notebooks/snippets/importing_libraries.ipynb"
              }
            ]
          }
        }
      ],
      "source": [
        "import logging  # For logging information and errors\n",
        "import os  # For interacting with the OS, e.g. for file and directory operations\n",
        "import tempfile  # For creating temporary files and directories\n",
        "import time  # For timing operations\n",
        "from multiprocessing import Pool  # For parallel processing\n",
        "\n",
        "import jax  # For using JAX (Just Another Compiler for X), which is a numerical computing library\n",
        "import gradio as gr  # For creating interactive UI for models\n",
        "import jax.numpy as jnp  # JAX's version of numpy\n",
        "import numpy as np  # For numerical operations\n",
        "import yt_dlp as youtube_dl  # For downloading videos from YouTube\n",
        "from jax.experimental.compilation_cache import compilation_cache as cc  # For JAX's compilation cache\n",
        "from transformers.models.whisper.tokenization_whisper import TO_LANGUAGE_CODE  # For language code constants\n",
        "from transformers.pipelines.audio_utils import ffmpeg_read  # For reading audio with ffmpeg\n",
        "\n",
        "from whisper_jax import FlaxWhisperPipline  # The Whisper pipeline from your application\n"
      ]
    },
    {
      "cell_type": "markdown",
      "metadata": {
        "id": "AKfk4DlgUvGK"
      },
      "source": [
        "### **GaurdianVigil Global** Configuration"
      ]
    },
    {
      "cell_type": "code",
      "execution_count": null,
      "metadata": {
        "id": "ucms-GztUtaY"
      },
      "outputs": [],
      "source": [
        "BATCH_SIZE = 32\n",
        "CHUNK_LENGTH_S = 30\n",
        "NUM_PROC = 32\n",
        "FILE_LIMIT_MB = 1000\n",
        "YT_LENGTH_LIMIT_S = 7200  # limit to 2 hour YouTube files\n",
        "\n",
        "title = \"mangoes.ai: Igniting Tranquil Mind - Uniting Unmatched Speed and Symptomatology ⚡️\"\n",
        "\n",
        "description = \"\"\"Mangoes.ai is thrilled to unveil its masterpiece, the GuardianVigil+Tranquil Mind.\n",
        "Not just about blistering speed, this groundbreaking speech-to-text technology dives deep into psychographic analysis of conversations, unravelling nuanced emotional\n",
        "and psychological layers.\n",
        "\"\"\"\n",
        "\n",
        "\n",
        "\n",
        "#article = \"Whisper large-v2 model by OpenAI. Backend running JAX on a TPU v4-8 through the generous support of the [TRC](https://sites.research.google/trc/about/) programme. Whisper JAX [code](https://github.com/sanchit-gandhi/whisper-jax) and Gradio demo by 🤗 Hugging Face.\"\n",
        "article = \"mangoes.ai's TranquilMind AI with GuardianVigil rusted ally, promoting vital symptom prevention, VoiceVelocity the fastest(ASR) system available, MINISense for punchy synopses\"\n",
        "language_names = sorted(TO_LANGUAGE_CODE.keys())\n",
        "\n",
        "logger = logging.getLogger(\"whisper-jax-app\")\n",
        "logger.setLevel(logging.INFO)\n",
        "ch = logging.StreamHandler()\n",
        "ch.setLevel(logging.INFO)\n",
        "formatter = logging.Formatter(\"%(asctime)s;%(levelname)s;%(message)s\", \"%Y-%m-%d %H:%M:%S\")\n",
        "ch.setFormatter(formatter)\n",
        "logger.addHandler(ch)"
      ]
    },
    {
      "cell_type": "markdown",
      "metadata": {
        "id": "72HYuBr1aAzW"
      },
      "source": [
        "### GaurdianVigil **Initialise** Dependecies Function"
      ]
    },
    {
      "cell_type": "markdown",
      "source": [
        "<Optional> if above Global Configuration is applied."
      ],
      "metadata": {
        "id": "EIDsFie9MM1K"
      }
    },
    {
      "cell_type": "code",
      "execution_count": null,
      "metadata": {
        "id": "nG7rqTPIO5T6"
      },
      "outputs": [],
      "source": [
        "def initialize_dependencies(feature_extractor_model: str):\n",
        "    \"\"\"\n",
        "    Initialize and return the necessary components for the speaker identification system.\n",
        "    :param feature_extractor_model: Name of the feature extractor model to be used.\n",
        "    \"\"\"\n",
        "    # Initialize the Whisper pipeline\n",
        "    try:\n",
        "        pipeline = FlaxWhisperPipline(checkpoint, dtype=jnp.bfloat16, batch_size=BATCH_SIZE)\n",
        "    except Exception as e:\n",
        "        logger.error(f\"Failed to initialize Whisper pipeline: {str(e)}\")\n",
        "        raise\n",
        "\n",
        "    # Define the stride length and chunk length\n",
        "    stride_length_s = CHUNK_LENGTH_S / 6\n",
        "    chunk_len = round(CHUNK_LENGTH_S * pipeline.feature_extractor.sampling_rate)\n",
        "    stride_left = stride_right = round(stride_length_s * pipeline.feature_extractor.sampling_rate)\n",
        "    step = chunk_len - stride_left - stride_right\n",
        "\n",
        "    # Create a pool of workers for parallel processing\n",
        "    try:\n",
        "        pool = Pool(NUM_PROC)\n",
        "    except Exception as e:\n",
        "        logger.error(f\"Failed to create multiprocessing pool: {str(e)}\")\n",
        "        raise\n",
        "\n",
        "    # Do a pre-compile step to speed up the first transcription\n",
        "    logger.info(\"compiling forward call...\")\n",
        "    start = time.time()\n",
        "    random_inputs = {\"input_features\": np.ones((BATCH_SIZE, 80, 3000))}\n",
        "    try:\n",
        "        random_timestamps = pipeline.forward(random_inputs, batch_size=BATCH_SIZE, return_timestamps=True)\n",
        "    except Exception as e:\n",
        "        logger.error(f\"Failed to pre-compile Whisper pipeline: {str(e)}\")\n",
        "        raise\n",
        "\n",
        "    compile_time = time.time() - start\n",
        "    logger.info(f\"compiled in {compile_time}s\")\n",
        "\n",
        "    # Initialize speaker embeddings\n",
        "    # For now, I'll assume you have a function `load_speaker_embeddings()` to load speaker embeddings.\n",
        "    try:\n",
        "        speaker_embeddings = load_speaker_embeddings()\n",
        "    except Exception as e:\n",
        "        logger.error(f\"Failed to load speaker embeddings: {str(e)}\")\n",
        "        raise\n",
        "\n",
        "    return pipeline, step, pool, speaker_embeddings\n"
      ]
    },
    {
      "cell_type": "markdown",
      "metadata": {
        "id": "H0MvDLhuaMLV"
      },
      "source": [
        "### GaurdianVigil **Initialise** Dependecies Function - Second Version"
      ]
    },
    {
      "cell_type": "code",
      "execution_count": null,
      "metadata": {
        "id": "M1CA8c-SOcvq"
      },
      "outputs": [],
      "source": [
        "def initialize_guardianvigil_dependencies(feature_extractor_model: str):\n",
        "    \"\"\"\n",
        "    Initialize and return the necessary components for the speaker diarization system.\n",
        "    :param feature_extractor_model: Name of the feature extractor model to be used.\n",
        "    \"\"\"\n",
        "    # Initialize the Whisper pipeline\n",
        "    try:\n",
        "        pipeline = FlaxWhisperPipline(checkpoint, dtype=jnp.bfloat16, batch_size=BATCH_SIZE)\n",
        "    except Exception as e:\n",
        "        logger.error(f\"Failed to initialize Whisper pipeline: {str(e)}\")\n",
        "        raise\n",
        "\n",
        "    # Define the stride length and chunk length\n",
        "    stride_length_s = CHUNK_LENGTH_S / 6\n",
        "    chunk_len = round(CHUNK_LENGTH_S * pipeline.feature_extractor.sampling_rate)\n",
        "    stride_left = stride_right = round(stride_length_s * pipeline.feature_extractor.sampling_rate)\n",
        "    step = chunk_len - stride_left - stride_right\n",
        "\n",
        "    # Create a pool of workers for parallel processing\n",
        "    try:\n",
        "        pool = Pool(NUM_PROC)\n",
        "    except Exception as e:\n",
        "        logger.error(f\"Failed to create multiprocessing pool: {str(e)}\")\n",
        "        raise\n",
        "\n",
        "    # Do a pre-compile step to speed up the first transcription\n",
        "    logger.info(\"compiling forward call...\")\n",
        "    start = time.time()\n",
        "    random_inputs = {\"input_features\": np.ones((BATCH_SIZE, 80, 3000))}\n",
        "    try:\n",
        "        random_timestamps = pipeline.forward(random_inputs, batch_size=BATCH_SIZE, return_timestamps=True)\n",
        "    except Exception as e:\n",
        "        logger.error(f\"Failed to pre-compile Whisper pipeline: {str(e)}\")\n",
        "        raise\n",
        "\n",
        "    compile_time = time.time() - start\n",
        "    logger.info(f\"compiled in {compile_time}s\")\n",
        "\n",
        "    # Initialize speaker embeddings\n",
        "    # For now, I'll assume you have a function `load_speaker_embeddings()` to load speaker embeddings.\n",
        "    try:\n",
        "        speaker_embeddings = load_speaker_embeddings()\n",
        "    except Exception as e:\n",
        "        logger.error(f\"Failed to load speaker embeddings: {str(e)}\")\n",
        "        raise\n",
        "\n",
        "    return pipeline, step, pool, speaker_embeddings\n"
      ]
    },
    {
      "cell_type": "markdown",
      "metadata": {
        "id": "ad8RvXTvzizw"
      },
      "source": [
        "### ***SAML --> GaurdianVigil R&D, Test    "
      ]
    },
    {
      "cell_type": "code",
      "execution_count": null,
      "metadata": {
        "id": "BOrh0soQ3Q7J"
      },
      "outputs": [],
      "source": []
    },
    {
      "cell_type": "markdown",
      "metadata": {
        "id": "IO-kVnrP3dp9"
      },
      "source": [
        "### GaurdianVigil BackUp Imports\n",
        "\n"
      ]
    },
    {
      "cell_type": "code",
      "execution_count": null,
      "metadata": {
        "id": "QSFh-f3C3tVQ",
        "colab": {
          "base_uri": "https://localhost:8080/"
        },
        "outputId": "dfb88aeb-797d-4d81-b5a7-588141b8a0d1"
      },
      "outputs": [
        {
          "output_type": "stream",
          "name": "stdout",
          "text": [
            "Requirement already satisfied: cached_property in /usr/local/lib/python3.10/dist-packages (1.5.2)\n"
          ]
        }
      ],
      "source": [
        "! pip install cached_property"
      ]
    },
    {
      "cell_type": "code",
      "execution_count": null,
      "metadata": {
        "id": "YwOwien93nYn"
      },
      "outputs": [],
      "source": [
        "import logging  # For logging information and errors\n",
        "import os  # For interacting with the OS, e.g. for file and directory operations\n",
        "import tempfile  # For creating temporary files and directories\n",
        "import time  # For timing operations\n",
        "from multiprocessing import Pool  # For parallel processing\n",
        "\n",
        "import jax  # For using JAX (Just Another Compiler for X), which is a numerical computing library\n",
        "import gradio as gr  # For creating interactive UI for models\n",
        "import jax.numpy as jnp  # JAX's version of numpy\n",
        "import numpy as np  # For numerical operations\n",
        "import yt_dlp as youtube_dl  # For downloading videos from YouTube\n",
        "from jax.experimental.compilation_cache import compilation_cache as cc  # For JAX's compilation cache\n",
        "from transformers.models.whisper.tokenization_whisper import TO_LANGUAGE_CODE  # For language code constants\n",
        "from transformers.pipelines.audio_utils import ffmpeg_read  # For reading audio with ffmpeg\n",
        "\n",
        "from whisper_jax import FlaxWhisperPipline  # The Whisper pipeline from your application\n"
      ]
    },
    {
      "cell_type": "code",
      "execution_count": null,
      "metadata": {
        "id": "Dx5nNhORzrPF"
      },
      "outputs": [],
      "source": [
        "import gradio as gr"
      ]
    },
    {
      "cell_type": "markdown",
      "metadata": {
        "id": "DtltnOS9W6nY"
      },
      "source": [
        "### ***GaurdianVigil  SAML tqdm_generate Last edit 071423 at 420 Oriana***"
      ]
    },
    {
      "cell_type": "code",
      "execution_count": null,
      "metadata": {
        "id": "CF0ZL-FpXBml"
      },
      "outputs": [],
      "source": [
        "def oriana_tqdm_generate(inputs: dict, task: str, return_timestamps: bool, progress: gr.Progress):\n",
        "    \"\"\"\n",
        "    Process audio inputs, perform transcription, speaker diarization, and text summarization.\n",
        "    :param inputs: Audio inputs in a dictionary.\n",
        "    :param task: The task to perform.\n",
        "    :param return_timestamps: Whether to return timestamps or not.\n",
        "    :param progress: Gradio progress instance.\n",
        "    :return: Full text, summarized text, speaker labels, and runtime.\n",
        "    \"\"\"\n",
        "    # Validate inputs\n",
        "    assert isinstance(inputs, dict), \"Inputs must be a dictionary.\"\n",
        "    assert \"array\" in inputs, \"Inputs must contain 'array' key.\"\n",
        "\n",
        "    inputs_len = inputs[\"array\"].shape[0]\n",
        "    all_chunk_start_idx = np.arange(0, inputs_len, step)\n",
        "    num_samples = len(all_chunk_start_idx)\n",
        "    num_batches = math.ceil(num_samples / BATCH_SIZE)\n",
        "    dummy_batches = list(range(num_batches))\n",
        "\n",
        "    try:\n",
        "        dataloader = pipeline.preprocess_batch(inputs, chunk_length_s=CHUNK_LENGTH_S, batch_size=BATCH_SIZE)\n",
        "        progress(0, desc=\"Pre-processing audio file...\")\n",
        "        logger.info(\"Pre-processing audio file...\")\n",
        "        dataloader = pool.map(identity, dataloader)\n",
        "        logger.info(\"Done post-processing.\")\n",
        "    except Exception as e:\n",
        "        logger.error(f\"Failed to preprocess audio: {str(e)}\")\n",
        "        raise\n",
        "\n",
        "    model_outputs = []\n",
        "    speaker_labels = []  # To store the speaker labels for each chunk\n",
        "    start_time = time.time()\n",
        "    logger.info(\"Transcribing and assigning speakers...\")\n",
        "\n",
        "    # New - HarmonyFrequency processing code\n",
        "    # Initialize placeholder for HarmonyFrequency results\n",
        "    harmony_frequency_results = []\n",
        "\n",
        "    try:\n",
        "        for batch, _ in zip(dataloader, progress.tqdm(dummy_batches, desc=\"Transcribing and assigning speakers...\")):\n",
        "            model_outputs.append(pipeline.forward(batch, batch_size=BATCH_SIZE, task=task, return_timestamps=True))\n",
        "\n",
        "            # Convert audio to embeddings and assign speakers for each chunk in the batch\n",
        "            for audio_chunk in batch:\n",
        "                emb = audio_to_embedding(audio_chunk, feature_extractor, model, device)\n",
        "                speaker_id = assign_speaker(emb, speaker_embeddings)\n",
        "                speaker_labels.append(speaker_id)\n",
        "\n",
        "                # New - HarmonyFrequency processing code\n",
        "                # Process the audio_chunk using HarmonyFrequency\n",
        "                # harmony_frequency_results.append(process_with_harmonyfrequency(audio_chunk))\n",
        "\n",
        "    except Exception as e:\n",
        "        logger.error(f\"Failed to transcribe and assign speakers: {str(e)}\")\n",
        "        raise\n",
        "\n",
        "    runtime = time.time() - start_time\n",
        "    logger.info(\"Done transcription and speaker assignment.\")\n",
        "\n",
        "    try:\n",
        "        logger.info(\"Post-processing...\")\n",
        "        post_processed = pipeline.postprocess(model_outputs, return_timestamps=True)\n",
        "        full_text = post_processed[\"text\"]\n",
        "        logger.info(\"Full text to be summarized (first 100 characters): %s\", full_text[:100])\n",
        "\n",
        "        logger.info(\"Calling text to be summarized...\")\n",
        "        summarized_text = summarize_text(full_text)\n",
        "\n",
        "        if return_timestamps:\n",
        "            timestamps = post_processed.get(\"chunks\")\n",
        "            timestamps = [\n",
        "                f\"[{format_timestamp(chunk['timestamp'][0])} -> {format_timestamp(chunk['timestamp'][1])}] {chunk['text']}\"\n",
        "                for chunk in timestamps\n",
        "            ]\n",
        "            full_text = \"\\n\".join(str(feature) for feature in timestamps)  # overwrite full_text with timestamped version\n",
        "\n",
        "        logger.info(\"Done post-processing.\")\n",
        "    except Exception as e:\n",
        "        logger.error(f\"Failed to postprocess: {str(e)}\")\n",
        "        raise\n",
        "\n",
        "    # New - HarmonyFrequency processing code\n",
        "    # Add HarmonyFrequency results to the output\n",
        "    # Note that you will need to define how you want to handle these results\n",
        "    # harmony_frequency_results = process_harmony_frequency_results(harmony_frequency_results)\n",
        "\n",
        "    return full_text, summarized_text, speaker_labels, runtime, harmony_frequency_results\n"
      ]
    },
    {
      "cell_type": "markdown",
      "metadata": {
        "id": "Shw6SVckwN9C"
      },
      "source": [
        "Back up do not use"
      ]
    },
    {
      "cell_type": "markdown",
      "metadata": {
        "id": "y-BB69q8XCxm"
      },
      "source": [
        "### GaurdianVigil tqdm_generate back up"
      ]
    },
    {
      "cell_type": "code",
      "execution_count": null,
      "metadata": {
        "id": "wkB4wKLKz6mq"
      },
      "outputs": [],
      "source": [
        "# def tqdm_generate(inputs: dict, task: str, return_timestamps: bool, progress: gr.Progress):\n",
        "#     inputs_len = inputs[\"array\"].shape[0]\n",
        "#     all_chunk_start_idx = np.arange(0, inputs_len, step)\n",
        "#     num_samples = len(all_chunk_start_idx)\n",
        "#     num_batches = math.ceil(num_samples / BATCH_SIZE)\n",
        "#     dummy_batches = list(\n",
        "#         range(num_batches)\n",
        "#     )  # Gradio progress bar not compatible with generator, see https://github.com/gradio-app/gradio/issues/3841\n",
        "\n",
        "#     dataloader = pipeline.preprocess_batch(inputs, chunk_length_s=CHUNK_LENGTH_S, batch_size=BATCH_SIZE)\n",
        "#     progress(0, desc=\"Pre-processing audio file...\")\n",
        "#     logger.info(\"pre-processing audio file...\")\n",
        "#     dataloader = pool.map(identity, dataloader)\n",
        "#     logger.info(\"done post-processing\")\n",
        "\n",
        "#     model_outputs = []\n",
        "#     speaker_labels = []  # To store the speaker labels for each chunk\n",
        "#     start_time = time.time()\n",
        "#     logger.info(\"transcribing and assigning speakers...\")\n",
        "\n",
        "#     # Iterate over our chunked audio samples - always predict timestamps to reduce hallucinations\n",
        "#     for batch, _ in zip(dataloader, progress.tqdm(dummy_batches, desc=\"Transcribing and assigning speakers...\")):\n",
        "#         model_outputs.append(pipeline.forward(batch, batch_size=BATCH_SIZE, task=task, return_timestamps=True))\n",
        "\n",
        "#         # Convert audio to embeddings and assign speakers for each chunk in the batch\n",
        "#         for audio_chunk in batch:\n",
        "#             emb = audio_to_embedding(audio_chunk, feature_extractor, model, device)\n",
        "#             speaker_id = assign_speaker(emb, speaker_embeddings)\n",
        "#             speaker_labels.append(speaker_id)\n",
        "\n",
        "#     runtime = time.time() - start_time\n",
        "#     logger.info(\"done transcription and speaker assignment\")\n",
        "\n",
        "#     # Your existing code goes here until this point\n",
        "#     logger.info(\"post-processing...\")\n",
        "#     post_processed = pipeline.postprocess(model_outputs, return_timestamps=True)\n",
        "#     full_text = post_processed[\"text\"]\n",
        "#     logger.info(\"full_text to be summarized (first 100 characters): %s\", full_text[:100])\n",
        "\n",
        "#     logger.info(\"Calling text to be summarized...\")\n",
        "\n",
        "#     # Summarize the text first, before introducing timestamps\n",
        "#     summarized_text = summarize_text(full_text)\n",
        "\n",
        "#     if return_timestamps:\n",
        "#         timestamps = post_processed.get(\"chunks\")\n",
        "#         timestamps = [\n",
        "#             f\"[{format_timestamp(chunk['timestamp'][0])} -> {format_timestamp(chunk['timestamp'][1])}] {chunk['text']}\"\n",
        "#             for chunk in timestamps\n",
        "#         ]\n",
        "#         full_text = \"\\n\".join(str(feature) for feature in timestamps)  # overwrite full_text with timestamped version\n",
        "\n",
        "#     logger.info(\"done post-processing\")\n",
        "#     return full_text, summarized_text, speaker_labels, runtime"
      ]
    },
    {
      "cell_type": "markdown",
      "metadata": {
        "id": "HJSKp7hFw0JO"
      },
      "source": [
        "### GaurdianVigil transcribe_chunked_audio\n",
        "The transcribe_chunked_audio function that you've provided above handles the preliminary tasks of preparing the audio file for transcription and processing by the HarmonyFrequency system.\n",
        "\n",
        "It carries out tasks such as:\n",
        "\n",
        "Checking if the input file is present and not exceeding a certain size.\n",
        "Reading the file into memory.\n",
        "Reading the file with ffmpeg_read into a NumPy array, sampled at a rate suitable for the pipeline's feature extractor.\n",
        "Packaging the NumPy array and the sampling rate into a dictionary to be passed on to the next step.\n",
        "Calling the tqdm_generate function to process the audio inputs, perform transcription, speaker diarization, and text summarization.\n",
        "Assuming your HarmonyFrequency system can handle the same kind of input (a dictionary with a NumPy array of audio data and a sampling rate), you should be able to use this function as is. You can use this function to perform the preliminary processing of the audio data before it's passed to HarmonyFrequency for further processing.\n",
        "\n",
        "However, if HarmonyFrequency requires a different format or preprocessing step, you might need to modify this function or create a similar one that suits your needs."
      ]
    },
    {
      "cell_type": "code",
      "execution_count": null,
      "metadata": {
        "id": "1lE-F1AiyMFd"
      },
      "outputs": [],
      "source": [
        "def transcribe_chunked_audio(inputs, task, return_timestamps, minisense, progress=gr.Progress(), state=gr.State()):\n",
        "        progress(0, desc=\"Loading audio file...\")\n",
        "        logger.info(\"loading audio file...\")\n",
        "\n",
        "        if inputs is None:\n",
        "            logger.warning(\"No audio file\")\n",
        "            raise gr.Error(\"No audio file submitted! Please upload an audio file before submitting your request.\")\n",
        "\n",
        "        file_size_mb = os.stat(inputs).st_size / (1024 * 1024)\n",
        "        if file_size_mb > FILE_LIMIT_MB:\n",
        "            logger.warning(\"Max file size exceeded\")\n",
        "            raise gr.Error(\n",
        "                f\"File size exceeds file size limit. Got file of size {file_size_mb:.2f}MB for a limit of {FILE_LIMIT_MB}MB.\"\n",
        "            )\n",
        "\n",
        "        with open(inputs, \"rb\") as f:\n",
        "            inputs = f.read()\n",
        "\n",
        "        inputs = ffmpeg_read(inputs, pipeline.feature_extractor.sampling_rate)\n",
        "        inputs = {\"array\": inputs, \"sampling_rate\": pipeline.feature_extractor.sampling_rate}\n",
        "        logger.info(\"done loading\")\n",
        "\n",
        "        # Generate transcription and summarization, ensure that tqdm_generate is designed to return the necessary outputs\n",
        "        full_text, summarized_text, runtime = tqdm_generate(inputs, task=task, return_timestamps=return_timestamps, progress=progress)\n",
        "\n",
        "\n",
        "        # If the checkbox for minisense is checked, we run the minisense_indexing function\n",
        "        if minisense:\n",
        "            minisense_result = minisense_indexing(summarized_text)\n",
        "            minisense_df = pd.DataFrame(list(minisense_result.items()), columns=['Category', 'Details'])\n",
        "\n",
        "            guardianvigil_result = guardianvigil(minisense_result)\n",
        "\n",
        "            ### Added by al on 071223 to convert dictionary to data frame\n",
        "            # Convert the output dictionary to a DataFrame\n",
        "            ######guardianvigil_df = pd.DataFrame(guardianvigil_result).T.reset_index()\n",
        "            #guardianvigil_df.columns = [\"Symptom\", \"Severity\", \"Urgency\", \"MaxRating\"]\n",
        "            #guardianvigil_df = pd.DataFrame(list(guardianvigil_result.items()), columns= [\"Symptom\", \"Severity\", \"MaxRating\"])\n",
        "\n",
        "            #guardianvigil_result = gr.State(value=guardianvigil_result)\n",
        "            guardianvigil_img = plot_symptoms_img(guardianvigil_result)\n",
        "            #state['minisense_result'] = minisense_result  # Save the minisense result to the state, al throwing error commented out for now\n",
        "            return full_text, summarized_text, runtime, minisense_df,guardianvigil_result, guardianvigil_img\n",
        "        else:\n",
        "            return full_text, summarized_text, runtime, \"MINISense not requested\", \"GuardianVigil not requested\", \"GuardianVigil IMG not requested\""
      ]
    },
    {
      "cell_type": "markdown",
      "metadata": {
        "id": "IkGGK8idM3KK"
      },
      "source": [
        "\n",
        "### HarmonyFrequency Load from Hugging Face Dataset\n"
      ]
    },
    {
      "cell_type": "markdown",
      "metadata": {
        "id": "6nl_jdPdRoWf"
      },
      "source": [
        "### Import HuggingFace Hub"
      ]
    },
    {
      "cell_type": "code",
      "execution_count": null,
      "metadata": {
        "id": "e2GqSo4WRmNu",
        "colab": {
          "base_uri": "https://localhost:8080/"
        },
        "outputId": "e34239d3-4aef-4ca6-9674-9421a91240e5"
      },
      "outputs": [
        {
          "output_type": "stream",
          "name": "stdout",
          "text": [
            "Requirement already satisfied: huggingface_hub in /usr/local/lib/python3.10/dist-packages (0.16.4)\n",
            "Requirement already satisfied: filelock in /usr/local/lib/python3.10/dist-packages (from huggingface_hub) (3.12.2)\n",
            "Requirement already satisfied: fsspec in /usr/local/lib/python3.10/dist-packages (from huggingface_hub) (2023.6.0)\n",
            "Requirement already satisfied: requests in /usr/local/lib/python3.10/dist-packages (from huggingface_hub) (2.27.1)\n",
            "Requirement already satisfied: tqdm>=4.42.1 in /usr/local/lib/python3.10/dist-packages (from huggingface_hub) (4.65.0)\n",
            "Requirement already satisfied: pyyaml>=5.1 in /usr/local/lib/python3.10/dist-packages (from huggingface_hub) (6.0)\n",
            "Requirement already satisfied: typing-extensions>=3.7.4.3 in /usr/local/lib/python3.10/dist-packages (from huggingface_hub) (4.7.1)\n",
            "Requirement already satisfied: packaging>=20.9 in /usr/local/lib/python3.10/dist-packages (from huggingface_hub) (23.1)\n",
            "Requirement already satisfied: urllib3<1.27,>=1.21.1 in /usr/local/lib/python3.10/dist-packages (from requests->huggingface_hub) (1.26.16)\n",
            "Requirement already satisfied: certifi>=2017.4.17 in /usr/local/lib/python3.10/dist-packages (from requests->huggingface_hub) (2023.5.7)\n",
            "Requirement already satisfied: charset-normalizer~=2.0.0 in /usr/local/lib/python3.10/dist-packages (from requests->huggingface_hub) (2.0.12)\n",
            "Requirement already satisfied: idna<4,>=2.5 in /usr/local/lib/python3.10/dist-packages (from requests->huggingface_hub) (3.4)\n",
            "Collecting datasets\n",
            "  Downloading datasets-2.13.1-py3-none-any.whl (486 kB)\n",
            "\u001b[2K     \u001b[90m━━━━━━━━━━━━━━━━━━━━━━━━━━━━━━━━━━━━━━━\u001b[0m \u001b[32m486.2/486.2 kB\u001b[0m \u001b[31m8.7 MB/s\u001b[0m eta \u001b[36m0:00:00\u001b[0m\n",
            "\u001b[?25hRequirement already satisfied: numpy>=1.17 in /usr/local/lib/python3.10/dist-packages (from datasets) (1.22.4)\n",
            "Requirement already satisfied: pyarrow>=8.0.0 in /usr/local/lib/python3.10/dist-packages (from datasets) (9.0.0)\n",
            "Collecting dill<0.3.7,>=0.3.0 (from datasets)\n",
            "  Downloading dill-0.3.6-py3-none-any.whl (110 kB)\n",
            "\u001b[2K     \u001b[90m━━━━━━━━━━━━━━━━━━━━━━━━━━━━━━━━━━━━━━\u001b[0m \u001b[32m110.5/110.5 kB\u001b[0m \u001b[31m13.7 MB/s\u001b[0m eta \u001b[36m0:00:00\u001b[0m\n",
            "\u001b[?25hRequirement already satisfied: pandas in /usr/local/lib/python3.10/dist-packages (from datasets) (1.5.3)\n",
            "Requirement already satisfied: requests>=2.19.0 in /usr/local/lib/python3.10/dist-packages (from datasets) (2.27.1)\n",
            "Requirement already satisfied: tqdm>=4.62.1 in /usr/local/lib/python3.10/dist-packages (from datasets) (4.65.0)\n",
            "Collecting xxhash (from datasets)\n",
            "  Downloading xxhash-3.2.0-cp310-cp310-manylinux_2_17_x86_64.manylinux2014_x86_64.whl (212 kB)\n",
            "\u001b[2K     \u001b[90m━━━━━━━━━━━━━━━━━━━━━━━━━━━━━━━━━━━━━━\u001b[0m \u001b[32m212.5/212.5 kB\u001b[0m \u001b[31m24.9 MB/s\u001b[0m eta \u001b[36m0:00:00\u001b[0m\n",
            "\u001b[?25hCollecting multiprocess (from datasets)\n",
            "  Downloading multiprocess-0.70.14-py310-none-any.whl (134 kB)\n",
            "\u001b[2K     \u001b[90m━━━━━━━━━━━━━━━━━━━━━━━━━━━━━━━━━━━━━━\u001b[0m \u001b[32m134.3/134.3 kB\u001b[0m \u001b[31m17.1 MB/s\u001b[0m eta \u001b[36m0:00:00\u001b[0m\n",
            "\u001b[?25hRequirement already satisfied: fsspec[http]>=2021.11.1 in /usr/local/lib/python3.10/dist-packages (from datasets) (2023.6.0)\n",
            "Requirement already satisfied: aiohttp in /usr/local/lib/python3.10/dist-packages (from datasets) (3.8.4)\n",
            "Requirement already satisfied: huggingface-hub<1.0.0,>=0.11.0 in /usr/local/lib/python3.10/dist-packages (from datasets) (0.16.4)\n",
            "Requirement already satisfied: packaging in /usr/local/lib/python3.10/dist-packages (from datasets) (23.1)\n",
            "Requirement already satisfied: pyyaml>=5.1 in /usr/local/lib/python3.10/dist-packages (from datasets) (6.0)\n",
            "Requirement already satisfied: attrs>=17.3.0 in /usr/local/lib/python3.10/dist-packages (from aiohttp->datasets) (23.1.0)\n",
            "Requirement already satisfied: charset-normalizer<4.0,>=2.0 in /usr/local/lib/python3.10/dist-packages (from aiohttp->datasets) (2.0.12)\n",
            "Requirement already satisfied: multidict<7.0,>=4.5 in /usr/local/lib/python3.10/dist-packages (from aiohttp->datasets) (6.0.4)\n",
            "Requirement already satisfied: async-timeout<5.0,>=4.0.0a3 in /usr/local/lib/python3.10/dist-packages (from aiohttp->datasets) (4.0.2)\n",
            "Requirement already satisfied: yarl<2.0,>=1.0 in /usr/local/lib/python3.10/dist-packages (from aiohttp->datasets) (1.9.2)\n",
            "Requirement already satisfied: frozenlist>=1.1.1 in /usr/local/lib/python3.10/dist-packages (from aiohttp->datasets) (1.4.0)\n",
            "Requirement already satisfied: aiosignal>=1.1.2 in /usr/local/lib/python3.10/dist-packages (from aiohttp->datasets) (1.3.1)\n",
            "Requirement already satisfied: filelock in /usr/local/lib/python3.10/dist-packages (from huggingface-hub<1.0.0,>=0.11.0->datasets) (3.12.2)\n",
            "Requirement already satisfied: typing-extensions>=3.7.4.3 in /usr/local/lib/python3.10/dist-packages (from huggingface-hub<1.0.0,>=0.11.0->datasets) (4.7.1)\n",
            "Requirement already satisfied: urllib3<1.27,>=1.21.1 in /usr/local/lib/python3.10/dist-packages (from requests>=2.19.0->datasets) (1.26.16)\n",
            "Requirement already satisfied: certifi>=2017.4.17 in /usr/local/lib/python3.10/dist-packages (from requests>=2.19.0->datasets) (2023.5.7)\n",
            "Requirement already satisfied: idna<4,>=2.5 in /usr/local/lib/python3.10/dist-packages (from requests>=2.19.0->datasets) (3.4)\n",
            "Requirement already satisfied: python-dateutil>=2.8.1 in /usr/local/lib/python3.10/dist-packages (from pandas->datasets) (2.8.2)\n",
            "Requirement already satisfied: pytz>=2020.1 in /usr/local/lib/python3.10/dist-packages (from pandas->datasets) (2022.7.1)\n",
            "Requirement already satisfied: six>=1.5 in /usr/local/lib/python3.10/dist-packages (from python-dateutil>=2.8.1->pandas->datasets) (1.16.0)\n",
            "Installing collected packages: xxhash, dill, multiprocess, datasets\n",
            "Successfully installed datasets-2.13.1 dill-0.3.6 multiprocess-0.70.14 xxhash-3.2.0\n"
          ]
        }
      ],
      "source": [
        "!pip install huggingface_hub\n",
        "!pip install datasets"
      ]
    },
    {
      "cell_type": "markdown",
      "metadata": {
        "id": "NphMj1uZRzV0"
      },
      "source": [
        "### Login to HuggingFace CLI"
      ]
    },
    {
      "cell_type": "code",
      "execution_count": null,
      "metadata": {
        "id": "5yafy3OHRy5o",
        "colab": {
          "base_uri": "https://localhost:8080/"
        },
        "outputId": "f28e5502-b61a-41e6-bdb3-d4c5a853188a"
      },
      "outputs": [
        {
          "output_type": "stream",
          "name": "stdout",
          "text": [
            "\n",
            "    _|    _|  _|    _|    _|_|_|    _|_|_|  _|_|_|  _|      _|    _|_|_|      _|_|_|_|    _|_|      _|_|_|  _|_|_|_|\n",
            "    _|    _|  _|    _|  _|        _|          _|    _|_|    _|  _|            _|        _|    _|  _|        _|\n",
            "    _|_|_|_|  _|    _|  _|  _|_|  _|  _|_|    _|    _|  _|  _|  _|  _|_|      _|_|_|    _|_|_|_|  _|        _|_|_|\n",
            "    _|    _|  _|    _|  _|    _|  _|    _|    _|    _|    _|_|  _|    _|      _|        _|    _|  _|        _|\n",
            "    _|    _|    _|_|      _|_|_|    _|_|_|  _|_|_|  _|      _|    _|_|_|      _|        _|    _|    _|_|_|  _|_|_|_|\n",
            "    \n",
            "    To login, `huggingface_hub` requires a token generated from https://huggingface.co/settings/tokens .\n",
            "Token: \n",
            "Add token as git credential? (Y/n) n\n",
            "Token is valid (permission: write).\n",
            "Your token has been saved to /root/.cache/huggingface/token\n",
            "Login successful\n"
          ]
        }
      ],
      "source": [
        "!huggingface-cli login"
      ]
    },
    {
      "cell_type": "markdown",
      "metadata": {
        "id": "Ya4enxASgbfq"
      },
      "source": [
        "### HarmonyVoice HuggingFace Import Datasets, AcessToken"
      ]
    },
    {
      "cell_type": "code",
      "source": [],
      "metadata": {
        "id": "of0RR-MouE2b"
      },
      "execution_count": null,
      "outputs": []
    },
    {
      "cell_type": "code",
      "execution_count": null,
      "metadata": {
        "id": "d2JWVaJyRyq1"
      },
      "outputs": [],
      "source": [
        "from datasets import load_dataset, DatasetDict, Dataset"
      ]
    },
    {
      "cell_type": "code",
      "execution_count": null,
      "metadata": {
        "id": "4cUhtxGtQCdT"
      },
      "outputs": [],
      "source": [
        "hf_username='on1onmangoes'"
      ]
    },
    {
      "cell_type": "markdown",
      "metadata": {
        "id": "WYfhLSvQei2m"
      },
      "source": [
        "### HarmonyFrequency Load First11 Embeddings"
      ]
    },
    {
      "cell_type": "markdown",
      "metadata": {
        "id": "pc1mrpZQg8gC"
      },
      "source": [
        "Test HuggingFace Embeddings for First11HarmonyVoiceEmbeddings"
      ]
    },
    {
      "cell_type": "code",
      "execution_count": null,
      "metadata": {
        "id": "N4WJxylMQDp8",
        "colab": {
          "base_uri": "https://localhost:8080/",
          "height": 219,
          "referenced_widgets": [
            "e748c947327c448f814dab3f89f5c294",
            "c5e1b66dab17411fae53d30f8ad2fcd1",
            "67ae8fe802bb427bb9da3baae06b9f2b",
            "3b51386f693546fe8ac5f5f2bb3613c4",
            "34fbe693d37c4b4585dc62efe5b3cde6",
            "41f64c9a449043948a364c26474d4d21",
            "e2a3574e80204e248b0da1d3c770c4da",
            "0eed8f53dab5470390742fa491541455",
            "4e84c33ff46e4e2ca5079a494db3a0e6",
            "02e9d246d7d64cb193594b5e20c9aa23",
            "1e2802b0f6af44d3b89be668c07105ef",
            "8dfce7b448c6436887ef1df5b68f1098",
            "24312912350e447a900338da8efaf92d",
            "7806c764d48445fcb58401704d1c7ad3",
            "9e6bee87f30a44cbb64046712cbd880f",
            "f81e06699cfc4da68b0b50f3e5159178",
            "79915de4020647af927222f8eb62ad67",
            "f33df014adc945478db16b575818ea4b",
            "722c79fa27a54a50b236ac46806379b0",
            "1cf7b79781bb4378854e1bcaed622b5b",
            "02367e5b5e684e7a97597ee72c762d15",
            "27a673fd862f4984bf4a7102799ab048",
            "1f01ade35f0e48d8a05518eea64a2acc",
            "dd500226bb3543c7982b301f710c55fe",
            "b498daaed0474a2cbeb144eb829a65f7",
            "a1c35eaecf574c239f758953ffc7d6db",
            "10ed2a2a10bd4169b5715782be23997b",
            "ba72d425aad743d094ec9cc46efc99bd",
            "874976d16be2415bbeffc683b69006fb",
            "14831f6496c04d38b9f1732740288eb3",
            "baaad75c92544a499b9c148e9cd62931",
            "0b38750f938445ba820984d2ec08b7fc",
            "3a022e24e38641b3a34e3d4deb2795d9",
            "9b3bceab7e444e258f759900f039b7bb",
            "4e4daeae38e04b43b1ac387b2b0a9f67",
            "7ace86e249b547afa17fba74ab1c4098",
            "bd819c87f2df43c892e764f94b7bcb67",
            "7512fc57ce5942b3b5f2b2ff7acb7df1",
            "816671682f624b53a879b6ce31e80e95",
            "d03074f52b1a44efabeceeb27653d6e7",
            "5c3a28fa32194b348076699a807b03ba",
            "1173f2b5005d4758a6444a2e01257506",
            "956911693ae94f7c9cabaeb3b94d0804",
            "356a9143e11a4a94b7f3f0b6d0a3a355",
            "245e1b960169484e92360f2da0b58bda",
            "8b6b36b7745a4ce7b91ba9c2d4b125a6",
            "17e4cd87de284afba2c07c7c9d54cf59",
            "4be4e00270964cc0a1c3ba19358a0aa2",
            "a43279ca31fb426999315f188f0b6d1b",
            "d0a45fbf7d13403f96ed5397ff150a11",
            "1e74e81ca73242e2948771ae7f454086",
            "3f95f6fa5d244f30b438123a11650a2f",
            "95b7d00f40c64b99a1deb5e487558f93",
            "c04f0d0c9bdb4d8eb511b09fa3bb5afb",
            "91ab2371af2b4e1497c4a7d2ff95bc24"
          ]
        },
        "outputId": "e2fabb96-ea51-4da7-d72c-17c811bd661c"
      },
      "outputs": [
        {
          "output_type": "display_data",
          "data": {
            "text/plain": [
              "Downloading readme:   0%|          | 0.00/445 [00:00<?, ?B/s]"
            ],
            "application/vnd.jupyter.widget-view+json": {
              "version_major": 2,
              "version_minor": 0,
              "model_id": "e748c947327c448f814dab3f89f5c294"
            }
          },
          "metadata": {}
        },
        {
          "output_type": "stream",
          "name": "stdout",
          "text": [
            "Downloading and preparing dataset None/None to /root/.cache/huggingface/datasets/on1onmangoes___parquet/on1onmangoes--First11VoiceHarmonyEmbeddings071523GoodVersion-acf878a2debc5fdf/0.0.0/14a00e99c0d15a23649d0db8944380ac81082d4b021f398733dd84f3a6c569a7...\n"
          ]
        },
        {
          "output_type": "display_data",
          "data": {
            "text/plain": [
              "Downloading data files:   0%|          | 0/1 [00:00<?, ?it/s]"
            ],
            "application/vnd.jupyter.widget-view+json": {
              "version_major": 2,
              "version_minor": 0,
              "model_id": "8dfce7b448c6436887ef1df5b68f1098"
            }
          },
          "metadata": {}
        },
        {
          "output_type": "display_data",
          "data": {
            "text/plain": [
              "Downloading data:   0%|          | 0.00/33.6k [00:00<?, ?B/s]"
            ],
            "application/vnd.jupyter.widget-view+json": {
              "version_major": 2,
              "version_minor": 0,
              "model_id": "1f01ade35f0e48d8a05518eea64a2acc"
            }
          },
          "metadata": {}
        },
        {
          "output_type": "display_data",
          "data": {
            "text/plain": [
              "Extracting data files:   0%|          | 0/1 [00:00<?, ?it/s]"
            ],
            "application/vnd.jupyter.widget-view+json": {
              "version_major": 2,
              "version_minor": 0,
              "model_id": "9b3bceab7e444e258f759900f039b7bb"
            }
          },
          "metadata": {}
        },
        {
          "output_type": "display_data",
          "data": {
            "text/plain": [
              "Generating train split:   0%|          | 0/11 [00:00<?, ? examples/s]"
            ],
            "application/vnd.jupyter.widget-view+json": {
              "version_major": 2,
              "version_minor": 0,
              "model_id": "245e1b960169484e92360f2da0b58bda"
            }
          },
          "metadata": {}
        },
        {
          "output_type": "stream",
          "name": "stdout",
          "text": [
            "Dataset parquet downloaded and prepared to /root/.cache/huggingface/datasets/on1onmangoes___parquet/on1onmangoes--First11VoiceHarmonyEmbeddings071523GoodVersion-acf878a2debc5fdf/0.0.0/14a00e99c0d15a23649d0db8944380ac81082d4b021f398733dd84f3a6c569a7. Subsequent calls will reuse this data.\n",
            "{'speaker_id': ['3168-173565-0000', '4214-7146-0047', '1088-129236-0023', '1963-142393-0045', '831-130746-0037'], 'embeddings': [[[-0.019814802333712578, -0.017351875081658363, -0.01604916714131832, 0.05154065787792206, -0.009479808621108532, 0.02538236789405346, -0.04105699434876442, -0.016588149592280388, -0.03044075146317482, -0.02001069486141205, -0.01971764862537384, -0.027386458590626717, -0.01830146089196205, -0.018530620262026787, -0.033052656799554825, -0.026355136185884476, -0.018343346193432808, -0.015194468200206757, -0.01218817476183176, -0.00526050291955471, -0.018008118495345116, -0.018821876496076584, -0.018921978771686554, -0.017379993572831154, -0.01582236774265766, -0.012752318754792213, -0.01724334806203842, -0.02684519626200199, -0.016504477709531784, -0.058013785630464554, -0.02474147453904152, -0.019733218476176262, -0.01213686354458332, -0.0293198823928833, -0.01940840296447277, -0.0348963625729084, -0.0031494786962866783, -0.04902632161974907, -0.03608071804046631, -0.017742695286870003, -0.027434388175606728, -0.02436576411128044, -0.01857830584049225, -0.02119671180844307, -0.06856436282396317, -0.018619824200868607, -0.01795893907546997, -0.009391321800649166, -0.04948063939809799, -0.022663436830043793, -0.018829097971320152, -0.02023804746568203, 0.03770383447408676, -0.010203273966908455, -0.07287546992301941, -0.012901373207569122, -0.05619756504893303, -0.02159128524363041, -0.01923731341958046, -0.02079448662698269, -0.011268997564911842, -0.02716655470430851, -0.08970023691654205, -0.018903860822319984, -0.07307349890470505, -0.01844218000769615, -0.1466778963804245, -0.018284954130649567, -0.020755967125296593, -0.09869800508022308, -0.021436315029859543, -0.08157657831907272, -0.016786765307188034, -0.01788276806473732, -0.044130560010671616, -0.04761404171586037, 0.007931170053780079, -0.02077861875295639, -0.014662169851362705, -0.019913984462618828, -0.014313771389424801, -0.015192998573184013, -0.03645746409893036, -0.09694183617830276, -0.02104085311293602, -0.19155772030353546, -0.019805317744612694, -0.01389368250966072, -0.02964549884200096, -0.01907707192003727, -0.020775027573108673, 0.022021504119038582, -0.20057202875614166, -0.012985702604055405, -0.01938631385564804, -0.015254314057528973, -0.00895865261554718, -0.022050760686397552, 0.0046924627386033535, -0.0674651563167572, -0.02334357053041458, 0.0033316637855023146, -0.01584455743432045, 0.016201810911297798, -0.03289177268743515, -0.12726636230945587, -0.027198493480682373, -0.025179559364914894, 0.038626763969659805, -0.05377941578626633, -0.014663071371614933, -0.017706917598843575, -0.0220217052847147, -0.020849768072366714, -0.01889760047197342, -0.021125061437487602, -0.04121379926800728, -0.05329356715083122, -0.017157619819045067, -0.012096990831196308, -0.013354290276765823, -0.026519866660237312, -0.012435072101652622, -0.021207591518759727, -0.01908578723669052, -0.014275859110057354, -0.02113421820104122, -0.028668668121099472, -0.02594914101064205, -0.02467700093984604, -0.015223153866827488, 0.014853357337415218, -0.013431224972009659, -0.011151257902383804, -0.07264826446771622, -0.018929753452539444, -0.016056835651397705, -0.014110605232417583, 0.02195543423295021, -0.038447923958301544, -0.016142381355166435, -0.013815159909427166, 0.007333105430006981, -0.01958218216896057, -0.018263250589370728, 0.019068347290158272, -0.011535982601344585, -0.023633569478988647, -0.014405849389731884, -0.017083488404750824, 0.03161753714084625, -0.15180853009223938, -0.021927572786808014, -0.022791001945734024, -0.010217642411589622, -0.006253506988286972, -0.013560510240495205, -0.023550059646368027, -0.01678360253572464, -0.020695507526397705, -0.011371254920959473, -0.025174735113978386, -0.01857825368642807, -0.017233319580554962, 0.014885560609400272, -0.05811028182506561, -0.10589656233787537, -0.013323440216481686, -0.010389858856797218, -0.037897780537605286, -0.019882412627339363, -0.01968134008347988, 0.03352825343608856, -0.06516484916210175, -0.015544488094747066, 0.003130304627120495, -0.015029066242277622, 0.01660471223294735, -0.08852314203977585, -0.020033208653330803, -0.03482543304562569, -0.020371394231915474, -0.015056676231324673, -0.012844273820519447, -0.024615241214632988, -0.11138715595006943, -0.08762165904045105, -0.013421435840427876, -0.018471958115696907, -0.02072026953101158, -0.018916239961981773, -0.07683449983596802, -0.12882497906684875, -0.018035411834716797, -0.02022918500006199, -0.01962694339454174, -0.08260006457567215, -0.013291245326399803, -0.015499673783779144, -0.013735896907746792, -0.02195986546576023, -0.02054073102772236, -0.06283289939165115, -0.011587037704885006, -0.021343721076846123, -0.02141670137643814, -0.01190832071006298, -0.027200326323509216, -0.009428772144019604, -0.0661861002445221, -0.04680226370692253, -0.018093664199113846, -0.018386205658316612, -0.015571581199765205, -0.020836567506194115, -0.05664407089352608, -0.014505012892186642, -0.015614541247487068, -0.052609801292419434, -0.0630209892988205, -0.013252506963908672, 0.012952255085110664, -0.017330538481473923, -0.012777195312082767, -0.037199195474386215, -0.04948655888438225, -0.015151419676840305, -0.01385914720594883, -0.030006617307662964, 0.011807785369455814, -0.020145079120993614, -0.03566672280430794, -0.025385772809386253, -0.015288781374692917, -0.01563429832458496, -0.025934062898159027, -0.009666135534644127, -0.016541920602321625, -0.021551521494984627, -0.014866417273879051, -0.009953883476555347, -0.023765111342072487, -0.017662568017840385, -0.01505900640040636, -0.019152404740452766, -0.041948121041059494, -0.021464193239808083, -0.17432227730751038, -0.013159651309251785, -0.010121582075953484, -0.014722452498972416, -0.02375359833240509, -0.021568166092038155, -0.013774112798273563, -0.0049985372461378574, -0.022795939818024635, -0.022632893174886703, -0.014793889597058296, -0.10641639679670334, -0.06139964610338211, -0.0056776548735797405, -0.022478794679045677, -0.017751634120941162, -0.012927855364978313, -0.03105362318456173, -0.03411779925227165, 0.011154734529554844, -0.015564956702291965, -0.027582837268710136, -0.019823072478175163, -0.05170333385467529, -0.01836623065173626, -0.1017472967505455, -0.01925702579319477, -0.01780882105231285, -0.011638580821454525, -0.03587614744901657, -0.12088645249605179, -0.023841869086027145, 0.03553048148751259, -0.015475678257644176, -0.013187022879719734, 0.02927977219223976, 0.003991253208369017, -0.06333845108747482, -0.01594456657767296, 0.00011110271589132026, -0.01465131901204586, -0.023564334958791733, -0.015720820054411888, -0.02076462097465992, -0.013774456456303596, -0.017354009672999382, -0.03220352903008461, -0.026936285197734833, -0.015505481511354446, -0.07600601762533188, -0.019362807273864746, 0.017141643911600113, -0.019009176641702652, -0.025764884427189827, -0.026576466858386993, -0.021915186196565628, -0.04223067685961723, -0.009584297426044941, -0.02851976454257965, -0.016199616715312004, -0.015226236544549465, -0.016158614307641983, -0.02287454344332218, -0.013027268461883068, -0.02496238611638546, -0.015642203390598297, -0.01553079392760992, -0.032750245183706284, -0.07945064455270767, 0.006972465198487043, -0.03770862892270088, -0.01897181011736393, -0.014445302076637745, 0.02446039766073227, -0.025658560916781425, -0.07137098908424377, -0.02030279114842415, -0.0183417871594429, -0.024438921362161636, -0.016186047345399857, -0.01788671873509884, -0.013637385331094265, -0.021611424162983894, -0.014559600502252579, -0.020144382491707802, -0.022721722722053528, -0.09600888937711716, -0.07884999364614487, -0.017964767292141914, -0.018926849588751793, -0.11711253970861435, -0.020960494875907898, -0.010300727561116219, -0.06797276437282562, -0.07319881021976471, -0.018225017935037613, -0.02328428626060486, -0.03473810851573944, -0.015603013336658478, -0.2431127279996872, -0.023280411958694458, 0.027440404519438744, -0.02835656888782978, 0.0036807048600167036, -0.022961240261793137, -0.015230294317007065, -0.013248882256448269, -0.03300120681524277, -0.0245729461312294, -0.01836290769279003, -0.01935017853975296, -0.014068660326302052, -0.018465004861354828, -0.012102575041353703, -0.08490168303251266, -0.01180197112262249, -0.02235284633934498, -0.010161434300243855, -0.016364097595214844, -0.08297845721244812, 0.016922447830438614, -0.017658481374382973, -0.008609018288552761, -0.01412286888808012, -0.08278588205575943, -0.012948279269039631, -0.03438704088330269, -0.03744253143668175, -0.03047068975865841, 0.02601417899131775, 0.00743235694244504, -0.02240070141851902, -0.0240013524889946, -0.015670496970415115, -0.005379768554121256, -0.020135123282670975, -0.012700162827968597, -0.017810700461268425, -0.011667324230074883, -0.025492290034890175, -0.01935834437608719, -0.01514712069183588, -0.13734091818332672, -0.041359420865774155, -0.02455325610935688, -0.009165625087916851, -0.019112296402454376, -0.020152051001787186, -0.03968212008476257, -0.03588629886507988, -0.017088914290070534, -0.02371256612241268, -0.030525369569659233, -0.014050372876226902, -0.017011301591992378, -0.021794788539409637, -0.020177876576781273, -0.02353852614760399, -0.028587913140654564, -0.020008301362395287, -0.020412597805261612, -0.16486571729183197, -0.03473368287086487, -0.0231540035456419, -0.016878338530659676, -0.019261298701167107, -0.019176790490746498, -0.019703727215528488, -0.0165304746478796, -0.01616666093468666, -0.02178994007408619, -0.17729906737804413, -0.07829706370830536, -0.017793921753764153, -0.01935228891670704, -0.08706513047218323, -0.04202824831008911, -0.019419865682721138, -0.016630269587039948, -0.013951948843896389, -0.018436020240187645, -0.05728011578321457, -0.011979487724602222, -0.12422395497560501, -0.08734084665775299, -0.07614848017692566, -0.012607350945472717, -0.026035752147436142, -0.14310197532176971, -0.016453726217150688, -0.017515234649181366, -0.09109795093536377, -0.022022105753421783, 0.004888469353318214, -0.01653565652668476, -0.07567828893661499, -0.02066899836063385, -0.01888180524110794, -0.01672520488500595, -0.018909785896539688, -0.023579681292176247, 0.014688851311802864, -0.07173103094100952, -0.1393425613641739, -0.18470542132854462, -0.030925875529646873, -0.018329419195652008, -0.007337543647736311, -0.017131807282567024, -0.009479769505560398, -0.038938138633966446, -0.0185388270765543, -0.019467052072286606, -0.013269364833831787, -0.0926993191242218, 0.03345746174454689, -0.013788042590022087, -0.08423188328742981, 0.010650130920112133, -0.014187880791723728, -0.021685035899281502, -0.020866570994257927, 0.025397220626473427, -0.04477861151099205, -0.020364921540021896, -0.016418565064668655, -0.060766227543354034, -0.02883096970617771, -0.01914266310632229, -0.009517324157059193, -0.011299217119812965, -0.07410526275634766, -0.026592476293444633, -0.0911000445485115, -0.020999938249588013, -0.01745498739182949, -0.08788076788187027, -0.01804657094180584, -0.035290125757455826, -0.01398323941975832, -0.02229929342865944, 0.04837564751505852, -0.01974554918706417, -0.0009267407585866749, -0.04180802404880524, -0.014846209436655045, -0.023093514144420624, 0.010975644923746586, -0.019108846783638, -0.0155509477481246, -0.0276323352009058, 0.03447334095835686, -0.008468124084174633, -0.02223079279065132, -0.0682588592171669, -0.009941929951310158, -0.11384586244821548, -0.013529414311051369, -0.02058304473757744, -0.020658696070313454, -0.02815139852464199, 0.007120473310351372, -0.022166458889842033, -0.01404326967895031, -0.01875430718064308]], [[-0.020905565470457077, -0.014163161627948284, -0.01750189997255802, -0.014638591557741165, -0.013315885327756405, -0.019146159291267395, -0.09584072232246399, -0.013539073057472706, -0.15957622230052948, -0.010744419880211353, -0.018373677507042885, -0.023839423432946205, -0.01886703073978424, -0.011938001960515976, -0.05227494239807129, -0.018336564302444458, -0.016488216817378998, -0.016736937686800957, -0.013998303562402725, -0.04754077270627022, -0.01858747936785221, -0.014640981331467628, -0.016594836488366127, -0.015589457005262375, -0.016728512942790985, -0.01914289966225624, -0.02034055069088936, -0.02117135375738144, -0.013934578746557236, -0.16653361916542053, -0.016627436503767967, -0.018668534234166145, -0.009376425296068192, -0.02417912892997265, -0.018192755058407784, -0.01348968967795372, -0.08573292195796967, -0.010559797286987305, -0.09811346977949142, -0.018929684534668922, -0.020486675202846527, -0.021799903362989426, -0.024143224582076073, -0.015239562839269638, -0.1535019874572754, -0.01912495121359825, -0.019288821145892143, -0.010041330009698868, 0.019125983119010925, -0.02131924405694008, -0.013276498764753342, -0.02373812161386013, -0.030571987852454185, -0.013715386390686035, -0.07725995033979416, -0.01559131033718586, 0.04578277841210365, -0.021390529349446297, -0.01914212480187416, -0.01901431381702423, -0.011226708069443703, -0.09957430511713028, -0.14796248078346252, -0.012991281226277351, -0.07480832189321518, -0.014784000813961029, -0.08534019440412521, -0.015289979986846447, -0.013634960167109966, -0.1092546135187149, -0.018083591014146805, -0.0036909340415149927, -0.016998130828142166, -0.01624176651239395, -0.024092217907309532, 0.004389182664453983, -0.07283620536327362, -0.014848249964416027, -0.012309044599533081, -0.0149130430072546, -0.016073502600193024, -0.012740910984575748, -0.036045778542757034, -0.1152593195438385, -0.015946686267852783, 0.03698110580444336, -0.020012488588690758, -0.010590501129627228, 0.02075636200606823, -0.014953513629734516, -0.019532054662704468, -0.03738560527563095, -0.07495450228452682, -0.016753047704696655, -0.01822221651673317, -0.011394542641937733, -0.01288075465708971, -0.021622315049171448, -0.14054077863693237, -0.2054842859506607, -0.011059061624109745, -0.09073929488658905, -0.013788985088467598, -0.0758812204003334, -0.047187067568302155, -0.014557783491909504, -0.025417456403374672, -0.02554362453520298, -0.11179926991462708, -0.07307101041078568, -0.03406216949224472, -0.01375284418463707, -0.012260006740689278, -0.014677982777357101, -0.02348719723522663, -0.023418989032506943, -0.11208490282297134, -0.01960410177707672, -0.02370988205075264, -0.06589122116565704, -0.010115026496350765, -0.02220965549349785, -0.014635611325502396, -0.016912924125790596, -0.019616486504673958, -0.013862570747733116, -0.025185542181134224, -0.023558517917990685, -0.029504675418138504, -0.018698660656809807, -0.023978350684046745, 0.01991533860564232, -0.016264215111732483, -0.015494071878492832, -0.24961136281490326, -0.025420721620321274, -0.018919983878731728, -0.009236556477844715, 0.008807308971881866, -0.021958157420158386, -0.016626473516225815, -0.01274142600595951, -0.08547352254390717, -0.01792270503938198, -0.01676524244248867, -0.10121254622936249, -0.06952932476997375, -0.020842047408223152, -0.022124242037534714, -0.014983437955379486, 0.003626228077337146, 0.016550781205296516, -0.01960914023220539, -0.015834830701351166, -0.010773119516670704, -0.06469119340181351, -0.01805228739976883, -0.021507106721401215, -0.017292635515332222, -0.013873644173145294, -0.013081335462629795, -0.014407954178750515, -0.021911539137363434, -0.023631367832422256, 0.010322948917746544, 0.009373372420668602, -0.1024855449795723, -0.01084392424672842, -0.007319098804146051, -0.03444500267505646, -0.020680932328104973, -0.09105167537927628, -0.04012008383870125, -0.09468728303909302, -0.019890565425157547, -0.02157529816031456, -0.010943427681922913, 0.00749466847628355, -0.03593695908784866, -0.020918874070048332, -0.026378067210316658, -0.022901343181729317, -0.014560774900019169, -0.01408942136913538, -0.012742631137371063, -0.0014792600413784385, -0.009299042634665966, -0.015233536250889301, -0.020098086446523666, -0.012703998945653439, -0.016937142238020897, 0.011895127594470978, -0.08870214223861694, -0.01661989465355873, 0.01924268528819084, -0.02034161239862442, -0.0656776949763298, -0.010430560447275639, -0.015635238960385323, -0.012126212939620018, -0.018846722319722176, -0.01841350831091404, -0.12380268424749374, -0.010989343747496605, -0.01882416568696499, -0.0175186637789011, -0.0692383423447609, -0.006948179565370083, -0.009633464738726616, -0.095140740275383, -0.09653427451848984, -0.018525350838899612, -0.017977487295866013, -0.013624253682792187, -0.021085722371935844, -0.022596031427383423, -0.015645533800125122, -0.016147296875715256, -0.08886305242776871, -0.03613578528165817, -0.014224185608327389, -0.005777356214821339, -0.021017029881477356, -0.01169536355882883, -0.040061675012111664, -0.08823707699775696, -0.011246336624026299, -0.06926554441452026, -0.026179222390055656, -0.06682382524013519, -0.016990188509225845, -0.07725149393081665, -0.026132483035326004, -0.0193307064473629, -0.01860131323337555, -0.01950368471443653, -0.013479489833116531, -0.02045370079576969, 0.012453858740627766, -0.013881862163543701, -0.005977597087621689, -0.016630621626973152, -0.01894272305071354, -0.01277771033346653, -0.017465433105826378, -0.07473812252283096, -0.020616577938199043, 0.023801429197192192, -0.009925242513418198, -0.012106758542358875, -0.04954421520233154, -0.01954757794737816, -0.018215354532003403, -0.019131053239107132, 0.03231092914938927, -0.020181220024824142, -0.028520407155156136, -0.01865425519645214, -0.020214276388287544, -0.03385641425848007, -0.005836695432662964, -0.020272746682167053, -0.018887201324105263, -0.010835526511073112, -0.009247003123164177, -0.01877734437584877, -0.044297344982624054, -0.01698538288474083, -0.01847785711288452, -0.017437858507037163, 0.06746440380811691, -0.01693156734108925, -0.11589328944683075, -0.021856965497136116, -0.015683582052588463, -0.015833554789423943, -0.022072263062000275, 8.061027619987726e-05, -0.02066519670188427, -0.053567588329315186, -0.01236749067902565, -0.013538267463445663, -0.005916107911616564, -0.07479429244995117, -0.0895274430513382, -0.014283807016909122, -0.057183023542165756, -0.013579150661826134, -0.021885165944695473, -0.016676921397447586, -0.016335461288690567, -0.01320621371269226, -0.013026867061853409, -0.07955712080001831, -0.025722136721014977, -0.009519973769783974, -0.015115831978619099, -0.01557200402021408, 0.02419854886829853, -0.008265964686870575, -0.0193156898021698, -0.0190983098000288, -0.01961458846926689, 0.04669114947319031, -0.01023282390087843, -0.02668314427137375, -0.01968962512910366, -0.017286939546465874, -0.0162055604159832, -0.015671128407120705, -0.013462522067129612, -0.023128582164645195, -0.09319117665290833, -0.011793903075158596, 0.054735735058784485, -0.11235245317220688, -0.04553638771176338, -0.02346297912299633, -0.01695890538394451, -0.01714153029024601, -0.03318856284022331, -0.020856231451034546, -0.15215739607810974, -0.024360666051506996, -0.014601288363337517, -0.01999380998313427, -0.014320648275315762, -0.010687255300581455, -0.014865783974528313, -0.01801474019885063, -0.01269564963877201, -0.00983639620244503, -0.009576736018061638, -0.0008647796930745244, -0.004922228399664164, -0.021581754088401794, -0.014078965410590172, 0.0176430344581604, -0.01913224346935749, -0.012294926680624485, -0.05327671393752098, 0.009704740718007088, -0.020787794142961502, -0.021826600655913353, -0.03264884650707245, -0.012929404154419899, -0.11532165110111237, -0.015692833811044693, -0.048870522528886795, -0.07447896152734756, 0.016211122274398804, -0.01213560439646244, -0.03543378412723541, -0.016614021733403206, -0.03315965086221695, -0.02182411402463913, -0.020133228972554207, -0.00946812890470028, -0.014122094959020615, -0.015668828040361404, -0.010341890156269073, -0.05327495187520981, -0.013974977657198906, -0.02354000136256218, -0.05324232205748558, -0.012691679410636425, -0.018662478774785995, -0.009094645269215107, -0.014605051837861538, -0.06074441224336624, -0.011390380561351776, -0.040755193680524826, -0.013260846957564354, -0.11393769830465317, 0.003761607687920332, -0.09426369518041611, -0.045231059193611145, 0.03983788937330246, -0.013929842039942741, -0.018404940143227577, -0.018391087651252747, -0.03225313499569893, -0.02162644825875759, -0.01366563979536295, -0.017307696864008904, -0.017330754548311234, -0.024954108521342278, -0.020609332248568535, -0.01717860996723175, 0.028097858652472496, -0.026486285030841827, -0.03983163833618164, -0.01700183004140854, -0.022663695737719536, -0.02134053222835064, -0.03329847380518913, -0.04894498363137245, -0.013934051617980003, -0.024223269894719124, -0.01902465708553791, -0.014693177305161953, -0.01850058138370514, -0.019694464281201363, -0.016288816928863525, -0.018293853849172592, 0.03683571144938469, -0.017728596925735474, -0.02234506793320179, -0.12241516262292862, -0.03498087450861931, 0.0203420277684927, -0.01334043126553297, -0.01894979365170002, -0.017792893573641777, -0.020862556993961334, -0.010937166400253773, -0.02242305316030979, -0.024293353781104088, -0.09068930149078369, -0.023098966106772423, -0.01312838215380907, -0.022647205740213394, 0.0442914180457592, -0.13102538883686066, -0.015583283267915249, -0.017364131286740303, -0.016101835295557976, -0.022495685145258904, 0.03582629933953285, -0.013115198351442814, 0.02670695260167122, -0.06253597885370255, -0.05211103707551956, -0.011604109779000282, -0.013973996043205261, 0.0011271429248154163, -0.012147386558353901, -0.009001323021948338, 0.03395218402147293, -0.015835467725992203, 0.008135906420648098, -0.01740046963095665, -0.029343966394662857, -0.02378380484879017, -0.022238826379179955, -0.01687493920326233, -0.019299624487757683, -0.024598190560936928, 0.029382681474089622, 0.04493478313088417, -0.012398219667375088, -0.11995162814855576, -0.030224712565541267, -0.018375925719738007, -0.009239069186151028, -0.01758437417447567, 0.044339925050735474, -0.028396515175700188, -0.018691230565309525, -0.01967923901975155, -0.015938861295580864, 0.06319700926542282, -0.028907181695103645, -0.016650741919875145, -0.0927729457616806, -0.08489334583282471, -0.013118916191160679, -0.021768948063254356, -0.011901525780558586, -0.027631159871816635, -0.14703236520290375, -0.020643796771764755, -0.011427531018853188, 0.0010736108524724841, -0.022625358775258064, -0.014261800795793533, -0.031083717942237854, -0.011300667189061642, -0.16108427941799164, -0.0417921282351017, -0.06638623028993607, -0.018093157559633255, -0.01977931335568428, -0.0361047089099884, -0.023946411907672882, -0.034242745488882065, -0.016703853383660316, -0.01856662519276142, -0.05927346274256706, -0.015972232446074486, -0.03485311567783356, -0.02459368109703064, -0.014908968470990658, -0.02313203178346157, -0.0608932189643383, -0.0165198165923357, -0.01600170135498047, -0.07897370308637619, -0.04214882850646973, -0.04548722505569458, -0.01567205600440502, -0.09318944811820984, -0.012926366180181503, -0.02906341291964054, -0.011314449831843376, -0.018734753131866455, -0.01951211504638195, -0.02992807701230049, -0.04509705305099487, -0.022647032514214516, -0.019508127123117447, -0.01807079091668129]], [[-0.019036628305912018, -0.010246447287499905, -0.01636582240462303, 0.019040871411561966, -0.010913288220763206, -0.019324950873851776, -0.03343290090560913, -0.01294938288629055, -0.054801248013973236, -0.014249542728066444, -0.014549944549798965, -0.020359810441732407, -0.01870226114988327, -0.015572106465697289, -0.06977377086877823, -0.021082600578665733, -0.015935033559799194, -0.014949736185371876, -0.017804007977247238, -0.10860247164964676, -0.013653397560119629, -0.015241311863064766, -0.014611608348786831, -0.017057210206985474, -0.015136186964809895, -0.01608682982623577, -0.0174894817173481, -0.02206992544233799, -0.01630433090031147, -0.06563140451908112, -0.016108069568872452, -0.014745227061212063, -0.013999895192682743, -0.025260556489229202, -0.01759951561689377, -0.02158612571656704, -0.07901711016893387, -0.03820077329874039, -0.06156107783317566, -0.01936957985162735, -0.022975558415055275, -0.01850423775613308, -0.022601429373025894, -0.014416269958019257, -0.11019071191549301, -0.02138431929051876, -0.017789414152503014, -0.012155980803072453, 0.020655788481235504, -0.01779162511229515, -0.015064200386404991, -0.020492136478424072, -0.0336521677672863, -0.00899445079267025, -0.18682406842708588, -0.013933531939983368, -0.040067799389362335, -0.015085029415786266, -0.017865197733044624, -0.021496454253792763, -0.01322409138083458, -0.0883755162358284, -0.08939455449581146, -0.013169336132705212, -0.10550563037395477, -0.013779617846012115, -0.09171867370605469, -0.01851605996489525, -0.015162431634962559, -0.08502546697854996, -0.017973002046346664, -0.029910406097769737, -0.020070035010576248, -0.01949101872742176, -0.038970887660980225, -0.04346953332424164, -0.15409420430660248, -0.019183335825800896, -0.01104644127190113, -0.018816238269209862, -0.01228672917932272, -0.012544024735689163, -0.034542642533779144, -0.03717711195349693, -0.015273512341082096, -0.05527227744460106, -0.02015751600265503, -0.013556249439716339, 0.03830656036734581, -0.012365538626909256, -0.019850919023156166, -0.0494040921330452, -0.08163763582706451, -0.01477967482060194, -0.01944124884903431, -0.013917413540184498, -0.009938353672623634, -0.019880173727869987, -0.06870295107364655, -0.12729114294052124, -0.01698196865618229, -0.08054132759571075, -0.013681271113455296, -0.12602807581424713, -0.03594746068120003, -0.020861495286226273, -0.025610631331801414, -0.02704022452235222, -0.13522711396217346, -0.06925471127033234, -0.02935437299311161, -0.016407139599323273, -0.014574382454156876, -0.016159538179636, -0.022062668576836586, -0.02252144180238247, -0.15456004440784454, -0.007845292799174786, -0.02274906262755394, -0.14301252365112305, -0.007343960460275412, -0.02043069154024124, -0.01563720777630806, -0.017448486760258675, -0.01662694476544857, -0.009624112397432327, -0.024397609755396843, -0.023407654836773872, -0.028113853186368942, -0.02305508591234684, -0.02057075873017311, -0.05966787785291672, -0.015268911607563496, -0.014684104360640049, -0.16084066033363342, -0.021343881264328957, -0.019701864570379257, -0.010216880589723587, 0.010385535657405853, -0.0019512487342581153, -0.017637522891163826, -0.008998051285743713, -0.002051894785836339, -0.0174252949655056, -0.01865086704492569, -0.05155359208583832, -0.035107895731925964, -0.016692588105797768, -0.023319045081734657, -0.016253629699349403, -0.0003632628940977156, -0.0011345716193318367, -0.022143473848700523, -0.016927115619182587, -0.0118003711104393, -0.026209816336631775, -0.013750816695392132, -0.02163376472890377, -0.01780289225280285, -0.016572559252381325, -0.015709713101387024, -0.018360616639256477, -0.018974239006638527, -0.01880558207631111, 0.007297300733625889, -5.8938665461027995e-05, -0.02430594339966774, -0.010604110546410084, -0.004706008825451136, -0.03170811012387276, -0.022831430658698082, -0.10981304943561554, -0.006537631154060364, -0.07217171788215637, -0.021290354430675507, 0.021497907117009163, -0.009174300357699394, -0.0084646325558424, -0.01763886772096157, -0.019457295536994934, -0.04236963391304016, -0.022556502372026443, -0.01586664840579033, -0.012402265332639217, -0.007805557455867529, 0.014258475042879581, -0.07739028334617615, -0.014073488302528858, -0.023028042167425156, -0.01407343614846468, -0.016894159838557243, -0.07162708789110184, -0.018709583207964897, -0.015509002842009068, 0.02674799971282482, -0.019266536459326744, -0.010473133064806461, -0.013353792950510979, -0.01059391163289547, -0.012721396051347256, -0.016019105911254883, -0.01839221827685833, -0.08066341280937195, -0.010383990593254566, -0.014098421670496464, -0.01948954351246357, -0.10555513203144073, -0.12059372663497925, -0.011153709143400192, -0.04419633001089096, -0.13990548253059387, -0.017369884997606277, -0.016665177419781685, -0.016950497403740883, -0.014211471192538738, 0.004364962689578533, -0.013127570040524006, -0.012185783125460148, -0.05994563549757004, -0.08767956495285034, -0.014430900104343891, -0.013777309097349644, -0.01935276947915554, -0.011935160495340824, -0.06198364868760109, -0.0400511734187603, -0.010642044246196747, 0.016007250174880028, -0.01820925436913967, -0.026758426800370216, -0.016587894409894943, -0.06085677072405815, -0.028586730360984802, -0.022160734981298447, -0.018276620656251907, -0.02228873036801815, -0.013327662833034992, -0.019737880676984787, -0.0739726573228836, -0.013163608498871326, -0.005372173618525267, -0.017149923369288445, -0.011760788038372993, -0.011729862540960312, -0.021747808903455734, -0.007372215390205383, -0.02209269255399704, 0.013744446448981762, -0.011751486919820309, -0.012797866947948933, -0.0556083507835865, -0.019211633130908012, -0.012176568619906902, -0.018261633813381195, 0.09208446741104126, -0.0217826459556818, -0.02631022036075592, -0.019299209117889404, -0.054486267268657684, -0.007012588903307915, -0.04470476508140564, -0.022716915234923363, -0.017180822789669037, -0.010876362212002277, 0.008929534815251827, -0.02054569311439991, -0.01652507856488228, -0.019110016524791718, -0.022824931889772415, -0.016363954171538353, 0.060909733176231384, -0.017748309299349785, 0.003993391525000334, -0.019873399287462234, -0.01813538372516632, -0.014941517263650894, -0.015255131758749485, -0.09263245016336441, -0.017988935112953186, -0.10717326402664185, -0.01410887110978365, -0.011137481778860092, -0.056168749928474426, -0.08726661652326584, -0.17627109587192535, -0.015251891687512398, -0.0915604829788208, -0.015514920465648174, -0.02299218252301216, -0.013424557633697987, -0.021218471229076385, -0.01666109263896942, -0.011960127390921116, -0.08782890439033508, -0.02765020914375782, -0.011819234117865562, 0.01988087221980095, -0.014385555870831013, 0.020828846842050552, -0.007248071022331715, -0.022813063114881516, -0.022697165608406067, -0.02075178734958172, 0.020929111167788506, -0.008969351649284363, -0.030703753232955933, -0.017789393663406372, -0.01411446277052164, -0.02229614369571209, -0.015860717743635178, -0.014145439490675926, -0.026601510122418404, -0.06819865852594376, -0.012415590696036816, -0.01797601208090782, -0.1328650861978531, -0.04990630969405174, -0.0248410627245903, -0.0168283861130476, -0.019863096997141838, -0.016210271045565605, -0.021991200745105743, -0.21346217393875122, -0.022688651457428932, -0.015150590799748898, -0.020254794508218765, -0.01381596177816391, -0.011956511996686459, -0.015528316609561443, -0.01729067601263523, -0.013963180594146252, -0.011818870902061462, -0.014688719063997269, 0.0251005832105875, -0.024349454790353775, -0.01873801462352276, -0.01506208535283804, 0.0369500070810318, -0.018095962703227997, -0.014168900437653065, -0.028382956981658936, 0.017267687246203423, -0.018866972997784615, -0.019528210163116455, 0.015781160444021225, -0.011038712225854397, -0.16177749633789062, -0.018054915592074394, -0.04736688733100891, -0.057872846722602844, 0.023553986102342606, -0.013319556601345539, -0.01070444192737341, -0.019239921122789383, -0.039935383945703506, -0.0216048676520586, -0.019944604486227036, -0.009873944334685802, -0.016101377084851265, -0.019622793421149254, -0.014385838992893696, -0.06295028328895569, -0.012416467070579529, -0.023933256044983864, -0.032538432627916336, -0.012538942508399487, -0.03173623979091644, -0.001985090784728527, -0.013444529846310616, -0.04280289262533188, -0.011649497784674168, -0.03395296260714531, -0.010299017652869225, -0.19462332129478455, -0.024671919643878937, -0.08425669372081757, -0.05717090889811516, 0.025797132402658463, -0.015909468755126, -0.019680626690387726, -0.023607121780514717, -0.04575636237859726, -0.017598794773221016, -0.01353395264595747, -0.018015965819358826, -0.021217597648501396, -0.02408984862267971, -0.022337613627314568, -0.015080638229846954, -0.03785431757569313, 0.02434881217777729, -0.004055891651660204, -0.014653769321739674, -0.021123288199305534, -0.02133879065513611, -0.041396867483854294, -0.04859011992812157, -0.012826909311115742, -0.023577313870191574, -0.021042343229055405, -0.013408188708126545, -0.02105773612856865, -0.018674198538064957, -0.015284604392945766, -0.01883493922650814, 0.02031303569674492, -0.014253221452236176, -0.021059585735201836, -0.09892649203538895, -0.03672333434224129, 0.015408067964017391, -0.011400094255805016, -0.018801068887114525, -0.01945607364177704, -0.01737668365240097, -0.011752426624298096, -0.01843104138970375, -0.025428351014852524, -0.06407596915960312, -0.14506492018699646, -0.010465957224369049, -0.027222858741879463, 0.04798845201730728, -0.1224556490778923, -0.019777342677116394, -0.017389385029673576, -0.017758654430508614, -0.023888926953077316, -0.009946095757186413, -0.011387081816792488, 0.03256114199757576, -0.05441367253661156, 0.003161648055538535, -0.01161077618598938, -0.011793752200901508, 0.05022727698087692, -0.011821983382105827, -0.010429976508021355, -0.0029734617564827204, -0.016477415338158607, 0.024056490510702133, -0.014823803678154945, -0.10401087999343872, -0.026718484237790108, -0.019629811868071556, -0.011775163933634758, -0.015462122857570648, -0.0228556077927351, -0.026038791984319687, 0.02161882258951664, 0.036445099860429764, -0.10122759640216827, -0.03177112713456154, -0.019121384248137474, -0.021010857075452805, -0.016123682260513306, 0.004535974934697151, 0.03227035328745842, -0.01966979168355465, -0.023117221891880035, -0.009464247152209282, -0.028082257136702538, -0.013316147029399872, -0.0171413142234087, -0.09969743341207504, -0.05481550842523575, -0.014917757362127304, -0.019057150930166245, -0.015858067199587822, -0.062334198504686356, -0.11927220225334167, -0.01638532243669033, -0.015620915219187737, -0.009830635972321033, -0.022719530388712883, -0.01492938119918108, -0.06977848708629608, -0.010478273034095764, -0.10257086157798767, -0.0353943295776844, -0.006218111142516136, -0.016522686928510666, -0.015573064796626568, -0.06141459196805954, -0.023006295785307884, -0.035540368407964706, -0.018708795309066772, -0.01578602008521557, -0.07090797275304794, -0.01731623336672783, -0.014732057228684425, -0.005495242774486542, -0.013605901971459389, -0.021616337820887566, -0.14833928644657135, -0.021065138280391693, -0.017379548400640488, -0.08302342146635056, 0.014676474034786224, -0.05137090012431145, -0.017389005050063133, -0.01993504911661148, -0.011766471900045872, -0.011311390437185764, -0.011659501120448112, -0.01743607595562935, -0.017783518880605698, -0.027939843013882637, -0.09045392274856567, -0.017513848841190338, -0.01659378409385681, -0.013736741617321968]], [[-0.016581881791353226, -0.010264378041028976, -0.014910751953721046, -0.024135392159223557, -0.01001072395592928, 0.006768336053937674, -0.010055779479444027, -0.014163840562105179, 0.0281685721129179, -0.01209462434053421, -0.015232538804411888, -0.020741570740938187, -0.01595447026193142, -0.015392353758215904, -0.0397847555577755, -0.02087264321744442, -0.01058437954634428, -0.011556939221918583, -0.013380808755755424, -0.006265497766435146, -0.014418239705264568, -0.013499535620212555, -0.015787731856107712, -0.01451815851032734, -0.010696473531425, -0.013802357949316502, -0.015975018963217735, -0.022559087723493576, -0.013811031356453896, -0.07555100321769714, -0.017283285036683083, -0.01626233197748661, -0.010764190927147865, -0.024403300136327744, -0.013577133417129517, -0.037400197237730026, -0.020230118185281754, -0.012228765524923801, -0.13606007397174835, -0.014103604480624199, -0.01815640740096569, -0.019223827868700027, -0.018160559237003326, -0.015913324430584908, -0.10753317177295685, -0.017207862809300423, -0.018913492560386658, -0.009074457921087742, -0.021950386464595795, -0.021205740049481392, -0.01196199283003807, -0.01979801617562771, 0.039053112268447876, -0.01097728032618761, -0.12138887494802475, -0.01378544233739376, -0.023156046867370605, -0.020577820017933846, -0.012271412648260593, -0.015527527779340744, -0.01123967207968235, -0.001183926360681653, 0.04158775508403778, -0.013407076708972454, -0.03968588262796402, -0.017356954514980316, -0.09207166731357574, -0.012609118595719337, -0.01433252077549696, -0.1566476821899414, -0.018071014434099197, -0.003756532911211252, -0.015056216157972813, -0.017586281523108482, -0.08064836263656616, -0.056452393531799316, -0.041809916496276855, -0.016735248267650604, -0.01367790438234806, -0.013743871822953224, -0.011130082421004772, -0.011648748070001602, -0.02649041824042797, -0.08374441415071487, -0.01619395613670349, -0.15966014564037323, -0.020044254139065742, -0.0145046915858984, -0.019496968016028404, -0.012145696207880974, -0.016194835305213928, 0.015981359407305717, -0.08705752342939377, -0.011390132829546928, -0.019213108345866203, -0.01256428100168705, -0.00978521816432476, -0.02014070749282837, -0.02534111589193344, -0.12754970788955688, -0.017262393608689308, -0.02910100482404232, -0.015867523849010468, -0.023476865142583847, 0.033934012055397034, -0.15060219168663025, -0.024092424660921097, -0.024271365255117416, -0.09545662254095078, -0.03089556097984314, -0.02359258197247982, -0.014523948542773724, -0.014904352836310863, -0.015068292617797852, -0.015233617275953293, -0.018161287531256676, -0.09805795550346375, -0.023932073265314102, -0.01928437314927578, -0.08109837025403976, -0.008998064324259758, -0.021508442237973213, -0.014202711172401905, -0.015425102785229683, -0.016111770644783974, -0.01134581957012415, -0.022412123158574104, -0.028449730947613716, -0.0232001394033432, -0.020453985780477524, -0.017151005566120148, 0.029774734750390053, -0.013815419748425484, -0.01038681622594595, -0.1407926380634308, -0.020111681893467903, -0.015175458043813705, -0.010819504037499428, 0.007876643911004066, 0.029674667865037918, -0.009088744409382343, -0.010664413683116436, 0.03633034974336624, -0.014115585945546627, -0.015346662141382694, 0.014404135756194592, 0.0034859967418015003, -0.017074566334486008, -0.018490929156541824, -0.013288420625030994, 0.020502276718616486, -0.10240324586629868, -0.02200314588844776, -0.017111215740442276, -0.00820374209433794, -0.05659078061580658, -0.011322524398565292, -0.016987182199954987, -0.01638389751315117, -0.016370054334402084, -0.008805947378277779, -0.016634194180369377, -0.016572410240769386, -0.01759854145348072, 0.04857617989182472, 0.018731823191046715, -0.11124255508184433, -0.008472549729049206, -0.009246310219168663, -0.018059203401207924, -0.016492284834384918, -0.05495629459619522, -0.04050565883517265, -0.04432782530784607, -0.016084229573607445, 0.06018717959523201, -0.010811307467520237, -0.003155834274366498, -0.12833979725837708, -0.02004343830049038, 0.011548376642167568, -0.020699402317404747, -0.012143627740442753, -0.01056809350848198, -0.01391850970685482, -0.017031123861670494, 0.011630960740149021, -0.015751663595438004, -0.013850203715264797, -0.014354321174323559, -0.015054159797728062, -0.12439695000648499, -0.038797155022621155, -0.01928802765905857, -0.018291030079126358, -0.014284621924161911, -0.09034406393766403, -0.01009095087647438, -0.013271186500787735, -0.016194874420762062, -0.01875677891075611, -0.023663237690925598, -0.10552488267421722, -0.011592001654207706, -0.02156163565814495, -0.015047380700707436, -0.10246310383081436, 0.025766540318727493, -0.009184652008116245, -0.10918131470680237, -0.11619681864976883, -0.012708273716270924, -0.015484715811908245, -0.01812182553112507, -0.020069800317287445, 0.00814024917781353, -0.009338250383734703, -0.012901014648377895, 0.01265506912022829, -0.133649542927742, -0.011049270629882812, -0.01373376790434122, -0.014389845542609692, -0.009243682026863098, -0.09570913016796112, -0.07563860714435577, -0.012417621910572052, -0.032257743179798126, -0.019274704158306122, -0.04500044137239456, -0.014826929196715355, -0.10666919499635696, -0.027559272944927216, -0.012773501686751842, -0.008652552962303162, -0.020736385136842728, -0.010063770227134228, -0.01792263798415661, -0.0911102294921875, -0.013509917072951794, -0.006085433531552553, -0.020102862268686295, -0.015028721652925014, -0.011528391391038895, -0.014017943292856216, 0.008978328667581081, -0.020172081887722015, -0.07508554309606552, -0.012746867723762989, -0.0109568415209651, 0.020680252462625504, -0.01956949569284916, -0.01941079832613468, -0.014515903778374195, 0.03171330690383911, -0.01680590584874153, -0.0244941134005785, -0.01481776311993599, -0.1126176193356514, -0.07725556194782257, -0.0065178596414625645, -0.016189808025956154, -0.011750557459890842, -0.010731764137744904, 0.013885012827813625, -0.026472337543964386, 0.03604685887694359, -0.01375855877995491, -0.022534988820552826, -0.015031443908810616, -0.06470181792974472, -0.014588075689971447, -0.016637180000543594, -0.013961203396320343, -0.017484797164797783, -0.011713742278516293, -0.03853355720639229, -0.10290485620498657, -0.01978575810790062, -0.03655628114938736, -0.012810446321964264, -0.009260916151106358, 0.05958540365099907, 0.0063874260522425175, -0.13798865675926208, -0.012022484093904495, -0.09541106224060059, -0.011258766055107117, -0.022957999259233475, -0.01271305326372385, -0.01636294275522232, -0.014715093187987804, -0.013802149333059788, 0.001902554533444345, -0.0199898574501276, -0.012880564667284489, -0.035825278609991074, -0.016762634739279747, 0.02016054466366768, -0.011245637200772762, -0.026009323075413704, -0.022467486560344696, -0.018933366984128952, 0.009617052972316742, -0.008937188424170017, -0.02472171187400818, -0.01648808643221855, -0.010592518374323845, -0.014122272841632366, -0.016711411997675896, -0.012665976770222187, -0.022437836974859238, -0.10257457196712494, -0.013868046924471855, -0.03450821712613106, -0.05080718919634819, -0.008865609765052795, -0.026354271918535233, -0.01745867170393467, -0.012368438765406609, 0.013278982602059841, -0.01779911294579506, -0.13805383443832397, -0.01671290583908558, -0.013458466157317162, -0.01625721901655197, -0.012268822640180588, -0.01090877316892147, -0.015123036690056324, -0.017788182944059372, -0.013671980239450932, -0.012037365697324276, -0.04062850400805473, -0.06679720431566238, -0.10239878296852112, -0.012943817302584648, -0.011233875527977943, -0.050813883543014526, -0.017368555068969727, -0.013105570338666439, -0.09006354957818985, -0.026037713512778282, -0.01798049919307232, -0.019741255789995193, -0.007680069655179977, -0.010737878270447254, -0.13355787098407745, -0.020304402336478233, -0.03426087275147438, -0.07342909276485443, -0.019952042028307915, -0.015539268963038921, -0.033306967467069626, -0.017109401524066925, -0.03309464082121849, -0.023074964061379433, -0.016085529699921608, -0.01725528948009014, -0.013057546690106392, -0.01878480240702629, -0.012327183037996292, -0.1385415643453598, -0.010445683263242245, -0.01830284856259823, -0.0073755718767642975, -0.01277880184352398, -0.06283064931631088, 0.02613195776939392, -0.012931127101182938, 0.023054899647831917, -0.01239787507802248, -0.02094058319926262, -0.011478849686682224, 0.03650694712996483, 0.02535722218453884, -0.06616560369729996, -0.0722155049443245, 0.013153458945453167, -0.01779635064303875, -0.019987504929304123, -0.0187833271920681, -0.04197109863162041, -0.016413602977991104, -0.009557606652379036, -0.015553229488432407, -0.014016379602253437, -0.02312394231557846, -0.01712162047624588, -0.013298050500452518, -0.10038839280605316, 0.009603040292859077, -0.014133913442492485, -0.010084087029099464, -0.019699759781360626, -0.016530442982912064, -0.043485455214977264, -0.10649695992469788, -0.008339137770235538, -0.016126597300171852, -0.021976256743073463, -0.009334255009889603, -0.01693478412926197, -0.019272826611995697, -0.017853595316410065, -0.01865246146917343, -0.03172698989510536, -0.014756585471332073, -0.019995318725705147, -0.19959354400634766, -0.0353977307677269, -0.03865433111786842, -0.00980184692889452, -0.015385262668132782, -0.01278675813227892, -0.01804347150027752, -0.00951208733022213, -0.014054172672331333, -0.01745798997581005, -0.10492335259914398, -0.15004105865955353, -0.013366847299039364, -0.018522484228014946, -0.02605593390762806, -0.027895169332623482, -0.0177706778049469, -0.013048018328845501, -0.012094794772565365, -0.016754327341914177, -0.040330786257982254, -0.012765812687575817, -0.021432368084788322, -0.07385623455047607, 0.029867500066757202, -0.009026623331010342, -0.018775731325149536, -0.11006872355937958, -0.009867540560662746, -0.010595292784273624, -0.06777270138263702, -0.015916386619210243, 0.002132949186488986, -0.015346850268542767, -0.07843001931905746, -0.021440710872411728, -0.016320617869496346, -0.013708389364182949, -0.01750054582953453, -0.02207309938967228, -0.000843165791593492, -0.00013467756798490882, -0.11130383610725403, -0.173672616481781, -0.022997785359621048, -0.015685826539993286, -0.0853896364569664, -0.013820955529808998, 0.014870895072817802, 0.0060617970302701, -0.015579300001263618, -0.020429130643606186, -0.00911700539290905, -0.09981357306241989, -0.035352062433958054, -0.01378055103123188, -0.15007247030735016, 0.009442653506994247, -0.013412362895905972, -0.019538123160600662, -0.014811048284173012, -0.01220181118696928, -0.1608290821313858, -0.019145864993333817, -0.013565891422331333, -0.022326072677969933, -0.020118827000260353, -0.01730983518064022, -0.05303877964615822, -0.01192524190992117, -0.08972775936126709, -0.02584891766309738, -0.026233267039060593, -0.017571095377206802, -0.015597718767821789, -0.05733123794198036, -0.01570069044828415, -0.02947601117193699, -0.014497095718979836, -0.014837120659649372, -0.032026272267103195, -0.0183064304292202, 0.010488830506801605, 0.03746026009321213, -0.01341125275939703, -0.015935594215989113, -0.06324129551649094, -0.013599446974694729, -0.013043206185102463, -0.029614614322781563, 0.01889275200664997, -0.010538877919316292, -0.01714327558875084, -0.07388419657945633, -0.009357158094644547, -0.1038077101111412, -0.009103997610509396, -0.015301856212317944, -0.015509610995650291, -0.029046211391687393, -0.02891167253255844, -0.0168580524623394, -0.013860213570296764, -0.016351645812392235]], [[-0.01694989949464798, -0.0166996568441391, -0.014174405485391617, 0.005739372223615646, -0.009407938458025455, -0.05866716802120209, 0.05509994179010391, -0.014440019614994526, -0.012228048406541348, -0.017109353095293045, -0.01658342219889164, -0.022701909765601158, -0.01897301711142063, -0.017353245988488197, -0.09871511161327362, -0.022580981254577637, -0.015000318177044392, -0.011163458228111267, -0.01393547561019659, -0.017274530604481697, -0.015212992206215858, -0.014471813105046749, -0.012035548686981201, -0.013252204284071922, -0.010109067894518375, -0.01310061477124691, -0.01624402590095997, -0.02216850034892559, -0.013497364707291126, -0.01677771657705307, -0.01641274429857731, -0.014261109754443169, -0.014814311638474464, -0.02664882503449917, -0.015998056158423424, -0.019702129065990448, -0.03734830766916275, -0.07110141217708588, -0.06423573195934296, -0.015056583099067211, -0.025889039039611816, -0.024503648281097412, -0.017030851915478706, -0.014253220520913601, 0.02070130594074726, -0.014754431322216988, -0.012969380244612694, -0.011809280142188072, -0.13212546706199646, -0.015406113117933273, -0.014953945763409138, -0.020169803872704506, -0.006600385066121817, -0.010764162056148052, 0.0010113974567502737, -0.00831928476691246, -0.05243757367134094, -0.014131666161119938, -0.01735825464129448, -0.020248478278517723, -0.011770757846534252, -0.01616344042122364, -0.12134203314781189, -0.013309173285961151, -0.12097511440515518, -0.018378086388111115, -0.09945258498191833, -0.01775580644607544, -0.018585164099931717, 0.08189215511083603, -0.01833374984562397, -0.17028388381004333, -0.019563907757401466, -0.016437765210866928, -0.0619739405810833, -0.15076550841331482, -0.017903121188282967, -0.017653917893767357, -0.014084214344620705, -0.019126150757074356, -0.011254828423261642, -0.010773427784442902, -0.0347074493765831, -0.043403260409832, -0.018623242154717445, -0.10103018581867218, -0.014144428074359894, -0.012958458624780178, -0.071803517639637, -0.017818324267864227, -0.018026385456323624, 0.012920981273055077, -0.20304656028747559, -0.008892746642231941, -0.01637805439531803, -0.009233193472027779, -0.008835573680698872, -0.01815822906792164, 0.029787473380565643, -0.01681631989777088, -0.021403145045042038, -0.03798630088567734, -0.014125613495707512, 0.03431146591901779, 0.012128944508731365, -0.1570158749818802, -0.023204687982797623, -0.022795449942350388, 0.051799751818180084, -0.031287793070077896, -0.02072855271399021, -0.019286397844552994, -0.019427120685577393, -0.0171351358294487, -0.01698281802237034, -0.020503554493188858, 0.011492013931274414, -0.05146891251206398, -0.014806102029979229, 0.017145313322544098, -0.010673069395124912, -0.02330755442380905, -0.009064634330570698, -0.018492287024855614, -0.016539335250854492, -0.011864767409861088, -0.014229891821742058, -0.025943206623196602, -0.019160432741045952, -0.02183295413851738, -0.015601962804794312, -0.0408635288476944, -0.01207203883677721, -0.01096406765282154, -0.05839033052325249, -0.018551770597696304, -0.012438725680112839, -0.011092164553701878, -0.02559077739715576, -0.10093510895967484, -0.01423194631934166, -0.009968697093427181, 0.009114800952374935, -0.019794128835201263, -0.014083340764045715, 0.003952471073716879, -0.004663039930164814, -0.015563378110527992, -0.01608901284635067, -0.013025001622736454, 0.038909606635570526, -0.14021438360214233, -0.020829347893595695, -0.020373206585645676, -0.010091555304825306, 0.001105108531191945, -0.013638648204505444, -0.020212974399328232, -0.019470812752842903, -0.016426419839262962, -0.011304457671940327, -0.01859278231859207, -0.011721136048436165, -0.016080455854535103, -0.01717015914618969, -0.0596928596496582, -0.07118329405784607, -0.008420641534030437, -0.006780831143260002, -0.043036844581365585, -0.019559798762202263, -0.05503058061003685, -0.005220495164394379, 0.01161462627351284, -0.010884887538850307, 0.0025458678137511015, -0.010188561864197254, -0.04709233343601227, 0.05818025767803192, -0.017543794587254524, -0.034640103578567505, -0.01520626712590456, -0.010133561678230762, -0.01033760979771614, -0.02089344896376133, -0.1433279663324356, -0.08109867572784424, -0.010228710249066353, -0.019065633416175842, -0.018652405589818954, -0.015915794298052788, -0.11685220152139664, -0.10346116125583649, -0.010837308131158352, -0.07533259689807892, -0.014966851100325584, 0.023340018466114998, -0.006233785301446915, -0.015241842716932297, -0.013812514021992683, -0.01644906960427761, -0.014867706224322319, 0.03801174461841583, -0.009399482049047947, -0.014549550600349903, -0.01656370609998703, -0.036684129387140274, 0.04053027182817459, -0.01020853966474533, 0.02999219484627247, 0.016430772840976715, -0.014446309767663479, -0.019620250910520554, -0.008889068849384785, -0.01505613885819912, -0.026050930842757225, -0.012660292908549309, -0.013421580195426941, -0.09085811674594879, 0.029943596571683884, -0.013310195878148079, -0.029965659603476524, -0.016494672745466232, -0.012319634668529034, -0.03517753258347511, -0.03854335844516754, -0.011794830672442913, 0.006071646232157946, -0.02799515426158905, 0.019441286101937294, -0.015370862558484077, 0.003055328270420432, -0.02502547949552536, -0.011838370002806187, -0.013142243027687073, -0.021145228296518326, -0.009494625963270664, -0.01414168905466795, 0.013366960920393467, -0.011700287461280823, -0.01064887922257185, -0.019429806619882584, -0.012593160383403301, -0.008721609599888325, -0.01839633658528328, -0.09378435462713242, -0.021412698552012444, -0.18405593931674957, -0.010087376460433006, -0.011153854429721832, -0.04087838903069496, -0.019295474514365196, -0.020554939284920692, -0.013982381671667099, 0.00016175516066141427, -0.019092964008450508, -0.020827632397413254, -0.012196365743875504, -0.11515940725803375, -0.027788471430540085, -0.06022537127137184, -0.017665840685367584, -0.018787387758493423, -0.012692115269601345, -0.016052717342972755, -0.025207147002220154, 0.039619795978069305, -0.015064987353980541, -0.020384686067700386, -0.015033857896924019, -0.07899253815412521, -0.014397158287465572, -0.0991448238492012, -0.019581325352191925, -0.014429888688027859, -0.009841274470090866, 0.014417826198041439, -0.19718311727046967, -0.020566154271364212, 0.05453410744667053, -0.015447938814759254, -0.00799201987683773, -0.02810477651655674, -0.01284909900277853, -0.09310351312160492, -0.015001818537712097, -0.03247231990098953, -0.011574791744351387, -0.02383376471698284, -0.012924367561936378, -0.02008800394833088, -0.009575337171554565, -0.013604487292468548, -0.02300255000591278, -0.02917376160621643, -0.011511062271893024, -0.03688172996044159, -0.017808422446250916, -0.01650811918079853, -0.013788173906505108, -0.02269132249057293, -0.02343793585896492, -0.01785518042743206, -0.033753491938114166, -0.009549425914883614, -0.026364490389823914, -0.015625469386577606, -0.01313311979174614, -0.015756571665406227, -0.01682072877883911, -0.013991758227348328, -0.022752638906240463, -0.01247689500451088, -0.01140849944204092, -0.0898873433470726, -0.18670092523097992, -0.02819254994392395, -0.031215263530611992, -0.020427005365490913, -0.014214037917554379, -0.008754704147577286, -0.021733565255999565, -0.045376431196928024, -0.025797206908464432, -0.016257518902420998, -0.01926370896399021, -0.012347874231636524, -0.017930760979652405, -0.01040745247155428, -0.02171485871076584, -0.009567106142640114, -0.013945795595645905, -0.01284814067184925, -0.03567757084965706, -0.0045680757611989975, -0.01962299272418022, -0.024186115711927414, -0.11926419287919998, -0.016313103958964348, -0.00892859511077404, -0.07027731090784073, -0.11342129856348038, -0.011644736863672733, -0.01960132271051407, -0.08656013011932373, -0.01683502458035946, -0.05259133502840996, -0.017271017655730247, 0.02050834707915783, -0.054256655275821686, -0.04835309833288193, -0.01699884422123432, -0.008523677475750446, -0.014197511598467827, -0.023241005837917328, -0.02419847995042801, -0.015399736352264881, -0.013458294793963432, -0.01613282412290573, -0.014960762113332748, -0.01294706854969263, -0.04756053537130356, -0.008456515148282051, -0.01872141659259796, -0.043540108948946, -0.01308102160692215, -0.04276345297694206, 0.014826050959527493, -0.015055638737976551, -0.07946961373090744, -0.013558497652411461, -0.02942644990980625, -0.012350945733487606, -0.07023851573467255, -0.060992807149887085, 0.012242191471159458, 0.039864979684352875, 0.012534971348941326, -0.015255618840456009, -0.019068818539381027, -0.014190565794706345, -0.032031260430812836, -0.018704010173678398, -0.010570398531854153, -0.017750123515725136, -0.010944844223558903, -0.019468393176794052, -0.01800685003399849, -0.013687278144061565, -0.11041691899299622, 0.010250164195895195, -0.05049632117152214, -0.011592299677431583, -0.017558960244059563, -0.019341470673680305, -0.03858822211623192, 0.04348744824528694, -0.012265884317457676, -0.021494897082448006, -0.025225820019841194, -0.013447480276226997, -0.015158921480178833, -0.02055429108440876, -0.015228035859763622, -0.019661549478769302, -0.021608909592032433, -0.02180715650320053, -0.019144559279084206, -0.14467132091522217, -0.029729245230555534, 0.005664863158017397, -0.013983305543661118, -0.014725949615240097, -0.014528406783938408, -0.015377899631857872, -0.011092176660895348, -0.015765322372317314, -0.019554464146494865, -0.06463998556137085, -0.05057342350482941, -0.013546831905841827, -0.017858397215604782, -0.134144589304924, 0.0024455131497234106, -0.01730526238679886, -0.01217287965118885, -0.013857307843863964, -0.014618956483900547, -0.06418424099683762, -0.013369794934988022, -0.19135326147079468, 0.05467972904443741, -0.12898199260234833, -0.011045373976230621, -0.023745454847812653, -0.09335504472255707, -0.014601684175431728, -0.012555832974612713, -0.12015888839960098, -0.017233887687325478, -0.005589852575212717, -0.012347753159701824, -0.0960436686873436, -0.0179057028144598, -0.01787686161696911, -0.016529999673366547, -0.014889653772115707, -0.020263422280550003, 0.00582699291408062, -0.03404410928487778, -0.17167532444000244, 0.004381998907774687, -0.022457020357251167, -0.021701207384467125, 0.03586707264184952, -0.01666233316063881, -0.0425063818693161, -0.01730845309793949, -0.01670890487730503, -0.01624293439090252, -0.010888881981372833, -0.09805876016616821, 0.04191041737794876, -0.016052652150392532, -0.09625276923179626, -0.006287868600338697, -0.013528892770409584, -0.012585819698870182, -0.020733507350087166, -0.029480203986167908, -0.030885715037584305, -0.020202917978167534, -0.016361160203814507, 0.001667007221840322, -0.02116944082081318, -0.017348645254969597, -0.021107865497469902, -0.01123395748436451, -0.1327049732208252, -0.02755175158381462, -0.04031083360314369, -0.01667998917400837, -0.01634165458381176, -0.09284590184688568, -0.019734591245651245, -0.034796424210071564, -0.011949382722377777, -0.018774550408124924, 0.02739194594323635, -0.014856891706585884, 0.0040329196490347385, -0.07566116005182266, -0.013596144504845142, -0.02000473067164421, -0.01936689391732216, -0.017589377239346504, -0.013434621505439281, -0.03102683648467064, -0.0009750686585903168, -0.016107497736811638, -0.019636832177639008, -0.04318646714091301, -0.0090795261785388, -0.13529856503009796, -0.011661828495562077, -0.015044800005853176, -0.01750742644071579, -0.017681235447525978, 0.015184802003204823, -0.0205503199249506, -0.012056726031005383, -0.015683289617300034]]]}\n"
          ]
        }
      ],
      "source": [
        "first11harmonyvoiceembeddings = load_dataset('on1onmangoes/First11VoiceHarmonyEmbeddings071523GoodVersion', split='train')\n",
        "print(first11harmonyvoiceembeddings[:5])\n"
      ]
    },
    {
      "cell_type": "code",
      "execution_count": null,
      "metadata": {
        "id": "Txc7Q-BlNAVJ"
      },
      "outputs": [],
      "source": [
        "def load_harmony_frequency():\n",
        "  try:\n",
        "        # Load the HarmonyVoice dataset for first11 First11VoiceHarmonyEmbeddings071523GoodVersion\n",
        "      first11harmonyvoiceembeddings = load_dataset('on1onmangoes/First11VoiceHarmonyEmbeddings071523GoodVersion', split='train')\n",
        "      print(first11harmonyvoiceembeddings[:5])\n",
        "  except Exception as e:\n",
        "        print(f\"Failed to load speaker embeddings: {str(e)}\")\n",
        "        raise\n",
        "  return first11harmonyvoiceembeddings\n"
      ]
    },
    {
      "cell_type": "markdown",
      "metadata": {
        "id": "WGiSUK2MzDyU"
      },
      "source": [
        "### GuardianVigil: Test transcribe_chunked_audio function."
      ]
    },
    {
      "cell_type": "markdown",
      "metadata": {
        "id": "M-1Lpndx08MA"
      },
      "source": [
        "### **AccentNew Set path to test audio file--> **"
      ]
    },
    {
      "cell_type": "markdown",
      "source": [
        "### AccentNew Load Google Collab and Mount"
      ],
      "metadata": {
        "id": "M7uIadeBPXln"
      }
    },
    {
      "cell_type": "code",
      "source": [
        "from google.colab import drive"
      ],
      "metadata": {
        "id": "WSrCPaDcOQOD"
      },
      "execution_count": null,
      "outputs": []
    },
    {
      "cell_type": "code",
      "source": [
        "# Mount Google Drive\n",
        "drive.mount('/content/drive')"
      ],
      "metadata": {
        "colab": {
          "base_uri": "https://localhost:8080/"
        },
        "id": "JAv_Rr3dNNf2",
        "outputId": "0e0b6ca2-9713-401d-b9dd-78659050bd33"
      },
      "execution_count": null,
      "outputs": [
        {
          "output_type": "stream",
          "name": "stdout",
          "text": [
            "Mounted at /content/drive\n"
          ]
        }
      ]
    },
    {
      "cell_type": "code",
      "source": [
        "folder_path = \"/content/drive/MyDrive/ReMine/\"\n"
      ],
      "metadata": {
        "id": "fYNHFlgPNCNy"
      },
      "execution_count": null,
      "outputs": []
    },
    {
      "cell_type": "markdown",
      "source": [
        "### AccentNew Load and Test Audio File into Runtime directly"
      ],
      "metadata": {
        "id": "KgmV8-BNP8t7"
      }
    },
    {
      "cell_type": "markdown",
      "source": [
        "The code here is to load files into the runtime directly"
      ],
      "metadata": {
        "id": "QFcbowYyP-0a"
      }
    },
    {
      "cell_type": "code",
      "execution_count": null,
      "metadata": {
        "id": "r68n1kQy4DiF",
        "colab": {
          "base_uri": "https://localhost:8080/",
          "height": 39
        },
        "outputId": "cc440bbf-9a95-451e-c0ed-3e5072698485"
      },
      "outputs": [
        {
          "output_type": "display_data",
          "data": {
            "text/plain": [
              "<IPython.core.display.HTML object>"
            ],
            "text/html": [
              "\n",
              "     <input type=\"file\" id=\"files-b5aec63b-e185-44f8-a8cb-9394e3b0d821\" name=\"files[]\" multiple disabled\n",
              "        style=\"border:none\" />\n",
              "     <output id=\"result-b5aec63b-e185-44f8-a8cb-9394e3b0d821\">\n",
              "      Upload widget is only available when the cell has been executed in the\n",
              "      current browser session. Please rerun this cell to enable.\n",
              "      </output>\n",
              "      <script>// Copyright 2017 Google LLC\n",
              "//\n",
              "// Licensed under the Apache License, Version 2.0 (the \"License\");\n",
              "// you may not use this file except in compliance with the License.\n",
              "// You may obtain a copy of the License at\n",
              "//\n",
              "//      http://www.apache.org/licenses/LICENSE-2.0\n",
              "//\n",
              "// Unless required by applicable law or agreed to in writing, software\n",
              "// distributed under the License is distributed on an \"AS IS\" BASIS,\n",
              "// WITHOUT WARRANTIES OR CONDITIONS OF ANY KIND, either express or implied.\n",
              "// See the License for the specific language governing permissions and\n",
              "// limitations under the License.\n",
              "\n",
              "/**\n",
              " * @fileoverview Helpers for google.colab Python module.\n",
              " */\n",
              "(function(scope) {\n",
              "function span(text, styleAttributes = {}) {\n",
              "  const element = document.createElement('span');\n",
              "  element.textContent = text;\n",
              "  for (const key of Object.keys(styleAttributes)) {\n",
              "    element.style[key] = styleAttributes[key];\n",
              "  }\n",
              "  return element;\n",
              "}\n",
              "\n",
              "// Max number of bytes which will be uploaded at a time.\n",
              "const MAX_PAYLOAD_SIZE = 100 * 1024;\n",
              "\n",
              "function _uploadFiles(inputId, outputId) {\n",
              "  const steps = uploadFilesStep(inputId, outputId);\n",
              "  const outputElement = document.getElementById(outputId);\n",
              "  // Cache steps on the outputElement to make it available for the next call\n",
              "  // to uploadFilesContinue from Python.\n",
              "  outputElement.steps = steps;\n",
              "\n",
              "  return _uploadFilesContinue(outputId);\n",
              "}\n",
              "\n",
              "// This is roughly an async generator (not supported in the browser yet),\n",
              "// where there are multiple asynchronous steps and the Python side is going\n",
              "// to poll for completion of each step.\n",
              "// This uses a Promise to block the python side on completion of each step,\n",
              "// then passes the result of the previous step as the input to the next step.\n",
              "function _uploadFilesContinue(outputId) {\n",
              "  const outputElement = document.getElementById(outputId);\n",
              "  const steps = outputElement.steps;\n",
              "\n",
              "  const next = steps.next(outputElement.lastPromiseValue);\n",
              "  return Promise.resolve(next.value.promise).then((value) => {\n",
              "    // Cache the last promise value to make it available to the next\n",
              "    // step of the generator.\n",
              "    outputElement.lastPromiseValue = value;\n",
              "    return next.value.response;\n",
              "  });\n",
              "}\n",
              "\n",
              "/**\n",
              " * Generator function which is called between each async step of the upload\n",
              " * process.\n",
              " * @param {string} inputId Element ID of the input file picker element.\n",
              " * @param {string} outputId Element ID of the output display.\n",
              " * @return {!Iterable<!Object>} Iterable of next steps.\n",
              " */\n",
              "function* uploadFilesStep(inputId, outputId) {\n",
              "  const inputElement = document.getElementById(inputId);\n",
              "  inputElement.disabled = false;\n",
              "\n",
              "  const outputElement = document.getElementById(outputId);\n",
              "  outputElement.innerHTML = '';\n",
              "\n",
              "  const pickedPromise = new Promise((resolve) => {\n",
              "    inputElement.addEventListener('change', (e) => {\n",
              "      resolve(e.target.files);\n",
              "    });\n",
              "  });\n",
              "\n",
              "  const cancel = document.createElement('button');\n",
              "  inputElement.parentElement.appendChild(cancel);\n",
              "  cancel.textContent = 'Cancel upload';\n",
              "  const cancelPromise = new Promise((resolve) => {\n",
              "    cancel.onclick = () => {\n",
              "      resolve(null);\n",
              "    };\n",
              "  });\n",
              "\n",
              "  // Wait for the user to pick the files.\n",
              "  const files = yield {\n",
              "    promise: Promise.race([pickedPromise, cancelPromise]),\n",
              "    response: {\n",
              "      action: 'starting',\n",
              "    }\n",
              "  };\n",
              "\n",
              "  cancel.remove();\n",
              "\n",
              "  // Disable the input element since further picks are not allowed.\n",
              "  inputElement.disabled = true;\n",
              "\n",
              "  if (!files) {\n",
              "    return {\n",
              "      response: {\n",
              "        action: 'complete',\n",
              "      }\n",
              "    };\n",
              "  }\n",
              "\n",
              "  for (const file of files) {\n",
              "    const li = document.createElement('li');\n",
              "    li.append(span(file.name, {fontWeight: 'bold'}));\n",
              "    li.append(span(\n",
              "        `(${file.type || 'n/a'}) - ${file.size} bytes, ` +\n",
              "        `last modified: ${\n",
              "            file.lastModifiedDate ? file.lastModifiedDate.toLocaleDateString() :\n",
              "                                    'n/a'} - `));\n",
              "    const percent = span('0% done');\n",
              "    li.appendChild(percent);\n",
              "\n",
              "    outputElement.appendChild(li);\n",
              "\n",
              "    const fileDataPromise = new Promise((resolve) => {\n",
              "      const reader = new FileReader();\n",
              "      reader.onload = (e) => {\n",
              "        resolve(e.target.result);\n",
              "      };\n",
              "      reader.readAsArrayBuffer(file);\n",
              "    });\n",
              "    // Wait for the data to be ready.\n",
              "    let fileData = yield {\n",
              "      promise: fileDataPromise,\n",
              "      response: {\n",
              "        action: 'continue',\n",
              "      }\n",
              "    };\n",
              "\n",
              "    // Use a chunked sending to avoid message size limits. See b/62115660.\n",
              "    let position = 0;\n",
              "    do {\n",
              "      const length = Math.min(fileData.byteLength - position, MAX_PAYLOAD_SIZE);\n",
              "      const chunk = new Uint8Array(fileData, position, length);\n",
              "      position += length;\n",
              "\n",
              "      const base64 = btoa(String.fromCharCode.apply(null, chunk));\n",
              "      yield {\n",
              "        response: {\n",
              "          action: 'append',\n",
              "          file: file.name,\n",
              "          data: base64,\n",
              "        },\n",
              "      };\n",
              "\n",
              "      let percentDone = fileData.byteLength === 0 ?\n",
              "          100 :\n",
              "          Math.round((position / fileData.byteLength) * 100);\n",
              "      percent.textContent = `${percentDone}% done`;\n",
              "\n",
              "    } while (position < fileData.byteLength);\n",
              "  }\n",
              "\n",
              "  // All done.\n",
              "  yield {\n",
              "    response: {\n",
              "      action: 'complete',\n",
              "    }\n",
              "  };\n",
              "}\n",
              "\n",
              "scope.google = scope.google || {};\n",
              "scope.google.colab = scope.google.colab || {};\n",
              "scope.google.colab._files = {\n",
              "  _uploadFiles,\n",
              "  _uploadFilesContinue,\n",
              "};\n",
              "})(self);\n",
              "</script> "
            ]
          },
          "metadata": {}
        }
      ],
      "source": [
        "from google.colab import files\n",
        "audio_file_path = \"GMT20230112_DCC_1052.m4a\"\n",
        "uploaded = files.upload()\n",
        "\n",
        "for fn in uploaded.keys():\n",
        "  print('User uploaded file \"{audio_file_path}\" with length {length} bytes'.format(\n",
        "      name=fn, length=len(uploaded[fn])))\n"
      ]
    },
    {
      "cell_type": "markdown",
      "metadata": {
        "id": "2EKCvYFnhrYS"
      },
      "source": [
        "Test File uploaded file"
      ]
    },
    {
      "cell_type": "code",
      "execution_count": null,
      "metadata": {
        "colab": {
          "base_uri": "https://localhost:8080/"
        },
        "id": "EENPQexQ3vmD",
        "outputId": "a7fcc750-3591-470d-88bf-1c6bf362e657"
      },
      "outputs": [
        {
          "output_type": "stream",
          "name": "stdout",
          "text": [
            "The file doesn't exist. Please check the path.\n"
          ]
        }
      ],
      "source": [
        "import os\n",
        "from IPython.display import Audio\n",
        "\n",
        "#audio_file_path = \"/Downloads/GMT20230112_DCC_1052.m4a\"  # adjust this path based on your file location\n",
        "\n",
        "\n",
        "\n",
        "# Check if the file exists\n",
        "if os.path.exists(audio_file_path):\n",
        "    print(\"The file exists. You can proceed.\")\n",
        "    display(Audio(audio_file_path))  # This will play the audio file\n",
        "else:\n",
        "    print(\"The file doesn't exist. Please check the path.\")\n"
      ]
    },
    {
      "cell_type": "markdown",
      "metadata": {
        "id": "Jn-YicGTLmgW"
      },
      "source": [
        "### ************AccentNew **HarmonyVoice Collab load sample Audio File to Collab**"
      ]
    },
    {
      "cell_type": "markdown",
      "source": [
        "c = \"GMT20230112_DCC_1052.m4a\""
      ],
      "metadata": {
        "id": "FWaKBw1zQsDL"
      }
    },
    {
      "cell_type": "code",
      "source": [
        "audio_file_name = \"GMT20230112_DCC_1052.m4a\"\n",
        "audio_file_path = folder_path + audio_file_name\n",
        "print(audio_file_path)"
      ],
      "metadata": {
        "colab": {
          "base_uri": "https://localhost:8080/"
        },
        "id": "Z_aYZFC4RELI",
        "outputId": "c9028aca-891c-4493-b935-25a3b85b1352"
      },
      "execution_count": null,
      "outputs": [
        {
          "output_type": "stream",
          "name": "stdout",
          "text": [
            "/content/drive/MyDrive/ReMine/GMT20230112_DCC_1052.m4a\n"
          ]
        }
      ]
    },
    {
      "cell_type": "markdown",
      "metadata": {
        "id": "x5A52Vkfh7bM"
      },
      "source": [
        "### AccentNew load_audio_file(filepath -rb) Load Audio File as rb or Binary"
      ]
    },
    {
      "cell_type": "code",
      "source": [
        "BATCH_SIZE = 32\n",
        "CHUNK_LENGTH_S = 30\n",
        "NUM_PROC = 32\n",
        "FILE_LIMIT_MB = 1000\n",
        "YT_LENGTH_LIMIT_S = 7200  # limit to 2 hour YouTube files"
      ],
      "metadata": {
        "id": "t847EzxDWMEK"
      },
      "execution_count": null,
      "outputs": []
    },
    {
      "cell_type": "code",
      "execution_count": null,
      "metadata": {
        "id": "maqzshhSLuEx"
      },
      "outputs": [],
      "source": [
        "def load_audio_file_binary(file_path, file_limit_mb=FILE_LIMIT_MB):\n",
        "    # Check if the audio file is given as input\n",
        "    if file_path is None:\n",
        "        raise ValueError(\"No audio file provided!\")\n",
        "\n",
        "    # Check if the audio file size exceeds the allowed limit\n",
        "    file_size_mb = os.stat(file_path).st_size / (1024 * 1024)\n",
        "    if file_size_mb > file_limit_mb:\n",
        "        raise ValueError(f\"File size exceeds file size limit. Got file of size {file_size_mb:.2f}MB for a limit of {file_limit_mb}MB.\")\n",
        "\n",
        "    # Open and read the file in binary format\n",
        "    with open(file_path, \"rb\") as f:\n",
        "        file_data = f.read()\n",
        "\n",
        "    return file_data\n"
      ]
    },
    {
      "cell_type": "code",
      "source": [
        "audio = load_audio_file_binary(audio_file_path)"
      ],
      "metadata": {
        "id": "wt4jPchy0bbe"
      },
      "execution_count": null,
      "outputs": []
    },
    {
      "cell_type": "code",
      "source": [
        "# The output should be bytes. You can check this with:\n",
        "print(type(audio))\n",
        "\n",
        "# If you want to check the size of the data (in MB), you can do the following:\n",
        "data_size_mb = len(audio) / (1024 * 1024)\n",
        "print(f\"Data size: {data_size_mb:.2f}MB\")"
      ],
      "metadata": {
        "id": "9nbDcDo_1Dqp",
        "colab": {
          "base_uri": "https://localhost:8080/"
        },
        "outputId": "935f7c62-09cd-49be-c22d-be898c70aab7"
      },
      "execution_count": null,
      "outputs": [
        {
          "output_type": "stream",
          "name": "stdout",
          "text": [
            "<class 'bytes'>\n",
            "Data size: 10.82MB\n"
          ]
        }
      ]
    },
    {
      "cell_type": "markdown",
      "source": [
        "############################## End of load_audio_file (filepath -> Binary)"
      ],
      "metadata": {
        "id": "NBpJc6fVR29n"
      }
    },
    {
      "cell_type": "markdown",
      "source": [
        "### AccentNew Read .m4a files from Filepath"
      ],
      "metadata": {
        "id": "vQU-ZBwcSVi0"
      }
    },
    {
      "cell_type": "markdown",
      "source": [
        "To open and read .m4a files in Google Colab, you'll need a library that supports this audio format. The pydub library can handle this task. However, pydub relies on ffmpeg or avlib to handle audio conversion, so these need to be installed in your Google Colab environment. You can install them with the following commands:\n",
        "\n"
      ],
      "metadata": {
        "id": "FWG1u7zCSPqq"
      }
    },
    {
      "cell_type": "code",
      "source": [
        "!apt install -y ffmpeg\n",
        "!pip install pydub"
      ],
      "metadata": {
        "colab": {
          "base_uri": "https://localhost:8080/"
        },
        "id": "ri6kaLzfSjPs",
        "outputId": "7f6ba9bc-b401-4c77-8d04-3ea2f816ab59"
      },
      "execution_count": null,
      "outputs": [
        {
          "output_type": "stream",
          "name": "stdout",
          "text": [
            "Reading package lists... Done\n",
            "Building dependency tree       \n",
            "Reading state information... Done\n",
            "ffmpeg is already the newest version (7:4.2.7-0ubuntu0.1).\n",
            "0 upgraded, 0 newly installed, 0 to remove and 15 not upgraded.\n",
            "Requirement already satisfied: pydub in /usr/local/lib/python3.10/dist-packages (0.25.1)\n"
          ]
        }
      ]
    },
    {
      "cell_type": "code",
      "source": [
        "from pydub import AudioSegment\n",
        "\n",
        "# Load audio file\n",
        "audio = AudioSegment.from_file(audio_file_path)\n",
        "\n",
        "# Convert to .wav\n",
        "audio.export(\"output_file.wav\", format=\"wav\")"
      ],
      "metadata": {
        "colab": {
          "base_uri": "https://localhost:8080/"
        },
        "id": "6iX1OFamS9KW",
        "outputId": "1f034d96-023b-4eb1-af3a-78b0b1d1ff1f"
      },
      "execution_count": null,
      "outputs": [
        {
          "output_type": "execute_result",
          "data": {
            "text/plain": [
              "<_io.BufferedRandom name='output_file.wav'>"
            ]
          },
          "metadata": {},
          "execution_count": 50
        }
      ]
    },
    {
      "cell_type": "markdown",
      "source": [
        "Now you have a .wav file that can be processed by various audio processing libraries like librosa:"
      ],
      "metadata": {
        "id": "WlExcrcPTf6r"
      }
    },
    {
      "cell_type": "code",
      "source": [
        "! pip install librosa"
      ],
      "metadata": {
        "colab": {
          "base_uri": "https://localhost:8080/"
        },
        "id": "s3pLkj9_anL5",
        "outputId": "4a814f9f-8a2e-40db-e88d-cf202bd23727"
      },
      "execution_count": null,
      "outputs": [
        {
          "output_type": "stream",
          "name": "stdout",
          "text": [
            "Requirement already satisfied: librosa in /usr/local/lib/python3.10/dist-packages (0.10.0.post2)\n",
            "Requirement already satisfied: audioread>=2.1.9 in /usr/local/lib/python3.10/dist-packages (from librosa) (3.0.0)\n",
            "Requirement already satisfied: numpy!=1.22.0,!=1.22.1,!=1.22.2,>=1.20.3 in /usr/local/lib/python3.10/dist-packages (from librosa) (1.22.4)\n",
            "Requirement already satisfied: scipy>=1.2.0 in /usr/local/lib/python3.10/dist-packages (from librosa) (1.10.1)\n",
            "Requirement already satisfied: scikit-learn>=0.20.0 in /usr/local/lib/python3.10/dist-packages (from librosa) (1.2.2)\n",
            "Requirement already satisfied: joblib>=0.14 in /usr/local/lib/python3.10/dist-packages (from librosa) (1.3.1)\n",
            "Requirement already satisfied: decorator>=4.3.0 in /usr/local/lib/python3.10/dist-packages (from librosa) (4.4.2)\n",
            "Requirement already satisfied: numba>=0.51.0 in /usr/local/lib/python3.10/dist-packages (from librosa) (0.56.4)\n",
            "Requirement already satisfied: soundfile>=0.12.1 in /usr/local/lib/python3.10/dist-packages (from librosa) (0.12.1)\n",
            "Requirement already satisfied: pooch<1.7,>=1.0 in /usr/local/lib/python3.10/dist-packages (from librosa) (1.6.0)\n",
            "Requirement already satisfied: soxr>=0.3.2 in /usr/local/lib/python3.10/dist-packages (from librosa) (0.3.5)\n",
            "Requirement already satisfied: typing-extensions>=4.1.1 in /usr/local/lib/python3.10/dist-packages (from librosa) (4.7.1)\n",
            "Requirement already satisfied: lazy-loader>=0.1 in /usr/local/lib/python3.10/dist-packages (from librosa) (0.3)\n",
            "Requirement already satisfied: msgpack>=1.0 in /usr/local/lib/python3.10/dist-packages (from librosa) (1.0.5)\n",
            "Requirement already satisfied: llvmlite<0.40,>=0.39.0dev0 in /usr/local/lib/python3.10/dist-packages (from numba>=0.51.0->librosa) (0.39.1)\n",
            "Requirement already satisfied: setuptools in /usr/local/lib/python3.10/dist-packages (from numba>=0.51.0->librosa) (67.7.2)\n",
            "Requirement already satisfied: appdirs>=1.3.0 in /usr/local/lib/python3.10/dist-packages (from pooch<1.7,>=1.0->librosa) (1.4.4)\n",
            "Requirement already satisfied: packaging>=20.0 in /usr/local/lib/python3.10/dist-packages (from pooch<1.7,>=1.0->librosa) (23.1)\n",
            "Requirement already satisfied: requests>=2.19.0 in /usr/local/lib/python3.10/dist-packages (from pooch<1.7,>=1.0->librosa) (2.27.1)\n",
            "Requirement already satisfied: threadpoolctl>=2.0.0 in /usr/local/lib/python3.10/dist-packages (from scikit-learn>=0.20.0->librosa) (3.1.0)\n",
            "Requirement already satisfied: cffi>=1.0 in /usr/local/lib/python3.10/dist-packages (from soundfile>=0.12.1->librosa) (1.15.1)\n",
            "Requirement already satisfied: pycparser in /usr/local/lib/python3.10/dist-packages (from cffi>=1.0->soundfile>=0.12.1->librosa) (2.21)\n",
            "Requirement already satisfied: urllib3<1.27,>=1.21.1 in /usr/local/lib/python3.10/dist-packages (from requests>=2.19.0->pooch<1.7,>=1.0->librosa) (1.26.16)\n",
            "Requirement already satisfied: certifi>=2017.4.17 in /usr/local/lib/python3.10/dist-packages (from requests>=2.19.0->pooch<1.7,>=1.0->librosa) (2023.5.7)\n",
            "Requirement already satisfied: charset-normalizer~=2.0.0 in /usr/local/lib/python3.10/dist-packages (from requests>=2.19.0->pooch<1.7,>=1.0->librosa) (2.0.12)\n",
            "Requirement already satisfied: idna<4,>=2.5 in /usr/local/lib/python3.10/dist-packages (from requests>=2.19.0->pooch<1.7,>=1.0->librosa) (3.4)\n"
          ]
        }
      ]
    },
    {
      "cell_type": "code",
      "source": [
        "import librosa\n",
        "\n",
        "# Load the audio as a numpy array\n",
        "data, sr = librosa.load(\"output_file.wav\")\n"
      ],
      "metadata": {
        "id": "EWm663xLThZo"
      },
      "execution_count": null,
      "outputs": []
    },
    {
      "cell_type": "code",
      "source": [
        "print(data)"
      ],
      "metadata": {
        "colab": {
          "base_uri": "https://localhost:8080/"
        },
        "id": "nhysYJCkTyav",
        "outputId": "dade250f-a6fb-4249-fbb4-36e2ca5b2300"
      },
      "execution_count": null,
      "outputs": [
        {
          "output_type": "stream",
          "name": "stdout",
          "text": [
            "[ 0.0000000e+00  0.0000000e+00  0.0000000e+00 ... -3.6083889e-05\n",
            "  5.3042437e-05 -3.8654667e-05]\n"
          ]
        }
      ]
    },
    {
      "cell_type": "markdown",
      "source": [
        "[ 0.0000000e+00  0.0000000e+00  0.0000000e+00 ... -3.6083889e-05\n",
        "  5.3042437e-05 -3.8654667e-05]"
      ],
      "metadata": {
        "id": "M6EJDcADxwvZ"
      }
    },
    {
      "cell_type": "markdown",
      "source": [
        "Test is sucessful to load this file. We need to make sure to convert the files into wav during loading and also ensure the microphone in gradio will do that which I think it does capture in wav. What about the phones in realtime."
      ],
      "metadata": {
        "id": "Hv8vzRxKT-wX"
      }
    },
    {
      "cell_type": "markdown",
      "source": [
        "### AccentNew Good Version Develop ReMine remine_load_audio (audio_file_path, audio_type='m4a'): -> numpy array"
      ],
      "metadata": {
        "id": "8yDKaVvVVw_n"
      }
    },
    {
      "cell_type": "code",
      "source": [
        "def remine_load_audio(audio_file_path, audio_type='m4a'): # --> numpy, AudioSegment, sr\n",
        "  # load audio file\n",
        "  audio = AudioSegment.from_file(audio_file_path)\n",
        "  print(\"the audio_file_path is:\")\n",
        "  print(audio_file_path)\n",
        "  # Convert to .wav\n",
        "  audio.export(\"output_file.wav\", format=\"wav\")\n",
        "\n",
        "  # Load the audio as a numpy array\n",
        "  data, sr = librosa.load(\"output_file.wav\")\n",
        "  print(\"the data is:\")\n",
        "  print(data)\n",
        "  return data,sr, audio\n"
      ],
      "metadata": {
        "id": "KXGGux4vUx7O"
      },
      "execution_count": null,
      "outputs": []
    },
    {
      "cell_type": "code",
      "source": [
        "print(data)"
      ],
      "metadata": {
        "colab": {
          "base_uri": "https://localhost:8080/"
        },
        "id": "yXqQQDz2yTlK",
        "outputId": "87962137-1631-4dba-e147-61f9414ec456"
      },
      "execution_count": null,
      "outputs": [
        {
          "output_type": "stream",
          "name": "stdout",
          "text": [
            "[ 0.0000000e+00  0.0000000e+00  0.0000000e+00 ... -3.6083889e-05\n",
            "  5.3042437e-05 -3.8654667e-05]\n"
          ]
        }
      ]
    },
    {
      "cell_type": "markdown",
      "source": [
        "Test remine_load_audio"
      ],
      "metadata": {
        "id": "TB2UjiuHWQEp"
      }
    },
    {
      "cell_type": "code",
      "source": [
        "audio_data,sr, audio = remine_load_audio(audio_file_path)"
      ],
      "metadata": {
        "colab": {
          "base_uri": "https://localhost:8080/"
        },
        "id": "xHI8FLcQWGt8",
        "outputId": "a0d9ca74-15e5-401a-a2a2-2c35e68719af"
      },
      "execution_count": null,
      "outputs": [
        {
          "output_type": "stream",
          "name": "stdout",
          "text": [
            "the audio_file_path is:\n",
            "/content/drive/MyDrive/ReMine/GMT20230112_DCC_1052.m4a\n",
            "the data is:\n",
            "[ 0.0000000e+00  0.0000000e+00  0.0000000e+00 ... -3.6083889e-05\n",
            "  5.3042437e-05 -3.8654667e-05]\n"
          ]
        }
      ]
    },
    {
      "cell_type": "code",
      "source": [
        "print(audio_data)"
      ],
      "metadata": {
        "colab": {
          "base_uri": "https://localhost:8080/"
        },
        "id": "uhcuQuFMXIwB",
        "outputId": "22df2485-e495-4d70-9be0-6a7ec05ed803"
      },
      "execution_count": null,
      "outputs": [
        {
          "output_type": "stream",
          "name": "stdout",
          "text": [
            "[ 0.0000000e+00  0.0000000e+00  0.0000000e+00 ... -3.6083889e-05\n",
            "  5.3042437e-05 -3.8654667e-05]\n"
          ]
        }
      ]
    },
    {
      "cell_type": "code",
      "source": [
        "print(sr)"
      ],
      "metadata": {
        "colab": {
          "base_uri": "https://localhost:8080/"
        },
        "id": "7O_Ytx0LGwpb",
        "outputId": "985a6e7b-f43c-4d90-ce62-6fa6a00be9d1"
      },
      "execution_count": null,
      "outputs": [
        {
          "output_type": "stream",
          "name": "stdout",
          "text": [
            "22050\n"
          ]
        }
      ]
    },
    {
      "cell_type": "markdown",
      "source": [
        "*[ 0.0000000e+00  0.0000000e+00  0.0000000e+00 ... -3.6083889e-05\n",
        "  5.3042437e-05 -3.8654667e-05]*"
      ],
      "metadata": {
        "id": "vp25rEEyy59a"
      }
    },
    {
      "cell_type": "markdown",
      "source": [
        "################### End of Function remine_load_audio (audio_file_path, audio_type='m4a'): -> numpy array"
      ],
      "metadata": {
        "id": "A__y9Fs_zBR-"
      }
    },
    {
      "cell_type": "markdown",
      "source": [
        "### AccentNew GoodVersion Testing ReMine function preprocess_audio(numpy array) --> numpy array"
      ],
      "metadata": {
        "id": "gth17NW31BOH"
      }
    },
    {
      "cell_type": "code",
      "source": [
        "### AccentNew GoodVersion Develop ReMine function preprocess_audio(numpy array) --> numpy array"
      ],
      "metadata": {
        "id": "Vx-m9dJUx-eH"
      },
      "execution_count": null,
      "outputs": []
    },
    {
      "cell_type": "code",
      "source": [
        "###audio_preprocessed = preprocess_audio(audio)"
      ],
      "metadata": {
        "id": "WSvesafp0pk1"
      },
      "execution_count": null,
      "outputs": []
    },
    {
      "cell_type": "code",
      "source": [
        "print(EFFECTS)"
      ],
      "metadata": {
        "colab": {
          "base_uri": "https://localhost:8080/"
        },
        "id": "yvtjachR0phb",
        "outputId": "a87e798d-c193-4f27-86fc-260f973ba8b9"
      },
      "execution_count": null,
      "outputs": [
        {
          "output_type": "stream",
          "name": "stdout",
          "text": [
            "[['remix', '-'], ['channels', '1'], ['rate', '16000'], ['gain', '-1.0'], ['silence', '1', '0.1', '0.1%', '-1', '0.1', '0.1%'], ['trim', '0', '10']]\n"
          ]
        }
      ]
    },
    {
      "cell_type": "markdown",
      "source": [
        "So here we are going to apply the EFFECTS during embedding, but as the extractor uses 32bit float we will use preprocesser_float to convert from 1600 to 32Bit Float"
      ],
      "metadata": {
        "id": "LjWeDX6sN9Zm"
      }
    },
    {
      "cell_type": "markdown",
      "source": [
        "def preprocess_audio_float(audio):\n",
        "    # First, make sure the data is in numpy array format.\n",
        "    audio = np.array(audio)\n",
        "\n",
        "    # If the audio is in `int16` format, convert it to `float32` (expected by WavLM).\n",
        "    if audio.dtype == np.int16:\n",
        "        audio = audio.astype(np.float32) / 32768.0 # int16 range is -32768 to 32767\n",
        "\n",
        "    return audio"
      ],
      "metadata": {
        "id": "5jXzmBeeRHvL"
      }
    },
    {
      "cell_type": "code",
      "source": [
        "import numpy as np"
      ],
      "metadata": {
        "id": "UpwL6QtsoCUf"
      },
      "execution_count": null,
      "outputs": []
    },
    {
      "cell_type": "code",
      "source": [
        "def preprocess_audio_float(audio):\n",
        "    # First, make sure the data is in numpy array format.\n",
        "    audio = np.array(audio)\n",
        "\n",
        "    # If the audio is in `int16` format, convert it to `float32` (expected by WavLM).\n",
        "    if audio.dtype == np.int16:\n",
        "        audio = audio.astype(np.float32) / 32768.0 # int16 range is -32768 to 32767\n",
        "\n",
        "    return audio"
      ],
      "metadata": {
        "id": "sbFHlYu1RQjJ"
      },
      "execution_count": null,
      "outputs": []
    },
    {
      "cell_type": "code",
      "source": [
        "audio_preprocessed = preprocess_audio_float(audio_data)"
      ],
      "metadata": {
        "id": "UNCbEL2kO355"
      },
      "execution_count": null,
      "outputs": []
    },
    {
      "cell_type": "code",
      "source": [
        "print(audio_preprocessed)"
      ],
      "metadata": {
        "colab": {
          "base_uri": "https://localhost:8080/"
        },
        "id": "zEjirRJ2PNU9",
        "outputId": "293af35e-7140-4e12-8d2e-aca1602d4815"
      },
      "execution_count": null,
      "outputs": [
        {
          "output_type": "stream",
          "name": "stdout",
          "text": [
            "[ 0.0000000e+00  0.0000000e+00  0.0000000e+00 ... -3.6083889e-05\n",
            "  5.3042437e-05 -3.8654667e-05]\n"
          ]
        }
      ]
    },
    {
      "cell_type": "markdown",
      "source": [
        "preprocess_audio_float returns the same array indicating the array is already in 32bitfloat. We will further verify"
      ],
      "metadata": {
        "id": "RkvQ1mcZS3Ff"
      }
    },
    {
      "cell_type": "markdown",
      "source": [
        "############################## **End of Testing ReMine Function preprocess_audio. Summary Use preprocessing_audio_float from HarmonyFrequency instead shown in code and text above**"
      ],
      "metadata": {
        "id": "4RdIn99kTGbg"
      }
    },
    {
      "cell_type": "markdown",
      "source": [
        "\n",
        "Comments when using the TensorEffect"
      ],
      "metadata": {
        "id": "0FMtGgGISxkl"
      }
    },
    {
      "cell_type": "markdown",
      "source": [
        "tensor([[-0.0167, -0.0232, -0.0167,  ...,  0.1225,  0.1236,  0.1269]]) Is the correct solution. The function preprocess_audio is not configured correctly and we will revist that component and also update the app_effects_tensor component to be more accurate and effective. Lets move on"
      ],
      "metadata": {
        "id": "JQE7aqfFPbN4"
      }
    },
    {
      "cell_type": "markdown",
      "source": [
        "(array([[-0.8912509,  0.       ,  0.       , ...,  0.8912509,  0.8912509,\n",
        "         0.8912509]], dtype=float32), 16000)\n",
        "BEWARE OF this output as it is causing issues. defaulting to HF embeddings and model creation.\n",
        "\n",
        "Using just the apply_effects_tensor is not changing the example few output but that could be as they are within range. tensor([[-0.0167, -0.0232, -0.0167,  ...,  0.1225,  0.1236,  0.1269]])\n",
        "\n",
        "\n",
        "Yes, the output you're getting from the preprocessing function appears to be correct. The audio data has been successfully transformed into a form suitable for input to a machine learning model.\n",
        "\n",
        "The audio has been converted to mono, downsampled to a lower frame rate, normalized, and transformed into a 2D numpy array. This is typically the format expected by machine learning models designed to process audio data, including WavLM.\n",
        "\n",
        "You should now proceed to the next steps of your process, such as feeding this preprocessed audio data into your model, extracting features, or whatever your next step may be.\n",
        "\n",
        "Remember, it's important to keep track of these transformations, and ensure that any future audio data you want the model to process undergoes the same preprocessing steps. This is necessary to ensure that the model behaves consistently and correctly."
      ],
      "metadata": {
        "id": "itni6lxy5lT7"
      }
    },
    {
      "cell_type": "code",
      "source": [
        "print(audio)"
      ],
      "metadata": {
        "colab": {
          "base_uri": "https://localhost:8080/"
        },
        "id": "Fiysxegt4e5F",
        "outputId": "c6deb201-1db9-4c5b-dc0d-804bd6d1a26f"
      },
      "execution_count": null,
      "outputs": [
        {
          "output_type": "stream",
          "name": "stdout",
          "text": [
            "<pydub.audio_segment.AudioSegment object at 0x7ad9a03edc30>\n"
          ]
        }
      ]
    },
    {
      "cell_type": "markdown",
      "source": [
        "############################### End of Testing ReMine function preprocess_audio(numpy array) --> numpy array\n"
      ],
      "metadata": {
        "id": "w41OlpoL5wbQ"
      }
    },
    {
      "cell_type": "markdown",
      "source": [
        "### AccentNew Build The Audio Chunking Feature before Feature Extraction Etc.\n",
        "he process of splitting the audio into chunks typically occurs before feature extraction for a few reasons:\n",
        "\n",
        "Computational efficiency: If you're working with long audio files, it can be computationally expensive to extract features from the entire file at once. By splitting the audio into chunks, you can extract features from each chunk separately, which can be more manageable.\n",
        "\n",
        "Temporal information: Many audio features, especially those used in tasks such as speech recognition or speaker identification, contain temporal information. This means that the features at one point in time are influenced by the features at previous points in time. By splitting the audio into chunks before feature extraction, you ensure that this temporal information is preserved within each chunk.\n",
        "\n",
        "Flexibility: By splitting the audio into chunks before feature extraction, you have the flexibility to extract different types of features from each chunk if needed. For example, you might want to extract Mel-frequency cepstral coefficients (MFCCs) from one chunk and spectral contrast from another chunk.\n",
        "\n",
        "So, in your case, it would be more beneficial to perform the chunking operation before feature extraction. You would chunk the audio first, then extract features from each chunk separately. The process would look something like this:\n",
        "\n",
        "Load the audio file.\n",
        "Split the audio into chunks.\n",
        "For each chunk, extract the features using your feature extractor.\n",
        "Use the extracted features for further analysis or input into a machine learning model."
      ],
      "metadata": {
        "id": "gxArjI0IwKWM"
      }
    },
    {
      "cell_type": "markdown",
      "source": [
        "1. Load the audio file.\n",
        "2. Split the audio into chunks.\n",
        "3. For each chunk, extract the features using your feature extractor.\n",
        "4. Use the extracted features for further analysis or input into a machine learning model.\n",
        "\n",
        "\n",
        "---\n",
        "\n"
      ],
      "metadata": {
        "id": "YGVFfQppwKSr"
      }
    },
    {
      "cell_type": "code",
      "source": [
        "def chunk_audio(preproceesed_audio_data, sr, chunk_size_seconds=5):\n",
        "    # Load the audio file\n",
        "    audio = preproceesed_audio_data\n",
        "    sr = sr\n",
        "\n",
        "    # Determine the size of each chunk in samples\n",
        "    chunk_size_samples = int(chunk_size_seconds * sr)\n",
        "\n",
        "    # Calculate the number of chunks\n",
        "    num_chunks = len(audio) // chunk_size_samples\n",
        "\n",
        "    # Initialize a container for the chunks\n",
        "    chunks = np.zeros((num_chunks + 1, chunk_size_samples))\n",
        "\n",
        "    # Fill the container with the audio chunks\n",
        "    for i in range(num_chunks):\n",
        "        chunks[i] = audio[i * chunk_size_samples: (i+1) * chunk_size_samples]\n",
        "\n",
        "    # Handle the leftover audio\n",
        "    leftover = audio[num_chunks * chunk_size_samples:]\n",
        "\n",
        "    # If there's leftover data, pad it with zeros and append it as the last chunk\n",
        "    if len(leftover) > 0:\n",
        "        chunks[-1, :len(leftover)] = leftover\n",
        "\n",
        "    # Create an array of start times for each chunk\n",
        "    start_times = np.arange(0, len(audio), chunk_size_samples)\n",
        "    end_times = start_times + chunk_size_samples\n",
        "    end_times[-1] = len(audio)  # The end time of the last chunk is the length of the audio\n",
        "\n",
        "    # Convert the times from samples to seconds\n",
        "    start_times_seconds = start_times / sr\n",
        "    end_times_seconds = end_times / sr\n",
        "\n",
        "    # Combine the start and end times into a list of tuples\n",
        "    timestamps = list(zip(start_times_seconds, end_times_seconds))\n",
        "\n",
        "    return chunks, timestamps\n"
      ],
      "metadata": {
        "id": "logAqEjW0ykK"
      },
      "execution_count": null,
      "outputs": []
    },
    {
      "cell_type": "code",
      "source": [
        "# Initialize an empty container for the chunks\n",
        "chunks = np.zeros((0,0))\n",
        "\n",
        "# Set your sample rate\n",
        "sr = 22050  # replace with your actual sample rate\n",
        "\n",
        "# Call the function with the required parameters\n",
        "chunks, timestamps = chunk_audio(audio_preprocessed, sr, chunk_size_seconds=1)\n",
        "\n",
        "# Now, `chunks` contains the audio data divided into chunks,\n",
        "# and `timestamps` contains the start and end times (in seconds) of each chunk.\n"
      ],
      "metadata": {
        "id": "hflsYLho0lC9"
      },
      "execution_count": null,
      "outputs": []
    },
    {
      "cell_type": "markdown",
      "source": [
        "Please replace audio_preprocessed with your actual preprocessed audio data and sr with your actual sample rate. The script will then chunk your audio data into chunks of 1 second each (you can change this by modifying chunk_size_seconds), and then print out the first 5 chunks and their corresponding start and end times."
      ],
      "metadata": {
        "id": "5h9AdaPJ1OT0"
      }
    },
    {
      "cell_type": "code",
      "source": [
        "# Now, `chunks` contains the audio data divided into chunks,\n",
        "# and `timestamps` contains the start and end times (in seconds) of each chunk\n",
        "\n",
        "# Let's print out the first 5 chunks and their corresponding timestamps\n",
        "for i in range(5):\n",
        "    print(f\"Chunk {i+1}:\")\n",
        "    print(chunks[i])\n",
        "    print(f\"Start time: {timestamps[i][0]} seconds, End time: {timestamps[i][1]} seconds\")\n",
        "    print(\"\\n\")\n"
      ],
      "metadata": {
        "colab": {
          "base_uri": "https://localhost:8080/"
        },
        "id": "KXsFy2rx1LS2",
        "outputId": "eee3763f-92d1-4d50-e78b-fee3ff63c3d1"
      },
      "execution_count": null,
      "outputs": [
        {
          "output_type": "stream",
          "name": "stdout",
          "text": [
            "Chunk 1:\n",
            "[0. 0. 0. ... 0. 0. 0.]\n",
            "Start time: 0.0 seconds, End time: 1.0 seconds\n",
            "\n",
            "\n",
            "Chunk 2:\n",
            "[0. 0. 0. ... 0. 0. 0.]\n",
            "Start time: 1.0 seconds, End time: 2.0 seconds\n",
            "\n",
            "\n",
            "Chunk 3:\n",
            "[ 0.00000000e+00  0.00000000e+00  0.00000000e+00 ... -8.70202421e-05\n",
            " -1.00720368e-04 -1.21761390e-04]\n",
            "Start time: 2.0 seconds, End time: 3.0 seconds\n",
            "\n",
            "\n",
            "Chunk 4:\n",
            "[-1.00774152e-04 -7.41221738e-05 -6.16762263e-05 ...  0.00000000e+00\n",
            "  0.00000000e+00  0.00000000e+00]\n",
            "Start time: 3.0 seconds, End time: 4.0 seconds\n",
            "\n",
            "\n",
            "Chunk 5:\n",
            "[0. 0. 0. ... 0. 0. 0.]\n",
            "Start time: 4.0 seconds, End time: 5.0 seconds\n",
            "\n",
            "\n"
          ]
        }
      ]
    },
    {
      "cell_type": "markdown",
      "source": [
        "################################ END of Audio Chunking"
      ],
      "metadata": {
        "id": "8xIFZ_3BwzyN"
      }
    },
    {
      "cell_type": "markdown",
      "source": [
        "### **** AccentNew Good Version and Initialize HarmonyFrequency for Speaker Embeddings, Pass to Feature Extraction and Create Speaker Embeddings  "
      ],
      "metadata": {
        "id": "eCaEVjM5_nVp"
      }
    },
    {
      "cell_type": "markdown",
      "source": [
        "All the model, device and feature extractor are configured in code HarmonyVoice Create HarmonyFrequency Model, Feature Extractor and Similarity\n",
        "model_name = \"microsoft/wavlm-base-plus-sv\"\n",
        "feature_extractor = AutoFeatureExtractor.from_pretrained(model_name)\n",
        "CosineSimilarity"
      ],
      "metadata": {
        "id": "SFeYM0w-IgdN"
      }
    },
    {
      "cell_type": "markdown",
      "source": [
        "Define the model name\n",
        "model_name = \"microsoft/wavlm-base-plus-sv\"\n",
        "\n",
        "Load the feature extractor\n",
        "feature_extractor = AutoFeatureExtractor.from_pretrained(model_name)\n",
        "\n",
        "Load the model, make sure to move the model to GPU if available\n",
        "model = AutoModelForAudioXVector.from_pretrained(model_name).to(device)\n",
        "\n",
        "Define the cosine similarity function\n",
        "cosine_sim = torch.nn.CosineSimilarity(dim=-1)\n",
        "\n",
        "Let's add some asserts to make sure everything is working as expected\n",
        " assert isinstance(feature_extractor, AutoFeatureExtractor), \"feature_extractor must be an instance of transformers.AutoFeatureExtractor\"\n",
        " assert isinstance(model, AutoModelForAudioXVector), \"model must be an instance of transformers.AutoModelForAudioXVector\"\n",
        " assert isinstance(cosine_sim, torch.nn.CosineSimilarity), \"cosine_sim must be an instance of torch.nn.CosineSimilarity\"\n"
      ],
      "metadata": {
        "id": "wHdoo-hqIzce"
      }
    },
    {
      "cell_type": "code",
      "source": [
        "# import os\n",
        "# import gradio as gr\n",
        "import torch\n",
        "# import pydub\n",
        "import torchaudio\n",
        "import librosa\n",
        "from torchaudio.sox_effects import apply_effects_tensor\n",
        "import numpy as np\n",
        "from transformers import AutoFeatureExtractor, AutoModelForAudioXVector"
      ],
      "metadata": {
        "id": "gnZWfUVxotN6"
      },
      "execution_count": null,
      "outputs": []
    },
    {
      "cell_type": "code",
      "source": [
        "device = torch.device('cuda' if torch.cuda.is_available() else 'cpu')\n",
        "print(device)"
      ],
      "metadata": {
        "colab": {
          "base_uri": "https://localhost:8080/"
        },
        "id": "EZkH6QkApDC1",
        "outputId": "2f399a08-76fa-4663-fd0c-2376606c8503"
      },
      "execution_count": null,
      "outputs": [
        {
          "output_type": "stream",
          "name": "stdout",
          "text": [
            "cuda\n"
          ]
        }
      ]
    },
    {
      "cell_type": "markdown",
      "source": [
        "audio_preprocessed and sr are returned from the preprocess_audio(audio) as audio_preprocessed and sr. In your code, librosa.load is a function that loads an audio file and returns the audio as a time series in a numpy array, along with the sample rate (sr).\n",
        "\n",
        "Therefore, the variable sr in your code represents the sample rate of the audio file \"output_file.wav\". The default sample rate in librosa.load is 22050 Hz, but it will be automatically resampled if the original audio has a different sample rate."
      ],
      "metadata": {
        "id": "4YbubwdAI1d9"
      }
    },
    {
      "cell_type": "code",
      "source": [
        "# Define the model name\n",
        "model_name = \"microsoft/wavlm-base-plus-sv\"\n",
        "\n",
        "# Load the feature extractor\n",
        "feature_extractor = AutoFeatureExtractor.from_pretrained(model_name)\n",
        "\n",
        "# Load the model, make sure to move the model to GPU if available\n",
        "model = AutoModelForAudioXVector.from_pretrained(model_name).to(device)\n",
        "\n",
        "# Define the cosine similarity function\n",
        "cosine_sim = torch.nn.CosineSimilarity(dim=-1)\n",
        "\n",
        "# # Let's add some asserts to make sure everything is working as expected\n",
        "# assert isinstance(feature_extractor, AutoFeatureExtractor), \"feature_extractor must be an instance of transformers.AutoFeatureExtractor\"\n",
        "# assert isinstance(model, AutoModelForAudioXVector), \"model must be an instance of transformers.AutoModelForAudioXVector\"\n",
        "# assert isinstance(cosine_sim, torch.nn.CosineSimilarity), \"cosine_sim must be an instance of torch.nn.CosineSimilarity\"\n"
      ],
      "metadata": {
        "id": "Y2xYsVAqU27J"
      },
      "execution_count": null,
      "outputs": []
    },
    {
      "cell_type": "code",
      "source": [
        "# Create a dictionary to store the embeddings for each speaker\n",
        "speaker_embeddings = {}"
      ],
      "metadata": {
        "id": "q3WwuQ7wU5vv"
      },
      "execution_count": null,
      "outputs": []
    },
    {
      "cell_type": "code",
      "source": [
        "# def process_audio_chunks(chunks, timestamps, feature_extractor, model, device):\n",
        "#     chunk_data = []\n",
        "\n",
        "#     for i, chunk in enumerate(chunks):\n",
        "#         # Convert the chunk to a numpy array (required by the feature_extractor)\n",
        "#         chunk_np = chunk.numpy()\n",
        "\n",
        "#         # Use the feature_extractor to get the features from the chunk\n",
        "#         inputs = feature_extractor(chunk_np, return_tensors=\"pt\", padding=\"longest\")\n",
        "\n",
        "#         # Move the inputs to the device\n",
        "#         inputs = {name: tensor.to(device) for name, tensor in inputs.items()}\n",
        "\n",
        "#         # TODO: Use the model to generate embeddings for the chunk\n",
        "#         with torch.no_grad():\n",
        "#             # If your model returns a dictionary, you might need to access the embeddings using a key.\n",
        "#             # For example: outputs = model(**inputs).last_hidden_state\n",
        "#             # In this case, replace 'TODO' with the appropriate key for your model.\n",
        "#             outputs = model(**inputs)\n",
        "\n",
        "#         chunk_embedding = outputs.TODO\n",
        "\n",
        "#         # TODO: Compute any other features you need from the chunk\n",
        "\n",
        "#         # Create a dictionary for this chunk\n",
        "#         chunk_dict = {\n",
        "#             'timestamp': timestamps[i],\n",
        "#             'chunk_embedding': chunk_embedding.cpu().numpy(),  # Move the embedding back to CPU and convert to numpy\n",
        "#             # TODO: Add any other data you need\n",
        "#         }\n",
        "\n",
        "#         chunk_data.append(chunk_dict)\n",
        "\n",
        "#     return chunk_data\n"
      ],
      "metadata": {
        "id": "1pppytHK6vLc"
      },
      "execution_count": null,
      "outputs": []
    },
    {
      "cell_type": "code",
      "source": [
        "input1 = feature_extractor(chunks[31], return_tensors=\"pt\", sampling_rate=16000).input_values.to(device)"
      ],
      "metadata": {
        "id": "dI4_aQ56-GUf"
      },
      "execution_count": null,
      "outputs": []
    },
    {
      "cell_type": "code",
      "source": [
        "print(input1.shape)"
      ],
      "metadata": {
        "colab": {
          "base_uri": "https://localhost:8080/"
        },
        "id": "RTjmNxthW_Wy",
        "outputId": "0e899cb1-f5b6-40c9-88c6-43a262cce127"
      },
      "execution_count": null,
      "outputs": [
        {
          "output_type": "stream",
          "name": "stdout",
          "text": [
            "torch.Size([1, 22050])\n"
          ]
        }
      ]
    },
    {
      "cell_type": "code",
      "source": [],
      "metadata": {
        "id": "l-ojJMuEXENC"
      },
      "execution_count": null,
      "outputs": []
    },
    {
      "cell_type": "code",
      "source": [
        "input1 = feature_extractor(chunks[31], return_tensors=\"pt\", sampling_rate=16000).input_values.to(device)\n",
        "\n",
        "# Print the type of the output\n",
        "print(type(input1))\n",
        "\n",
        "# Print the shape of the output\n",
        "print(input1.shape)\n",
        "\n",
        "# Print the device of the output\n",
        "print(input1.device)\n"
      ],
      "metadata": {
        "colab": {
          "base_uri": "https://localhost:8080/"
        },
        "id": "xS81tZVsARTC",
        "outputId": "b9bb2e57-80dc-4a37-8151-edb59a7d7e25"
      },
      "execution_count": null,
      "outputs": [
        {
          "output_type": "stream",
          "name": "stdout",
          "text": [
            "<class 'torch.Tensor'>\n",
            "torch.Size([1, 22050])\n",
            "cuda:0\n"
          ]
        }
      ]
    },
    {
      "cell_type": "code",
      "source": [
        "with torch.no_grad():\n",
        "        emb1 = model(input1).embeddings\n"
      ],
      "metadata": {
        "id": "Y3XMSuxTAgBP"
      },
      "execution_count": null,
      "outputs": []
    },
    {
      "cell_type": "code",
      "source": [
        "print(emb1.shape)\n",
        "\n"
      ],
      "metadata": {
        "colab": {
          "base_uri": "https://localhost:8080/"
        },
        "id": "Yz_Zd5f9AiUY",
        "outputId": "923dfa41-ab70-4683-812c-b6d067cd2447"
      },
      "execution_count": null,
      "outputs": [
        {
          "output_type": "stream",
          "name": "stdout",
          "text": [
            "torch.Size([1, 512])\n"
          ]
        }
      ]
    },
    {
      "cell_type": "code",
      "source": [
        "emb1 = torch.nn.functional.normalize(emb1, dim=-1).cpu()\n"
      ],
      "metadata": {
        "id": "_Xrvfi84AuWr"
      },
      "execution_count": null,
      "outputs": []
    },
    {
      "cell_type": "code",
      "source": [
        "print(emb1.shape)\n",
        "print(emb1)"
      ],
      "metadata": {
        "colab": {
          "base_uri": "https://localhost:8080/"
        },
        "id": "6IvZCx--BiVN",
        "outputId": "afbde1b3-c76d-40c3-d6a7-4a8a474491da"
      },
      "execution_count": null,
      "outputs": [
        {
          "output_type": "stream",
          "name": "stdout",
          "text": [
            "torch.Size([1, 512])\n",
            "tensor([[-9.2433e-03, -5.5753e-03, -9.3341e-03, -7.3120e-02, -1.1113e-02,\n",
            "         -2.2928e-02, -8.6475e-02, -8.8264e-03, -1.0725e-01, -7.3543e-03,\n",
            "         -7.3784e-03, -4.8422e-03, -1.1148e-02, -3.5214e-03, -4.7700e-02,\n",
            "         -8.6177e-03, -4.8941e-03, -7.6929e-03, -6.7182e-03, -4.3021e-03,\n",
            "         -6.1805e-03, -6.9712e-03, -8.5220e-03, -1.3553e-02, -6.5038e-03,\n",
            "         -5.1272e-03, -1.0339e-02, -1.5260e-02, -2.0862e-03, -1.5855e-01,\n",
            "         -1.0028e-02, -7.0597e-03, -5.7335e-03, -1.1656e-02, -6.9951e-03,\n",
            "         -1.1703e-02, -1.2117e-01,  5.5904e-02, -1.6592e-01, -1.2572e-02,\n",
            "         -6.4837e-03, -7.1726e-03, -1.4154e-02, -6.9893e-03, -1.3360e-01,\n",
            "         -1.0589e-02, -1.0222e-02, -4.8465e-03, -5.3741e-02, -1.2631e-02,\n",
            "         -7.8336e-03, -1.2118e-02,  8.3833e-03, -1.0635e-02, -4.7819e-02,\n",
            "         -1.1581e-02, -8.6293e-02, -1.0036e-02, -1.0266e-02, -7.6777e-03,\n",
            "         -8.7508e-03, -7.3413e-02, -1.7905e-02, -1.1130e-02,  1.2399e-04,\n",
            "         -8.0669e-03, -4.6943e-03, -7.6430e-03, -8.7527e-03, -1.0725e-01,\n",
            "         -9.2079e-03,  4.3717e-02, -5.3043e-03, -9.2496e-03, -1.0131e-02,\n",
            "         -3.6739e-03, -6.0096e-02, -7.5974e-03, -7.6289e-03, -5.3649e-03,\n",
            "         -1.2799e-02, -4.0675e-03, -1.7881e-02, -1.1759e-01, -4.1591e-03,\n",
            "         -2.2912e-02, -1.0467e-02, -7.2455e-03,  5.3935e-03, -8.3716e-03,\n",
            "         -5.5619e-03, -1.6056e-03, -5.0344e-02, -9.9352e-03, -6.3374e-03,\n",
            "         -6.5152e-03, -7.4561e-03, -1.4236e-02, -5.5369e-02, -2.2300e-01,\n",
            "         -4.7323e-03, -3.3735e-02, -1.1262e-02, -6.9272e-02,  3.9204e-02,\n",
            "         -9.8377e-02, -1.2536e-02, -1.0831e-02, -1.5493e-01, -4.6909e-02,\n",
            "         -1.9367e-02, -5.6520e-03, -2.8311e-03, -8.1558e-03, -1.1271e-02,\n",
            "         -8.9831e-03, -1.1394e-01, -1.7038e-02, -1.2837e-02, -1.0231e-01,\n",
            "         -8.0564e-03, -1.2776e-02, -6.1285e-03, -4.9297e-03, -8.9197e-03,\n",
            "         -7.8090e-03, -1.0629e-02, -1.3523e-02, -1.4685e-02, -1.0731e-02,\n",
            "         -1.3336e-02, -3.4379e-02, -2.3988e-03, -6.8971e-03, -2.3248e-01,\n",
            "         -9.7478e-03, -5.1600e-03, -1.1236e-02,  2.8641e-02, -3.0684e-02,\n",
            "         -3.8235e-03, -8.0225e-03, -5.3344e-02, -1.0140e-02, -1.1587e-02,\n",
            "         -1.0396e-01, -3.3870e-02, -8.2209e-03, -1.5897e-02, -6.8153e-03,\n",
            "          3.5722e-02, -6.7825e-03, -1.2639e-02, -9.3997e-03, -5.2255e-03,\n",
            "         -8.3292e-02, -9.2665e-03, -8.2887e-03, -1.0813e-02, -4.7006e-03,\n",
            "         -6.9855e-03, -5.0812e-03, -1.3647e-02, -1.4783e-02,  2.7097e-02,\n",
            "          2.7888e-02, -1.4808e-01, -5.7056e-03, -2.7828e-03,  3.1068e-03,\n",
            "         -8.0314e-03, -2.6643e-02, -9.5709e-02, -9.9044e-02, -1.2127e-02,\n",
            "          3.3630e-06, -6.5055e-03,  5.6445e-03, -4.6508e-02, -1.0856e-02,\n",
            "         -6.7866e-03, -1.2542e-02, -9.1499e-03, -7.1988e-03, -3.7060e-03,\n",
            "          5.2259e-02,  2.9508e-02, -5.7866e-03, -9.0396e-03, -2.7933e-03,\n",
            "         -9.7916e-03, -1.4858e-02, -3.9771e-02, -5.9748e-03, -7.6933e-04,\n",
            "         -4.9549e-03, -8.7864e-02, -7.2469e-03, -1.8807e-03, -5.4047e-03,\n",
            "         -1.1957e-02, -1.4713e-02, -9.3220e-02, -8.6161e-03, -1.2741e-02,\n",
            "         -4.2877e-03, -9.9146e-02, -6.0317e-02, -7.7076e-03, -8.4842e-02,\n",
            "         -6.5464e-02, -1.0385e-02, -1.1243e-02, -1.6864e-02, -1.1175e-02,\n",
            "          4.1257e-02, -7.1215e-03, -7.8174e-03,  3.3113e-02, -3.2357e-02,\n",
            "         -8.0068e-03, -8.6768e-02, -1.1397e-02, -6.3817e-03, -6.1984e-02,\n",
            "         -1.1855e-01, -7.3128e-03, -4.9566e-02, -2.6890e-03, -1.3596e-01,\n",
            "         -8.4277e-03, -1.7772e-01, -1.4345e-02, -9.0035e-03, -6.9228e-03,\n",
            "         -7.2750e-03, -8.0181e-03, -1.2694e-02, -1.7459e-01, -7.7311e-03,\n",
            "         -4.7560e-03, -7.2395e-03, -1.1650e-02, -3.0914e-03, -1.0145e-02,\n",
            "         -5.5784e-02, -1.0786e-02,  4.6489e-02, -2.4074e-03, -5.9049e-03,\n",
            "         -8.3823e-03, -1.1286e-02, -6.5634e-03, -1.3387e-02, -8.1565e-03,\n",
            "         -6.7234e-03, -1.1483e-02, -4.8777e-03, -7.8150e-02, -6.4279e-02,\n",
            "         -4.9718e-03, -1.1554e-02, -8.6297e-03, -8.4065e-03,  3.1710e-02,\n",
            "         -1.3413e-02, -1.0020e-02, -1.3174e-02, -5.2633e-03, -4.7219e-03,\n",
            "         -8.6680e-02, -8.4591e-03, -4.5349e-02, -7.1997e-03, -8.1772e-03,\n",
            "         -8.1370e-03, -3.6305e-02, -1.3660e-02, -9.6404e-03, -4.7820e-02,\n",
            "         -4.7709e-03, -6.3475e-03,  1.1891e-02, -1.3355e-02, -4.2271e-02,\n",
            "         -1.0061e-02, -8.1163e-02, -9.3055e-03, -1.4852e-02, -7.6027e-03,\n",
            "         -8.5487e-03, -1.1118e-02, -1.0569e-02, -6.4829e-02, -1.0503e-02,\n",
            "         -1.1045e-02,  2.2531e-02, -1.1745e-02, -1.9683e-02, -1.1156e-03,\n",
            "         -1.0792e-02, -5.8528e-03, -1.0959e-02,  7.8889e-02, -5.4290e-03,\n",
            "         -1.2464e-02, -8.4728e-03, -1.0549e-02, -8.4708e-03, -7.0640e-03,\n",
            "         -3.7120e-03, -1.2019e-02, -1.2378e-01, -5.3861e-03,  1.1420e-03,\n",
            "         -1.1576e-01, -1.4335e-02, -9.8213e-03, -8.3421e-03, -1.0003e-02,\n",
            "          5.6337e-03, -9.4893e-03, -1.4151e-01, -2.6934e-03, -9.3547e-03,\n",
            "         -8.0879e-03, -4.2900e-03,  1.8479e-03, -6.0011e-03, -1.0193e-02,\n",
            "         -8.0992e-03, -8.2767e-03,  6.6868e-03, -5.1253e-03, -9.0689e-02,\n",
            "         -1.3871e-02, -1.1499e-02, -2.1379e-02, -8.1992e-03, -9.5160e-03,\n",
            "         -1.3563e-01, -4.2085e-02, -1.1418e-02, -8.2040e-03,  1.7793e-02,\n",
            "         -2.6042e-03, -4.9121e-02, -8.9908e-03, -2.8518e-02, -8.6232e-02,\n",
            "          5.6032e-03, -3.7559e-03,  9.9062e-03, -1.0034e-02, -1.8136e-02,\n",
            "         -1.0107e-02, -1.1696e-02, -6.3095e-03, -5.3584e-04, -1.0861e-02,\n",
            "         -8.3566e-03, -9.6649e-02, -7.4484e-03, -1.2740e-02, -1.9150e-02,\n",
            "         -9.5885e-03,  1.4640e-02,  2.0182e-02, -5.9094e-03, -3.8634e-02,\n",
            "         -8.4196e-03,  1.2434e-02, -6.2868e-03, -5.9174e-02,  4.5761e-02,\n",
            "         -9.2702e-02, -1.1582e-01,  2.0988e-02, -1.1336e-02, -8.0175e-03,\n",
            "         -1.1258e-02, -8.5348e-03, -1.3874e-02, -7.4637e-03, -5.6099e-03,\n",
            "         -6.4759e-03, -1.4728e-02, -9.0329e-03, -1.2834e-02,  2.7684e-02,\n",
            "          1.4200e-03, -7.6927e-02, -1.0423e-02, -1.1109e-02, -1.1233e-02,\n",
            "         -2.1184e-02, -1.1041e-01, -7.4773e-03, -9.0180e-03, -6.1093e-03,\n",
            "         -5.8744e-03, -9.0126e-03, -6.9455e-03, -6.0745e-03, -1.5253e-02,\n",
            "          2.8463e-02, -6.0921e-03, -1.4860e-02, -1.0935e-01, -1.7814e-02,\n",
            "         -6.0180e-02, -3.8892e-03, -7.8754e-03, -1.1026e-02, -5.0347e-03,\n",
            "         -6.3842e-03, -1.3589e-02, -1.3225e-02, -5.9725e-02, -6.9020e-03,\n",
            "         -8.0224e-03, -1.1335e-02,  1.2394e-02, -1.0113e-01, -6.8036e-03,\n",
            "         -2.9086e-03, -9.0908e-03, -1.2981e-02,  1.8959e-02, -8.1086e-03,\n",
            "          4.8740e-02, -5.8713e-02,  4.6829e-02, -9.3951e-03, -9.9085e-03,\n",
            "         -6.9885e-02, -3.0626e-03, -8.7772e-03,  5.7989e-02, -1.1128e-02,\n",
            "         -2.5832e-02, -8.5457e-03, -6.5867e-02, -1.0150e-02, -4.0665e-03,\n",
            "         -3.6971e-03, -8.8905e-03, -9.2982e-03, -8.6670e-03,  4.8526e-02,\n",
            "         -2.6066e-02, -1.1313e-01, -1.5428e-02, -5.8019e-03, -4.6945e-02,\n",
            "         -6.9148e-03,  3.2212e-02, -9.6363e-02, -1.4105e-02, -1.7713e-02,\n",
            "         -8.5407e-03, -3.5676e-02, -6.5412e-03, -8.3155e-03, -1.2544e-01,\n",
            "         -8.7976e-02, -5.2629e-03, -9.3217e-03, -5.5598e-03,  4.3733e-02,\n",
            "         -1.7640e-01, -1.3444e-02, -5.6705e-03, -6.3966e-02, -1.2285e-02,\n",
            "         -7.7165e-03, -7.7623e-02, -5.1426e-03, -1.5585e-01, -2.3740e-02,\n",
            "          2.4387e-02, -7.6206e-03, -8.7696e-03, -3.7067e-02, -5.5802e-03,\n",
            "         -1.7660e-02, -9.8346e-03, -5.5335e-03, -5.4289e-02, -1.1904e-02,\n",
            "         -2.3850e-02,  3.7653e-02, -9.1635e-03, -5.6823e-03, -6.1805e-02,\n",
            "         -9.2793e-03, -7.5669e-03,  4.6987e-04,  1.2558e-02, -2.9363e-02,\n",
            "         -8.4148e-03, -1.0055e-01, -9.1594e-03, -5.8630e-02, -5.1033e-03,\n",
            "         -7.7624e-03, -6.9102e-03, -1.7938e-02, -3.9316e-02, -8.8276e-03,\n",
            "         -8.3520e-03, -1.0466e-02]])\n"
          ]
        }
      ]
    },
    {
      "cell_type": "markdown",
      "source": [
        "### AccentNew HarmonyFrequency Extract_Embeddings Good Version"
      ],
      "metadata": {
        "id": "ASCnSSvQh9YE"
      }
    },
    {
      "cell_type": "code",
      "source": [
        "from datasets import Dataset\n",
        "\n",
        "def extract_embeddings(chunks, timestamps, feature_extractor, model, device):\n",
        "    # Initialize containers for the embeddings, timestamps, and file paths\n",
        "    embeddings = []\n",
        "    embeddings_timestamps = []\n",
        "\n",
        "    # Loop through each chunk of audio\n",
        "    for i, chunk in enumerate(chunks):\n",
        "        # Convert the chunk to the appropriate format for the model\n",
        "        inputs = feature_extractor(chunk, return_tensors=\"pt\", sampling_rate=16000).input_values.to(device)\n",
        "\n",
        "        # Get the embeddings for this chunk\n",
        "        with torch.no_grad():\n",
        "            embeddings_chunk = model(inputs).embeddings\n",
        "\n",
        "        # Normalize the embeddings\n",
        "        embeddings_chunk = torch.nn.functional.normalize(embeddings_chunk, dim=-1).cpu()\n",
        "\n",
        "        # Convert the PyTorch tensor to a numpy array\n",
        "        embeddings_chunk_numpy = embeddings_chunk.numpy()\n",
        "\n",
        "        # Append the embeddings and corresponding timestamp to our lists\n",
        "        embeddings.append(embeddings_chunk_numpy)\n",
        "        embeddings_timestamps.append(timestamps[i])\n",
        "\n",
        "    return embeddings, embeddings_timestamps\n"
      ],
      "metadata": {
        "id": "wjE97NaVh-9i"
      },
      "execution_count": null,
      "outputs": []
    },
    {
      "cell_type": "markdown",
      "source": [
        "\n",
        "### AccentNew GoodVersion Call the Extract Embeddings\n",
        "\n",
        "```\n",
        "# This is formatted as code\n",
        "```\n",
        "\n"
      ],
      "metadata": {
        "id": "_bu7_JhbiFJT"
      }
    },
    {
      "cell_type": "code",
      "source": [
        "# Call the function\n",
        "embeddings, embeddings_timestamps = extract_embeddings(chunks, timestamps, feature_extractor, model, device)\n"
      ],
      "metadata": {
        "id": "dMyKLBOqiaal"
      },
      "execution_count": null,
      "outputs": []
    },
    {
      "cell_type": "markdown",
      "source": [
        "### AccentNew Create the HarmonyFrequency DataSet of Embeddings"
      ],
      "metadata": {
        "id": "l_D_o7oFjM76"
      }
    },
    {
      "cell_type": "code",
      "source": [
        "data = {'embeddings': embeddings, 'audio_file_path': [audio_file_path]*len(embeddings), 'timestamps': timestamps}\n",
        "\n",
        "dataset = Dataset.from_dict(data)\n",
        "\n",
        "dataset.save_to_disk(audio_file_path + \"_embeddings\")\n"
      ],
      "metadata": {
        "colab": {
          "base_uri": "https://localhost:8080/",
          "height": 17,
          "referenced_widgets": [
            "3958adc5ea484492a06868e066abfbbe",
            "6eba915ebdbf4f088e8bd69f9cf56edd",
            "42c08717dc5f40ce8639d66dc3f5e9a5",
            "ceaa16950c95491782c629130de01db0",
            "a55da1c894d0483aaafa3696233bc6ef",
            "d45f21c6fe8a4f84a950e589d4a1594e",
            "056cae48d08748eb818d13cfb3f27903",
            "ebb2e9dc3e274781859526b00663508e",
            "d6613c23662e434fbdb92a779e7ec479",
            "fb811dfdda3b4dbfa1e85319c4c6a476",
            "c40dadd8854a4c559ad3f418ec2badc2"
          ]
        },
        "id": "QsXJ5Iq0jKMJ",
        "outputId": "1c27a982-7393-4b48-ae8c-ac1445348cac"
      },
      "execution_count": null,
      "outputs": [
        {
          "output_type": "display_data",
          "data": {
            "text/plain": [
              "Saving the dataset (0/1 shards):   0%|          | 0/713 [00:00<?, ? examples/s]"
            ],
            "application/vnd.jupyter.widget-view+json": {
              "version_major": 2,
              "version_minor": 0,
              "model_id": "3958adc5ea484492a06868e066abfbbe"
            }
          },
          "metadata": {}
        }
      ]
    },
    {
      "cell_type": "code",
      "source": [
        "GMT20230112_DCC_1052_Embeddings = dataset\n",
        "GMT20230112_DCC_1052_Embeddings.save_to_disk('/path/to/huggingface/dataset/repository')\n"
      ],
      "metadata": {
        "colab": {
          "base_uri": "https://localhost:8080/",
          "height": 17,
          "referenced_widgets": [
            "0ea793c74bf440c6b3902e5870c5f924",
            "bec574bbf01b45cf803c3bec3f18b294",
            "07ab949492df4147a2dca695546d13ff",
            "fecf640aeb5248b4a56116fab29cd6ae",
            "e27de8c810ae4621af13a85a792a4a08",
            "a57699bf3b9840ceaf4a3922ae0ac41e",
            "69b566580d3f441b9e20cb7077a84d18",
            "9fcecd997bb4444e9db8c38eb1201e9d",
            "4506285a54df40b9968a47f115da09b2",
            "6feb1f9bf64c4779bccf3748aec5def3",
            "b7bd55bda6224fee85b0f668c2ffd98e"
          ]
        },
        "id": "TErAWaaJjnHL",
        "outputId": "56b5c2b7-b2f4-440f-f391-71c8edaae195"
      },
      "execution_count": null,
      "outputs": [
        {
          "output_type": "display_data",
          "data": {
            "text/plain": [
              "Saving the dataset (0/1 shards):   0%|          | 0/713 [00:00<?, ? examples/s]"
            ],
            "application/vnd.jupyter.widget-view+json": {
              "version_major": 2,
              "version_minor": 0,
              "model_id": "0ea793c74bf440c6b3902e5870c5f924"
            }
          },
          "metadata": {}
        }
      ]
    },
    {
      "cell_type": "code",
      "source": [
        "GMT20230112_DCC_1052_Embeddings.push_to_hub(f\"{hf_username}/GMT20230112_DCC_1052_Embeddings\")"
      ],
      "metadata": {
        "colab": {
          "base_uri": "https://localhost:8080/",
          "height": 131,
          "referenced_widgets": [
            "8eb4105f6b7a48ac844532c15c16b22c",
            "a6d7735e2ed441e28f5a0f31bed998fc",
            "2dde10a270eb474fb77dadd1642d3102",
            "af9047fd47f34311907e6b5a7485fa17",
            "8c4d103b76964b579a52fde863a1f95f",
            "07c37f5c0be34b6fa791b71cc1686249",
            "ee9cfdacbc19429ea2e50f15cc5940d0",
            "e73509a4136940d58c66027b36ea31cf",
            "6d708e4a769d480b8e3d38bcf166a484",
            "ee3eacfc78f04b70bbe1031886704993",
            "bf462fa851f94397bb159c106724ea16",
            "682d1a40f42442f297744a0a59f4cc32",
            "0bfc5caffd8544f5bac389797a58e4d1",
            "a7bb3f11f0754f7592e32ba32a947aa9",
            "071e0ec9318f4ff286105f39d13a379c",
            "4dea69dbb33d4828ae86bb0db5cbf9fc",
            "3b83afc3208746368d36b53bed613143",
            "edfe2db19b254d9d9c4ed73408e3e196",
            "6c9b0a9021f046b18a72b29d964a1db2",
            "3593f628cd214913a8bcbbfede3e73a6",
            "a37b5bcf182c48869728899a944d435d",
            "6d632a9fef594a2c933d569577d09365",
            "b973e9aee1364400b0c22e386d0f540f",
            "41dd4929b9d64f7da519531e8a333044",
            "2cbf486f658e46a6bc3d6cafd24f7bcc",
            "27c920e6e2ed461f89e222937bd33a2e",
            "fd057707d6a64a64ad5aa7482b575927",
            "80c03560ba944a4f8cfc25cbe937af9e",
            "dd4a27c252a44d4fa5101b21026594b5",
            "d48f2effa62843389241d8a810b389a3",
            "c1518ca0348d42ecb8f9f3a10a19bfba",
            "4dff9496f7044824a5ac4bcf00a40689",
            "3c378a8e4f0a49e4a9657d559a747386"
          ]
        },
        "id": "ghjhiqzjkjpN",
        "outputId": "78ed8cbe-3c5d-4878-b8e5-e45029eab2de"
      },
      "execution_count": null,
      "outputs": [
        {
          "output_type": "display_data",
          "data": {
            "text/plain": [
              "Pushing dataset shards to the dataset hub:   0%|          | 0/1 [00:00<?, ?it/s]"
            ],
            "application/vnd.jupyter.widget-view+json": {
              "version_major": 2,
              "version_minor": 0,
              "model_id": "8eb4105f6b7a48ac844532c15c16b22c"
            }
          },
          "metadata": {}
        },
        {
          "output_type": "display_data",
          "data": {
            "text/plain": [
              "Creating parquet from Arrow format:   0%|          | 0/1 [00:00<?, ?ba/s]"
            ],
            "application/vnd.jupyter.widget-view+json": {
              "version_major": 2,
              "version_minor": 0,
              "model_id": "682d1a40f42442f297744a0a59f4cc32"
            }
          },
          "metadata": {}
        },
        {
          "output_type": "display_data",
          "data": {
            "text/plain": [
              "Deleting unused files from dataset repository:   0%|          | 0/1 [00:00<?, ?it/s]"
            ],
            "application/vnd.jupyter.widget-view+json": {
              "version_major": 2,
              "version_minor": 0,
              "model_id": "b973e9aee1364400b0c22e386d0f540f"
            }
          },
          "metadata": {}
        },
        {
          "output_type": "stream",
          "name": "stderr",
          "text": [
            "WARNING:datasets.arrow_dataset:Updating downloaded metadata with the new split.\n"
          ]
        }
      ]
    },
    {
      "cell_type": "markdown",
      "source": [
        "############# End of Create HarmonyFrequency Dataset of Embeddings."
      ],
      "metadata": {
        "id": "n2L4ShEj4N3s"
      }
    },
    {
      "cell_type": "markdown",
      "source": [
        "### AccentNew Create Combined First11HarmonyFrequency and GMT20230112_DCC_1052_Embeddings"
      ],
      "metadata": {
        "id": "QGZ6gWF-4VMt"
      }
    },
    {
      "cell_type": "code",
      "source": [
        "from datasets import concatenate_datasets\n",
        "\n",
        "# first11harmonyvoiceembeddings and GMT20230112_DCC_1052_Embeddings should be instances of datasets.Dataset\n",
        "assert isinstance(first11harmonyvoiceembeddings, Dataset), \"first11harmonyvoiceembeddings must be an instance of datasets.Dataset\"\n",
        "assert isinstance(GMT20230112_DCC_1052_Embeddings, Dataset), \"GMT20230112_DCC_1052_Embeddings must be an instance of datasets.Dataset\"\n",
        "\n",
        "# Concatenate the datasets\n",
        "concatenated_dataset = concatenate_datasets([first11harmonyvoiceembeddings, GMT20230112_DCC_1052_Embeddings])"
      ],
      "metadata": {
        "id": "wQt4GIGc4ip3"
      },
      "execution_count": null,
      "outputs": []
    },
    {
      "cell_type": "code",
      "source": [
        "# Calculate the lengths of the individual datasets\n",
        "length_first11 = len(first11harmonyvoiceembeddings)\n",
        "length_GMT2023 = len(GMT20230112_DCC_1052_Embeddings)\n",
        "\n",
        "# Calculate the length of the concatenated dataset\n",
        "length_concatenated = len(concatenated_dataset)\n",
        "\n",
        "# Check if the length of the concatenated dataset is equal to the sum of the lengths of the individual datasets\n",
        "if length_concatenated == length_first11 + length_GMT2023:\n",
        "    print(\"Concatenation successful!\")\n",
        "else:\n",
        "    print(\"Concatenation was not successful.\")\n"
      ],
      "metadata": {
        "colab": {
          "base_uri": "https://localhost:8080/"
        },
        "id": "zYGwKfbIBqHf",
        "outputId": "0efb85c6-3b4d-4e2a-ac0a-22e7728c6afe"
      },
      "execution_count": null,
      "outputs": [
        {
          "output_type": "stream",
          "name": "stdout",
          "text": [
            "Concatenation successful!\n"
          ]
        }
      ]
    },
    {
      "cell_type": "markdown",
      "source": [
        "Add Labels to the GalacticPhantom"
      ],
      "metadata": {
        "id": "b90ciFqX2jfa"
      }
    },
    {
      "cell_type": "code",
      "source": [
        "print(concatenate_datasets)"
      ],
      "metadata": {
        "colab": {
          "base_uri": "https://localhost:8080/"
        },
        "id": "BcnCnSlCBYv3",
        "outputId": "be7de864-80ab-4e5f-ad6e-bd6a948084b5"
      },
      "execution_count": null,
      "outputs": [
        {
          "output_type": "stream",
          "name": "stdout",
          "text": [
            "<function concatenate_datasets at 0x7ad9a1cf0af0>\n"
          ]
        }
      ]
    },
    {
      "cell_type": "markdown",
      "source": [
        "###************* End of AccentNew Combined Dataset"
      ],
      "metadata": {
        "id": "UrWYeB6diBzz"
      }
    },
    {
      "cell_type": "markdown",
      "source": [
        "### AccentNew Call GalacticPhantom"
      ],
      "metadata": {
        "id": "DCM0R8hyDE6L"
      }
    },
    {
      "cell_type": "code",
      "source": [
        "# Prepare the embeddings from the concatenated dataset\n",
        "embeddings = np.vstack(concatenated_dataset[\"embeddings\"])\n",
        "\n",
        "# Decide on the number of clusters, you can modify this as per your requirement\n",
        "num_clusters = 11  # for example, if you know there are 11 speakers\n",
        "\n",
        "# Perform clustering\n",
        "kmeans = perform_clustering(embeddings, num_clusters)\n",
        "\n",
        "# The fitted kmeans object contains all the information about the formed clusters\n"
      ],
      "metadata": {
        "colab": {
          "base_uri": "https://localhost:8080/"
        },
        "id": "VfyFKgYFDWrc",
        "outputId": "dae66aa4-f6ca-44ff-df9a-90e0b3b9a302"
      },
      "execution_count": null,
      "outputs": [
        {
          "output_type": "stream",
          "name": "stderr",
          "text": [
            "/usr/local/lib/python3.10/dist-packages/sklearn/cluster/_kmeans.py:870: FutureWarning: The default value of `n_init` will change from 10 to 'auto' in 1.4. Set the value of `n_init` explicitly to suppress the warning\n",
            "  warnings.warn(\n"
          ]
        }
      ]
    },
    {
      "cell_type": "markdown",
      "source": [
        "In the above code, we are stacking all the embeddings into a 2D numpy array using np.vstack. This is done because the KMeans method expects a 2D array as input. The num_clusters parameter is set to 11 in this example, you can change this based on the number of speakers you have in your audio file.\n",
        "\n",
        "Please note that the number of clusters is a hyperparameter in this case. If you know the number of speakers in your audio, that can be a good starting point. However, it might require tuning to get the best performance.\n",
        "\n",
        "\n",
        "\n",
        "\n"
      ],
      "metadata": {
        "id": "IHSSF3cID2oa"
      }
    },
    {
      "cell_type": "markdown",
      "source": [
        "Once you have applied the clustering algorithm, you can access the cluster assignments and the cluster centers by using the .labels_ and .cluster_centers_ attributes of the fitted KMeans object, respectively."
      ],
      "metadata": {
        "id": "uKa6si04EA0S"
      }
    },
    {
      "cell_type": "code",
      "source": [
        "# Get cluster assignments\n",
        "cluster_assignments = kmeans.labels_\n",
        "\n",
        "# Get cluster centers\n",
        "cluster_centers = kmeans.cluster_centers_\n"
      ],
      "metadata": {
        "id": "OpfuAFEtEDnt"
      },
      "execution_count": null,
      "outputs": []
    },
    {
      "cell_type": "code",
      "source": [
        "print(\"cluster assignments\")\n",
        "print(cluster_assignments)\n",
        "\n",
        "print(\"Get Cluster Centers\")\n",
        "print(cluster_centers)"
      ],
      "metadata": {
        "colab": {
          "base_uri": "https://localhost:8080/"
        },
        "id": "_JeELMEO8BSN",
        "outputId": "66ecb25e-9b11-4fd0-93e2-799b893d67df"
      },
      "execution_count": null,
      "outputs": [
        {
          "output_type": "stream",
          "name": "stdout",
          "text": [
            "cluster assignments\n",
            "[10  0  5  5  9  5 10  5  5  5  8  0  0  0  0  0  0  0  0  0  0  0  0  0\n",
            "  0  0  0  0  0  0  0  0  0  0  0  0  0  0  0  0  0  0  0  0  4  5  8  1\n",
            "  8  1  1  9  4  9  2 10 10  9  3  9  7  9 10  4  4  2  7  8  7  1  1  9\n",
            "  8  1  1  7  4  8  6  8  1 10  7  2  1  0  9  3  0  0  9  8  3  3  6 10\n",
            "  1 10  0  0  0  0  0  0 10  7  7  1  4  1  2  7  0  0  6  3  4  1  4  7\n",
            "  2  1  1  2 10  1  1  7  1  4  1  1  1 10 10  4  5  7  8  6  0  7  9  7\n",
            "  4  8  8  5  8  5  1  7  8  1  6  9  8  1 10  2 10  4  6  1  1  7  4 10\n",
            "  1  7 10 10  7  1  1  2 10  8  1  8  0  4  4 10  8  4  6  5  6  2  0  4\n",
            "  1  1  2  4  1  8  8  4 10  4  4  1  7  3  7  7  4  3  8  8  7  2  2 10\n",
            "  7 10  1  2 10 10  1 10  7  4  8  7  4  1  4  1  7 10  8  0  0  9  9  1\n",
            "  0  2  3  9  9  8  0  0  4 10 10  0  7  9  7  3  4 10  4  7  6  7  9  2\n",
            "  2  1  0  4  7  9  7 10  4  9  5  2  7 10  6  4  4  1  4  4  2  1  1  5\n",
            "  2  1  1 10  4  7  9  5  2  6  0  9  9  8  0  3  1  8  1  7  1  3  7  6\n",
            "  9  2 10  2  9  6  1  6  1  4  9  8  1  4  2  1  2  7  7  4  3  9  1  4\n",
            "  1  1  2  7  1  7  7  7  4  3  2  2  9 10  7  8  9  4  6  3  1  7  4  2\n",
            "  7  0  4  7 10  9  3  4  5  1  7  2  1  2  6  4  9  1  4  1  4  4  1  7\n",
            "  2  9  4  3  7  1  1  4  4  9  6  1  1  3  7  0  4  7  9  9  9  6  6  0\n",
            "  5  6  5  8 10  2 10 10  7  4  1  1  4  1  7  7  2  0  7  0  0  0  0  4\n",
            "  1  1  7  7  7  3  7  6  9  9  7  4  3 10  1  4  7  7  1  7  4  1  1  4\n",
            "  2  2  2  8  8  4  3  9  3  9  4  7  2  7  9  9  3  9  3  3  4  0  4  9\n",
            "  2  9  4  3  7  6  3  7  9  9  9  4  6  7  0  0  0  0 10  4  0  7  7  1\n",
            "  8  3  0  0  6  5  6  0  0  6  4  7  3  0  0  0  0  0  0  0  0  0  0  9\n",
            "  1  0  8  3  6  7  3  6  0  0  0  0  8  2  0  0  0  0  3  0  0  0  0  0\n",
            "  0  0  0  0  0  0  0  0  0  0  0  5  6  0  0  0  0  0  2  9  8  1 10  6\n",
            "  0  1  7  9  9  7  6  1  4 10  0  0  6  6  0  0 10  1  6  1  1  0  0  0\n",
            "  0  9  0  0  0 10  0  4  4  1  2  7 10 10  2  8  4  9  6  0  9  7  1  2\n",
            "  7  0  0  0  0  0  6  0  0  7  6  0  0  0  0  0  0  0  0  0  0  0  0  2\n",
            "  7  7  3  3  9  8  8  0  2 10  7  9  3  7  0  0  0 10  4  8  0 10  1  6\n",
            "  9  9  8  1  2  8  3  3  7  7  1  9  8  8  4  1  8 10  1  5  0  0  0  0\n",
            "  0  0  0  0  0  0  0  6  8  9  3  9 10  4  2  9  8  7  9  8  7  9  2  0\n",
            "  1  1  3  0]\n",
            "Get Cluster Centers\n",
            "[[-0.00913124 -0.00555291 -0.0097289  ... -0.00987422 -0.00823922\n",
            "  -0.01105597]\n",
            " [-0.012876   -0.01591658 -0.01655408 ... -0.02251836 -0.0117892\n",
            "  -0.01574197]\n",
            " [-0.0118105  -0.01343238 -0.01737613 ... -0.02491441 -0.01041168\n",
            "  -0.01503197]\n",
            " ...\n",
            " [-0.01532142 -0.01680394 -0.01884216 ... -0.0247245  -0.01158153\n",
            "  -0.01494389]\n",
            " [-0.01430887 -0.01565197 -0.01416218 ... -0.01744208 -0.00977536\n",
            "  -0.01292579]\n",
            " [-0.01176523 -0.01663182 -0.01805972 ... -0.02457484 -0.01068668\n",
            "  -0.01679833]]\n"
          ]
        }
      ]
    },
    {
      "cell_type": "markdown",
      "source": [
        "The cluster_assignments variable will be a 1D numpy array of the same length as your number of samples (i.e., the number of embeddings). Each value in this array will be an integer from 0 to num_clusters - 1 representing the cluster to which the corresponding sample has been assigned.\n",
        "\n",
        "The cluster_centers variable will be a 2D numpy array where each row represents the centroid (mean embedding) of a cluster. It will have num_clusters rows and as many columns as the dimension of your embeddings.\n",
        "\n",
        "You can print these variables to check their values."
      ],
      "metadata": {
        "id": "oUO2JOdLEIzs"
      }
    },
    {
      "cell_type": "markdown",
      "source": [
        "Test for correct dimensions of the cluster assignments and centers:\n",
        "Make sure that the shapes of the cluster_assignments and cluster_centers arrays match your expectations. cluster_assignments should be a 1D array with the same length as the number of embeddings, and cluster_centers should be a 2D array with num_clusters rows and as many columns as the dimension of your embeddings."
      ],
      "metadata": {
        "id": "YD8pXvaKFc4Z"
      }
    },
    {
      "cell_type": "code",
      "source": [
        "print(\"Shape of cluster assignments:\", cluster_assignments.shape)\n",
        "print(\"Shape of cluster centers:\", cluster_centers.shape)"
      ],
      "metadata": {
        "colab": {
          "base_uri": "https://localhost:8080/"
        },
        "id": "rlQ-XIQ6D2GF",
        "outputId": "6c3552cc-9645-49cc-f531-9bedd12a792a"
      },
      "execution_count": null,
      "outputs": [
        {
          "output_type": "stream",
          "name": "stdout",
          "text": [
            "Shape of cluster assignments: (724,)\n",
            "Shape of cluster centers: (11, 512)\n"
          ]
        }
      ]
    },
    {
      "cell_type": "markdown",
      "source": [
        "Test for correct range of cluster assignments:\n",
        "Ensure that the values in cluster_assignments are all integers between 0 and num_clusters - 1 (inclusive).\n"
      ],
      "metadata": {
        "id": "-71tJJ9AF6WB"
      }
    },
    {
      "cell_type": "code",
      "source": [
        "print(\"Cluster assignments range from\", min(cluster_assignments), \"to\", max(cluster_assignments))\n",
        "assert min(cluster_assignments) >= 0\n",
        "assert max(cluster_assignments) < num_clusters"
      ],
      "metadata": {
        "colab": {
          "base_uri": "https://localhost:8080/"
        },
        "id": "iU1ISXtGDDpJ",
        "outputId": "8d764af1-1f27-4cfe-8262-05ad3a36ec7e"
      },
      "execution_count": null,
      "outputs": [
        {
          "output_type": "stream",
          "name": "stdout",
          "text": [
            "Cluster assignments range from 0 to 10\n"
          ]
        }
      ]
    },
    {
      "cell_type": "markdown",
      "source": [
        "Test for even distribution of samples across clusters:\n",
        "Ideally, K-means++ should distribute samples evenly across clusters. However, this might not always be the case, especially if the number of clusters is not a good match for the actual structure of your data. You can use a histogram to visualize the distribution of samples across clusters."
      ],
      "metadata": {
        "id": "_wOZev2yGF2j"
      }
    },
    {
      "cell_type": "code",
      "source": [
        "import matplotlib.pyplot as plt\n",
        "plt.hist(cluster_assignments, bins=range(num_clusters+1), align='left', rwidth=0.8)\n",
        "plt.xlabel('Cluster')\n",
        "plt.ylabel('Number of samples')\n",
        "plt.show()\n"
      ],
      "metadata": {
        "colab": {
          "base_uri": "https://localhost:8080/",
          "height": 449
        },
        "id": "NRPHeMmyDALn",
        "outputId": "a382c784-b95f-4a14-9c12-8f69fd8c0419"
      },
      "execution_count": null,
      "outputs": [
        {
          "output_type": "display_data",
          "data": {
            "text/plain": [
              "<Figure size 640x480 with 1 Axes>"
            ],
            "image/png": "[encoded data removed]"
          },
          "metadata": {}
        }
      ]
    },
    {
      "cell_type": "markdown",
      "source": [
        "Test for stability of clustering:\n",
        "K-means++ is a stochastic algorithm, so it can produce different results when run multiple times on the same data. However, the results should be similar if the algorithm is working well. Run your clustering function multiple times and compare the results to check the stability of your clustering."
      ],
      "metadata": {
        "id": "PwDD8MefGWQT"
      }
    },
    {
      "cell_type": "code",
      "source": [
        "num_trials = 10\n",
        "trial_cluster_assignments = [perform_clustering(embeddings, num_clusters).labels_ for _ in range(num_trials)]\n",
        "for i in range(num_clusters):\n",
        "    cluster_sizes = [np.sum(assignments == i) for assignments in trial_cluster_assignments]\n",
        "    print(\"Cluster\", i, \"sizes across trials:\", cluster_sizes)\n"
      ],
      "metadata": {
        "colab": {
          "base_uri": "https://localhost:8080/"
        },
        "id": "IIoE3W4YGVs2",
        "outputId": "2e744724-9689-4df8-e447-dad707f30fce"
      },
      "execution_count": null,
      "outputs": [
        {
          "output_type": "stream",
          "name": "stderr",
          "text": [
            "/usr/local/lib/python3.10/dist-packages/sklearn/cluster/_kmeans.py:870: FutureWarning: The default value of `n_init` will change from 10 to 'auto' in 1.4. Set the value of `n_init` explicitly to suppress the warning\n",
            "  warnings.warn(\n",
            "/usr/local/lib/python3.10/dist-packages/sklearn/cluster/_kmeans.py:870: FutureWarning: The default value of `n_init` will change from 10 to 'auto' in 1.4. Set the value of `n_init` explicitly to suppress the warning\n",
            "  warnings.warn(\n",
            "/usr/local/lib/python3.10/dist-packages/sklearn/cluster/_kmeans.py:870: FutureWarning: The default value of `n_init` will change from 10 to 'auto' in 1.4. Set the value of `n_init` explicitly to suppress the warning\n",
            "  warnings.warn(\n",
            "/usr/local/lib/python3.10/dist-packages/sklearn/cluster/_kmeans.py:870: FutureWarning: The default value of `n_init` will change from 10 to 'auto' in 1.4. Set the value of `n_init` explicitly to suppress the warning\n",
            "  warnings.warn(\n",
            "/usr/local/lib/python3.10/dist-packages/sklearn/cluster/_kmeans.py:870: FutureWarning: The default value of `n_init` will change from 10 to 'auto' in 1.4. Set the value of `n_init` explicitly to suppress the warning\n",
            "  warnings.warn(\n",
            "/usr/local/lib/python3.10/dist-packages/sklearn/cluster/_kmeans.py:870: FutureWarning: The default value of `n_init` will change from 10 to 'auto' in 1.4. Set the value of `n_init` explicitly to suppress the warning\n",
            "  warnings.warn(\n",
            "/usr/local/lib/python3.10/dist-packages/sklearn/cluster/_kmeans.py:870: FutureWarning: The default value of `n_init` will change from 10 to 'auto' in 1.4. Set the value of `n_init` explicitly to suppress the warning\n",
            "  warnings.warn(\n",
            "/usr/local/lib/python3.10/dist-packages/sklearn/cluster/_kmeans.py:870: FutureWarning: The default value of `n_init` will change from 10 to 'auto' in 1.4. Set the value of `n_init` explicitly to suppress the warning\n",
            "  warnings.warn(\n",
            "/usr/local/lib/python3.10/dist-packages/sklearn/cluster/_kmeans.py:870: FutureWarning: The default value of `n_init` will change from 10 to 'auto' in 1.4. Set the value of `n_init` explicitly to suppress the warning\n",
            "  warnings.warn(\n",
            "/usr/local/lib/python3.10/dist-packages/sklearn/cluster/_kmeans.py:870: FutureWarning: The default value of `n_init` will change from 10 to 'auto' in 1.4. Set the value of `n_init` explicitly to suppress the warning\n",
            "  warnings.warn(\n"
          ]
        },
        {
          "output_type": "stream",
          "name": "stdout",
          "text": [
            "Cluster 0 sizes across trials: [166, 166, 166, 166, 166, 166, 166, 166, 166, 166]\n",
            "Cluster 1 sizes across trials: [92, 92, 92, 92, 92, 92, 92, 92, 92, 92]\n",
            "Cluster 2 sizes across trials: [48, 48, 48, 48, 48, 48, 48, 48, 48, 48]\n",
            "Cluster 3 sizes across trials: [38, 38, 38, 38, 38, 38, 38, 38, 38, 38]\n",
            "Cluster 4 sizes across trials: [74, 74, 74, 74, 74, 74, 74, 74, 74, 74]\n",
            "Cluster 5 sizes across trials: [20, 20, 20, 20, 20, 20, 20, 20, 20, 20]\n",
            "Cluster 6 sizes across trials: [39, 39, 39, 39, 39, 39, 39, 39, 39, 39]\n",
            "Cluster 7 sizes across trials: [85, 85, 85, 85, 85, 85, 85, 85, 85, 85]\n",
            "Cluster 8 sizes across trials: [47, 47, 47, 47, 47, 47, 47, 47, 47, 47]\n",
            "Cluster 9 sizes across trials: [64, 64, 64, 64, 64, 64, 64, 64, 64, 64]\n",
            "Cluster 10 sizes across trials: [51, 51, 51, 51, 51, 51, 51, 51, 51, 51]\n"
          ]
        }
      ]
    },
    {
      "cell_type": "markdown",
      "source": [
        "Test for clustering accuracy:\n",
        "If you have some labeled data (for instance, if you know which speaker each embedding corresponds to), you can calculate a clustering accuracy metric such as Adjusted Rand Index (ARI). Note that this requires true labels, which might not be available in an unsupervised setting. If you have such labels, here is how you could compute the ARI:"
      ],
      "metadata": {
        "id": "-hpyLuDWGyeh"
      }
    },
    {
      "cell_type": "markdown",
      "source": [
        "Can use existing software to complete this test"
      ],
      "metadata": {
        "id": "st7TM44i0jGV"
      }
    },
    {
      "cell_type": "markdown",
      "source": [],
      "metadata": {
        "id": "6JtPkt1_HCun"
      }
    },
    {
      "cell_type": "code",
      "source": [
        "from sklearn.metrics import adjusted_rand_score\n",
        "true_labels = ...  # replace with your true labels\n",
        "ari = adjusted_rand_score(true_labels, cluster_assignments)\n",
        "print(\"Adjusted Rand Index:\", ari)"
      ],
      "metadata": {
        "colab": {
          "base_uri": "https://localhost:8080/",
          "height": 389
        },
        "id": "yFW3rQd8iBfP",
        "outputId": "14ba8d91-1282-4430-a993-d0a17fd3eebc"
      },
      "execution_count": null,
      "outputs": [
        {
          "output_type": "error",
          "ename": "ValueError",
          "evalue": "ignored",
          "traceback": [
            "\u001b[0;31m---------------------------------------------------------------------------\u001b[0m",
            "\u001b[0;31mValueError\u001b[0m                                Traceback (most recent call last)",
            "\u001b[0;32m<ipython-input-100-7fa0bfe0c8c3>\u001b[0m in \u001b[0;36m<cell line: 3>\u001b[0;34m()\u001b[0m\n\u001b[1;32m      1\u001b[0m \u001b[0;32mfrom\u001b[0m \u001b[0msklearn\u001b[0m\u001b[0;34m.\u001b[0m\u001b[0mmetrics\u001b[0m \u001b[0;32mimport\u001b[0m \u001b[0madjusted_rand_score\u001b[0m\u001b[0;34m\u001b[0m\u001b[0;34m\u001b[0m\u001b[0m\n\u001b[1;32m      2\u001b[0m \u001b[0mtrue_labels\u001b[0m \u001b[0;34m=\u001b[0m \u001b[0;34m...\u001b[0m  \u001b[0;31m# replace with your true labels\u001b[0m\u001b[0;34m\u001b[0m\u001b[0;34m\u001b[0m\u001b[0m\n\u001b[0;32m----> 3\u001b[0;31m \u001b[0mari\u001b[0m \u001b[0;34m=\u001b[0m \u001b[0madjusted_rand_score\u001b[0m\u001b[0;34m(\u001b[0m\u001b[0mtrue_labels\u001b[0m\u001b[0;34m,\u001b[0m \u001b[0mcluster_assignments\u001b[0m\u001b[0;34m)\u001b[0m\u001b[0;34m\u001b[0m\u001b[0;34m\u001b[0m\u001b[0m\n\u001b[0m\u001b[1;32m      4\u001b[0m \u001b[0mprint\u001b[0m\u001b[0;34m(\u001b[0m\u001b[0;34m\"Adjusted Rand Index:\"\u001b[0m\u001b[0;34m,\u001b[0m \u001b[0mari\u001b[0m\u001b[0;34m)\u001b[0m\u001b[0;34m\u001b[0m\u001b[0;34m\u001b[0m\u001b[0m\n",
            "\u001b[0;32m/usr/local/lib/python3.10/dist-packages/sklearn/metrics/cluster/_supervised.py\u001b[0m in \u001b[0;36madjusted_rand_score\u001b[0;34m(labels_true, labels_pred)\u001b[0m\n\u001b[1;32m    399\u001b[0m       \u001b[0;34m-\u001b[0m\u001b[0;36m0.5\u001b[0m\u001b[0;34m\u001b[0m\u001b[0;34m\u001b[0m\u001b[0m\n\u001b[1;32m    400\u001b[0m     \"\"\"\n\u001b[0;32m--> 401\u001b[0;31m     \u001b[0;34m(\u001b[0m\u001b[0mtn\u001b[0m\u001b[0;34m,\u001b[0m \u001b[0mfp\u001b[0m\u001b[0;34m)\u001b[0m\u001b[0;34m,\u001b[0m \u001b[0;34m(\u001b[0m\u001b[0mfn\u001b[0m\u001b[0;34m,\u001b[0m \u001b[0mtp\u001b[0m\u001b[0;34m)\u001b[0m \u001b[0;34m=\u001b[0m \u001b[0mpair_confusion_matrix\u001b[0m\u001b[0;34m(\u001b[0m\u001b[0mlabels_true\u001b[0m\u001b[0;34m,\u001b[0m \u001b[0mlabels_pred\u001b[0m\u001b[0;34m)\u001b[0m\u001b[0;34m\u001b[0m\u001b[0;34m\u001b[0m\u001b[0m\n\u001b[0m\u001b[1;32m    402\u001b[0m     \u001b[0;31m# convert to Python integer types, to avoid overflow or underflow\u001b[0m\u001b[0;34m\u001b[0m\u001b[0;34m\u001b[0m\u001b[0m\n\u001b[1;32m    403\u001b[0m     \u001b[0mtn\u001b[0m\u001b[0;34m,\u001b[0m \u001b[0mfp\u001b[0m\u001b[0;34m,\u001b[0m \u001b[0mfn\u001b[0m\u001b[0;34m,\u001b[0m \u001b[0mtp\u001b[0m \u001b[0;34m=\u001b[0m \u001b[0mint\u001b[0m\u001b[0;34m(\u001b[0m\u001b[0mtn\u001b[0m\u001b[0;34m)\u001b[0m\u001b[0;34m,\u001b[0m \u001b[0mint\u001b[0m\u001b[0;34m(\u001b[0m\u001b[0mfp\u001b[0m\u001b[0;34m)\u001b[0m\u001b[0;34m,\u001b[0m \u001b[0mint\u001b[0m\u001b[0;34m(\u001b[0m\u001b[0mfn\u001b[0m\u001b[0;34m)\u001b[0m\u001b[0;34m,\u001b[0m \u001b[0mint\u001b[0m\u001b[0;34m(\u001b[0m\u001b[0mtp\u001b[0m\u001b[0;34m)\u001b[0m\u001b[0;34m\u001b[0m\u001b[0;34m\u001b[0m\u001b[0m\n",
            "\u001b[0;32m/usr/local/lib/python3.10/dist-packages/sklearn/metrics/cluster/_supervised.py\u001b[0m in \u001b[0;36mpair_confusion_matrix\u001b[0;34m(labels_true, labels_pred)\u001b[0m\n\u001b[1;32m    219\u001b[0m     \u001b[0mNote\u001b[0m \u001b[0mthat\u001b[0m \u001b[0mthe\u001b[0m \u001b[0mmatrix\u001b[0m \u001b[0;32mis\u001b[0m \u001b[0;32mnot\u001b[0m \u001b[0msymmetric\u001b[0m\u001b[0;34m.\u001b[0m\u001b[0;34m\u001b[0m\u001b[0;34m\u001b[0m\u001b[0m\n\u001b[1;32m    220\u001b[0m     \"\"\"\n\u001b[0;32m--> 221\u001b[0;31m     \u001b[0mlabels_true\u001b[0m\u001b[0;34m,\u001b[0m \u001b[0mlabels_pred\u001b[0m \u001b[0;34m=\u001b[0m \u001b[0mcheck_clusterings\u001b[0m\u001b[0;34m(\u001b[0m\u001b[0mlabels_true\u001b[0m\u001b[0;34m,\u001b[0m \u001b[0mlabels_pred\u001b[0m\u001b[0;34m)\u001b[0m\u001b[0;34m\u001b[0m\u001b[0;34m\u001b[0m\u001b[0m\n\u001b[0m\u001b[1;32m    222\u001b[0m     \u001b[0mn_samples\u001b[0m \u001b[0;34m=\u001b[0m \u001b[0mnp\u001b[0m\u001b[0;34m.\u001b[0m\u001b[0mint64\u001b[0m\u001b[0;34m(\u001b[0m\u001b[0mlabels_true\u001b[0m\u001b[0;34m.\u001b[0m\u001b[0mshape\u001b[0m\u001b[0;34m[\u001b[0m\u001b[0;36m0\u001b[0m\u001b[0;34m]\u001b[0m\u001b[0;34m)\u001b[0m\u001b[0;34m\u001b[0m\u001b[0;34m\u001b[0m\u001b[0m\n\u001b[1;32m    223\u001b[0m \u001b[0;34m\u001b[0m\u001b[0m\n",
            "\u001b[0;32m/usr/local/lib/python3.10/dist-packages/sklearn/metrics/cluster/_supervised.py\u001b[0m in \u001b[0;36mcheck_clusterings\u001b[0;34m(labels_true, labels_pred)\u001b[0m\n\u001b[1;32m     66\u001b[0m     \u001b[0;31m# input checks\u001b[0m\u001b[0;34m\u001b[0m\u001b[0;34m\u001b[0m\u001b[0m\n\u001b[1;32m     67\u001b[0m     \u001b[0;32mif\u001b[0m \u001b[0mlabels_true\u001b[0m\u001b[0;34m.\u001b[0m\u001b[0mndim\u001b[0m \u001b[0;34m!=\u001b[0m \u001b[0;36m1\u001b[0m\u001b[0;34m:\u001b[0m\u001b[0;34m\u001b[0m\u001b[0;34m\u001b[0m\u001b[0m\n\u001b[0;32m---> 68\u001b[0;31m         \u001b[0;32mraise\u001b[0m \u001b[0mValueError\u001b[0m\u001b[0;34m(\u001b[0m\u001b[0;34m\"labels_true must be 1D: shape is %r\"\u001b[0m \u001b[0;34m%\u001b[0m \u001b[0;34m(\u001b[0m\u001b[0mlabels_true\u001b[0m\u001b[0;34m.\u001b[0m\u001b[0mshape\u001b[0m\u001b[0;34m,\u001b[0m\u001b[0;34m)\u001b[0m\u001b[0;34m)\u001b[0m\u001b[0;34m\u001b[0m\u001b[0;34m\u001b[0m\u001b[0m\n\u001b[0m\u001b[1;32m     69\u001b[0m     \u001b[0;32mif\u001b[0m \u001b[0mlabels_pred\u001b[0m\u001b[0;34m.\u001b[0m\u001b[0mndim\u001b[0m \u001b[0;34m!=\u001b[0m \u001b[0;36m1\u001b[0m\u001b[0;34m:\u001b[0m\u001b[0;34m\u001b[0m\u001b[0;34m\u001b[0m\u001b[0m\n\u001b[1;32m     70\u001b[0m         \u001b[0;32mraise\u001b[0m \u001b[0mValueError\u001b[0m\u001b[0;34m(\u001b[0m\u001b[0;34m\"labels_pred must be 1D: shape is %r\"\u001b[0m \u001b[0;34m%\u001b[0m \u001b[0;34m(\u001b[0m\u001b[0mlabels_pred\u001b[0m\u001b[0;34m.\u001b[0m\u001b[0mshape\u001b[0m\u001b[0;34m,\u001b[0m\u001b[0;34m)\u001b[0m\u001b[0;34m)\u001b[0m\u001b[0;34m\u001b[0m\u001b[0;34m\u001b[0m\u001b[0m\n",
            "\u001b[0;31mValueError\u001b[0m: labels_true must be 1D: shape is ()"
          ]
        }
      ]
    },
    {
      "cell_type": "markdown",
      "source": [
        "The number of speakers (and therefore the number of clusters) you set for the K-means++ algorithm will directly impact the results of the clustering. If you know the exact number of speakers beforehand, that would be an ideal scenario because you can set the number of clusters to that exact number.\n",
        "\n",
        "However, in many real-world scenarios, you might not know the exact number of speakers in advance. This makes determining the number of clusters one of the challenges of speaker diarization.\n",
        "\n",
        "If you set the number of clusters lower than the actual number of speakers, multiple speakers may get grouped into the same cluster, making it hard to distinguish between them.\n",
        "\n",
        "On the other hand, if you set the number of clusters higher than the actual number of speakers, a single speaker might get split across multiple clusters, which could also cause confusion.\n",
        "\n",
        "Therefore, it's crucial to select an appropriate number of clusters.\n",
        "\n",
        "In your case, since the number of speakers can vary from 2 to 11, you might want to run the clustering algorithm multiple times with different numbers of clusters, and then use some cluster validation measures to select the best number of clusters. These measures could include silhouette score, Davies-Bouldin index, etc. Please note that these metrics are not perfect and might not always give the optimal number of clusters, especially for high-dimensional data, but they could provide some guidance.\n",
        "\n",
        "For example, you could use the Silhouette score like this:\n",
        "\n",
        "python\n",
        "Copy code\n",
        "from sklearn.metrics import silhouette_score\n",
        "\n",
        "silhouette_scores = []\n",
        "max_clusters = 11\n",
        "\n",
        "# Loop through different numbers of clusters\n",
        "for n_clusters in range(2, max_clusters + 1):\n",
        "    kmeans = KMeans(n_clusters=n_clusters, init='k-means++', random_state=42)\n",
        "    kmeans.fit(concatenated_embeddings)\n",
        "    \n",
        "    # Compute silhouette score and store it\n",
        "    score = silhouette_score(concatenated_embeddings, kmeans.labels_)\n",
        "    silhouette_scores.append(score)\n",
        "\n",
        "# Plot silhouette scores\n",
        "plt.plot(range(2, max_clusters + 1), silhouette_scores)\n",
        "plt.xlabel('Number of Clusters')\n",
        "plt.ylabel('Silhouette Score')\n",
        "plt.show()\n",
        "The number of clusters that gives the highest Silhouette score might be a good choice for the number of clusters.\n",
        "\n",
        "Please note that this is a simplification, and in practice, you would also want to use domain knowledge and other considerations to decide on the optimal number of clusters.\n",
        "\n",
        "\n",
        "\n",
        "\n",
        "\n",
        "\n"
      ],
      "metadata": {
        "id": "Z2M80KtaHESi"
      }
    },
    {
      "cell_type": "code",
      "source": [
        "from sklearn.metrics import silhouette_score\n",
        "\n",
        "silhouette_scores = []\n",
        "max_clusters = 11\n",
        "\n",
        "# Loop through different numbers of clusters\n",
        "for n_clusters in range(2, max_clusters + 1):\n",
        "    kmeans = KMeans(n_clusters=n_clusters, init='k-means++', random_state=42)\n",
        "    kmeans.fit(embeddings)\n",
        "\n",
        "    # Compute silhouette score and store it\n",
        "    score = silhouette_score(embeddings, kmeans.labels_)\n",
        "    silhouette_scores.append(score)\n",
        "\n",
        "# Plot silhouette scores\n",
        "plt.plot(range(2, max_clusters + 1), silhouette_scores)\n",
        "plt.xlabel('Number of Clusters')\n",
        "plt.ylabel('Silhouette Score')\n",
        "plt.show()\n"
      ],
      "metadata": {
        "colab": {
          "base_uri": "https://localhost:8080/",
          "height": 829
        },
        "id": "ntWRNX3sHMDJ",
        "outputId": "668ade7d-d91d-4bec-a0f0-f46f76f9398a"
      },
      "execution_count": null,
      "outputs": [
        {
          "output_type": "stream",
          "name": "stderr",
          "text": [
            "/usr/local/lib/python3.10/dist-packages/sklearn/cluster/_kmeans.py:870: FutureWarning: The default value of `n_init` will change from 10 to 'auto' in 1.4. Set the value of `n_init` explicitly to suppress the warning\n",
            "  warnings.warn(\n",
            "/usr/local/lib/python3.10/dist-packages/sklearn/cluster/_kmeans.py:870: FutureWarning: The default value of `n_init` will change from 10 to 'auto' in 1.4. Set the value of `n_init` explicitly to suppress the warning\n",
            "  warnings.warn(\n",
            "/usr/local/lib/python3.10/dist-packages/sklearn/cluster/_kmeans.py:870: FutureWarning: The default value of `n_init` will change from 10 to 'auto' in 1.4. Set the value of `n_init` explicitly to suppress the warning\n",
            "  warnings.warn(\n",
            "/usr/local/lib/python3.10/dist-packages/sklearn/cluster/_kmeans.py:870: FutureWarning: The default value of `n_init` will change from 10 to 'auto' in 1.4. Set the value of `n_init` explicitly to suppress the warning\n",
            "  warnings.warn(\n",
            "/usr/local/lib/python3.10/dist-packages/sklearn/cluster/_kmeans.py:870: FutureWarning: The default value of `n_init` will change from 10 to 'auto' in 1.4. Set the value of `n_init` explicitly to suppress the warning\n",
            "  warnings.warn(\n",
            "/usr/local/lib/python3.10/dist-packages/sklearn/cluster/_kmeans.py:870: FutureWarning: The default value of `n_init` will change from 10 to 'auto' in 1.4. Set the value of `n_init` explicitly to suppress the warning\n",
            "  warnings.warn(\n",
            "/usr/local/lib/python3.10/dist-packages/sklearn/cluster/_kmeans.py:870: FutureWarning: The default value of `n_init` will change from 10 to 'auto' in 1.4. Set the value of `n_init` explicitly to suppress the warning\n",
            "  warnings.warn(\n",
            "/usr/local/lib/python3.10/dist-packages/sklearn/cluster/_kmeans.py:870: FutureWarning: The default value of `n_init` will change from 10 to 'auto' in 1.4. Set the value of `n_init` explicitly to suppress the warning\n",
            "  warnings.warn(\n",
            "/usr/local/lib/python3.10/dist-packages/sklearn/cluster/_kmeans.py:870: FutureWarning: The default value of `n_init` will change from 10 to 'auto' in 1.4. Set the value of `n_init` explicitly to suppress the warning\n",
            "  warnings.warn(\n",
            "/usr/local/lib/python3.10/dist-packages/sklearn/cluster/_kmeans.py:870: FutureWarning: The default value of `n_init` will change from 10 to 'auto' in 1.4. Set the value of `n_init` explicitly to suppress the warning\n",
            "  warnings.warn(\n"
          ]
        },
        {
          "output_type": "display_data",
          "data": {
            "text/plain": [
              "<Figure size 640x480 with 1 Axes>"
            ],
            "image/png": "[encoded data removed]"
          },
          "metadata": {}
        }
      ]
    },
    {
      "cell_type": "markdown",
      "source": [
        "Sure, here's a function get_optimal_clusters that finds the number of clusters that results in the highest silhouette score and the KMeans object trained with this optimal number of clusters:"
      ],
      "metadata": {
        "id": "NSWcn7UXKtRI"
      }
    },
    {
      "cell_type": "markdown",
      "source": [
        "Without Speaker Lables and Tested"
      ],
      "metadata": {
        "id": "K2aSrtw16cJP"
      }
    },
    {
      "cell_type": "code",
      "source": [
        "from sklearn.cluster import KMeans\n",
        "from sklearn.metrics import silhouette_score\n",
        "\n",
        "def get_optimal_clusters(embeddings, min_clusters=2, max_clusters=11):\n",
        "    \"\"\"\n",
        "    Function to find the optimal number of clusters (speakers) using silhouette score.\n",
        "\n",
        "    Parameters:\n",
        "    embeddings (numpy.array): The speaker embeddings.\n",
        "    min_clusters (int): The minimum number of clusters to check. Defaults to 2.\n",
        "    max_clusters (int): The maximum number of clusters to check. Defaults to 11.\n",
        "\n",
        "    Returns:\n",
        "    optimal_kmeans (KMeans): The KMeans object trained with the optimal number of clusters.\n",
        "    optimal_clusters (int): The optimal number of clusters.\n",
        "    \"\"\"\n",
        "    silhouette_scores = []\n",
        "    kmeans_models = []\n",
        "\n",
        "    # Loop through different numbers of clusters\n",
        "    for n_clusters in range(min_clusters, max_clusters + 1):\n",
        "        kmeans = KMeans(n_clusters=n_clusters, init='k-means++', random_state=42)\n",
        "        kmeans.fit(embeddings)\n",
        "\n",
        "        # Compute silhouette score and store it\n",
        "        score = silhouette_score(embeddings, kmeans.labels_)\n",
        "        silhouette_scores.append(score)\n",
        "\n",
        "        # Store the KMeans model\n",
        "        kmeans_models.append(kmeans)\n",
        "\n",
        "    # Find the number of clusters that gave the highest silhouette score\n",
        "    optimal_clusters = silhouette_scores.index(max(silhouette_scores)) + min_clusters\n",
        "\n",
        "    # Retrieve the corresponding KMeans model\n",
        "    optimal_kmeans = kmeans_models[optimal_clusters - min_clusters]\n",
        "\n",
        "    return optimal_kmeans, optimal_clusters\n"
      ],
      "metadata": {
        "id": "FUYbTKvxK05c"
      },
      "execution_count": null,
      "outputs": []
    },
    {
      "cell_type": "markdown",
      "source": [
        "You can call this function as follows:\n",
        "\n"
      ],
      "metadata": {
        "id": "lZ1N-MzrLDVQ"
      }
    },
    {
      "cell_type": "code",
      "source": [
        "optimal_kmeans, optimal_clusters = get_optimal_clusters(embeddings)\n"
      ],
      "metadata": {
        "colab": {
          "base_uri": "https://localhost:8080/"
        },
        "id": "T2UksWJjHMAL",
        "outputId": "0ccc80e2-8758-4437-c5e8-4364623e991d"
      },
      "execution_count": null,
      "outputs": [
        {
          "output_type": "stream",
          "name": "stderr",
          "text": [
            "/usr/local/lib/python3.10/dist-packages/sklearn/cluster/_kmeans.py:870: FutureWarning: The default value of `n_init` will change from 10 to 'auto' in 1.4. Set the value of `n_init` explicitly to suppress the warning\n",
            "  warnings.warn(\n",
            "/usr/local/lib/python3.10/dist-packages/sklearn/cluster/_kmeans.py:870: FutureWarning: The default value of `n_init` will change from 10 to 'auto' in 1.4. Set the value of `n_init` explicitly to suppress the warning\n",
            "  warnings.warn(\n",
            "/usr/local/lib/python3.10/dist-packages/sklearn/cluster/_kmeans.py:870: FutureWarning: The default value of `n_init` will change from 10 to 'auto' in 1.4. Set the value of `n_init` explicitly to suppress the warning\n",
            "  warnings.warn(\n",
            "/usr/local/lib/python3.10/dist-packages/sklearn/cluster/_kmeans.py:870: FutureWarning: The default value of `n_init` will change from 10 to 'auto' in 1.4. Set the value of `n_init` explicitly to suppress the warning\n",
            "  warnings.warn(\n",
            "/usr/local/lib/python3.10/dist-packages/sklearn/cluster/_kmeans.py:870: FutureWarning: The default value of `n_init` will change from 10 to 'auto' in 1.4. Set the value of `n_init` explicitly to suppress the warning\n",
            "  warnings.warn(\n",
            "/usr/local/lib/python3.10/dist-packages/sklearn/cluster/_kmeans.py:870: FutureWarning: The default value of `n_init` will change from 10 to 'auto' in 1.4. Set the value of `n_init` explicitly to suppress the warning\n",
            "  warnings.warn(\n",
            "/usr/local/lib/python3.10/dist-packages/sklearn/cluster/_kmeans.py:870: FutureWarning: The default value of `n_init` will change from 10 to 'auto' in 1.4. Set the value of `n_init` explicitly to suppress the warning\n",
            "  warnings.warn(\n",
            "/usr/local/lib/python3.10/dist-packages/sklearn/cluster/_kmeans.py:870: FutureWarning: The default value of `n_init` will change from 10 to 'auto' in 1.4. Set the value of `n_init` explicitly to suppress the warning\n",
            "  warnings.warn(\n",
            "/usr/local/lib/python3.10/dist-packages/sklearn/cluster/_kmeans.py:870: FutureWarning: The default value of `n_init` will change from 10 to 'auto' in 1.4. Set the value of `n_init` explicitly to suppress the warning\n",
            "  warnings.warn(\n",
            "/usr/local/lib/python3.10/dist-packages/sklearn/cluster/_kmeans.py:870: FutureWarning: The default value of `n_init` will change from 10 to 'auto' in 1.4. Set the value of `n_init` explicitly to suppress the warning\n",
            "  warnings.warn(\n"
          ]
        }
      ]
    },
    {
      "cell_type": "markdown",
      "source": [
        "f you want to assign speaker labels directly within the get_optimal_clusters function, you can modify the function to also return the labels predicted by the optimal_kmeans model. These labels correspond to the cluster each embedding (and therefore, each speaker) is assigned to.\n",
        "\n",
        "Here is how you can modify the function to achieve this:"
      ],
      "metadata": {
        "id": "5SrD6-U56zqu"
      }
    },
    {
      "cell_type": "code",
      "source": [
        "from sklearn.cluster import KMeans\n",
        "from sklearn.metrics import silhouette_score\n"
      ],
      "metadata": {
        "id": "QH8RADh26tT4"
      },
      "execution_count": null,
      "outputs": []
    },
    {
      "cell_type": "code",
      "source": [
        "def get_optimal_clusters(embeddings, min_clusters=2, max_clusters=11):\n",
        "    \"\"\"\n",
        "    Function to find the optimal number of clusters (speakers) using silhouette score.\n",
        "\n",
        "    Parameters:\n",
        "    embeddings (numpy.array): The speaker embeddings.\n",
        "    min_clusters (int): The minimum number of clusters to check. Defaults to 2.\n",
        "    max_clusters (int): The maximum number of clusters to check. Defaults to 11.\n",
        "\n",
        "    Returns:\n",
        "    optimal_kmeans (KMeans): The KMeans object trained with the optimal number of clusters.\n",
        "    optimal_clusters (int): The optimal number of clusters.\n",
        "    speaker_labels (List[str]): Labels assigned to each speaker.\n",
        "    \"\"\"\n",
        "    silhouette_scores = []\n",
        "    kmeans_models = []\n",
        "\n",
        "    # Loop through different numbers of clusters\n",
        "    for n_clusters in range(min_clusters, max_clusters + 1):\n",
        "        kmeans = KMeans(n_clusters=n_clusters, init='k-means++', random_state=42)\n",
        "        kmeans.fit(embeddings)\n",
        "\n",
        "        # Compute silhouette score and store it\n",
        "        score = silhouette_score(embeddings, kmeans.labels_)\n",
        "        silhouette_scores.append(score)\n",
        "\n",
        "        # Store the KMeans model\n",
        "        kmeans_models.append(kmeans)\n",
        "\n",
        "    # Find the number of clusters that gave the highest silhouette score\n",
        "    optimal_clusters = silhouette_scores.index(max(silhouette_scores)) + min_clusters\n",
        "\n",
        "    # Retrieve the corresponding KMeans model\n",
        "    optimal_kmeans = kmeans_models[optimal_clusters - min_clusters]\n",
        "\n",
        "    # Create labels for the speakers based on the cluster they belong to\n",
        "    speaker_labels = [\"Speaker_\" + str(label + 1) for label in optimal_kmeans.labels_]\n",
        "\n",
        "    return optimal_kmeans, optimal_clusters, speaker_labels\n"
      ],
      "metadata": {
        "id": "lo2o9y7L-Gll"
      },
      "execution_count": null,
      "outputs": []
    },
    {
      "cell_type": "code",
      "source": [
        "optimal_kmeans, optimal_clusters, speaker_labels = get_optimal_clusters(embeddings)\n"
      ],
      "metadata": {
        "colab": {
          "base_uri": "https://localhost:8080/"
        },
        "id": "9tbrfJ2u6wEg",
        "outputId": "42cab295-e3e3-42e2-aba6-cdc3cb743277"
      },
      "execution_count": null,
      "outputs": [
        {
          "output_type": "stream",
          "name": "stderr",
          "text": [
            "/usr/local/lib/python3.10/dist-packages/sklearn/cluster/_kmeans.py:870: FutureWarning: The default value of `n_init` will change from 10 to 'auto' in 1.4. Set the value of `n_init` explicitly to suppress the warning\n",
            "  warnings.warn(\n",
            "/usr/local/lib/python3.10/dist-packages/sklearn/cluster/_kmeans.py:870: FutureWarning: The default value of `n_init` will change from 10 to 'auto' in 1.4. Set the value of `n_init` explicitly to suppress the warning\n",
            "  warnings.warn(\n",
            "/usr/local/lib/python3.10/dist-packages/sklearn/cluster/_kmeans.py:870: FutureWarning: The default value of `n_init` will change from 10 to 'auto' in 1.4. Set the value of `n_init` explicitly to suppress the warning\n",
            "  warnings.warn(\n",
            "/usr/local/lib/python3.10/dist-packages/sklearn/cluster/_kmeans.py:870: FutureWarning: The default value of `n_init` will change from 10 to 'auto' in 1.4. Set the value of `n_init` explicitly to suppress the warning\n",
            "  warnings.warn(\n",
            "/usr/local/lib/python3.10/dist-packages/sklearn/cluster/_kmeans.py:870: FutureWarning: The default value of `n_init` will change from 10 to 'auto' in 1.4. Set the value of `n_init` explicitly to suppress the warning\n",
            "  warnings.warn(\n",
            "/usr/local/lib/python3.10/dist-packages/sklearn/cluster/_kmeans.py:870: FutureWarning: The default value of `n_init` will change from 10 to 'auto' in 1.4. Set the value of `n_init` explicitly to suppress the warning\n",
            "  warnings.warn(\n",
            "/usr/local/lib/python3.10/dist-packages/sklearn/cluster/_kmeans.py:870: FutureWarning: The default value of `n_init` will change from 10 to 'auto' in 1.4. Set the value of `n_init` explicitly to suppress the warning\n",
            "  warnings.warn(\n",
            "/usr/local/lib/python3.10/dist-packages/sklearn/cluster/_kmeans.py:870: FutureWarning: The default value of `n_init` will change from 10 to 'auto' in 1.4. Set the value of `n_init` explicitly to suppress the warning\n",
            "  warnings.warn(\n",
            "/usr/local/lib/python3.10/dist-packages/sklearn/cluster/_kmeans.py:870: FutureWarning: The default value of `n_init` will change from 10 to 'auto' in 1.4. Set the value of `n_init` explicitly to suppress the warning\n",
            "  warnings.warn(\n",
            "/usr/local/lib/python3.10/dist-packages/sklearn/cluster/_kmeans.py:870: FutureWarning: The default value of `n_init` will change from 10 to 'auto' in 1.4. Set the value of `n_init` explicitly to suppress the warning\n",
            "  warnings.warn(\n"
          ]
        }
      ]
    },
    {
      "cell_type": "markdown",
      "source": [
        "Sure, let's create some synthetic data to test this function. For the sake of simplicity, let's create an array of 50 embeddings, each with a dimension of 512, and assign them to one of 2-4 clusters.\n",
        "\n"
      ],
      "metadata": {
        "id": "22LuJ4TH_JcG"
      }
    },
    {
      "cell_type": "code",
      "source": [
        "import numpy as np\n",
        "import matplotlib.pyplot as plt\n",
        "\n",
        "# Create synthetic data\n",
        "np.random.seed(42)\n",
        "embeddings = np.concatenate([np.random.normal(loc=i, scale=1, size=(50, 512)) for i in range(2, 5)])\n",
        "\n",
        "# Create an instance of the function\n",
        "optimal_kmeans, optimal_clusters, speaker_labels = get_optimal_clusters(embeddings)\n",
        "\n",
        "print(\"Optimal number of clusters:\", optimal_clusters)\n",
        "\n",
        "# Count the occurrences of each speaker label\n",
        "label_counts = {label: speaker_labels.count(label) for label in set(speaker_labels)}\n",
        "\n",
        "for label, count in label_counts.items():\n",
        "    print(f\"{label}: {count} occurrences\")\n",
        "\n",
        "# Visualize the data by plotting the first two dimensions of the embeddings\n",
        "plt.scatter(embeddings[:, 0], embeddings[:, 1], c=optimal_kmeans.labels_)\n",
        "plt.title(\"Clusters of Synthetic Data\")\n",
        "plt.show()\n"
      ],
      "metadata": {
        "colab": {
          "base_uri": "https://localhost:8080/",
          "height": 883
        },
        "id": "DvxFs_T9-7wD",
        "outputId": "0388c086-b821-44fa-898e-89671b7a5a5e"
      },
      "execution_count": null,
      "outputs": [
        {
          "output_type": "stream",
          "name": "stderr",
          "text": [
            "/usr/local/lib/python3.10/dist-packages/sklearn/cluster/_kmeans.py:870: FutureWarning: The default value of `n_init` will change from 10 to 'auto' in 1.4. Set the value of `n_init` explicitly to suppress the warning\n",
            "  warnings.warn(\n",
            "/usr/local/lib/python3.10/dist-packages/sklearn/cluster/_kmeans.py:870: FutureWarning: The default value of `n_init` will change from 10 to 'auto' in 1.4. Set the value of `n_init` explicitly to suppress the warning\n",
            "  warnings.warn(\n",
            "/usr/local/lib/python3.10/dist-packages/sklearn/cluster/_kmeans.py:870: FutureWarning: The default value of `n_init` will change from 10 to 'auto' in 1.4. Set the value of `n_init` explicitly to suppress the warning\n",
            "  warnings.warn(\n",
            "/usr/local/lib/python3.10/dist-packages/sklearn/cluster/_kmeans.py:870: FutureWarning: The default value of `n_init` will change from 10 to 'auto' in 1.4. Set the value of `n_init` explicitly to suppress the warning\n",
            "  warnings.warn(\n",
            "/usr/local/lib/python3.10/dist-packages/sklearn/cluster/_kmeans.py:870: FutureWarning: The default value of `n_init` will change from 10 to 'auto' in 1.4. Set the value of `n_init` explicitly to suppress the warning\n",
            "  warnings.warn(\n",
            "/usr/local/lib/python3.10/dist-packages/sklearn/cluster/_kmeans.py:870: FutureWarning: The default value of `n_init` will change from 10 to 'auto' in 1.4. Set the value of `n_init` explicitly to suppress the warning\n",
            "  warnings.warn(\n",
            "/usr/local/lib/python3.10/dist-packages/sklearn/cluster/_kmeans.py:870: FutureWarning: The default value of `n_init` will change from 10 to 'auto' in 1.4. Set the value of `n_init` explicitly to suppress the warning\n",
            "  warnings.warn(\n",
            "/usr/local/lib/python3.10/dist-packages/sklearn/cluster/_kmeans.py:870: FutureWarning: The default value of `n_init` will change from 10 to 'auto' in 1.4. Set the value of `n_init` explicitly to suppress the warning\n",
            "  warnings.warn(\n",
            "/usr/local/lib/python3.10/dist-packages/sklearn/cluster/_kmeans.py:870: FutureWarning: The default value of `n_init` will change from 10 to 'auto' in 1.4. Set the value of `n_init` explicitly to suppress the warning\n",
            "  warnings.warn(\n",
            "/usr/local/lib/python3.10/dist-packages/sklearn/cluster/_kmeans.py:870: FutureWarning: The default value of `n_init` will change from 10 to 'auto' in 1.4. Set the value of `n_init` explicitly to suppress the warning\n",
            "  warnings.warn(\n"
          ]
        },
        {
          "output_type": "stream",
          "name": "stdout",
          "text": [
            "Optimal number of clusters: 2\n",
            "Speaker_2: 100 occurrences\n",
            "Speaker_1: 50 occurrences\n"
          ]
        },
        {
          "output_type": "display_data",
          "data": {
            "text/plain": [
              "<Figure size 640x480 with 1 Axes>"
            ],
            "image/png": "[encoded data removed]"
          },
          "metadata": {}
        }
      ]
    },
    {
      "cell_type": "markdown",
      "source": [
        "Test Without Speaker Lables"
      ],
      "metadata": {
        "id": "OE4BQeJf6g-O"
      }
    },
    {
      "cell_type": "code",
      "source": [
        "print(type(GMT20230112_DCC_1052_Embeddings))\n"
      ],
      "metadata": {
        "colab": {
          "base_uri": "https://localhost:8080/"
        },
        "id": "1-p-T2vdA4jW",
        "outputId": "ae3b4c8a-efc9-43ec-da42-1204b0fff7b3"
      },
      "execution_count": null,
      "outputs": [
        {
          "output_type": "stream",
          "name": "stdout",
          "text": [
            "<class 'datasets.arrow_dataset.Dataset'>\n"
          ]
        }
      ]
    },
    {
      "cell_type": "code",
      "source": [
        "print(GMT20230112_DCC_1052_Embeddings.column_names)\n"
      ],
      "metadata": {
        "colab": {
          "base_uri": "https://localhost:8080/"
        },
        "id": "cNz-1sV8Btdi",
        "outputId": "1cc83f15-99a5-4d55-b575-00b0cd1ce8de"
      },
      "execution_count": null,
      "outputs": [
        {
          "output_type": "stream",
          "name": "stdout",
          "text": [
            "['embeddings', 'audio_file_path']\n"
          ]
        }
      ]
    },
    {
      "cell_type": "code",
      "source": [
        "from sklearn.cluster import KMeans\n",
        "from sklearn.metrics import silhouette_score\n",
        "import matplotlib.pyplot as plt\n",
        "import seaborn as sns\n",
        "\n",
        "def get_optimal_clusters(embeddings, min_clusters=2, max_clusters=11):\n",
        "    \"\"\"\n",
        "    Function to find the optimal number of clusters (speakers) using silhouette score.\n",
        "\n",
        "    Parameters:\n",
        "    embeddings (numpy.array): The speaker embeddings.\n",
        "    min_clusters (int): The minimum number of clusters to check. Defaults to 2.\n",
        "    max_clusters (int): The maximum number of clusters to check. Defaults to 11.\n",
        "\n",
        "    Returns:\n",
        "    optimal_kmeans (KMeans): The KMeans object trained with the optimal number of clusters.\n",
        "    optimal_clusters (int): The optimal number of clusters.\n",
        "    speaker_labels (list): List of speaker labels corresponding to the embeddings.\n",
        "    \"\"\"\n",
        "\n",
        "    silhouette_scores = []\n",
        "    kmeans_models = []\n",
        "\n",
        "    # Loop through different numbers of clusters\n",
        "    for n_clusters in range(min_clusters, max_clusters + 1):\n",
        "        kmeans = KMeans(n_clusters=n_clusters, init='k-means++', random_state=42)\n",
        "        kmeans.fit(embeddings)\n",
        "\n",
        "        # Compute silhouette score and store it\n",
        "        score = silhouette_score(embeddings, kmeans.labels_)\n",
        "        silhouette_scores.append(score)\n",
        "\n",
        "        # Store the KMeans model\n",
        "        kmeans_models.append(kmeans)\n",
        "\n",
        "    # Find the number of clusters that gave the highest silhouette score\n",
        "    optimal_clusters = silhouette_scores.index(max(silhouette_scores)) + min_clusters\n",
        "\n",
        "    # Retrieve the corresponding KMeans model\n",
        "    optimal_kmeans = kmeans_models[optimal_clusters - min_clusters]\n",
        "\n",
        "    # Create speaker labels based on the optimal clusters\n",
        "    speaker_labels = [\"Speaker_\" + str(label) for label in optimal_kmeans.labels_]\n",
        "\n",
        "    return optimal_kmeans, optimal_clusters, speaker_labels\n",
        "\n",
        "# Replace the line below according to your dictionary structure\n",
        "\n",
        "embeddings = GMT20230112_DCC_1052_Embeddings['embeddings'].tolist()\n",
        "\n",
        "\n",
        "# Run the clustering function\n",
        "optimal_kmeans, optimal_clusters, speaker_labels = get_optimal_clusters(embeddings)\n",
        "\n",
        "print(\"Optimal number of clusters:\", optimal_clusters)\n",
        "\n",
        "# For visualization, we need to perform dimensionality reduction as embeddings are high dimensional\n",
        "from sklearn.manifold import TSNE\n",
        "\n",
        "tsne = TSNE(n_components=2, random_state=42)\n",
        "embeddings_2D = tsne.fit_transform(embeddings)\n",
        "\n",
        "# Create a DataFrame for easier plotting\n",
        "df = pd.DataFrame({\n",
        "    'x': embeddings_2D[:, 0],\n",
        "    'y': embeddings_2D[:, 1],\n",
        "    'label': speaker_labels\n",
        "})\n",
        "\n",
        "# Visualize the clusters\n",
        "plt.figure(figsize=(10, 8))\n",
        "sns.scatterplot(data=df, x='x', y='y', hue='label', palette='viridis')\n",
        "plt.title('Visualization of Speaker Clusters')\n",
        "plt.show()\n"
      ],
      "metadata": {
        "colab": {
          "base_uri": "https://localhost:8080/",
          "height": 240
        },
        "id": "1R3kepUNHL9M",
        "outputId": "a2b7c8b3-0142-4e7e-daa1-5e0f83776e09"
      },
      "execution_count": null,
      "outputs": [
        {
          "output_type": "error",
          "ename": "AttributeError",
          "evalue": "ignored",
          "traceback": [
            "\u001b[0;31m---------------------------------------------------------------------------\u001b[0m",
            "\u001b[0;31mAttributeError\u001b[0m                            Traceback (most recent call last)",
            "\u001b[0;32m<ipython-input-130-4beb241a2d1f>\u001b[0m in \u001b[0;36m<cell line: 49>\u001b[0;34m()\u001b[0m\n\u001b[1;32m     47\u001b[0m \u001b[0;31m# Replace the line below according to your dictionary structure\u001b[0m\u001b[0;34m\u001b[0m\u001b[0;34m\u001b[0m\u001b[0m\n\u001b[1;32m     48\u001b[0m \u001b[0;34m\u001b[0m\u001b[0m\n\u001b[0;32m---> 49\u001b[0;31m \u001b[0membeddings\u001b[0m \u001b[0;34m=\u001b[0m \u001b[0mGMT20230112_DCC_1052_Embeddings\u001b[0m\u001b[0;34m[\u001b[0m\u001b[0;34m'embeddings'\u001b[0m\u001b[0;34m]\u001b[0m\u001b[0;34m.\u001b[0m\u001b[0mtolist\u001b[0m\u001b[0;34m(\u001b[0m\u001b[0;34m)\u001b[0m\u001b[0;34m\u001b[0m\u001b[0;34m\u001b[0m\u001b[0m\n\u001b[0m\u001b[1;32m     50\u001b[0m \u001b[0;34m\u001b[0m\u001b[0m\n\u001b[1;32m     51\u001b[0m \u001b[0;34m\u001b[0m\u001b[0m\n",
            "\u001b[0;31mAttributeError\u001b[0m: 'list' object has no attribute 'tolist'"
          ]
        }
      ]
    },
    {
      "cell_type": "code",
      "source": [],
      "metadata": {
        "id": "DRudFq9tHL6I"
      },
      "execution_count": null,
      "outputs": []
    },
    {
      "cell_type": "markdown",
      "source": [
        "###************End of Development of GalacticPhantom algorithim developed by Amit Lamba for Generative Intelligence Company for EmpowerHER"
      ],
      "metadata": {
        "id": "_sULlme9u-3X"
      }
    },
    {
      "cell_type": "markdown",
      "source": [
        "### AccentNew Assign SpeakerLabels GalacticPhantom"
      ],
      "metadata": {
        "id": "1E6_Djm34_Uq"
      }
    },
    {
      "cell_type": "code",
      "source": [
        "def assign_speaker_labels(embeddings_first11, embeddings_GMT2023):\n",
        "    # Use the function to find the optimal number of clusters and the corresponding KMeans model\n",
        "    kmeans, optimal_clusters = get_optimal_clusters(np.concatenate((embeddings_first11, embeddings_GMT2023)))\n",
        "\n",
        "    # Calculate the number of embeddings from the unknown speakers (GMT20230112_DCC_1052_Embeddings)\n",
        "    num_unknown_speakers = len(embeddings_GMT2023)\n",
        "\n",
        "    # Get the labels corresponding to the unknown speakers\n",
        "    unknown_speaker_labels = kmeans.labels_[-num_unknown_speakers:]\n",
        "\n",
        "    # Now, `unknown_speaker_labels[i]` is the cluster to which the i-th unknown speaker belongs\n",
        "\n",
        "    from collections import defaultdict\n",
        "\n",
        "    # Initialize a dictionary to store the speakers per cluster\n",
        "    speakers_per_cluster = defaultdict(list)\n",
        "\n",
        "    # Loop through each label and add the corresponding speaker to the right cluster\n",
        "    for i, label in enumerate(unknown_speaker_labels):\n",
        "        # Add the speaker to the corresponding cluster\n",
        "        speakers_per_cluster[label].append(embeddings_GMT2023[i])\n",
        "\n",
        "    # Now, `speakers_per_cluster[i]` is a list of speakers that belong to the i-th cluster\n",
        "\n",
        "    return speakers_per_cluster\n"
      ],
      "metadata": {
        "id": "BtU1oB5o5J5e"
      },
      "execution_count": null,
      "outputs": []
    },
    {
      "cell_type": "markdown",
      "source": [
        "You can use this function like so:"
      ],
      "metadata": {
        "id": "T4vQvxW75OM_"
      }
    },
    {
      "cell_type": "code",
      "source": [
        "first11harmonyvoiceembeddings_array = first11harmonyvoiceembeddings['embeddings'].numpy()\n",
        "GMT20230112_DCC_1052_Embeddings_array = GMT20230112_DCC_1052_Embeddings['embeddings'].numpy()\n"
      ],
      "metadata": {
        "colab": {
          "base_uri": "https://localhost:8080/",
          "height": 187
        },
        "id": "gQlQVk1z5U4L",
        "outputId": "6a025b0b-ae56-47c7-aaab-9f88654139e2"
      },
      "execution_count": null,
      "outputs": [
        {
          "output_type": "error",
          "ename": "AttributeError",
          "evalue": "ignored",
          "traceback": [
            "\u001b[0;31m---------------------------------------------------------------------------\u001b[0m",
            "\u001b[0;31mAttributeError\u001b[0m                            Traceback (most recent call last)",
            "\u001b[0;32m<ipython-input-113-cac82ef72290>\u001b[0m in \u001b[0;36m<cell line: 1>\u001b[0;34m()\u001b[0m\n\u001b[0;32m----> 1\u001b[0;31m \u001b[0mfirst11harmonyvoiceembeddings_array\u001b[0m \u001b[0;34m=\u001b[0m \u001b[0mfirst11harmonyvoiceembeddings\u001b[0m\u001b[0;34m[\u001b[0m\u001b[0;34m'embeddings'\u001b[0m\u001b[0;34m]\u001b[0m\u001b[0;34m.\u001b[0m\u001b[0mnumpy\u001b[0m\u001b[0;34m(\u001b[0m\u001b[0;34m)\u001b[0m\u001b[0;34m\u001b[0m\u001b[0;34m\u001b[0m\u001b[0m\n\u001b[0m\u001b[1;32m      2\u001b[0m \u001b[0mGMT20230112_DCC_1052_Embeddings_array\u001b[0m \u001b[0;34m=\u001b[0m \u001b[0mGMT20230112_DCC_1052_Embeddings\u001b[0m\u001b[0;34m[\u001b[0m\u001b[0;34m'embeddings'\u001b[0m\u001b[0;34m]\u001b[0m\u001b[0;34m.\u001b[0m\u001b[0mnumpy\u001b[0m\u001b[0;34m(\u001b[0m\u001b[0;34m)\u001b[0m\u001b[0;34m\u001b[0m\u001b[0;34m\u001b[0m\u001b[0m\n",
            "\u001b[0;31mAttributeError\u001b[0m: 'list' object has no attribute 'numpy'"
          ]
        }
      ]
    },
    {
      "cell_type": "code",
      "source": [],
      "metadata": {
        "id": "C91HmLUu5UzY"
      },
      "execution_count": null,
      "outputs": []
    },
    {
      "cell_type": "code",
      "source": [],
      "metadata": {
        "id": "YePANa5I5UvP"
      },
      "execution_count": null,
      "outputs": []
    },
    {
      "cell_type": "code",
      "source": [],
      "metadata": {
        "id": "mprfJPQd5Uqx"
      },
      "execution_count": null,
      "outputs": []
    },
    {
      "cell_type": "code",
      "source": [],
      "metadata": {
        "id": "ItTGpFJb5Umf"
      },
      "execution_count": null,
      "outputs": []
    },
    {
      "cell_type": "code",
      "source": [],
      "metadata": {
        "id": "iS_rQFjb5T6R"
      },
      "execution_count": null,
      "outputs": []
    },
    {
      "cell_type": "code",
      "source": [
        "# Get the number of unknown speakers\n",
        "num_unknown_speakers = unknown_speaker_embeddings.shape[0]\n",
        "\n",
        "# Get the labels corresponding to the unknown speakers\n",
        "unknown_speaker_labels = kmeans.labels_[:num_unknown_speakers]\n",
        "\n",
        "# Now, `unknown_speaker_labels[i]` is the cluster to which the i-th unknown speaker belongs\n"
      ],
      "metadata": {
        "colab": {
          "base_uri": "https://localhost:8080/",
          "height": 240
        },
        "id": "gSUEEmUAHL3C",
        "outputId": "741d1d6a-0341-4b0d-d34a-65082d398ad4"
      },
      "execution_count": null,
      "outputs": [
        {
          "output_type": "error",
          "ename": "NameError",
          "evalue": "ignored",
          "traceback": [
            "\u001b[0;31m---------------------------------------------------------------------------\u001b[0m",
            "\u001b[0;31mNameError\u001b[0m                                 Traceback (most recent call last)",
            "\u001b[0;32m<ipython-input-108-0d90dc1644b8>\u001b[0m in \u001b[0;36m<cell line: 2>\u001b[0;34m()\u001b[0m\n\u001b[1;32m      1\u001b[0m \u001b[0;31m# Get the number of unknown speakers\u001b[0m\u001b[0;34m\u001b[0m\u001b[0;34m\u001b[0m\u001b[0m\n\u001b[0;32m----> 2\u001b[0;31m \u001b[0mnum_unknown_speakers\u001b[0m \u001b[0;34m=\u001b[0m \u001b[0munknown_speaker_embeddings\u001b[0m\u001b[0;34m.\u001b[0m\u001b[0mshape\u001b[0m\u001b[0;34m[\u001b[0m\u001b[0;36m0\u001b[0m\u001b[0;34m]\u001b[0m\u001b[0;34m\u001b[0m\u001b[0;34m\u001b[0m\u001b[0m\n\u001b[0m\u001b[1;32m      3\u001b[0m \u001b[0;34m\u001b[0m\u001b[0m\n\u001b[1;32m      4\u001b[0m \u001b[0;31m# Get the labels corresponding to the unknown speakers\u001b[0m\u001b[0;34m\u001b[0m\u001b[0;34m\u001b[0m\u001b[0m\n\u001b[1;32m      5\u001b[0m \u001b[0munknown_speaker_labels\u001b[0m \u001b[0;34m=\u001b[0m \u001b[0mkmeans\u001b[0m\u001b[0;34m.\u001b[0m\u001b[0mlabels_\u001b[0m\u001b[0;34m[\u001b[0m\u001b[0;34m:\u001b[0m\u001b[0mnum_unknown_speakers\u001b[0m\u001b[0;34m]\u001b[0m\u001b[0;34m\u001b[0m\u001b[0;34m\u001b[0m\u001b[0m\n",
            "\u001b[0;31mNameError\u001b[0m: name 'unknown_speaker_embeddings' is not defined"
          ]
        }
      ]
    },
    {
      "cell_type": "code",
      "source": [],
      "metadata": {
        "id": "neQGgIuMHLzt"
      },
      "execution_count": null,
      "outputs": []
    },
    {
      "cell_type": "code",
      "source": [],
      "metadata": {
        "id": "FsSN1H2ZHLwc"
      },
      "execution_count": null,
      "outputs": []
    },
    {
      "cell_type": "code",
      "source": [],
      "metadata": {
        "id": "R2jIafP0HLs7"
      },
      "execution_count": null,
      "outputs": []
    },
    {
      "cell_type": "code",
      "source": [],
      "metadata": {
        "id": "_ftkEpAtHLp7"
      },
      "execution_count": null,
      "outputs": []
    },
    {
      "cell_type": "code",
      "source": [],
      "metadata": {
        "id": "xozFDlyKHLKW"
      },
      "execution_count": null,
      "outputs": []
    },
    {
      "cell_type": "code",
      "source": [
        "# def create_embeddings_and_features(feature_extractor, model, chunks, timestamps, device):\n",
        "#     # Initialize empty lists to store embeddings and features for each chunk\n",
        "#     chunk_embeddings = []\n",
        "#     chunk_features = []\n",
        "#     for i, chunk in enumerate(chunks):\n",
        "#         # Extract features\n",
        "#         inputs = feature_extractor(chunk, return_tensors=\"pt\", padding=\"longest\", max_length=16000, truncation=True)\n",
        "#         inputs = {k: v.to(device) for k, v in inputs.items()}\n",
        "\n",
        "#         # Store the features data\n",
        "#         chunk_features.append(inputs['input_values'].cpu().numpy())\n",
        "\n",
        "#         # Generate embeddings\n",
        "#         with torch.no_grad():\n",
        "#             model_output = model(**inputs)\n",
        "\n",
        "#         # Get the embeddings from the model's output and convert to numpy array\n",
        "#         chunk_embeddings.append(model_output.last_hidden_state.cpu().numpy())\n",
        "\n",
        "#     # Convert lists to numpy arrays for return\n",
        "#     chunk_embeddings = np.array(chunk_embeddings)\n",
        "#     chunk_features = np.array(chunk_features)\n",
        "\n",
        "#     return chunk_embeddings, chunk_features, timestamps"
      ],
      "metadata": {
        "id": "My4aVd1TZo_K"
      },
      "execution_count": null,
      "outputs": []
    },
    {
      "cell_type": "code",
      "source": [
        "print(torch.norm(emb1, dim=-1))\n"
      ],
      "metadata": {
        "colab": {
          "base_uri": "https://localhost:8080/"
        },
        "id": "cxDHg5QfCPWB",
        "outputId": "0f5bedcf-0ae6-43f0-f80e-979c980e81d3"
      },
      "execution_count": null,
      "outputs": [
        {
          "output_type": "stream",
          "name": "stdout",
          "text": [
            "tensor([1.])\n"
          ]
        }
      ]
    },
    {
      "cell_type": "code",
      "source": [
        "print(input1.shape)\n"
      ],
      "metadata": {
        "colab": {
          "base_uri": "https://localhost:8080/"
        },
        "id": "jFRLF7Cu_o78",
        "outputId": "615824e9-9011-43a1-e429-34060dcc8f6d"
      },
      "execution_count": null,
      "outputs": [
        {
          "output_type": "stream",
          "name": "stdout",
          "text": [
            "torch.Size([1, 22050])\n"
          ]
        }
      ]
    },
    {
      "cell_type": "code",
      "source": [
        "# def create_embeddings_and_features(feature_extractor, model, chunks, timestamps, device):\n",
        "#     # Initialize empty lists to store embeddings and features for each chunk\n",
        "#     chunk_embeddings = []\n",
        "#     chunk_features = []\n",
        "#     for i, chunk in enumerate(chunks):\n",
        "#         # Extract features\n",
        "#         inputs = feature_extractor(chunk, return_tensors=\"pt\", padding=\"longest\", max_length=16000, truncation=True)\n",
        "#         inputs = {k: v.to(device) for k, v in inputs.items()}\n",
        "\n",
        "#         # Store the features data\n",
        "#         chunk_features.append(inputs['input_values'].cpu().numpy())\n",
        "\n",
        "#         # Generate embeddings\n",
        "#         with torch.no_grad():\n",
        "#             model_output = model(**inputs)\n",
        "\n",
        "#         # Get the embeddings from the model's output and convert to numpy array\n",
        "#         chunk_embeddings.append(model_output.last_hidden_state.cpu().numpy())\n",
        "\n",
        "#     # Convert lists to numpy arrays for return\n",
        "#     chunk_embeddings = np.array(chunk_embeddings)\n",
        "#     chunk_features = np.array(chunk_features)\n",
        "\n",
        "#     return chunk_embeddings, chunk_features, timestamps\n"
      ],
      "metadata": {
        "id": "Nh9GaN_S7vvN"
      },
      "execution_count": null,
      "outputs": []
    },
    {
      "cell_type": "code",
      "source": [
        "# def create_embeddings_and_features(feature_extractor, model, chunks, timestamps, device):\n",
        "#     # Initialize empty lists to store embeddings and features for each chunk\n",
        "#     chunk_embeddings = []\n",
        "#     chunk_features = []\n",
        "#     for i, chunk in enumerate(chunks):\n",
        "#         # Extract features\n",
        "#         input1 = feature_extractor(chunk, return_tensors=\"pt\", sampling_rate=16000).input_values.to(device)\n",
        "#         # # Generate embeddings\n",
        "#         # with torch.no_grad():\n",
        "#         #     model_output = model(**inputs)\n",
        "\n",
        "#         # Get the embeddings from the model's output and convert to numpy array\n",
        "#         #chunk_embeddings.append(model_output.last_hidden_state.cpu().numpy())\n",
        "\n",
        "#     # Convert lists to numpy arrays for return\n",
        "#     chunk_embeddings = np.array(chunk_embeddings)\n",
        "#     chunk_features = np.array(chunk_features)\n",
        "\n",
        "#     return chunk_embeddings, chunk_features, timestamps"
      ],
      "metadata": {
        "id": "9WAxx0EE9FaR"
      },
      "execution_count": null,
      "outputs": []
    },
    {
      "cell_type": "code",
      "source": [
        "#chunk_embeddings, chunk_features, timestamps = create_embeddings_and_features(feature_extractor, model, chunks, timestamps, device)\n"
      ],
      "metadata": {
        "colab": {
          "base_uri": "https://localhost:8080/",
          "height": 187
        },
        "id": "LPhEkFN67T82",
        "outputId": "482f60a9-f1a3-4b6f-d591-02bd0eea3816"
      },
      "execution_count": null,
      "outputs": [
        {
          "output_type": "error",
          "ename": "NameError",
          "evalue": "ignored",
          "traceback": [
            "\u001b[0;31m---------------------------------------------------------------------------\u001b[0m",
            "\u001b[0;31mNameError\u001b[0m                                 Traceback (most recent call last)",
            "\u001b[0;32m<ipython-input-88-a76bde197f8d>\u001b[0m in \u001b[0;36m<cell line: 1>\u001b[0;34m()\u001b[0m\n\u001b[0;32m----> 1\u001b[0;31m \u001b[0mchunk_embeddings\u001b[0m\u001b[0;34m,\u001b[0m \u001b[0mchunk_features\u001b[0m\u001b[0;34m,\u001b[0m \u001b[0mtimestamps\u001b[0m \u001b[0;34m=\u001b[0m \u001b[0mcreate_embeddings_and_features\u001b[0m\u001b[0;34m(\u001b[0m\u001b[0mfeature_extractor\u001b[0m\u001b[0;34m,\u001b[0m \u001b[0mmodel\u001b[0m\u001b[0;34m,\u001b[0m \u001b[0mchunks\u001b[0m\u001b[0;34m,\u001b[0m \u001b[0mtimestamps\u001b[0m\u001b[0;34m,\u001b[0m \u001b[0mdevice\u001b[0m\u001b[0;34m)\u001b[0m\u001b[0;34m\u001b[0m\u001b[0;34m\u001b[0m\u001b[0m\n\u001b[0m",
            "\u001b[0;31mNameError\u001b[0m: name 'create_embeddings_and_features' is not defined"
          ]
        }
      ]
    },
    {
      "cell_type": "markdown",
      "source": [
        "##### End of process_audio_chunks(chunks, timestamps, feature_extractor, model, device): AND create_embeddings_and_features"
      ],
      "metadata": {
        "id": "EheLG6Qy8j2k"
      }
    },
    {
      "cell_type": "markdown",
      "source": [
        "################ End of AccentNew GoodVersion Develop ReMine function preprocess_audio(numpy array) --> numpy array"
      ],
      "metadata": {
        "id": "2ymoGQxr0kdu"
      }
    },
    {
      "cell_type": "markdown",
      "source": [
        "Now Lets use all the components for creating embeddings and then refine the function."
      ],
      "metadata": {
        "id": "vsQtlEi9f6hG"
      }
    },
    {
      "cell_type": "markdown",
      "source": [
        "############################### End of AccentNew Read audio.m4a from Filepath"
      ],
      "metadata": {
        "id": "e6KJAyn2Skr6"
      }
    },
    {
      "cell_type": "markdown",
      "source": [
        "### Call K++ Neighbors with First11HarmonyFrequency and Chunked Audio Embeddings. First Store the 1 sec chunked Audio Embeddings in Hugging Face  "
      ],
      "metadata": {
        "id": "Cfef26EhYEnz"
      }
    },
    {
      "cell_type": "code",
      "source": [],
      "metadata": {
        "id": "puZ0nOyda0in"
      },
      "execution_count": null,
      "outputs": []
    },
    {
      "cell_type": "markdown",
      "source": [
        "### AcccentNew HarmonyFrequency Store Speaker Embeddings for File_Path"
      ],
      "metadata": {
        "id": "BLWW9WvLYaV4"
      }
    },
    {
      "cell_type": "markdown",
      "source": [
        "### AccentNew Develop Loading ReMineEmbeddings to HuggingFace Lets load this data into hugging face hub"
      ],
      "metadata": {
        "id": "CYcrkKSeY2DA"
      }
    },
    {
      "cell_type": "code",
      "source": [
        "from datasets import Dataset\n",
        "\n",
        "# Convert the PyTorch tensor to a numpy array\n",
        "emb1_numpy = emb1.cpu().numpy()\n",
        "\n",
        "\n",
        "# Create a dictionary with the embeddings and the audio file path\n",
        "data = {'embeddings': emb1_numpy, 'audio_file_path': [audio_file_path]*len(emb1_numpy)}\n",
        "\n",
        "# Convert the dictionary to a Hugging Face dataset\n",
        "dataset = Dataset.from_dict(data)\n",
        "\n",
        "# Save the dataset\n",
        "dataset.save_to_disk(audio_file_path + \"_embeddings\")\n"
      ],
      "metadata": {
        "colab": {
          "base_uri": "https://localhost:8080/",
          "height": 17,
          "referenced_widgets": [
            "9217e01be5f84afb8abe0b972545248c",
            "d3355dc1252549a391065422d643f518",
            "ca21a7b7e8194712bd9303ec5eb12514",
            "da35b1378bab472090667c7b38755305",
            "a97f5ccfb7a24f6fbce1b20c898eb82a",
            "ab7ff914bcd24772a7b63f43ccc31b7b",
            "73dc47ccc08043c28518ce8cda6083cd",
            "ba4c967c479947c7b01b6b1544aceb08",
            "25f3c59823cc400abbcc9ebacdf2944e",
            "73490044ef444e1eb6a4e19d21f3da01",
            "be37825a629f4d478f149e21e3bb65eb"
          ]
        },
        "id": "7Bu8lbbnbxNl",
        "outputId": "e6f3e3d0-6221-45a7-bc26-a8df4a408f59"
      },
      "execution_count": null,
      "outputs": [
        {
          "output_type": "display_data",
          "data": {
            "text/plain": [
              "Saving the dataset (0/1 shards):   0%|          | 0/1 [00:00<?, ? examples/s]"
            ],
            "application/vnd.jupyter.widget-view+json": {
              "version_major": 2,
              "version_minor": 0,
              "model_id": "9217e01be5f84afb8abe0b972545248c"
            }
          },
          "metadata": {}
        }
      ]
    },
    {
      "cell_type": "code",
      "source": [
        "!huggingface-cli repo create ReMineDataEmbeddings --type dataset\n"
      ],
      "metadata": {
        "colab": {
          "base_uri": "https://localhost:8080/"
        },
        "id": "ceQLZVNEcgRZ",
        "outputId": "78db5857-e0cf-410a-e435-dbbd852224f8"
      },
      "execution_count": null,
      "outputs": [
        {
          "output_type": "stream",
          "name": "stdout",
          "text": [
            "\u001b[90mgit version 2.25.1\u001b[0m\n",
            "\u001b[90mgit-lfs/2.9.2 (GitHub; linux amd64; go 1.13.5)\u001b[0m\n",
            "\n",
            "You are about to create \u001b[1mdatasets/on1onmangoes/ReMineDataEmbeddings\u001b[0m\n",
            "Proceed? [Y/n] Y\n",
            "\n",
            "Your repo now lives at:\n",
            "  \u001b[1mhttps://huggingface.co/datasets/on1onmangoes/ReMineDataEmbeddings\u001b[0m\n",
            "\n",
            "You can clone it locally with the command below, and commit/push as usual.\n",
            "\n",
            "  git clone https://huggingface.co/datasets/on1onmangoes/ReMineDataEmbeddings\n",
            "\n"
          ]
        }
      ]
    },
    {
      "cell_type": "markdown",
      "source": [
        "save to the ReMineDataEmbeddings"
      ],
      "metadata": {
        "id": "V_sVwGNPeX4l"
      }
    },
    {
      "cell_type": "code",
      "source": [
        "test_embedding_onesec = dataset\n",
        "test_embedding_onesec.save_to_disk('/path/to/huggingface/dataset/repository')\n"
      ],
      "metadata": {
        "colab": {
          "base_uri": "https://localhost:8080/",
          "height": 17,
          "referenced_widgets": [
            "753888901df64139a55ce44290d5ad80",
            "6a9217f469c84189853bbf61123c3959",
            "bc8f12a0cd654f42a786745f5938548f",
            "09dd16cdbbcf4d26b6a583a959d21fab",
            "0cffbd39de494ed19845f004bb18fc6c",
            "f69923d0cd6040c39e77c949565ecb05",
            "e7f14f67a4034349ac4e9db9a4c3d037",
            "b249a6108bb74681b52eb82c48ef8975",
            "fd7783445da34e039a137a78445f2508",
            "5a049a3685fb4709b63d09b89e09a181",
            "a31739d965184d12ba2fb40f61ab3632"
          ]
        },
        "id": "ZkTfgjEJdir8",
        "outputId": "7b762edc-b900-481a-8b11-71ec45dbae8e"
      },
      "execution_count": null,
      "outputs": [
        {
          "output_type": "display_data",
          "data": {
            "text/plain": [
              "Saving the dataset (0/1 shards):   0%|          | 0/1 [00:00<?, ? examples/s]"
            ],
            "application/vnd.jupyter.widget-view+json": {
              "version_major": 2,
              "version_minor": 0,
              "model_id": "753888901df64139a55ce44290d5ad80"
            }
          },
          "metadata": {}
        }
      ]
    },
    {
      "cell_type": "markdown",
      "source": [],
      "metadata": {
        "id": "pD90-cNtecyn"
      }
    },
    {
      "cell_type": "code",
      "source": [
        "test_embedding_onesec.push_to_hub(f\"{hf_username}/test_embedding_onesec\")"
      ],
      "metadata": {
        "colab": {
          "base_uri": "https://localhost:8080/",
          "height": 163,
          "referenced_widgets": [
            "b536d6d717fb4b18b0fd7b6d4aa514b9",
            "1c23e2517c384f89a57168efa408df30",
            "71b160dca48a4da2938ea57645dec2fc",
            "e18d2bde8b4f4ba4aec122f63dcb2eb6",
            "577ebe1a5c79426cbf2572e11105adcd",
            "3f6a67b6bd074d148849daea233a3c8f",
            "954c12424a384fc4a188f9e193dfff88",
            "cba1a183883743469a34ad81b6f214e5",
            "6478b56748e5403591f1e00bad795997",
            "c0cf8e1024844f368c97843af62f3066",
            "e6dc9dd74c704f8393590ee766c02eb5",
            "ff18777afea84db39e18ad4252126799",
            "1b15fa33d7454a62ac281f4fa699b76c",
            "e216228ce2e5486e9d76d9b567305564",
            "83c85b35932a4ed58e825ae7bd2b1324",
            "02b55147104d4a198f48672528764817",
            "177d63fe4f004e839a91030c23aa6fe8",
            "8b2aa5e321864b7198d186f55fae0f61",
            "4b40b6ca341e4d729784da11f0df6b76",
            "8056489c79034ba1b283a593f4f84486",
            "421f5310256d41829964fd38c92023e5",
            "6ad265a46b034e479e61cf3082b2bd92",
            "ccd888b496494015b5bfbc38f530c75b",
            "d60577dd0dfd4159bcf1a758fc3f5fbe",
            "da498531e7a64f64a50289da8d50e2f6",
            "6a7884d3b1274543b480c38fb2560bcf",
            "7509f505ec244d54af88d972f0aa0e5d",
            "ff2998e0975042b69c032f43709b3695",
            "95b499be49fd48589336bf7065eac2e5",
            "ef33ce93ea954a67916bdaad21b2f956",
            "c83f36fef5174ed1b5829db3e8b8bb3b",
            "76c95b2aa4674b9eb2e7a80ff86eee9f",
            "a5d1301ffc0e424cad93ebe448377ba7",
            "3043ef569f8549d9a9a6ad2cd2188aab",
            "4dfe9501b9d648ec909b54c7cdf88808",
            "7ea6885ce52547b998fd777928278dc6",
            "b48f24ef80f143b5bc1cbae10e2c30e0",
            "a6cc9fa8026d4c799893746d4e8d9ea8",
            "ea6d7cd8e31a458f8dc374417729679b",
            "1c9da2604c814196b7abb9a8567bff6e",
            "b0ce13db49f94356b370cab17746d2f8",
            "82691deedbf14350ae66a461181f6ccb",
            "80669b9f8098420488ccac874c83968c",
            "24a55215ee404be09490e7da60e5bf09"
          ]
        },
        "id": "pb2o9ZRUecAA",
        "outputId": "c1980077-717e-4e64-d7ac-304eba2b878d"
      },
      "execution_count": null,
      "outputs": [
        {
          "output_type": "display_data",
          "data": {
            "text/plain": [
              "Pushing dataset shards to the dataset hub:   0%|          | 0/1 [00:00<?, ?it/s]"
            ],
            "application/vnd.jupyter.widget-view+json": {
              "version_major": 2,
              "version_minor": 0,
              "model_id": "b536d6d717fb4b18b0fd7b6d4aa514b9"
            }
          },
          "metadata": {}
        },
        {
          "output_type": "display_data",
          "data": {
            "text/plain": [
              "Creating parquet from Arrow format:   0%|          | 0/1 [00:00<?, ?ba/s]"
            ],
            "application/vnd.jupyter.widget-view+json": {
              "version_major": 2,
              "version_minor": 0,
              "model_id": "ff18777afea84db39e18ad4252126799"
            }
          },
          "metadata": {}
        },
        {
          "output_type": "display_data",
          "data": {
            "text/plain": [
              "Deleting unused files from dataset repository:   0%|          | 0/1 [00:00<?, ?it/s]"
            ],
            "application/vnd.jupyter.widget-view+json": {
              "version_major": 2,
              "version_minor": 0,
              "model_id": "ccd888b496494015b5bfbc38f530c75b"
            }
          },
          "metadata": {}
        },
        {
          "output_type": "display_data",
          "data": {
            "text/plain": [
              "Downloading metadata:   0%|          | 0.00/426 [00:00<?, ?B/s]"
            ],
            "application/vnd.jupyter.widget-view+json": {
              "version_major": 2,
              "version_minor": 0,
              "model_id": "3043ef569f8549d9a9a6ad2cd2188aab"
            }
          },
          "metadata": {}
        },
        {
          "output_type": "stream",
          "name": "stderr",
          "text": [
            "WARNING:datasets.arrow_dataset:Updating downloaded metadata with the new split.\n"
          ]
        }
      ]
    },
    {
      "cell_type": "markdown",
      "source": [
        "####### End of Loading Test Speaker One Sec Embeddings."
      ],
      "metadata": {
        "id": "pfJV7ixXeudZ"
      }
    },
    {
      "cell_type": "code",
      "source": [
        "import os\n",
        "import io"
      ],
      "metadata": {
        "id": "Se1K_nNC2E1Y"
      },
      "execution_count": null,
      "outputs": []
    },
    {
      "cell_type": "markdown",
      "metadata": {
        "id": "MscqPJP6UKjg"
      },
      "source": [
        "###***GaurdianVigil AccentNew : ReMine --> HarmonyVoice --> SAML --> TranquilMind --> GaurdianVigil***\n",
        "\n",
        "\n"
      ]
    },
    {
      "cell_type": "code",
      "source": [
        "import numpy as np\n",
        "import soundfile as sf\n",
        "\n",
        "# Specify the path to an audio file\n",
        "#file_path = \"/path/to/your/audio/file.wav\"\n",
        "\n",
        "# Load the file using the function\n",
        "file_data = load_audio_file(audio_file_path)\n",
        "\n",
        "# Convert binary data to a numpy array\n",
        "audio_data, sample_rate = sf.read(io.BytesIO(file_data))\n",
        "\n",
        "# Print the unique values in the array\n",
        "unique_values = np.unique(audio_data)\n",
        "print(f\"Number of unique values in the audio data: {len(unique_values)}\")\n",
        "print(f\"Unique values: {unique_values}\")\n"
      ],
      "metadata": {
        "id": "4d0G3a5P11yn"
      },
      "execution_count": null,
      "outputs": []
    },
    {
      "cell_type": "markdown",
      "metadata": {
        "id": "Cn-pKiWHdUCu"
      },
      "source": [
        "1. Generate Embeddings for First11HarmonyVoice Data: If not done already, generate speaker embeddings for your First11HarmonyVoice data. These embeddings will act as your reference or anchor points.\n",
        "\n",
        "2. Generate Embeddings for New Audio Data: Use the same method to extract speaker embeddings from the new set of audio data (e.g., microphone, uploaded audio file, or YouTube stream).\n",
        "\n",
        "3. Concatenate Embeddings: Merge or concatenate the embeddings from the new data with the embeddings from the First11HarmonyVoice data, resulting in a combined set of embeddings.\n",
        "\n",
        "4. Run K-means++ Clustering: Use the K-means++ clustering algorithm on the combined set of embeddings. Make sure to seed the centroids of the K-means++ algorithm with the embeddings from the First11HarmonyVoice data. The algorithm will then form clusters, with each cluster representing a unique speaker.\n",
        "\n",
        "5. Assign Labels: Assign labels to each of the clusters. The labels of the embeddings from the First11HarmonyVoice data can act as reference points for these assignments.\n",
        "\n",
        "6. Speaker Diarization: Based on the assigned labels, you should now be able to determine when each speaker is talking in the new set of audio data. This will allow you to create a speaker diarization output, showing who spoke when.\n",
        "\n",
        "7. Timestamp Assignment: With the speaker labels in hand, align these with the timestamps from the original chunked audio. Each chunk of audio will now have a corresponding speaker label."
      ]
    },
    {
      "cell_type": "markdown",
      "metadata": {
        "id": "ViKo-cKLpMqb"
      },
      "source": [
        "###***AccentNew -->***\n",
        "AccentNew is a powerful feature that serves as a catalyst for convergence, driving research and development (R&D), quality assurance (QA), and integration efforts. Inspired by the vision of Andrew Ng, AccentNew embraces the spirit of innovation and collaboration to unlock new possibilities and accelerate progress in our applications.\n",
        "\n",
        "1. Test HarmonyVoice\n",
        "2. Integrate with HarmonyFrequency -> SAML\n",
        "3. Integrate SAML -> GaurdianVigil\n",
        "4. R&D McTalk:"
      ]
    },
    {
      "cell_type": "markdown",
      "metadata": {
        "id": "HBwoTfcReQdi"
      },
      "source": [
        "### 1. AccentNew Load First11Voice Embeddings"
      ]
    },
    {
      "cell_type": "code",
      "execution_count": null,
      "metadata": {
        "id": "J_C_-5GleZXD",
        "colab": {
          "base_uri": "https://localhost:8080/"
        },
        "outputId": "b0ab2192-9a03-4fe2-bd4d-ff7dbc27e5cc"
      },
      "outputs": [
        {
          "output_type": "stream",
          "name": "stderr",
          "text": [
            "WARNING:datasets.builder:Found cached dataset parquet (/root/.cache/huggingface/datasets/on1onmangoes___parquet/on1onmangoes--First11VoiceHarmonyEmbeddings071523GoodVersion-acf878a2debc5fdf/0.0.0/14a00e99c0d15a23649d0db8944380ac81082d4b021f398733dd84f3a6c569a7)\n"
          ]
        },
        {
          "output_type": "stream",
          "name": "stdout",
          "text": [
            "{'speaker_id': ['3168-173565-0000', '4214-7146-0047', '1088-129236-0023', '1963-142393-0045', '831-130746-0037'], 'embeddings': [[[-0.019814802333712578, -0.017351875081658363, -0.01604916714131832, 0.05154065787792206, -0.009479808621108532, 0.02538236789405346, -0.04105699434876442, -0.016588149592280388, -0.03044075146317482, -0.02001069486141205, -0.01971764862537384, -0.027386458590626717, -0.01830146089196205, -0.018530620262026787, -0.033052656799554825, -0.026355136185884476, -0.018343346193432808, -0.015194468200206757, -0.01218817476183176, -0.00526050291955471, -0.018008118495345116, -0.018821876496076584, -0.018921978771686554, -0.017379993572831154, -0.01582236774265766, -0.012752318754792213, -0.01724334806203842, -0.02684519626200199, -0.016504477709531784, -0.058013785630464554, -0.02474147453904152, -0.019733218476176262, -0.01213686354458332, -0.0293198823928833, -0.01940840296447277, -0.0348963625729084, -0.0031494786962866783, -0.04902632161974907, -0.03608071804046631, -0.017742695286870003, -0.027434388175606728, -0.02436576411128044, -0.01857830584049225, -0.02119671180844307, -0.06856436282396317, -0.018619824200868607, -0.01795893907546997, -0.009391321800649166, -0.04948063939809799, -0.022663436830043793, -0.018829097971320152, -0.02023804746568203, 0.03770383447408676, -0.010203273966908455, -0.07287546992301941, -0.012901373207569122, -0.05619756504893303, -0.02159128524363041, -0.01923731341958046, -0.02079448662698269, -0.011268997564911842, -0.02716655470430851, -0.08970023691654205, -0.018903860822319984, -0.07307349890470505, -0.01844218000769615, -0.1466778963804245, -0.018284954130649567, -0.020755967125296593, -0.09869800508022308, -0.021436315029859543, -0.08157657831907272, -0.016786765307188034, -0.01788276806473732, -0.044130560010671616, -0.04761404171586037, 0.007931170053780079, -0.02077861875295639, -0.014662169851362705, -0.019913984462618828, -0.014313771389424801, -0.015192998573184013, -0.03645746409893036, -0.09694183617830276, -0.02104085311293602, -0.19155772030353546, -0.019805317744612694, -0.01389368250966072, -0.02964549884200096, -0.01907707192003727, -0.020775027573108673, 0.022021504119038582, -0.20057202875614166, -0.012985702604055405, -0.01938631385564804, -0.015254314057528973, -0.00895865261554718, -0.022050760686397552, 0.0046924627386033535, -0.0674651563167572, -0.02334357053041458, 0.0033316637855023146, -0.01584455743432045, 0.016201810911297798, -0.03289177268743515, -0.12726636230945587, -0.027198493480682373, -0.025179559364914894, 0.038626763969659805, -0.05377941578626633, -0.014663071371614933, -0.017706917598843575, -0.0220217052847147, -0.020849768072366714, -0.01889760047197342, -0.021125061437487602, -0.04121379926800728, -0.05329356715083122, -0.017157619819045067, -0.012096990831196308, -0.013354290276765823, -0.026519866660237312, -0.012435072101652622, -0.021207591518759727, -0.01908578723669052, -0.014275859110057354, -0.02113421820104122, -0.028668668121099472, -0.02594914101064205, -0.02467700093984604, -0.015223153866827488, 0.014853357337415218, -0.013431224972009659, -0.011151257902383804, -0.07264826446771622, -0.018929753452539444, -0.016056835651397705, -0.014110605232417583, 0.02195543423295021, -0.038447923958301544, -0.016142381355166435, -0.013815159909427166, 0.007333105430006981, -0.01958218216896057, -0.018263250589370728, 0.019068347290158272, -0.011535982601344585, -0.023633569478988647, -0.014405849389731884, -0.017083488404750824, 0.03161753714084625, -0.15180853009223938, -0.021927572786808014, -0.022791001945734024, -0.010217642411589622, -0.006253506988286972, -0.013560510240495205, -0.023550059646368027, -0.01678360253572464, -0.020695507526397705, -0.011371254920959473, -0.025174735113978386, -0.01857825368642807, -0.017233319580554962, 0.014885560609400272, -0.05811028182506561, -0.10589656233787537, -0.013323440216481686, -0.010389858856797218, -0.037897780537605286, -0.019882412627339363, -0.01968134008347988, 0.03352825343608856, -0.06516484916210175, -0.015544488094747066, 0.003130304627120495, -0.015029066242277622, 0.01660471223294735, -0.08852314203977585, -0.020033208653330803, -0.03482543304562569, -0.020371394231915474, -0.015056676231324673, -0.012844273820519447, -0.024615241214632988, -0.11138715595006943, -0.08762165904045105, -0.013421435840427876, -0.018471958115696907, -0.02072026953101158, -0.018916239961981773, -0.07683449983596802, -0.12882497906684875, -0.018035411834716797, -0.02022918500006199, -0.01962694339454174, -0.08260006457567215, -0.013291245326399803, -0.015499673783779144, -0.013735896907746792, -0.02195986546576023, -0.02054073102772236, -0.06283289939165115, -0.011587037704885006, -0.021343721076846123, -0.02141670137643814, -0.01190832071006298, -0.027200326323509216, -0.009428772144019604, -0.0661861002445221, -0.04680226370692253, -0.018093664199113846, -0.018386205658316612, -0.015571581199765205, -0.020836567506194115, -0.05664407089352608, -0.014505012892186642, -0.015614541247487068, -0.052609801292419434, -0.0630209892988205, -0.013252506963908672, 0.012952255085110664, -0.017330538481473923, -0.012777195312082767, -0.037199195474386215, -0.04948655888438225, -0.015151419676840305, -0.01385914720594883, -0.030006617307662964, 0.011807785369455814, -0.020145079120993614, -0.03566672280430794, -0.025385772809386253, -0.015288781374692917, -0.01563429832458496, -0.025934062898159027, -0.009666135534644127, -0.016541920602321625, -0.021551521494984627, -0.014866417273879051, -0.009953883476555347, -0.023765111342072487, -0.017662568017840385, -0.01505900640040636, -0.019152404740452766, -0.041948121041059494, -0.021464193239808083, -0.17432227730751038, -0.013159651309251785, -0.010121582075953484, -0.014722452498972416, -0.02375359833240509, -0.021568166092038155, -0.013774112798273563, -0.0049985372461378574, -0.022795939818024635, -0.022632893174886703, -0.014793889597058296, -0.10641639679670334, -0.06139964610338211, -0.0056776548735797405, -0.022478794679045677, -0.017751634120941162, -0.012927855364978313, -0.03105362318456173, -0.03411779925227165, 0.011154734529554844, -0.015564956702291965, -0.027582837268710136, -0.019823072478175163, -0.05170333385467529, -0.01836623065173626, -0.1017472967505455, -0.01925702579319477, -0.01780882105231285, -0.011638580821454525, -0.03587614744901657, -0.12088645249605179, -0.023841869086027145, 0.03553048148751259, -0.015475678257644176, -0.013187022879719734, 0.02927977219223976, 0.003991253208369017, -0.06333845108747482, -0.01594456657767296, 0.00011110271589132026, -0.01465131901204586, -0.023564334958791733, -0.015720820054411888, -0.02076462097465992, -0.013774456456303596, -0.017354009672999382, -0.03220352903008461, -0.026936285197734833, -0.015505481511354446, -0.07600601762533188, -0.019362807273864746, 0.017141643911600113, -0.019009176641702652, -0.025764884427189827, -0.026576466858386993, -0.021915186196565628, -0.04223067685961723, -0.009584297426044941, -0.02851976454257965, -0.016199616715312004, -0.015226236544549465, -0.016158614307641983, -0.02287454344332218, -0.013027268461883068, -0.02496238611638546, -0.015642203390598297, -0.01553079392760992, -0.032750245183706284, -0.07945064455270767, 0.006972465198487043, -0.03770862892270088, -0.01897181011736393, -0.014445302076637745, 0.02446039766073227, -0.025658560916781425, -0.07137098908424377, -0.02030279114842415, -0.0183417871594429, -0.024438921362161636, -0.016186047345399857, -0.01788671873509884, -0.013637385331094265, -0.021611424162983894, -0.014559600502252579, -0.020144382491707802, -0.022721722722053528, -0.09600888937711716, -0.07884999364614487, -0.017964767292141914, -0.018926849588751793, -0.11711253970861435, -0.020960494875907898, -0.010300727561116219, -0.06797276437282562, -0.07319881021976471, -0.018225017935037613, -0.02328428626060486, -0.03473810851573944, -0.015603013336658478, -0.2431127279996872, -0.023280411958694458, 0.027440404519438744, -0.02835656888782978, 0.0036807048600167036, -0.022961240261793137, -0.015230294317007065, -0.013248882256448269, -0.03300120681524277, -0.0245729461312294, -0.01836290769279003, -0.01935017853975296, -0.014068660326302052, -0.018465004861354828, -0.012102575041353703, -0.08490168303251266, -0.01180197112262249, -0.02235284633934498, -0.010161434300243855, -0.016364097595214844, -0.08297845721244812, 0.016922447830438614, -0.017658481374382973, -0.008609018288552761, -0.01412286888808012, -0.08278588205575943, -0.012948279269039631, -0.03438704088330269, -0.03744253143668175, -0.03047068975865841, 0.02601417899131775, 0.00743235694244504, -0.02240070141851902, -0.0240013524889946, -0.015670496970415115, -0.005379768554121256, -0.020135123282670975, -0.012700162827968597, -0.017810700461268425, -0.011667324230074883, -0.025492290034890175, -0.01935834437608719, -0.01514712069183588, -0.13734091818332672, -0.041359420865774155, -0.02455325610935688, -0.009165625087916851, -0.019112296402454376, -0.020152051001787186, -0.03968212008476257, -0.03588629886507988, -0.017088914290070534, -0.02371256612241268, -0.030525369569659233, -0.014050372876226902, -0.017011301591992378, -0.021794788539409637, -0.020177876576781273, -0.02353852614760399, -0.028587913140654564, -0.020008301362395287, -0.020412597805261612, -0.16486571729183197, -0.03473368287086487, -0.0231540035456419, -0.016878338530659676, -0.019261298701167107, -0.019176790490746498, -0.019703727215528488, -0.0165304746478796, -0.01616666093468666, -0.02178994007408619, -0.17729906737804413, -0.07829706370830536, -0.017793921753764153, -0.01935228891670704, -0.08706513047218323, -0.04202824831008911, -0.019419865682721138, -0.016630269587039948, -0.013951948843896389, -0.018436020240187645, -0.05728011578321457, -0.011979487724602222, -0.12422395497560501, -0.08734084665775299, -0.07614848017692566, -0.012607350945472717, -0.026035752147436142, -0.14310197532176971, -0.016453726217150688, -0.017515234649181366, -0.09109795093536377, -0.022022105753421783, 0.004888469353318214, -0.01653565652668476, -0.07567828893661499, -0.02066899836063385, -0.01888180524110794, -0.01672520488500595, -0.018909785896539688, -0.023579681292176247, 0.014688851311802864, -0.07173103094100952, -0.1393425613641739, -0.18470542132854462, -0.030925875529646873, -0.018329419195652008, -0.007337543647736311, -0.017131807282567024, -0.009479769505560398, -0.038938138633966446, -0.0185388270765543, -0.019467052072286606, -0.013269364833831787, -0.0926993191242218, 0.03345746174454689, -0.013788042590022087, -0.08423188328742981, 0.010650130920112133, -0.014187880791723728, -0.021685035899281502, -0.020866570994257927, 0.025397220626473427, -0.04477861151099205, -0.020364921540021896, -0.016418565064668655, -0.060766227543354034, -0.02883096970617771, -0.01914266310632229, -0.009517324157059193, -0.011299217119812965, -0.07410526275634766, -0.026592476293444633, -0.0911000445485115, -0.020999938249588013, -0.01745498739182949, -0.08788076788187027, -0.01804657094180584, -0.035290125757455826, -0.01398323941975832, -0.02229929342865944, 0.04837564751505852, -0.01974554918706417, -0.0009267407585866749, -0.04180802404880524, -0.014846209436655045, -0.023093514144420624, 0.010975644923746586, -0.019108846783638, -0.0155509477481246, -0.0276323352009058, 0.03447334095835686, -0.008468124084174633, -0.02223079279065132, -0.0682588592171669, -0.009941929951310158, -0.11384586244821548, -0.013529414311051369, -0.02058304473757744, -0.020658696070313454, -0.02815139852464199, 0.007120473310351372, -0.022166458889842033, -0.01404326967895031, -0.01875430718064308]], [[-0.020905565470457077, -0.014163161627948284, -0.01750189997255802, -0.014638591557741165, -0.013315885327756405, -0.019146159291267395, -0.09584072232246399, -0.013539073057472706, -0.15957622230052948, -0.010744419880211353, -0.018373677507042885, -0.023839423432946205, -0.01886703073978424, -0.011938001960515976, -0.05227494239807129, -0.018336564302444458, -0.016488216817378998, -0.016736937686800957, -0.013998303562402725, -0.04754077270627022, -0.01858747936785221, -0.014640981331467628, -0.016594836488366127, -0.015589457005262375, -0.016728512942790985, -0.01914289966225624, -0.02034055069088936, -0.02117135375738144, -0.013934578746557236, -0.16653361916542053, -0.016627436503767967, -0.018668534234166145, -0.009376425296068192, -0.02417912892997265, -0.018192755058407784, -0.01348968967795372, -0.08573292195796967, -0.010559797286987305, -0.09811346977949142, -0.018929684534668922, -0.020486675202846527, -0.021799903362989426, -0.024143224582076073, -0.015239562839269638, -0.1535019874572754, -0.01912495121359825, -0.019288821145892143, -0.010041330009698868, 0.019125983119010925, -0.02131924405694008, -0.013276498764753342, -0.02373812161386013, -0.030571987852454185, -0.013715386390686035, -0.07725995033979416, -0.01559131033718586, 0.04578277841210365, -0.021390529349446297, -0.01914212480187416, -0.01901431381702423, -0.011226708069443703, -0.09957430511713028, -0.14796248078346252, -0.012991281226277351, -0.07480832189321518, -0.014784000813961029, -0.08534019440412521, -0.015289979986846447, -0.013634960167109966, -0.1092546135187149, -0.018083591014146805, -0.0036909340415149927, -0.016998130828142166, -0.01624176651239395, -0.024092217907309532, 0.004389182664453983, -0.07283620536327362, -0.014848249964416027, -0.012309044599533081, -0.0149130430072546, -0.016073502600193024, -0.012740910984575748, -0.036045778542757034, -0.1152593195438385, -0.015946686267852783, 0.03698110580444336, -0.020012488588690758, -0.010590501129627228, 0.02075636200606823, -0.014953513629734516, -0.019532054662704468, -0.03738560527563095, -0.07495450228452682, -0.016753047704696655, -0.01822221651673317, -0.011394542641937733, -0.01288075465708971, -0.021622315049171448, -0.14054077863693237, -0.2054842859506607, -0.011059061624109745, -0.09073929488658905, -0.013788985088467598, -0.0758812204003334, -0.047187067568302155, -0.014557783491909504, -0.025417456403374672, -0.02554362453520298, -0.11179926991462708, -0.07307101041078568, -0.03406216949224472, -0.01375284418463707, -0.012260006740689278, -0.014677982777357101, -0.02348719723522663, -0.023418989032506943, -0.11208490282297134, -0.01960410177707672, -0.02370988205075264, -0.06589122116565704, -0.010115026496350765, -0.02220965549349785, -0.014635611325502396, -0.016912924125790596, -0.019616486504673958, -0.013862570747733116, -0.025185542181134224, -0.023558517917990685, -0.029504675418138504, -0.018698660656809807, -0.023978350684046745, 0.01991533860564232, -0.016264215111732483, -0.015494071878492832, -0.24961136281490326, -0.025420721620321274, -0.018919983878731728, -0.009236556477844715, 0.008807308971881866, -0.021958157420158386, -0.016626473516225815, -0.01274142600595951, -0.08547352254390717, -0.01792270503938198, -0.01676524244248867, -0.10121254622936249, -0.06952932476997375, -0.020842047408223152, -0.022124242037534714, -0.014983437955379486, 0.003626228077337146, 0.016550781205296516, -0.01960914023220539, -0.015834830701351166, -0.010773119516670704, -0.06469119340181351, -0.01805228739976883, -0.021507106721401215, -0.017292635515332222, -0.013873644173145294, -0.013081335462629795, -0.014407954178750515, -0.021911539137363434, -0.023631367832422256, 0.010322948917746544, 0.009373372420668602, -0.1024855449795723, -0.01084392424672842, -0.007319098804146051, -0.03444500267505646, -0.020680932328104973, -0.09105167537927628, -0.04012008383870125, -0.09468728303909302, -0.019890565425157547, -0.02157529816031456, -0.010943427681922913, 0.00749466847628355, -0.03593695908784866, -0.020918874070048332, -0.026378067210316658, -0.022901343181729317, -0.014560774900019169, -0.01408942136913538, -0.012742631137371063, -0.0014792600413784385, -0.009299042634665966, -0.015233536250889301, -0.020098086446523666, -0.012703998945653439, -0.016937142238020897, 0.011895127594470978, -0.08870214223861694, -0.01661989465355873, 0.01924268528819084, -0.02034161239862442, -0.0656776949763298, -0.010430560447275639, -0.015635238960385323, -0.012126212939620018, -0.018846722319722176, -0.01841350831091404, -0.12380268424749374, -0.010989343747496605, -0.01882416568696499, -0.0175186637789011, -0.0692383423447609, -0.006948179565370083, -0.009633464738726616, -0.095140740275383, -0.09653427451848984, -0.018525350838899612, -0.017977487295866013, -0.013624253682792187, -0.021085722371935844, -0.022596031427383423, -0.015645533800125122, -0.016147296875715256, -0.08886305242776871, -0.03613578528165817, -0.014224185608327389, -0.005777356214821339, -0.021017029881477356, -0.01169536355882883, -0.040061675012111664, -0.08823707699775696, -0.011246336624026299, -0.06926554441452026, -0.026179222390055656, -0.06682382524013519, -0.016990188509225845, -0.07725149393081665, -0.026132483035326004, -0.0193307064473629, -0.01860131323337555, -0.01950368471443653, -0.013479489833116531, -0.02045370079576969, 0.012453858740627766, -0.013881862163543701, -0.005977597087621689, -0.016630621626973152, -0.01894272305071354, -0.01277771033346653, -0.017465433105826378, -0.07473812252283096, -0.020616577938199043, 0.023801429197192192, -0.009925242513418198, -0.012106758542358875, -0.04954421520233154, -0.01954757794737816, -0.018215354532003403, -0.019131053239107132, 0.03231092914938927, -0.020181220024824142, -0.028520407155156136, -0.01865425519645214, -0.020214276388287544, -0.03385641425848007, -0.005836695432662964, -0.020272746682167053, -0.018887201324105263, -0.010835526511073112, -0.009247003123164177, -0.01877734437584877, -0.044297344982624054, -0.01698538288474083, -0.01847785711288452, -0.017437858507037163, 0.06746440380811691, -0.01693156734108925, -0.11589328944683075, -0.021856965497136116, -0.015683582052588463, -0.015833554789423943, -0.022072263062000275, 8.061027619987726e-05, -0.02066519670188427, -0.053567588329315186, -0.01236749067902565, -0.013538267463445663, -0.005916107911616564, -0.07479429244995117, -0.0895274430513382, -0.014283807016909122, -0.057183023542165756, -0.013579150661826134, -0.021885165944695473, -0.016676921397447586, -0.016335461288690567, -0.01320621371269226, -0.013026867061853409, -0.07955712080001831, -0.025722136721014977, -0.009519973769783974, -0.015115831978619099, -0.01557200402021408, 0.02419854886829853, -0.008265964686870575, -0.0193156898021698, -0.0190983098000288, -0.01961458846926689, 0.04669114947319031, -0.01023282390087843, -0.02668314427137375, -0.01968962512910366, -0.017286939546465874, -0.0162055604159832, -0.015671128407120705, -0.013462522067129612, -0.023128582164645195, -0.09319117665290833, -0.011793903075158596, 0.054735735058784485, -0.11235245317220688, -0.04553638771176338, -0.02346297912299633, -0.01695890538394451, -0.01714153029024601, -0.03318856284022331, -0.020856231451034546, -0.15215739607810974, -0.024360666051506996, -0.014601288363337517, -0.01999380998313427, -0.014320648275315762, -0.010687255300581455, -0.014865783974528313, -0.01801474019885063, -0.01269564963877201, -0.00983639620244503, -0.009576736018061638, -0.0008647796930745244, -0.004922228399664164, -0.021581754088401794, -0.014078965410590172, 0.0176430344581604, -0.01913224346935749, -0.012294926680624485, -0.05327671393752098, 0.009704740718007088, -0.020787794142961502, -0.021826600655913353, -0.03264884650707245, -0.012929404154419899, -0.11532165110111237, -0.015692833811044693, -0.048870522528886795, -0.07447896152734756, 0.016211122274398804, -0.01213560439646244, -0.03543378412723541, -0.016614021733403206, -0.03315965086221695, -0.02182411402463913, -0.020133228972554207, -0.00946812890470028, -0.014122094959020615, -0.015668828040361404, -0.010341890156269073, -0.05327495187520981, -0.013974977657198906, -0.02354000136256218, -0.05324232205748558, -0.012691679410636425, -0.018662478774785995, -0.009094645269215107, -0.014605051837861538, -0.06074441224336624, -0.011390380561351776, -0.040755193680524826, -0.013260846957564354, -0.11393769830465317, 0.003761607687920332, -0.09426369518041611, -0.045231059193611145, 0.03983788937330246, -0.013929842039942741, -0.018404940143227577, -0.018391087651252747, -0.03225313499569893, -0.02162644825875759, -0.01366563979536295, -0.017307696864008904, -0.017330754548311234, -0.024954108521342278, -0.020609332248568535, -0.01717860996723175, 0.028097858652472496, -0.026486285030841827, -0.03983163833618164, -0.01700183004140854, -0.022663695737719536, -0.02134053222835064, -0.03329847380518913, -0.04894498363137245, -0.013934051617980003, -0.024223269894719124, -0.01902465708553791, -0.014693177305161953, -0.01850058138370514, -0.019694464281201363, -0.016288816928863525, -0.018293853849172592, 0.03683571144938469, -0.017728596925735474, -0.02234506793320179, -0.12241516262292862, -0.03498087450861931, 0.0203420277684927, -0.01334043126553297, -0.01894979365170002, -0.017792893573641777, -0.020862556993961334, -0.010937166400253773, -0.02242305316030979, -0.024293353781104088, -0.09068930149078369, -0.023098966106772423, -0.01312838215380907, -0.022647205740213394, 0.0442914180457592, -0.13102538883686066, -0.015583283267915249, -0.017364131286740303, -0.016101835295557976, -0.022495685145258904, 0.03582629933953285, -0.013115198351442814, 0.02670695260167122, -0.06253597885370255, -0.05211103707551956, -0.011604109779000282, -0.013973996043205261, 0.0011271429248154163, -0.012147386558353901, -0.009001323021948338, 0.03395218402147293, -0.015835467725992203, 0.008135906420648098, -0.01740046963095665, -0.029343966394662857, -0.02378380484879017, -0.022238826379179955, -0.01687493920326233, -0.019299624487757683, -0.024598190560936928, 0.029382681474089622, 0.04493478313088417, -0.012398219667375088, -0.11995162814855576, -0.030224712565541267, -0.018375925719738007, -0.009239069186151028, -0.01758437417447567, 0.044339925050735474, -0.028396515175700188, -0.018691230565309525, -0.01967923901975155, -0.015938861295580864, 0.06319700926542282, -0.028907181695103645, -0.016650741919875145, -0.0927729457616806, -0.08489334583282471, -0.013118916191160679, -0.021768948063254356, -0.011901525780558586, -0.027631159871816635, -0.14703236520290375, -0.020643796771764755, -0.011427531018853188, 0.0010736108524724841, -0.022625358775258064, -0.014261800795793533, -0.031083717942237854, -0.011300667189061642, -0.16108427941799164, -0.0417921282351017, -0.06638623028993607, -0.018093157559633255, -0.01977931335568428, -0.0361047089099884, -0.023946411907672882, -0.034242745488882065, -0.016703853383660316, -0.01856662519276142, -0.05927346274256706, -0.015972232446074486, -0.03485311567783356, -0.02459368109703064, -0.014908968470990658, -0.02313203178346157, -0.0608932189643383, -0.0165198165923357, -0.01600170135498047, -0.07897370308637619, -0.04214882850646973, -0.04548722505569458, -0.01567205600440502, -0.09318944811820984, -0.012926366180181503, -0.02906341291964054, -0.011314449831843376, -0.018734753131866455, -0.01951211504638195, -0.02992807701230049, -0.04509705305099487, -0.022647032514214516, -0.019508127123117447, -0.01807079091668129]], [[-0.019036628305912018, -0.010246447287499905, -0.01636582240462303, 0.019040871411561966, -0.010913288220763206, -0.019324950873851776, -0.03343290090560913, -0.01294938288629055, -0.054801248013973236, -0.014249542728066444, -0.014549944549798965, -0.020359810441732407, -0.01870226114988327, -0.015572106465697289, -0.06977377086877823, -0.021082600578665733, -0.015935033559799194, -0.014949736185371876, -0.017804007977247238, -0.10860247164964676, -0.013653397560119629, -0.015241311863064766, -0.014611608348786831, -0.017057210206985474, -0.015136186964809895, -0.01608682982623577, -0.0174894817173481, -0.02206992544233799, -0.01630433090031147, -0.06563140451908112, -0.016108069568872452, -0.014745227061212063, -0.013999895192682743, -0.025260556489229202, -0.01759951561689377, -0.02158612571656704, -0.07901711016893387, -0.03820077329874039, -0.06156107783317566, -0.01936957985162735, -0.022975558415055275, -0.01850423775613308, -0.022601429373025894, -0.014416269958019257, -0.11019071191549301, -0.02138431929051876, -0.017789414152503014, -0.012155980803072453, 0.020655788481235504, -0.01779162511229515, -0.015064200386404991, -0.020492136478424072, -0.0336521677672863, -0.00899445079267025, -0.18682406842708588, -0.013933531939983368, -0.040067799389362335, -0.015085029415786266, -0.017865197733044624, -0.021496454253792763, -0.01322409138083458, -0.0883755162358284, -0.08939455449581146, -0.013169336132705212, -0.10550563037395477, -0.013779617846012115, -0.09171867370605469, -0.01851605996489525, -0.015162431634962559, -0.08502546697854996, -0.017973002046346664, -0.029910406097769737, -0.020070035010576248, -0.01949101872742176, -0.038970887660980225, -0.04346953332424164, -0.15409420430660248, -0.019183335825800896, -0.01104644127190113, -0.018816238269209862, -0.01228672917932272, -0.012544024735689163, -0.034542642533779144, -0.03717711195349693, -0.015273512341082096, -0.05527227744460106, -0.02015751600265503, -0.013556249439716339, 0.03830656036734581, -0.012365538626909256, -0.019850919023156166, -0.0494040921330452, -0.08163763582706451, -0.01477967482060194, -0.01944124884903431, -0.013917413540184498, -0.009938353672623634, -0.019880173727869987, -0.06870295107364655, -0.12729114294052124, -0.01698196865618229, -0.08054132759571075, -0.013681271113455296, -0.12602807581424713, -0.03594746068120003, -0.020861495286226273, -0.025610631331801414, -0.02704022452235222, -0.13522711396217346, -0.06925471127033234, -0.02935437299311161, -0.016407139599323273, -0.014574382454156876, -0.016159538179636, -0.022062668576836586, -0.02252144180238247, -0.15456004440784454, -0.007845292799174786, -0.02274906262755394, -0.14301252365112305, -0.007343960460275412, -0.02043069154024124, -0.01563720777630806, -0.017448486760258675, -0.01662694476544857, -0.009624112397432327, -0.024397609755396843, -0.023407654836773872, -0.028113853186368942, -0.02305508591234684, -0.02057075873017311, -0.05966787785291672, -0.015268911607563496, -0.014684104360640049, -0.16084066033363342, -0.021343881264328957, -0.019701864570379257, -0.010216880589723587, 0.010385535657405853, -0.0019512487342581153, -0.017637522891163826, -0.008998051285743713, -0.002051894785836339, -0.0174252949655056, -0.01865086704492569, -0.05155359208583832, -0.035107895731925964, -0.016692588105797768, -0.023319045081734657, -0.016253629699349403, -0.0003632628940977156, -0.0011345716193318367, -0.022143473848700523, -0.016927115619182587, -0.0118003711104393, -0.026209816336631775, -0.013750816695392132, -0.02163376472890377, -0.01780289225280285, -0.016572559252381325, -0.015709713101387024, -0.018360616639256477, -0.018974239006638527, -0.01880558207631111, 0.007297300733625889, -5.8938665461027995e-05, -0.02430594339966774, -0.010604110546410084, -0.004706008825451136, -0.03170811012387276, -0.022831430658698082, -0.10981304943561554, -0.006537631154060364, -0.07217171788215637, -0.021290354430675507, 0.021497907117009163, -0.009174300357699394, -0.0084646325558424, -0.01763886772096157, -0.019457295536994934, -0.04236963391304016, -0.022556502372026443, -0.01586664840579033, -0.012402265332639217, -0.007805557455867529, 0.014258475042879581, -0.07739028334617615, -0.014073488302528858, -0.023028042167425156, -0.01407343614846468, -0.016894159838557243, -0.07162708789110184, -0.018709583207964897, -0.015509002842009068, 0.02674799971282482, -0.019266536459326744, -0.010473133064806461, -0.013353792950510979, -0.01059391163289547, -0.012721396051347256, -0.016019105911254883, -0.01839221827685833, -0.08066341280937195, -0.010383990593254566, -0.014098421670496464, -0.01948954351246357, -0.10555513203144073, -0.12059372663497925, -0.011153709143400192, -0.04419633001089096, -0.13990548253059387, -0.017369884997606277, -0.016665177419781685, -0.016950497403740883, -0.014211471192538738, 0.004364962689578533, -0.013127570040524006, -0.012185783125460148, -0.05994563549757004, -0.08767956495285034, -0.014430900104343891, -0.013777309097349644, -0.01935276947915554, -0.011935160495340824, -0.06198364868760109, -0.0400511734187603, -0.010642044246196747, 0.016007250174880028, -0.01820925436913967, -0.026758426800370216, -0.016587894409894943, -0.06085677072405815, -0.028586730360984802, -0.022160734981298447, -0.018276620656251907, -0.02228873036801815, -0.013327662833034992, -0.019737880676984787, -0.0739726573228836, -0.013163608498871326, -0.005372173618525267, -0.017149923369288445, -0.011760788038372993, -0.011729862540960312, -0.021747808903455734, -0.007372215390205383, -0.02209269255399704, 0.013744446448981762, -0.011751486919820309, -0.012797866947948933, -0.0556083507835865, -0.019211633130908012, -0.012176568619906902, -0.018261633813381195, 0.09208446741104126, -0.0217826459556818, -0.02631022036075592, -0.019299209117889404, -0.054486267268657684, -0.007012588903307915, -0.04470476508140564, -0.022716915234923363, -0.017180822789669037, -0.010876362212002277, 0.008929534815251827, -0.02054569311439991, -0.01652507856488228, -0.019110016524791718, -0.022824931889772415, -0.016363954171538353, 0.060909733176231384, -0.017748309299349785, 0.003993391525000334, -0.019873399287462234, -0.01813538372516632, -0.014941517263650894, -0.015255131758749485, -0.09263245016336441, -0.017988935112953186, -0.10717326402664185, -0.01410887110978365, -0.011137481778860092, -0.056168749928474426, -0.08726661652326584, -0.17627109587192535, -0.015251891687512398, -0.0915604829788208, -0.015514920465648174, -0.02299218252301216, -0.013424557633697987, -0.021218471229076385, -0.01666109263896942, -0.011960127390921116, -0.08782890439033508, -0.02765020914375782, -0.011819234117865562, 0.01988087221980095, -0.014385555870831013, 0.020828846842050552, -0.007248071022331715, -0.022813063114881516, -0.022697165608406067, -0.02075178734958172, 0.020929111167788506, -0.008969351649284363, -0.030703753232955933, -0.017789393663406372, -0.01411446277052164, -0.02229614369571209, -0.015860717743635178, -0.014145439490675926, -0.026601510122418404, -0.06819865852594376, -0.012415590696036816, -0.01797601208090782, -0.1328650861978531, -0.04990630969405174, -0.0248410627245903, -0.0168283861130476, -0.019863096997141838, -0.016210271045565605, -0.021991200745105743, -0.21346217393875122, -0.022688651457428932, -0.015150590799748898, -0.020254794508218765, -0.01381596177816391, -0.011956511996686459, -0.015528316609561443, -0.01729067601263523, -0.013963180594146252, -0.011818870902061462, -0.014688719063997269, 0.0251005832105875, -0.024349454790353775, -0.01873801462352276, -0.01506208535283804, 0.0369500070810318, -0.018095962703227997, -0.014168900437653065, -0.028382956981658936, 0.017267687246203423, -0.018866972997784615, -0.019528210163116455, 0.015781160444021225, -0.011038712225854397, -0.16177749633789062, -0.018054915592074394, -0.04736688733100891, -0.057872846722602844, 0.023553986102342606, -0.013319556601345539, -0.01070444192737341, -0.019239921122789383, -0.039935383945703506, -0.0216048676520586, -0.019944604486227036, -0.009873944334685802, -0.016101377084851265, -0.019622793421149254, -0.014385838992893696, -0.06295028328895569, -0.012416467070579529, -0.023933256044983864, -0.032538432627916336, -0.012538942508399487, -0.03173623979091644, -0.001985090784728527, -0.013444529846310616, -0.04280289262533188, -0.011649497784674168, -0.03395296260714531, -0.010299017652869225, -0.19462332129478455, -0.024671919643878937, -0.08425669372081757, -0.05717090889811516, 0.025797132402658463, -0.015909468755126, -0.019680626690387726, -0.023607121780514717, -0.04575636237859726, -0.017598794773221016, -0.01353395264595747, -0.018015965819358826, -0.021217597648501396, -0.02408984862267971, -0.022337613627314568, -0.015080638229846954, -0.03785431757569313, 0.02434881217777729, -0.004055891651660204, -0.014653769321739674, -0.021123288199305534, -0.02133879065513611, -0.041396867483854294, -0.04859011992812157, -0.012826909311115742, -0.023577313870191574, -0.021042343229055405, -0.013408188708126545, -0.02105773612856865, -0.018674198538064957, -0.015284604392945766, -0.01883493922650814, 0.02031303569674492, -0.014253221452236176, -0.021059585735201836, -0.09892649203538895, -0.03672333434224129, 0.015408067964017391, -0.011400094255805016, -0.018801068887114525, -0.01945607364177704, -0.01737668365240097, -0.011752426624298096, -0.01843104138970375, -0.025428351014852524, -0.06407596915960312, -0.14506492018699646, -0.010465957224369049, -0.027222858741879463, 0.04798845201730728, -0.1224556490778923, -0.019777342677116394, -0.017389385029673576, -0.017758654430508614, -0.023888926953077316, -0.009946095757186413, -0.011387081816792488, 0.03256114199757576, -0.05441367253661156, 0.003161648055538535, -0.01161077618598938, -0.011793752200901508, 0.05022727698087692, -0.011821983382105827, -0.010429976508021355, -0.0029734617564827204, -0.016477415338158607, 0.024056490510702133, -0.014823803678154945, -0.10401087999343872, -0.026718484237790108, -0.019629811868071556, -0.011775163933634758, -0.015462122857570648, -0.0228556077927351, -0.026038791984319687, 0.02161882258951664, 0.036445099860429764, -0.10122759640216827, -0.03177112713456154, -0.019121384248137474, -0.021010857075452805, -0.016123682260513306, 0.004535974934697151, 0.03227035328745842, -0.01966979168355465, -0.023117221891880035, -0.009464247152209282, -0.028082257136702538, -0.013316147029399872, -0.0171413142234087, -0.09969743341207504, -0.05481550842523575, -0.014917757362127304, -0.019057150930166245, -0.015858067199587822, -0.062334198504686356, -0.11927220225334167, -0.01638532243669033, -0.015620915219187737, -0.009830635972321033, -0.022719530388712883, -0.01492938119918108, -0.06977848708629608, -0.010478273034095764, -0.10257086157798767, -0.0353943295776844, -0.006218111142516136, -0.016522686928510666, -0.015573064796626568, -0.06141459196805954, -0.023006295785307884, -0.035540368407964706, -0.018708795309066772, -0.01578602008521557, -0.07090797275304794, -0.01731623336672783, -0.014732057228684425, -0.005495242774486542, -0.013605901971459389, -0.021616337820887566, -0.14833928644657135, -0.021065138280391693, -0.017379548400640488, -0.08302342146635056, 0.014676474034786224, -0.05137090012431145, -0.017389005050063133, -0.01993504911661148, -0.011766471900045872, -0.011311390437185764, -0.011659501120448112, -0.01743607595562935, -0.017783518880605698, -0.027939843013882637, -0.09045392274856567, -0.017513848841190338, -0.01659378409385681, -0.013736741617321968]], [[-0.016581881791353226, -0.010264378041028976, -0.014910751953721046, -0.024135392159223557, -0.01001072395592928, 0.006768336053937674, -0.010055779479444027, -0.014163840562105179, 0.0281685721129179, -0.01209462434053421, -0.015232538804411888, -0.020741570740938187, -0.01595447026193142, -0.015392353758215904, -0.0397847555577755, -0.02087264321744442, -0.01058437954634428, -0.011556939221918583, -0.013380808755755424, -0.006265497766435146, -0.014418239705264568, -0.013499535620212555, -0.015787731856107712, -0.01451815851032734, -0.010696473531425, -0.013802357949316502, -0.015975018963217735, -0.022559087723493576, -0.013811031356453896, -0.07555100321769714, -0.017283285036683083, -0.01626233197748661, -0.010764190927147865, -0.024403300136327744, -0.013577133417129517, -0.037400197237730026, -0.020230118185281754, -0.012228765524923801, -0.13606007397174835, -0.014103604480624199, -0.01815640740096569, -0.019223827868700027, -0.018160559237003326, -0.015913324430584908, -0.10753317177295685, -0.017207862809300423, -0.018913492560386658, -0.009074457921087742, -0.021950386464595795, -0.021205740049481392, -0.01196199283003807, -0.01979801617562771, 0.039053112268447876, -0.01097728032618761, -0.12138887494802475, -0.01378544233739376, -0.023156046867370605, -0.020577820017933846, -0.012271412648260593, -0.015527527779340744, -0.01123967207968235, -0.001183926360681653, 0.04158775508403778, -0.013407076708972454, -0.03968588262796402, -0.017356954514980316, -0.09207166731357574, -0.012609118595719337, -0.01433252077549696, -0.1566476821899414, -0.018071014434099197, -0.003756532911211252, -0.015056216157972813, -0.017586281523108482, -0.08064836263656616, -0.056452393531799316, -0.041809916496276855, -0.016735248267650604, -0.01367790438234806, -0.013743871822953224, -0.011130082421004772, -0.011648748070001602, -0.02649041824042797, -0.08374441415071487, -0.01619395613670349, -0.15966014564037323, -0.020044254139065742, -0.0145046915858984, -0.019496968016028404, -0.012145696207880974, -0.016194835305213928, 0.015981359407305717, -0.08705752342939377, -0.011390132829546928, -0.019213108345866203, -0.01256428100168705, -0.00978521816432476, -0.02014070749282837, -0.02534111589193344, -0.12754970788955688, -0.017262393608689308, -0.02910100482404232, -0.015867523849010468, -0.023476865142583847, 0.033934012055397034, -0.15060219168663025, -0.024092424660921097, -0.024271365255117416, -0.09545662254095078, -0.03089556097984314, -0.02359258197247982, -0.014523948542773724, -0.014904352836310863, -0.015068292617797852, -0.015233617275953293, -0.018161287531256676, -0.09805795550346375, -0.023932073265314102, -0.01928437314927578, -0.08109837025403976, -0.008998064324259758, -0.021508442237973213, -0.014202711172401905, -0.015425102785229683, -0.016111770644783974, -0.01134581957012415, -0.022412123158574104, -0.028449730947613716, -0.0232001394033432, -0.020453985780477524, -0.017151005566120148, 0.029774734750390053, -0.013815419748425484, -0.01038681622594595, -0.1407926380634308, -0.020111681893467903, -0.015175458043813705, -0.010819504037499428, 0.007876643911004066, 0.029674667865037918, -0.009088744409382343, -0.010664413683116436, 0.03633034974336624, -0.014115585945546627, -0.015346662141382694, 0.014404135756194592, 0.0034859967418015003, -0.017074566334486008, -0.018490929156541824, -0.013288420625030994, 0.020502276718616486, -0.10240324586629868, -0.02200314588844776, -0.017111215740442276, -0.00820374209433794, -0.05659078061580658, -0.011322524398565292, -0.016987182199954987, -0.01638389751315117, -0.016370054334402084, -0.008805947378277779, -0.016634194180369377, -0.016572410240769386, -0.01759854145348072, 0.04857617989182472, 0.018731823191046715, -0.11124255508184433, -0.008472549729049206, -0.009246310219168663, -0.018059203401207924, -0.016492284834384918, -0.05495629459619522, -0.04050565883517265, -0.04432782530784607, -0.016084229573607445, 0.06018717959523201, -0.010811307467520237, -0.003155834274366498, -0.12833979725837708, -0.02004343830049038, 0.011548376642167568, -0.020699402317404747, -0.012143627740442753, -0.01056809350848198, -0.01391850970685482, -0.017031123861670494, 0.011630960740149021, -0.015751663595438004, -0.013850203715264797, -0.014354321174323559, -0.015054159797728062, -0.12439695000648499, -0.038797155022621155, -0.01928802765905857, -0.018291030079126358, -0.014284621924161911, -0.09034406393766403, -0.01009095087647438, -0.013271186500787735, -0.016194874420762062, -0.01875677891075611, -0.023663237690925598, -0.10552488267421722, -0.011592001654207706, -0.02156163565814495, -0.015047380700707436, -0.10246310383081436, 0.025766540318727493, -0.009184652008116245, -0.10918131470680237, -0.11619681864976883, -0.012708273716270924, -0.015484715811908245, -0.01812182553112507, -0.020069800317287445, 0.00814024917781353, -0.009338250383734703, -0.012901014648377895, 0.01265506912022829, -0.133649542927742, -0.011049270629882812, -0.01373376790434122, -0.014389845542609692, -0.009243682026863098, -0.09570913016796112, -0.07563860714435577, -0.012417621910572052, -0.032257743179798126, -0.019274704158306122, -0.04500044137239456, -0.014826929196715355, -0.10666919499635696, -0.027559272944927216, -0.012773501686751842, -0.008652552962303162, -0.020736385136842728, -0.010063770227134228, -0.01792263798415661, -0.0911102294921875, -0.013509917072951794, -0.006085433531552553, -0.020102862268686295, -0.015028721652925014, -0.011528391391038895, -0.014017943292856216, 0.008978328667581081, -0.020172081887722015, -0.07508554309606552, -0.012746867723762989, -0.0109568415209651, 0.020680252462625504, -0.01956949569284916, -0.01941079832613468, -0.014515903778374195, 0.03171330690383911, -0.01680590584874153, -0.0244941134005785, -0.01481776311993599, -0.1126176193356514, -0.07725556194782257, -0.0065178596414625645, -0.016189808025956154, -0.011750557459890842, -0.010731764137744904, 0.013885012827813625, -0.026472337543964386, 0.03604685887694359, -0.01375855877995491, -0.022534988820552826, -0.015031443908810616, -0.06470181792974472, -0.014588075689971447, -0.016637180000543594, -0.013961203396320343, -0.017484797164797783, -0.011713742278516293, -0.03853355720639229, -0.10290485620498657, -0.01978575810790062, -0.03655628114938736, -0.012810446321964264, -0.009260916151106358, 0.05958540365099907, 0.0063874260522425175, -0.13798865675926208, -0.012022484093904495, -0.09541106224060059, -0.011258766055107117, -0.022957999259233475, -0.01271305326372385, -0.01636294275522232, -0.014715093187987804, -0.013802149333059788, 0.001902554533444345, -0.0199898574501276, -0.012880564667284489, -0.035825278609991074, -0.016762634739279747, 0.02016054466366768, -0.011245637200772762, -0.026009323075413704, -0.022467486560344696, -0.018933366984128952, 0.009617052972316742, -0.008937188424170017, -0.02472171187400818, -0.01648808643221855, -0.010592518374323845, -0.014122272841632366, -0.016711411997675896, -0.012665976770222187, -0.022437836974859238, -0.10257457196712494, -0.013868046924471855, -0.03450821712613106, -0.05080718919634819, -0.008865609765052795, -0.026354271918535233, -0.01745867170393467, -0.012368438765406609, 0.013278982602059841, -0.01779911294579506, -0.13805383443832397, -0.01671290583908558, -0.013458466157317162, -0.01625721901655197, -0.012268822640180588, -0.01090877316892147, -0.015123036690056324, -0.017788182944059372, -0.013671980239450932, -0.012037365697324276, -0.04062850400805473, -0.06679720431566238, -0.10239878296852112, -0.012943817302584648, -0.011233875527977943, -0.050813883543014526, -0.017368555068969727, -0.013105570338666439, -0.09006354957818985, -0.026037713512778282, -0.01798049919307232, -0.019741255789995193, -0.007680069655179977, -0.010737878270447254, -0.13355787098407745, -0.020304402336478233, -0.03426087275147438, -0.07342909276485443, -0.019952042028307915, -0.015539268963038921, -0.033306967467069626, -0.017109401524066925, -0.03309464082121849, -0.023074964061379433, -0.016085529699921608, -0.01725528948009014, -0.013057546690106392, -0.01878480240702629, -0.012327183037996292, -0.1385415643453598, -0.010445683263242245, -0.01830284856259823, -0.0073755718767642975, -0.01277880184352398, -0.06283064931631088, 0.02613195776939392, -0.012931127101182938, 0.023054899647831917, -0.01239787507802248, -0.02094058319926262, -0.011478849686682224, 0.03650694712996483, 0.02535722218453884, -0.06616560369729996, -0.0722155049443245, 0.013153458945453167, -0.01779635064303875, -0.019987504929304123, -0.0187833271920681, -0.04197109863162041, -0.016413602977991104, -0.009557606652379036, -0.015553229488432407, -0.014016379602253437, -0.02312394231557846, -0.01712162047624588, -0.013298050500452518, -0.10038839280605316, 0.009603040292859077, -0.014133913442492485, -0.010084087029099464, -0.019699759781360626, -0.016530442982912064, -0.043485455214977264, -0.10649695992469788, -0.008339137770235538, -0.016126597300171852, -0.021976256743073463, -0.009334255009889603, -0.01693478412926197, -0.019272826611995697, -0.017853595316410065, -0.01865246146917343, -0.03172698989510536, -0.014756585471332073, -0.019995318725705147, -0.19959354400634766, -0.0353977307677269, -0.03865433111786842, -0.00980184692889452, -0.015385262668132782, -0.01278675813227892, -0.01804347150027752, -0.00951208733022213, -0.014054172672331333, -0.01745798997581005, -0.10492335259914398, -0.15004105865955353, -0.013366847299039364, -0.018522484228014946, -0.02605593390762806, -0.027895169332623482, -0.0177706778049469, -0.013048018328845501, -0.012094794772565365, -0.016754327341914177, -0.040330786257982254, -0.012765812687575817, -0.021432368084788322, -0.07385623455047607, 0.029867500066757202, -0.009026623331010342, -0.018775731325149536, -0.11006872355937958, -0.009867540560662746, -0.010595292784273624, -0.06777270138263702, -0.015916386619210243, 0.002132949186488986, -0.015346850268542767, -0.07843001931905746, -0.021440710872411728, -0.016320617869496346, -0.013708389364182949, -0.01750054582953453, -0.02207309938967228, -0.000843165791593492, -0.00013467756798490882, -0.11130383610725403, -0.173672616481781, -0.022997785359621048, -0.015685826539993286, -0.0853896364569664, -0.013820955529808998, 0.014870895072817802, 0.0060617970302701, -0.015579300001263618, -0.020429130643606186, -0.00911700539290905, -0.09981357306241989, -0.035352062433958054, -0.01378055103123188, -0.15007247030735016, 0.009442653506994247, -0.013412362895905972, -0.019538123160600662, -0.014811048284173012, -0.01220181118696928, -0.1608290821313858, -0.019145864993333817, -0.013565891422331333, -0.022326072677969933, -0.020118827000260353, -0.01730983518064022, -0.05303877964615822, -0.01192524190992117, -0.08972775936126709, -0.02584891766309738, -0.026233267039060593, -0.017571095377206802, -0.015597718767821789, -0.05733123794198036, -0.01570069044828415, -0.02947601117193699, -0.014497095718979836, -0.014837120659649372, -0.032026272267103195, -0.0183064304292202, 0.010488830506801605, 0.03746026009321213, -0.01341125275939703, -0.015935594215989113, -0.06324129551649094, -0.013599446974694729, -0.013043206185102463, -0.029614614322781563, 0.01889275200664997, -0.010538877919316292, -0.01714327558875084, -0.07388419657945633, -0.009357158094644547, -0.1038077101111412, -0.009103997610509396, -0.015301856212317944, -0.015509610995650291, -0.029046211391687393, -0.02891167253255844, -0.0168580524623394, -0.013860213570296764, -0.016351645812392235]], [[-0.01694989949464798, -0.0166996568441391, -0.014174405485391617, 0.005739372223615646, -0.009407938458025455, -0.05866716802120209, 0.05509994179010391, -0.014440019614994526, -0.012228048406541348, -0.017109353095293045, -0.01658342219889164, -0.022701909765601158, -0.01897301711142063, -0.017353245988488197, -0.09871511161327362, -0.022580981254577637, -0.015000318177044392, -0.011163458228111267, -0.01393547561019659, -0.017274530604481697, -0.015212992206215858, -0.014471813105046749, -0.012035548686981201, -0.013252204284071922, -0.010109067894518375, -0.01310061477124691, -0.01624402590095997, -0.02216850034892559, -0.013497364707291126, -0.01677771657705307, -0.01641274429857731, -0.014261109754443169, -0.014814311638474464, -0.02664882503449917, -0.015998056158423424, -0.019702129065990448, -0.03734830766916275, -0.07110141217708588, -0.06423573195934296, -0.015056583099067211, -0.025889039039611816, -0.024503648281097412, -0.017030851915478706, -0.014253220520913601, 0.02070130594074726, -0.014754431322216988, -0.012969380244612694, -0.011809280142188072, -0.13212546706199646, -0.015406113117933273, -0.014953945763409138, -0.020169803872704506, -0.006600385066121817, -0.010764162056148052, 0.0010113974567502737, -0.00831928476691246, -0.05243757367134094, -0.014131666161119938, -0.01735825464129448, -0.020248478278517723, -0.011770757846534252, -0.01616344042122364, -0.12134203314781189, -0.013309173285961151, -0.12097511440515518, -0.018378086388111115, -0.09945258498191833, -0.01775580644607544, -0.018585164099931717, 0.08189215511083603, -0.01833374984562397, -0.17028388381004333, -0.019563907757401466, -0.016437765210866928, -0.0619739405810833, -0.15076550841331482, -0.017903121188282967, -0.017653917893767357, -0.014084214344620705, -0.019126150757074356, -0.011254828423261642, -0.010773427784442902, -0.0347074493765831, -0.043403260409832, -0.018623242154717445, -0.10103018581867218, -0.014144428074359894, -0.012958458624780178, -0.071803517639637, -0.017818324267864227, -0.018026385456323624, 0.012920981273055077, -0.20304656028747559, -0.008892746642231941, -0.01637805439531803, -0.009233193472027779, -0.008835573680698872, -0.01815822906792164, 0.029787473380565643, -0.01681631989777088, -0.021403145045042038, -0.03798630088567734, -0.014125613495707512, 0.03431146591901779, 0.012128944508731365, -0.1570158749818802, -0.023204687982797623, -0.022795449942350388, 0.051799751818180084, -0.031287793070077896, -0.02072855271399021, -0.019286397844552994, -0.019427120685577393, -0.0171351358294487, -0.01698281802237034, -0.020503554493188858, 0.011492013931274414, -0.05146891251206398, -0.014806102029979229, 0.017145313322544098, -0.010673069395124912, -0.02330755442380905, -0.009064634330570698, -0.018492287024855614, -0.016539335250854492, -0.011864767409861088, -0.014229891821742058, -0.025943206623196602, -0.019160432741045952, -0.02183295413851738, -0.015601962804794312, -0.0408635288476944, -0.01207203883677721, -0.01096406765282154, -0.05839033052325249, -0.018551770597696304, -0.012438725680112839, -0.011092164553701878, -0.02559077739715576, -0.10093510895967484, -0.01423194631934166, -0.009968697093427181, 0.009114800952374935, -0.019794128835201263, -0.014083340764045715, 0.003952471073716879, -0.004663039930164814, -0.015563378110527992, -0.01608901284635067, -0.013025001622736454, 0.038909606635570526, -0.14021438360214233, -0.020829347893595695, -0.020373206585645676, -0.010091555304825306, 0.001105108531191945, -0.013638648204505444, -0.020212974399328232, -0.019470812752842903, -0.016426419839262962, -0.011304457671940327, -0.01859278231859207, -0.011721136048436165, -0.016080455854535103, -0.01717015914618969, -0.0596928596496582, -0.07118329405784607, -0.008420641534030437, -0.006780831143260002, -0.043036844581365585, -0.019559798762202263, -0.05503058061003685, -0.005220495164394379, 0.01161462627351284, -0.010884887538850307, 0.0025458678137511015, -0.010188561864197254, -0.04709233343601227, 0.05818025767803192, -0.017543794587254524, -0.034640103578567505, -0.01520626712590456, -0.010133561678230762, -0.01033760979771614, -0.02089344896376133, -0.1433279663324356, -0.08109867572784424, -0.010228710249066353, -0.019065633416175842, -0.018652405589818954, -0.015915794298052788, -0.11685220152139664, -0.10346116125583649, -0.010837308131158352, -0.07533259689807892, -0.014966851100325584, 0.023340018466114998, -0.006233785301446915, -0.015241842716932297, -0.013812514021992683, -0.01644906960427761, -0.014867706224322319, 0.03801174461841583, -0.009399482049047947, -0.014549550600349903, -0.01656370609998703, -0.036684129387140274, 0.04053027182817459, -0.01020853966474533, 0.02999219484627247, 0.016430772840976715, -0.014446309767663479, -0.019620250910520554, -0.008889068849384785, -0.01505613885819912, -0.026050930842757225, -0.012660292908549309, -0.013421580195426941, -0.09085811674594879, 0.029943596571683884, -0.013310195878148079, -0.029965659603476524, -0.016494672745466232, -0.012319634668529034, -0.03517753258347511, -0.03854335844516754, -0.011794830672442913, 0.006071646232157946, -0.02799515426158905, 0.019441286101937294, -0.015370862558484077, 0.003055328270420432, -0.02502547949552536, -0.011838370002806187, -0.013142243027687073, -0.021145228296518326, -0.009494625963270664, -0.01414168905466795, 0.013366960920393467, -0.011700287461280823, -0.01064887922257185, -0.019429806619882584, -0.012593160383403301, -0.008721609599888325, -0.01839633658528328, -0.09378435462713242, -0.021412698552012444, -0.18405593931674957, -0.010087376460433006, -0.011153854429721832, -0.04087838903069496, -0.019295474514365196, -0.020554939284920692, -0.013982381671667099, 0.00016175516066141427, -0.019092964008450508, -0.020827632397413254, -0.012196365743875504, -0.11515940725803375, -0.027788471430540085, -0.06022537127137184, -0.017665840685367584, -0.018787387758493423, -0.012692115269601345, -0.016052717342972755, -0.025207147002220154, 0.039619795978069305, -0.015064987353980541, -0.020384686067700386, -0.015033857896924019, -0.07899253815412521, -0.014397158287465572, -0.0991448238492012, -0.019581325352191925, -0.014429888688027859, -0.009841274470090866, 0.014417826198041439, -0.19718311727046967, -0.020566154271364212, 0.05453410744667053, -0.015447938814759254, -0.00799201987683773, -0.02810477651655674, -0.01284909900277853, -0.09310351312160492, -0.015001818537712097, -0.03247231990098953, -0.011574791744351387, -0.02383376471698284, -0.012924367561936378, -0.02008800394833088, -0.009575337171554565, -0.013604487292468548, -0.02300255000591278, -0.02917376160621643, -0.011511062271893024, -0.03688172996044159, -0.017808422446250916, -0.01650811918079853, -0.013788173906505108, -0.02269132249057293, -0.02343793585896492, -0.01785518042743206, -0.033753491938114166, -0.009549425914883614, -0.026364490389823914, -0.015625469386577606, -0.01313311979174614, -0.015756571665406227, -0.01682072877883911, -0.013991758227348328, -0.022752638906240463, -0.01247689500451088, -0.01140849944204092, -0.0898873433470726, -0.18670092523097992, -0.02819254994392395, -0.031215263530611992, -0.020427005365490913, -0.014214037917554379, -0.008754704147577286, -0.021733565255999565, -0.045376431196928024, -0.025797206908464432, -0.016257518902420998, -0.01926370896399021, -0.012347874231636524, -0.017930760979652405, -0.01040745247155428, -0.02171485871076584, -0.009567106142640114, -0.013945795595645905, -0.01284814067184925, -0.03567757084965706, -0.0045680757611989975, -0.01962299272418022, -0.024186115711927414, -0.11926419287919998, -0.016313103958964348, -0.00892859511077404, -0.07027731090784073, -0.11342129856348038, -0.011644736863672733, -0.01960132271051407, -0.08656013011932373, -0.01683502458035946, -0.05259133502840996, -0.017271017655730247, 0.02050834707915783, -0.054256655275821686, -0.04835309833288193, -0.01699884422123432, -0.008523677475750446, -0.014197511598467827, -0.023241005837917328, -0.02419847995042801, -0.015399736352264881, -0.013458294793963432, -0.01613282412290573, -0.014960762113332748, -0.01294706854969263, -0.04756053537130356, -0.008456515148282051, -0.01872141659259796, -0.043540108948946, -0.01308102160692215, -0.04276345297694206, 0.014826050959527493, -0.015055638737976551, -0.07946961373090744, -0.013558497652411461, -0.02942644990980625, -0.012350945733487606, -0.07023851573467255, -0.060992807149887085, 0.012242191471159458, 0.039864979684352875, 0.012534971348941326, -0.015255618840456009, -0.019068818539381027, -0.014190565794706345, -0.032031260430812836, -0.018704010173678398, -0.010570398531854153, -0.017750123515725136, -0.010944844223558903, -0.019468393176794052, -0.01800685003399849, -0.013687278144061565, -0.11041691899299622, 0.010250164195895195, -0.05049632117152214, -0.011592299677431583, -0.017558960244059563, -0.019341470673680305, -0.03858822211623192, 0.04348744824528694, -0.012265884317457676, -0.021494897082448006, -0.025225820019841194, -0.013447480276226997, -0.015158921480178833, -0.02055429108440876, -0.015228035859763622, -0.019661549478769302, -0.021608909592032433, -0.02180715650320053, -0.019144559279084206, -0.14467132091522217, -0.029729245230555534, 0.005664863158017397, -0.013983305543661118, -0.014725949615240097, -0.014528406783938408, -0.015377899631857872, -0.011092176660895348, -0.015765322372317314, -0.019554464146494865, -0.06463998556137085, -0.05057342350482941, -0.013546831905841827, -0.017858397215604782, -0.134144589304924, 0.0024455131497234106, -0.01730526238679886, -0.01217287965118885, -0.013857307843863964, -0.014618956483900547, -0.06418424099683762, -0.013369794934988022, -0.19135326147079468, 0.05467972904443741, -0.12898199260234833, -0.011045373976230621, -0.023745454847812653, -0.09335504472255707, -0.014601684175431728, -0.012555832974612713, -0.12015888839960098, -0.017233887687325478, -0.005589852575212717, -0.012347753159701824, -0.0960436686873436, -0.0179057028144598, -0.01787686161696911, -0.016529999673366547, -0.014889653772115707, -0.020263422280550003, 0.00582699291408062, -0.03404410928487778, -0.17167532444000244, 0.004381998907774687, -0.022457020357251167, -0.021701207384467125, 0.03586707264184952, -0.01666233316063881, -0.0425063818693161, -0.01730845309793949, -0.01670890487730503, -0.01624293439090252, -0.010888881981372833, -0.09805876016616821, 0.04191041737794876, -0.016052652150392532, -0.09625276923179626, -0.006287868600338697, -0.013528892770409584, -0.012585819698870182, -0.020733507350087166, -0.029480203986167908, -0.030885715037584305, -0.020202917978167534, -0.016361160203814507, 0.001667007221840322, -0.02116944082081318, -0.017348645254969597, -0.021107865497469902, -0.01123395748436451, -0.1327049732208252, -0.02755175158381462, -0.04031083360314369, -0.01667998917400837, -0.01634165458381176, -0.09284590184688568, -0.019734591245651245, -0.034796424210071564, -0.011949382722377777, -0.018774550408124924, 0.02739194594323635, -0.014856891706585884, 0.0040329196490347385, -0.07566116005182266, -0.013596144504845142, -0.02000473067164421, -0.01936689391732216, -0.017589377239346504, -0.013434621505439281, -0.03102683648467064, -0.0009750686585903168, -0.016107497736811638, -0.019636832177639008, -0.04318646714091301, -0.0090795261785388, -0.13529856503009796, -0.011661828495562077, -0.015044800005853176, -0.01750742644071579, -0.017681235447525978, 0.015184802003204823, -0.0205503199249506, -0.012056726031005383, -0.015683289617300034]]]}\n"
          ]
        }
      ],
      "source": [
        "first11harmonyvoiceembeddings = load_harmony_frequency()"
      ]
    },
    {
      "cell_type": "markdown",
      "metadata": {
        "id": "b1RvGMEAg-8y"
      },
      "source": [
        "### 2. AccentNew Generate Embeddings for New Audio Data"
      ]
    },
    {
      "cell_type": "markdown",
      "metadata": {
        "id": "GPg4oFqMcbTR"
      },
      "source": [
        "Set the path of the test audio file. We can later change it to the folder."
      ]
    },
    {
      "cell_type": "code",
      "execution_count": null,
      "metadata": {
        "id": "rvbWCrLo0_nK"
      },
      "outputs": [],
      "source": [
        "audio_path = \"GMT20230112_DCC_1052.m4a\""
      ]
    },
    {
      "cell_type": "markdown",
      "metadata": {
        "id": "2l0CTEI-tita"
      },
      "source": [
        "Test the sample audio file using the librosa function"
      ]
    },
    {
      "cell_type": "code",
      "execution_count": null,
      "metadata": {
        "id": "iHX6haSHk0It"
      },
      "outputs": [],
      "source": [
        "audio, sr = librosa_load_audio(audio_path)"
      ]
    },
    {
      "cell_type": "code",
      "source": [
        "import librosa\n",
        "from IPython.display import Audio\n",
        "\n",
        "# Load audio file\n",
        "audio, sr = librosa.load(audio_path)\n",
        "\n",
        "# Play audio\n",
        "Audio(audio, rate=sr)\n"
      ],
      "metadata": {
        "id": "nw4edSdR5rcB"
      },
      "execution_count": null,
      "outputs": []
    },
    {
      "cell_type": "markdown",
      "metadata": {
        "id": "MRMAD-ZotJqw"
      },
      "source": [
        "Print Numpy Array returned by librosa_load_audio"
      ]
    },
    {
      "cell_type": "code",
      "execution_count": null,
      "metadata": {
        "id": "oB2DkR4Lt7Zz"
      },
      "outputs": [],
      "source": [
        "# prompt: give me the length of audio\n",
        "\n",
        "### Get the length of the audio file\n",
        "\n",
        "# Get the duration of the audio file in seconds\n",
        "duration = audio.shape[0] / sr\n",
        "\n",
        "# Print the duration of the audio file\n",
        "print(f\"The duration of the audio file is {duration} seconds.\")\n"
      ]
    },
    {
      "cell_type": "code",
      "execution_count": null,
      "metadata": {
        "id": "axVN8dxLuIYO"
      },
      "outputs": [],
      "source": [
        "# prompt: give me the length of the audio array returned\n",
        "\n",
        "print(audio[0].shape[0])"
      ]
    },
    {
      "cell_type": "code",
      "execution_count": null,
      "metadata": {
        "id": "aW-PJrjuuemi"
      },
      "outputs": [],
      "source": [
        "# prompt: how many distinct values in audio[0]\n",
        "\n",
        "print(np.unique(audio[0]).shape[0])\n",
        "print(np.unique(audio[0]))\n"
      ]
    },
    {
      "cell_type": "code",
      "execution_count": null,
      "metadata": {
        "id": "2suLuyDxtRCJ"
      },
      "outputs": [],
      "source": [
        "print(audio)\n",
        "print(audio[11:31])"
      ]
    },
    {
      "cell_type": "markdown",
      "metadata": {
        "id": "m7bg-iK-Fy_g"
      },
      "source": [
        "### AccentNew HarmonyVoice ReMine preprocess_audio"
      ]
    },
    {
      "cell_type": "markdown",
      "metadata": {
        "id": "bBWzdscPsPhe"
      },
      "source": [
        "**Call ReMine pre_process audio with audio_path **"
      ]
    },
    {
      "cell_type": "code",
      "execution_count": null,
      "metadata": {
        "id": "ojzjXMvaF7Pc"
      },
      "outputs": [],
      "source": [
        "audio, sr = preprocess_audio(audio_path)"
      ]
    },
    {
      "cell_type": "markdown",
      "metadata": {
        "id": "OWmOvEsisO1X"
      },
      "source": [
        "** Test audio preproccess data **"
      ]
    },
    {
      "cell_type": "code",
      "execution_count": null,
      "metadata": {
        "id": "8AjqS2JRsxA-"
      },
      "outputs": [],
      "source": [
        "print(audio[:5])"
      ]
    },
    {
      "cell_type": "code",
      "execution_count": null,
      "metadata": {
        "id": "dTRKtcjys68M"
      },
      "outputs": [],
      "source": []
    },
    {
      "cell_type": "markdown",
      "metadata": {
        "id": "dfkCsZ2kspas"
      },
      "source": [
        "[[-0.8912509  0.         0.        ...  0.8912509  0.8912509  0.8912509]]\n",
        "[link text](https://)\n"
      ]
    },
    {
      "cell_type": "code",
      "execution_count": null,
      "metadata": {
        "id": "iXtb2XfeJ1lj"
      },
      "outputs": [],
      "source": [
        "def main() -> None:\n",
        "    # 1. Load speaker embeddings\n",
        "    first11harmonyvoiceembeddings = load_harmony_frequency()\n",
        "\n",
        "    # 2. Generate Embeddings for New Audio Data\n",
        "\n",
        "    print(first11harmonyvoiceembeddings[:5])"
      ]
    },
    {
      "cell_type": "code",
      "execution_count": null,
      "metadata": {
        "id": "O6dJ5O8IUnQq"
      },
      "outputs": [],
      "source": []
    },
    {
      "cell_type": "code",
      "execution_count": null,
      "metadata": {
        "id": "5qymR9BTw1rR"
      },
      "outputs": [],
      "source": [
        "import matplotlib.pyplot as plt\n",
        "\n",
        "# load and preprocess audio\n",
        "audio, sr = preprocess_audio(audio_path)\n",
        "\n",
        "# print unique values and their count\n",
        "print(np.unique(audio[0]).shape[0])\n",
        "print(np.unique(audio[0]))\n",
        "\n",
        "# plot waveform\n",
        "plt.figure(figsize=(10, 4))\n",
        "plt.plot(audio[0])\n",
        "plt.show()\n"
      ]
    },
    {
      "cell_type": "markdown",
      "metadata": {
        "id": "sEVyJHnQw1SY"
      },
      "source": []
    },
    {
      "cell_type": "markdown",
      "metadata": {
        "id": "pV_53P6JxXYm"
      },
      "source": [
        "sure, I'd be happy to assist you in debugging this issue. Let's start by removing the effects applied to the audio and examining the output at each step to see where the problem might be originating from. Here's a simplified version of your preprocess_audio function with added print statements to understand what's happening at each step:"
      ]
    },
    {
      "cell_type": "code",
      "execution_count": null,
      "metadata": {
        "id": "FElNk4S0xWyx"
      },
      "outputs": [],
      "source": [
        "#commented out by al 071723 5:52 PM"
      ]
    },
    {
      "cell_type": "code",
      "execution_count": null,
      "metadata": {
        "id": "tq1JuFwKxM32"
      },
      "outputs": [],
      "source": [
        "# def preprocess_audio(path):\n",
        "#     # Load the audio file\n",
        "#     audio = AudioSegment.from_file(path)\n",
        "#     print(f'Original audio data:\\n{audio.get_array_of_samples()[:10]}...\\n')\n",
        "\n",
        "#     # Convert the audio to mono and set frame rate\n",
        "#     audio = audio.set_channels(1)  # set to mono\n",
        "#     audio = audio.set_frame_rate(16000)  # set frame rate to 16000\n",
        "#     print(f'After setting channels and frame rate:\\n{audio.get_array_of_samples()[:10]}...\\n')\n",
        "\n",
        "#     # Normalize the audio\n",
        "#     audio = effects.normalize(audio)\n",
        "#     print(f'After normalization:\\n{audio.get_array_of_samples()[:10]}...\\n')\n",
        "\n",
        "#     # Convert the pydub.AudioSegment to a numpy array\n",
        "#     audio_arr = np.array(audio.get_array_of_samples())\n",
        "\n",
        "#     # Convert to a PyTorch tensor and add an extra dimension\n",
        "#     audio_tensor = torch.from_numpy(audio_arr).float().unsqueeze(0)\n",
        "#     print(f'After converting to PyTorch tensor:\\n{audio_tensor[0, :10]}...\\n')\n",
        "\n",
        "#     # Return audio tensor and sample rate\n",
        "#     return audio_tensor, 16000\n"
      ]
    },
    {
      "cell_type": "code",
      "execution_count": null,
      "metadata": {
        "id": "EsfRoxTzxQ3w"
      },
      "outputs": [],
      "source": [
        "audio_tensor, sr = preprocess_audio(audio_path)\n",
        "print(f'Output audio tensor:\\n{audio_tensor[0, :10]}...\\n')\n"
      ]
    },
    {
      "cell_type": "markdown",
      "metadata": {
        "id": "6JtcUT65Muuh"
      },
      "source": [
        "### ***Backup Code Blocks***"
      ]
    },
    {
      "cell_type": "markdown",
      "metadata": {
        "id": "kxjbmt32Mzhj"
      },
      "source": [
        "Here's the modification to your existing code. You'll find the new chunking code inserted after the inputs dictionary has been prepared:"
      ]
    },
    {
      "cell_type": "code",
      "execution_count": null,
      "metadata": {
        "id": "pPl6BLYrMx_4"
      },
      "outputs": [],
      "source": [
        "def harmonyvoice_chunked_audio(inputs, task, return_timestamps, minisense, progress=gr.Progress(), state=gr.State()):\n",
        "        progress(0, desc=\"Loading audio file...\")\n",
        "        logger.info(\"loading audio file...\")\n",
        "\n",
        "        if inputs is None:\n",
        "            logger.warning(\"No audio file\")\n",
        "            raise gr.Error(\"No audio file submitted! Please upload an audio file before submitting your request.\")\n",
        "\n",
        "        file_size_mb = os.stat(inputs).st_size / (1024 * 1024)\n",
        "        if file_size_mb > FILE_LIMIT_MB:\n",
        "            logger.warning(\"Max file size exceeded\")\n",
        "            raise gr.Error(\n",
        "                f\"File size exceeds file size limit. Got file of size {file_size_mb:.2f}MB for a limit of {FILE_LIMIT_MB}MB.\"\n",
        "            )\n",
        "\n",
        "        with open(inputs, \"rb\") as f:\n",
        "            inputs = f.read()\n",
        "\n",
        "        inputs = ffmpeg_read(inputs, pipeline.feature_extractor.sampling_rate)\n",
        "        inputs = {\"array\": inputs, \"sampling_rate\": pipeline.feature_extractor.sampling_rate}\n",
        "        logger.info(\"done loading\")\n",
        "\n",
        "        # Define the stride length and chunk length\n",
        "        stride_length_s = CHUNK_LENGTH_S / 6\n",
        "        chunk_len = round(CHUNK_LENGTH_S * pipeline.feature_extractor.sampling_rate)\n",
        "        stride_left = stride_right = round(stride_length_s * pipeline.feature_extractor.sampling_rate)\n",
        "        step = chunk_len - stride_left - stride_right\n",
        "\n",
        "        # Chunk and process the audio data\n",
        "        chunks_info = process_and_chunk_audio(inputs[\"array\"], inputs[\"sampling_rate\"], chunk_len, stride_left, stride_right)\n",
        "\n",
        "        # TODO: Add code here to use the chunks_info as needed for HarmonyFrequency functionality\n",
        "\n",
        "        # Generate transcription and summarization, ensure that tqdm_generate is designed to return the necessary outputs\n",
        "        full_text, summarized_text, runtime = tqdm_generate(inputs, task=task, return_timestamps=return_timestamps, progress=progress)\n",
        "\n",
        "\n",
        "        # If the checkbox for minisense is checked, we run the minisense_indexing function\n",
        "        if minisense:\n",
        "            minisense_result = minisense_indexing(summarized_text)\n",
        "            minisense_df = pd.DataFrame(list(minisense_result.items()), columns=['Category', 'Details'])\n",
        "\n",
        "            guardianvigil_result = guardianvigil(minisense_result)\n",
        "\n",
        "            guardianvigil_img = plot_symptoms_img(guardianvigil_result)\n",
        "\n",
        "            return full_text, summarized_text, runtime, minisense_df,guardianvigil_result, guardianvigil_img\n",
        "        else:\n",
        "            return full_text, summarized_text, runtime, \"MINISense not requested\", \"GuardianVigil not requested\", \"GuardianVigil IMG not requested\"\n"
      ]
    },
    {
      "cell_type": "markdown",
      "metadata": {
        "id": "ST8bkRmLNJz1"
      },
      "source": [
        "###"
      ]
    },
    {
      "cell_type": "code",
      "execution_count": null,
      "metadata": {
        "id": "sspzTvCZNKgO"
      },
      "outputs": [],
      "source": [
        "from scipy.io import wavfile\n",
        "from sklearn.cluster import KMeans\n",
        "\n",
        "def process_audio_chunk(audio_chunk_path, T, kmeans, speaker_embeddings):\n",
        "    \"\"\"\n",
        "    Process a chunk of audio.\n",
        "\n",
        "    Parameters:\n",
        "    audio_chunk_path (str): The path to the audio chunk file.\n",
        "    T (Wav2Vec2Processor): The transcriber model.\n",
        "    kmeans (KMeans): The fitted KMeans object.\n",
        "    speaker_embeddings (dict): A dictionary where keys are speaker IDs and values are their embeddings.\n",
        "\n",
        "    Returns:\n",
        "    speaker_id (str): The ID of the speaker with the closest embedding.\n",
        "    \"\"\"\n",
        "    # Load the audio chunk\n",
        "    sample_rate, audio_chunk = wavfile.read(audio_chunk_path)\n",
        "\n",
        "    # Ensure the audio is mono (1 channel)\n",
        "    if len(audio_chunk.shape) > 1:\n",
        "        audio_chunk = np.mean(audio_chunk, axis=1)\n",
        "\n",
        "    # Resample the audio if necessary\n",
        "    if sample_rate != T.sampling_rate:\n",
        "        audio_chunk = resample(audio_chunk, sample_rate, T.sampling_rate)\n",
        "\n",
        "    # Extract features using your transcriber model\n",
        "    embeddings = T.extract_features(audio_chunk)\n",
        "\n",
        "    # Perform clustering on the embeddings\n",
        "    kmeans_labels = kmeans.predict(embeddings)\n",
        "\n",
        "    # Compute the average embedding for this audio chunk\n",
        "    avg_embedding = np.mean(embeddings, axis=0)\n",
        "\n",
        "    # Assign the speaker with the closest embedding to this average embedding\n",
        "    speaker_id = assign_speaker_faiss(avg_embedding, speaker_embeddings)\n",
        "\n",
        "    return speaker_id\n"
      ]
    },
    {
      "cell_type": "code",
      "source": [
        "def load_audio_file(file_path, file_limit_mb=FILE_LIMIT_MB):\n",
        "    # Check if the audio file is given as input\n",
        "    if file_path is None:\n",
        "        raise ValueError(\"No audio file provided!\")\n",
        "\n",
        "    # Check if the audio file size exceeds the allowed limit\n",
        "    file_size_mb = os.stat(file_path).st_size / (1024 * 1024)\n",
        "    if file_size_mb > file_limit_mb:\n",
        "        raise ValueError(f\"File size exceeds file size limit. Got file of size {file_size_mb:.2f}MB for a limit of {file_limit_mb}MB.\")\n",
        "\n",
        "    # Open and read the file in binary format\n",
        "    with open(file_path, \"rb\") as f:\n",
        "        file_data = f.read()\n",
        "\n",
        "    return file_data"
      ],
      "metadata": {
        "id": "HTIsKqkFYBVI"
      },
      "execution_count": null,
      "outputs": []
    },
    {
      "cell_type": "code",
      "source": [
        "file_data = load_audio_file(audio_file_path)\n"
      ],
      "metadata": {
        "id": "3DhIqIo5YDG9"
      },
      "execution_count": null,
      "outputs": []
    },
    {
      "cell_type": "code",
      "source": [
        "import numpy as np\n",
        "from pydub import AudioSegment\n",
        "from pydub.utils import mediainfo\n",
        "import io\n",
        "\n",
        "# Assuming 'file_data' is your binary audio data\n",
        "audio = AudioSegment.from_file(io.BytesIO(file_data), format=\"m4a\")\n",
        "\n",
        "# Convert audio to mono and set frame rate\n",
        "audio = audio.set_channels(1)\n",
        "audio = audio.set_frame_rate(16000)\n",
        "\n",
        "# Get the audio data as a numpy array\n",
        "audio_arr = np.array(audio.get_array_of_samples())\n"
      ],
      "metadata": {
        "id": "C0qUM7T_Xbpk"
      },
      "execution_count": null,
      "outputs": []
    },
    {
      "cell_type": "code",
      "source": [
        "print(audio_arr.shape)\n",
        "print(audio_arr.dtype)\n",
        "print(audio_arr[:50])"
      ],
      "metadata": {
        "id": "ESkWt2sKYZ77"
      },
      "execution_count": null,
      "outputs": []
    }
  ],
  "metadata": {
    "accelerator": "GPU",
    "colab": {
      "collapsed_sections": [
        "tK0beR42OqLO",
        "wUWb_uA5PDp7",
        "8OA2oCio04Vk",
        "y22yCse29Cyb",
        "72HYuBr1aAzW",
        "IO-kVnrP3dp9",
        "wHdoo-hqIzce"
      ],
      "machine_shape": "hm",
      "provenance": [],
      "toc_visible": true,
      "gpuType": "A100",
      "cell_execution_strategy": "setup",
      "authorship_tag": "ABX9TyNCSvBVwZoOgbWP27ZRvZgQ",
      "include_colab_link": true
    },
    "kernelspec": {
      "display_name": "Python 3",
      "name": "python3"
    },
    "language_info": {
      "name": "python"
    },
    "widgets": {
      "application/vnd.jupyter.widget-state+json": {
        "31cd2c1d0ef94c2eacd3ce1876355fbe": {
          "model_module": "@jupyter-widgets/controls",
          "model_name": "HBoxModel",
          "model_module_version": "1.5.0",
          "state": {
            "_dom_classes": [],
            "_model_module": "@jupyter-widgets/controls",
            "_model_module_version": "1.5.0",
            "_model_name": "HBoxModel",
            "_view_count": null,
            "_view_module": "@jupyter-widgets/controls",
            "_view_module_version": "1.5.0",
            "_view_name": "HBoxView",
            "box_style": "",
            "children": [
              "IPY_MODEL_3c6d6f8f714d498f9a98f5c170d90c20",
              "IPY_MODEL_a414add365df48369714e71ddbbdf18d",
              "IPY_MODEL_cf39b33da4144e04be071da3c903d377"
            ],
            "layout": "IPY_MODEL_304ec69a51414fc2a21fd9dfb448ae12"
          }
        },
        "3c6d6f8f714d498f9a98f5c170d90c20": {
          "model_module": "@jupyter-widgets/controls",
          "model_name": "HTMLModel",
          "model_module_version": "1.5.0",
          "state": {
            "_dom_classes": [],
            "_model_module": "@jupyter-widgets/controls",
            "_model_module_version": "1.5.0",
            "_model_name": "HTMLModel",
            "_view_count": null,
            "_view_module": "@jupyter-widgets/controls",
            "_view_module_version": "1.5.0",
            "_view_name": "HTMLView",
            "description": "",
            "description_tooltip": null,
            "layout": "IPY_MODEL_7f5a0c18c77b4bebb780c05783e82895",
            "placeholder": "​",
            "style": "IPY_MODEL_9edd1075aee7403684945de659412afd",
            "value": "Downloading (…)rocessor_config.json: 100%"
          }
        },
        "a414add365df48369714e71ddbbdf18d": {
          "model_module": "@jupyter-widgets/controls",
          "model_name": "FloatProgressModel",
          "model_module_version": "1.5.0",
          "state": {
            "_dom_classes": [],
            "_model_module": "@jupyter-widgets/controls",
            "_model_module_version": "1.5.0",
            "_model_name": "FloatProgressModel",
            "_view_count": null,
            "_view_module": "@jupyter-widgets/controls",
            "_view_module_version": "1.5.0",
            "_view_name": "ProgressView",
            "bar_style": "success",
            "description": "",
            "description_tooltip": null,
            "layout": "IPY_MODEL_ffe41d9fd81d4109beea393d2caf04c8",
            "max": 215,
            "min": 0,
            "orientation": "horizontal",
            "style": "IPY_MODEL_2b832f4d6d1b47eba10b8072060a1289",
            "value": 215
          }
        },
        "cf39b33da4144e04be071da3c903d377": {
          "model_module": "@jupyter-widgets/controls",
          "model_name": "HTMLModel",
          "model_module_version": "1.5.0",
          "state": {
            "_dom_classes": [],
            "_model_module": "@jupyter-widgets/controls",
            "_model_module_version": "1.5.0",
            "_model_name": "HTMLModel",
            "_view_count": null,
            "_view_module": "@jupyter-widgets/controls",
            "_view_module_version": "1.5.0",
            "_view_name": "HTMLView",
            "description": "",
            "description_tooltip": null,
            "layout": "IPY_MODEL_3f7b52bb13d945abb21e7247e3e22f5d",
            "placeholder": "​",
            "style": "IPY_MODEL_b9a65bdaef5f4b489efcd6fd1ce10161",
            "value": " 215/215 [00:00&lt;00:00, 15.6kB/s]"
          }
        },
        "304ec69a51414fc2a21fd9dfb448ae12": {
          "model_module": "@jupyter-widgets/base",
          "model_name": "LayoutModel",
          "model_module_version": "1.2.0",
          "state": {
            "_model_module": "@jupyter-widgets/base",
            "_model_module_version": "1.2.0",
            "_model_name": "LayoutModel",
            "_view_count": null,
            "_view_module": "@jupyter-widgets/base",
            "_view_module_version": "1.2.0",
            "_view_name": "LayoutView",
            "align_content": null,
            "align_items": null,
            "align_self": null,
            "border": null,
            "bottom": null,
            "display": null,
            "flex": null,
            "flex_flow": null,
            "grid_area": null,
            "grid_auto_columns": null,
            "grid_auto_flow": null,
            "grid_auto_rows": null,
            "grid_column": null,
            "grid_gap": null,
            "grid_row": null,
            "grid_template_areas": null,
            "grid_template_columns": null,
            "grid_template_rows": null,
            "height": null,
            "justify_content": null,
            "justify_items": null,
            "left": null,
            "margin": null,
            "max_height": null,
            "max_width": null,
            "min_height": null,
            "min_width": null,
            "object_fit": null,
            "object_position": null,
            "order": null,
            "overflow": null,
            "overflow_x": null,
            "overflow_y": null,
            "padding": null,
            "right": null,
            "top": null,
            "visibility": null,
            "width": null
          }
        },
        "7f5a0c18c77b4bebb780c05783e82895": {
          "model_module": "@jupyter-widgets/base",
          "model_name": "LayoutModel",
          "model_module_version": "1.2.0",
          "state": {
            "_model_module": "@jupyter-widgets/base",
            "_model_module_version": "1.2.0",
            "_model_name": "LayoutModel",
            "_view_count": null,
            "_view_module": "@jupyter-widgets/base",
            "_view_module_version": "1.2.0",
            "_view_name": "LayoutView",
            "align_content": null,
            "align_items": null,
            "align_self": null,
            "border": null,
            "bottom": null,
            "display": null,
            "flex": null,
            "flex_flow": null,
            "grid_area": null,
            "grid_auto_columns": null,
            "grid_auto_flow": null,
            "grid_auto_rows": null,
            "grid_column": null,
            "grid_gap": null,
            "grid_row": null,
            "grid_template_areas": null,
            "grid_template_columns": null,
            "grid_template_rows": null,
            "height": null,
            "justify_content": null,
            "justify_items": null,
            "left": null,
            "margin": null,
            "max_height": null,
            "max_width": null,
            "min_height": null,
            "min_width": null,
            "object_fit": null,
            "object_position": null,
            "order": null,
            "overflow": null,
            "overflow_x": null,
            "overflow_y": null,
            "padding": null,
            "right": null,
            "top": null,
            "visibility": null,
            "width": null
          }
        },
        "9edd1075aee7403684945de659412afd": {
          "model_module": "@jupyter-widgets/controls",
          "model_name": "DescriptionStyleModel",
          "model_module_version": "1.5.0",
          "state": {
            "_model_module": "@jupyter-widgets/controls",
            "_model_module_version": "1.5.0",
            "_model_name": "DescriptionStyleModel",
            "_view_count": null,
            "_view_module": "@jupyter-widgets/base",
            "_view_module_version": "1.2.0",
            "_view_name": "StyleView",
            "description_width": ""
          }
        },
        "ffe41d9fd81d4109beea393d2caf04c8": {
          "model_module": "@jupyter-widgets/base",
          "model_name": "LayoutModel",
          "model_module_version": "1.2.0",
          "state": {
            "_model_module": "@jupyter-widgets/base",
            "_model_module_version": "1.2.0",
            "_model_name": "LayoutModel",
            "_view_count": null,
            "_view_module": "@jupyter-widgets/base",
            "_view_module_version": "1.2.0",
            "_view_name": "LayoutView",
            "align_content": null,
            "align_items": null,
            "align_self": null,
            "border": null,
            "bottom": null,
            "display": null,
            "flex": null,
            "flex_flow": null,
            "grid_area": null,
            "grid_auto_columns": null,
            "grid_auto_flow": null,
            "grid_auto_rows": null,
            "grid_column": null,
            "grid_gap": null,
            "grid_row": null,
            "grid_template_areas": null,
            "grid_template_columns": null,
            "grid_template_rows": null,
            "height": null,
            "justify_content": null,
            "justify_items": null,
            "left": null,
            "margin": null,
            "max_height": null,
            "max_width": null,
            "min_height": null,
            "min_width": null,
            "object_fit": null,
            "object_position": null,
            "order": null,
            "overflow": null,
            "overflow_x": null,
            "overflow_y": null,
            "padding": null,
            "right": null,
            "top": null,
            "visibility": null,
            "width": null
          }
        },
        "2b832f4d6d1b47eba10b8072060a1289": {
          "model_module": "@jupyter-widgets/controls",
          "model_name": "ProgressStyleModel",
          "model_module_version": "1.5.0",
          "state": {
            "_model_module": "@jupyter-widgets/controls",
            "_model_module_version": "1.5.0",
            "_model_name": "ProgressStyleModel",
            "_view_count": null,
            "_view_module": "@jupyter-widgets/base",
            "_view_module_version": "1.2.0",
            "_view_name": "StyleView",
            "bar_color": null,
            "description_width": ""
          }
        },
        "3f7b52bb13d945abb21e7247e3e22f5d": {
          "model_module": "@jupyter-widgets/base",
          "model_name": "LayoutModel",
          "model_module_version": "1.2.0",
          "state": {
            "_model_module": "@jupyter-widgets/base",
            "_model_module_version": "1.2.0",
            "_model_name": "LayoutModel",
            "_view_count": null,
            "_view_module": "@jupyter-widgets/base",
            "_view_module_version": "1.2.0",
            "_view_name": "LayoutView",
            "align_content": null,
            "align_items": null,
            "align_self": null,
            "border": null,
            "bottom": null,
            "display": null,
            "flex": null,
            "flex_flow": null,
            "grid_area": null,
            "grid_auto_columns": null,
            "grid_auto_flow": null,
            "grid_auto_rows": null,
            "grid_column": null,
            "grid_gap": null,
            "grid_row": null,
            "grid_template_areas": null,
            "grid_template_columns": null,
            "grid_template_rows": null,
            "height": null,
            "justify_content": null,
            "justify_items": null,
            "left": null,
            "margin": null,
            "max_height": null,
            "max_width": null,
            "min_height": null,
            "min_width": null,
            "object_fit": null,
            "object_position": null,
            "order": null,
            "overflow": null,
            "overflow_x": null,
            "overflow_y": null,
            "padding": null,
            "right": null,
            "top": null,
            "visibility": null,
            "width": null
          }
        },
        "b9a65bdaef5f4b489efcd6fd1ce10161": {
          "model_module": "@jupyter-widgets/controls",
          "model_name": "DescriptionStyleModel",
          "model_module_version": "1.5.0",
          "state": {
            "_model_module": "@jupyter-widgets/controls",
            "_model_module_version": "1.5.0",
            "_model_name": "DescriptionStyleModel",
            "_view_count": null,
            "_view_module": "@jupyter-widgets/base",
            "_view_module_version": "1.2.0",
            "_view_name": "StyleView",
            "description_width": ""
          }
        },
        "a3b37576517846a2af44998c7bfc7c8f": {
          "model_module": "@jupyter-widgets/controls",
          "model_name": "HBoxModel",
          "model_module_version": "1.5.0",
          "state": {
            "_dom_classes": [],
            "_model_module": "@jupyter-widgets/controls",
            "_model_module_version": "1.5.0",
            "_model_name": "HBoxModel",
            "_view_count": null,
            "_view_module": "@jupyter-widgets/controls",
            "_view_module_version": "1.5.0",
            "_view_name": "HBoxView",
            "box_style": "",
            "children": [
              "IPY_MODEL_ec23de917a314fdd93dee41a8f07022b",
              "IPY_MODEL_24ca7417957a4b26b4f46ba85195e304",
              "IPY_MODEL_b79f31ce44cf41e1986b841667e1c351"
            ],
            "layout": "IPY_MODEL_949921b4cd714b68b58a0613b10fc288"
          }
        },
        "ec23de917a314fdd93dee41a8f07022b": {
          "model_module": "@jupyter-widgets/controls",
          "model_name": "HTMLModel",
          "model_module_version": "1.5.0",
          "state": {
            "_dom_classes": [],
            "_model_module": "@jupyter-widgets/controls",
            "_model_module_version": "1.5.0",
            "_model_name": "HTMLModel",
            "_view_count": null,
            "_view_module": "@jupyter-widgets/controls",
            "_view_module_version": "1.5.0",
            "_view_name": "HTMLView",
            "description": "",
            "description_tooltip": null,
            "layout": "IPY_MODEL_6faad2598b64436e94071d7e71f158fc",
            "placeholder": "​",
            "style": "IPY_MODEL_f53edab689be46df9a499e64ab479d58",
            "value": "Downloading (…)lve/main/config.json: 100%"
          }
        },
        "24ca7417957a4b26b4f46ba85195e304": {
          "model_module": "@jupyter-widgets/controls",
          "model_name": "FloatProgressModel",
          "model_module_version": "1.5.0",
          "state": {
            "_dom_classes": [],
            "_model_module": "@jupyter-widgets/controls",
            "_model_module_version": "1.5.0",
            "_model_name": "FloatProgressModel",
            "_view_count": null,
            "_view_module": "@jupyter-widgets/controls",
            "_view_module_version": "1.5.0",
            "_view_name": "ProgressView",
            "bar_style": "success",
            "description": "",
            "description_tooltip": null,
            "layout": "IPY_MODEL_890476455f83403f93c91d7e5e096f73",
            "max": 58639,
            "min": 0,
            "orientation": "horizontal",
            "style": "IPY_MODEL_df7758e5b70b4863a9294b513691f32d",
            "value": 58639
          }
        },
        "b79f31ce44cf41e1986b841667e1c351": {
          "model_module": "@jupyter-widgets/controls",
          "model_name": "HTMLModel",
          "model_module_version": "1.5.0",
          "state": {
            "_dom_classes": [],
            "_model_module": "@jupyter-widgets/controls",
            "_model_module_version": "1.5.0",
            "_model_name": "HTMLModel",
            "_view_count": null,
            "_view_module": "@jupyter-widgets/controls",
            "_view_module_version": "1.5.0",
            "_view_name": "HTMLView",
            "description": "",
            "description_tooltip": null,
            "layout": "IPY_MODEL_fded766b8c294c69ac1d0781a5a6c9aa",
            "placeholder": "​",
            "style": "IPY_MODEL_6b55c2f827d046b3b00eaaa409161ff8",
            "value": " 58.6k/58.6k [00:00&lt;00:00, 3.26MB/s]"
          }
        },
        "949921b4cd714b68b58a0613b10fc288": {
          "model_module": "@jupyter-widgets/base",
          "model_name": "LayoutModel",
          "model_module_version": "1.2.0",
          "state": {
            "_model_module": "@jupyter-widgets/base",
            "_model_module_version": "1.2.0",
            "_model_name": "LayoutModel",
            "_view_count": null,
            "_view_module": "@jupyter-widgets/base",
            "_view_module_version": "1.2.0",
            "_view_name": "LayoutView",
            "align_content": null,
            "align_items": null,
            "align_self": null,
            "border": null,
            "bottom": null,
            "display": null,
            "flex": null,
            "flex_flow": null,
            "grid_area": null,
            "grid_auto_columns": null,
            "grid_auto_flow": null,
            "grid_auto_rows": null,
            "grid_column": null,
            "grid_gap": null,
            "grid_row": null,
            "grid_template_areas": null,
            "grid_template_columns": null,
            "grid_template_rows": null,
            "height": null,
            "justify_content": null,
            "justify_items": null,
            "left": null,
            "margin": null,
            "max_height": null,
            "max_width": null,
            "min_height": null,
            "min_width": null,
            "object_fit": null,
            "object_position": null,
            "order": null,
            "overflow": null,
            "overflow_x": null,
            "overflow_y": null,
            "padding": null,
            "right": null,
            "top": null,
            "visibility": null,
            "width": null
          }
        },
        "6faad2598b64436e94071d7e71f158fc": {
          "model_module": "@jupyter-widgets/base",
          "model_name": "LayoutModel",
          "model_module_version": "1.2.0",
          "state": {
            "_model_module": "@jupyter-widgets/base",
            "_model_module_version": "1.2.0",
            "_model_name": "LayoutModel",
            "_view_count": null,
            "_view_module": "@jupyter-widgets/base",
            "_view_module_version": "1.2.0",
            "_view_name": "LayoutView",
            "align_content": null,
            "align_items": null,
            "align_self": null,
            "border": null,
            "bottom": null,
            "display": null,
            "flex": null,
            "flex_flow": null,
            "grid_area": null,
            "grid_auto_columns": null,
            "grid_auto_flow": null,
            "grid_auto_rows": null,
            "grid_column": null,
            "grid_gap": null,
            "grid_row": null,
            "grid_template_areas": null,
            "grid_template_columns": null,
            "grid_template_rows": null,
            "height": null,
            "justify_content": null,
            "justify_items": null,
            "left": null,
            "margin": null,
            "max_height": null,
            "max_width": null,
            "min_height": null,
            "min_width": null,
            "object_fit": null,
            "object_position": null,
            "order": null,
            "overflow": null,
            "overflow_x": null,
            "overflow_y": null,
            "padding": null,
            "right": null,
            "top": null,
            "visibility": null,
            "width": null
          }
        },
        "f53edab689be46df9a499e64ab479d58": {
          "model_module": "@jupyter-widgets/controls",
          "model_name": "DescriptionStyleModel",
          "model_module_version": "1.5.0",
          "state": {
            "_model_module": "@jupyter-widgets/controls",
            "_model_module_version": "1.5.0",
            "_model_name": "DescriptionStyleModel",
            "_view_count": null,
            "_view_module": "@jupyter-widgets/base",
            "_view_module_version": "1.2.0",
            "_view_name": "StyleView",
            "description_width": ""
          }
        },
        "890476455f83403f93c91d7e5e096f73": {
          "model_module": "@jupyter-widgets/base",
          "model_name": "LayoutModel",
          "model_module_version": "1.2.0",
          "state": {
            "_model_module": "@jupyter-widgets/base",
            "_model_module_version": "1.2.0",
            "_model_name": "LayoutModel",
            "_view_count": null,
            "_view_module": "@jupyter-widgets/base",
            "_view_module_version": "1.2.0",
            "_view_name": "LayoutView",
            "align_content": null,
            "align_items": null,
            "align_self": null,
            "border": null,
            "bottom": null,
            "display": null,
            "flex": null,
            "flex_flow": null,
            "grid_area": null,
            "grid_auto_columns": null,
            "grid_auto_flow": null,
            "grid_auto_rows": null,
            "grid_column": null,
            "grid_gap": null,
            "grid_row": null,
            "grid_template_areas": null,
            "grid_template_columns": null,
            "grid_template_rows": null,
            "height": null,
            "justify_content": null,
            "justify_items": null,
            "left": null,
            "margin": null,
            "max_height": null,
            "max_width": null,
            "min_height": null,
            "min_width": null,
            "object_fit": null,
            "object_position": null,
            "order": null,
            "overflow": null,
            "overflow_x": null,
            "overflow_y": null,
            "padding": null,
            "right": null,
            "top": null,
            "visibility": null,
            "width": null
          }
        },
        "df7758e5b70b4863a9294b513691f32d": {
          "model_module": "@jupyter-widgets/controls",
          "model_name": "ProgressStyleModel",
          "model_module_version": "1.5.0",
          "state": {
            "_model_module": "@jupyter-widgets/controls",
            "_model_module_version": "1.5.0",
            "_model_name": "ProgressStyleModel",
            "_view_count": null,
            "_view_module": "@jupyter-widgets/base",
            "_view_module_version": "1.2.0",
            "_view_name": "StyleView",
            "bar_color": null,
            "description_width": ""
          }
        },
        "fded766b8c294c69ac1d0781a5a6c9aa": {
          "model_module": "@jupyter-widgets/base",
          "model_name": "LayoutModel",
          "model_module_version": "1.2.0",
          "state": {
            "_model_module": "@jupyter-widgets/base",
            "_model_module_version": "1.2.0",
            "_model_name": "LayoutModel",
            "_view_count": null,
            "_view_module": "@jupyter-widgets/base",
            "_view_module_version": "1.2.0",
            "_view_name": "LayoutView",
            "align_content": null,
            "align_items": null,
            "align_self": null,
            "border": null,
            "bottom": null,
            "display": null,
            "flex": null,
            "flex_flow": null,
            "grid_area": null,
            "grid_auto_columns": null,
            "grid_auto_flow": null,
            "grid_auto_rows": null,
            "grid_column": null,
            "grid_gap": null,
            "grid_row": null,
            "grid_template_areas": null,
            "grid_template_columns": null,
            "grid_template_rows": null,
            "height": null,
            "justify_content": null,
            "justify_items": null,
            "left": null,
            "margin": null,
            "max_height": null,
            "max_width": null,
            "min_height": null,
            "min_width": null,
            "object_fit": null,
            "object_position": null,
            "order": null,
            "overflow": null,
            "overflow_x": null,
            "overflow_y": null,
            "padding": null,
            "right": null,
            "top": null,
            "visibility": null,
            "width": null
          }
        },
        "6b55c2f827d046b3b00eaaa409161ff8": {
          "model_module": "@jupyter-widgets/controls",
          "model_name": "DescriptionStyleModel",
          "model_module_version": "1.5.0",
          "state": {
            "_model_module": "@jupyter-widgets/controls",
            "_model_module_version": "1.5.0",
            "_model_name": "DescriptionStyleModel",
            "_view_count": null,
            "_view_module": "@jupyter-widgets/base",
            "_view_module_version": "1.2.0",
            "_view_name": "StyleView",
            "description_width": ""
          }
        },
        "717f087241514643b39b2a1a4b7d64f8": {
          "model_module": "@jupyter-widgets/controls",
          "model_name": "HBoxModel",
          "model_module_version": "1.5.0",
          "state": {
            "_dom_classes": [],
            "_model_module": "@jupyter-widgets/controls",
            "_model_module_version": "1.5.0",
            "_model_name": "HBoxModel",
            "_view_count": null,
            "_view_module": "@jupyter-widgets/controls",
            "_view_module_version": "1.5.0",
            "_view_name": "HBoxView",
            "box_style": "",
            "children": [
              "IPY_MODEL_9113bce61f7a4fdea220c1cbf2a89787",
              "IPY_MODEL_e4adf4fd104149d78fadee013c22bdf5",
              "IPY_MODEL_68435ac423cf4401af484dc850ae66a9"
            ],
            "layout": "IPY_MODEL_71f681789ce544da9cc6450e9649764e"
          }
        },
        "9113bce61f7a4fdea220c1cbf2a89787": {
          "model_module": "@jupyter-widgets/controls",
          "model_name": "HTMLModel",
          "model_module_version": "1.5.0",
          "state": {
            "_dom_classes": [],
            "_model_module": "@jupyter-widgets/controls",
            "_model_module_version": "1.5.0",
            "_model_name": "HTMLModel",
            "_view_count": null,
            "_view_module": "@jupyter-widgets/controls",
            "_view_module_version": "1.5.0",
            "_view_name": "HTMLView",
            "description": "",
            "description_tooltip": null,
            "layout": "IPY_MODEL_7d03ce1f72714aeeaa9ece0ad38bd1ad",
            "placeholder": "​",
            "style": "IPY_MODEL_adec101c60b849c98561ce622418c6df",
            "value": "Downloading pytorch_model.bin: 100%"
          }
        },
        "e4adf4fd104149d78fadee013c22bdf5": {
          "model_module": "@jupyter-widgets/controls",
          "model_name": "FloatProgressModel",
          "model_module_version": "1.5.0",
          "state": {
            "_dom_classes": [],
            "_model_module": "@jupyter-widgets/controls",
            "_model_module_version": "1.5.0",
            "_model_name": "FloatProgressModel",
            "_view_count": null,
            "_view_module": "@jupyter-widgets/controls",
            "_view_module_version": "1.5.0",
            "_view_name": "ProgressView",
            "bar_style": "success",
            "description": "",
            "description_tooltip": null,
            "layout": "IPY_MODEL_cab327c33f254435b181b5661467f6e0",
            "max": 404547053,
            "min": 0,
            "orientation": "horizontal",
            "style": "IPY_MODEL_6172a54946b946f19e2b8f82beae9ca6",
            "value": 404547053
          }
        },
        "68435ac423cf4401af484dc850ae66a9": {
          "model_module": "@jupyter-widgets/controls",
          "model_name": "HTMLModel",
          "model_module_version": "1.5.0",
          "state": {
            "_dom_classes": [],
            "_model_module": "@jupyter-widgets/controls",
            "_model_module_version": "1.5.0",
            "_model_name": "HTMLModel",
            "_view_count": null,
            "_view_module": "@jupyter-widgets/controls",
            "_view_module_version": "1.5.0",
            "_view_name": "HTMLView",
            "description": "",
            "description_tooltip": null,
            "layout": "IPY_MODEL_31b8f9d5cf774b5eab87354713ffbde1",
            "placeholder": "​",
            "style": "IPY_MODEL_5342eafc9cac49a0a255635b6a8cd4e7",
            "value": " 405M/405M [00:05&lt;00:00, 93.6MB/s]"
          }
        },
        "71f681789ce544da9cc6450e9649764e": {
          "model_module": "@jupyter-widgets/base",
          "model_name": "LayoutModel",
          "model_module_version": "1.2.0",
          "state": {
            "_model_module": "@jupyter-widgets/base",
            "_model_module_version": "1.2.0",
            "_model_name": "LayoutModel",
            "_view_count": null,
            "_view_module": "@jupyter-widgets/base",
            "_view_module_version": "1.2.0",
            "_view_name": "LayoutView",
            "align_content": null,
            "align_items": null,
            "align_self": null,
            "border": null,
            "bottom": null,
            "display": null,
            "flex": null,
            "flex_flow": null,
            "grid_area": null,
            "grid_auto_columns": null,
            "grid_auto_flow": null,
            "grid_auto_rows": null,
            "grid_column": null,
            "grid_gap": null,
            "grid_row": null,
            "grid_template_areas": null,
            "grid_template_columns": null,
            "grid_template_rows": null,
            "height": null,
            "justify_content": null,
            "justify_items": null,
            "left": null,
            "margin": null,
            "max_height": null,
            "max_width": null,
            "min_height": null,
            "min_width": null,
            "object_fit": null,
            "object_position": null,
            "order": null,
            "overflow": null,
            "overflow_x": null,
            "overflow_y": null,
            "padding": null,
            "right": null,
            "top": null,
            "visibility": null,
            "width": null
          }
        },
        "7d03ce1f72714aeeaa9ece0ad38bd1ad": {
          "model_module": "@jupyter-widgets/base",
          "model_name": "LayoutModel",
          "model_module_version": "1.2.0",
          "state": {
            "_model_module": "@jupyter-widgets/base",
            "_model_module_version": "1.2.0",
            "_model_name": "LayoutModel",
            "_view_count": null,
            "_view_module": "@jupyter-widgets/base",
            "_view_module_version": "1.2.0",
            "_view_name": "LayoutView",
            "align_content": null,
            "align_items": null,
            "align_self": null,
            "border": null,
            "bottom": null,
            "display": null,
            "flex": null,
            "flex_flow": null,
            "grid_area": null,
            "grid_auto_columns": null,
            "grid_auto_flow": null,
            "grid_auto_rows": null,
            "grid_column": null,
            "grid_gap": null,
            "grid_row": null,
            "grid_template_areas": null,
            "grid_template_columns": null,
            "grid_template_rows": null,
            "height": null,
            "justify_content": null,
            "justify_items": null,
            "left": null,
            "margin": null,
            "max_height": null,
            "max_width": null,
            "min_height": null,
            "min_width": null,
            "object_fit": null,
            "object_position": null,
            "order": null,
            "overflow": null,
            "overflow_x": null,
            "overflow_y": null,
            "padding": null,
            "right": null,
            "top": null,
            "visibility": null,
            "width": null
          }
        },
        "adec101c60b849c98561ce622418c6df": {
          "model_module": "@jupyter-widgets/controls",
          "model_name": "DescriptionStyleModel",
          "model_module_version": "1.5.0",
          "state": {
            "_model_module": "@jupyter-widgets/controls",
            "_model_module_version": "1.5.0",
            "_model_name": "DescriptionStyleModel",
            "_view_count": null,
            "_view_module": "@jupyter-widgets/base",
            "_view_module_version": "1.2.0",
            "_view_name": "StyleView",
            "description_width": ""
          }
        },
        "cab327c33f254435b181b5661467f6e0": {
          "model_module": "@jupyter-widgets/base",
          "model_name": "LayoutModel",
          "model_module_version": "1.2.0",
          "state": {
            "_model_module": "@jupyter-widgets/base",
            "_model_module_version": "1.2.0",
            "_model_name": "LayoutModel",
            "_view_count": null,
            "_view_module": "@jupyter-widgets/base",
            "_view_module_version": "1.2.0",
            "_view_name": "LayoutView",
            "align_content": null,
            "align_items": null,
            "align_self": null,
            "border": null,
            "bottom": null,
            "display": null,
            "flex": null,
            "flex_flow": null,
            "grid_area": null,
            "grid_auto_columns": null,
            "grid_auto_flow": null,
            "grid_auto_rows": null,
            "grid_column": null,
            "grid_gap": null,
            "grid_row": null,
            "grid_template_areas": null,
            "grid_template_columns": null,
            "grid_template_rows": null,
            "height": null,
            "justify_content": null,
            "justify_items": null,
            "left": null,
            "margin": null,
            "max_height": null,
            "max_width": null,
            "min_height": null,
            "min_width": null,
            "object_fit": null,
            "object_position": null,
            "order": null,
            "overflow": null,
            "overflow_x": null,
            "overflow_y": null,
            "padding": null,
            "right": null,
            "top": null,
            "visibility": null,
            "width": null
          }
        },
        "6172a54946b946f19e2b8f82beae9ca6": {
          "model_module": "@jupyter-widgets/controls",
          "model_name": "ProgressStyleModel",
          "model_module_version": "1.5.0",
          "state": {
            "_model_module": "@jupyter-widgets/controls",
            "_model_module_version": "1.5.0",
            "_model_name": "ProgressStyleModel",
            "_view_count": null,
            "_view_module": "@jupyter-widgets/base",
            "_view_module_version": "1.2.0",
            "_view_name": "StyleView",
            "bar_color": null,
            "description_width": ""
          }
        },
        "31b8f9d5cf774b5eab87354713ffbde1": {
          "model_module": "@jupyter-widgets/base",
          "model_name": "LayoutModel",
          "model_module_version": "1.2.0",
          "state": {
            "_model_module": "@jupyter-widgets/base",
            "_model_module_version": "1.2.0",
            "_model_name": "LayoutModel",
            "_view_count": null,
            "_view_module": "@jupyter-widgets/base",
            "_view_module_version": "1.2.0",
            "_view_name": "LayoutView",
            "align_content": null,
            "align_items": null,
            "align_self": null,
            "border": null,
            "bottom": null,
            "display": null,
            "flex": null,
            "flex_flow": null,
            "grid_area": null,
            "grid_auto_columns": null,
            "grid_auto_flow": null,
            "grid_auto_rows": null,
            "grid_column": null,
            "grid_gap": null,
            "grid_row": null,
            "grid_template_areas": null,
            "grid_template_columns": null,
            "grid_template_rows": null,
            "height": null,
            "justify_content": null,
            "justify_items": null,
            "left": null,
            "margin": null,
            "max_height": null,
            "max_width": null,
            "min_height": null,
            "min_width": null,
            "object_fit": null,
            "object_position": null,
            "order": null,
            "overflow": null,
            "overflow_x": null,
            "overflow_y": null,
            "padding": null,
            "right": null,
            "top": null,
            "visibility": null,
            "width": null
          }
        },
        "5342eafc9cac49a0a255635b6a8cd4e7": {
          "model_module": "@jupyter-widgets/controls",
          "model_name": "DescriptionStyleModel",
          "model_module_version": "1.5.0",
          "state": {
            "_model_module": "@jupyter-widgets/controls",
            "_model_module_version": "1.5.0",
            "_model_name": "DescriptionStyleModel",
            "_view_count": null,
            "_view_module": "@jupyter-widgets/base",
            "_view_module_version": "1.2.0",
            "_view_name": "StyleView",
            "description_width": ""
          }
        },
        "e748c947327c448f814dab3f89f5c294": {
          "model_module": "@jupyter-widgets/controls",
          "model_name": "HBoxModel",
          "model_module_version": "1.5.0",
          "state": {
            "_dom_classes": [],
            "_model_module": "@jupyter-widgets/controls",
            "_model_module_version": "1.5.0",
            "_model_name": "HBoxModel",
            "_view_count": null,
            "_view_module": "@jupyter-widgets/controls",
            "_view_module_version": "1.5.0",
            "_view_name": "HBoxView",
            "box_style": "",
            "children": [
              "IPY_MODEL_c5e1b66dab17411fae53d30f8ad2fcd1",
              "IPY_MODEL_67ae8fe802bb427bb9da3baae06b9f2b",
              "IPY_MODEL_3b51386f693546fe8ac5f5f2bb3613c4"
            ],
            "layout": "IPY_MODEL_34fbe693d37c4b4585dc62efe5b3cde6"
          }
        },
        "c5e1b66dab17411fae53d30f8ad2fcd1": {
          "model_module": "@jupyter-widgets/controls",
          "model_name": "HTMLModel",
          "model_module_version": "1.5.0",
          "state": {
            "_dom_classes": [],
            "_model_module": "@jupyter-widgets/controls",
            "_model_module_version": "1.5.0",
            "_model_name": "HTMLModel",
            "_view_count": null,
            "_view_module": "@jupyter-widgets/controls",
            "_view_module_version": "1.5.0",
            "_view_name": "HTMLView",
            "description": "",
            "description_tooltip": null,
            "layout": "IPY_MODEL_41f64c9a449043948a364c26474d4d21",
            "placeholder": "​",
            "style": "IPY_MODEL_e2a3574e80204e248b0da1d3c770c4da",
            "value": "Downloading readme: 100%"
          }
        },
        "67ae8fe802bb427bb9da3baae06b9f2b": {
          "model_module": "@jupyter-widgets/controls",
          "model_name": "FloatProgressModel",
          "model_module_version": "1.5.0",
          "state": {
            "_dom_classes": [],
            "_model_module": "@jupyter-widgets/controls",
            "_model_module_version": "1.5.0",
            "_model_name": "FloatProgressModel",
            "_view_count": null,
            "_view_module": "@jupyter-widgets/controls",
            "_view_module_version": "1.5.0",
            "_view_name": "ProgressView",
            "bar_style": "success",
            "description": "",
            "description_tooltip": null,
            "layout": "IPY_MODEL_0eed8f53dab5470390742fa491541455",
            "max": 445,
            "min": 0,
            "orientation": "horizontal",
            "style": "IPY_MODEL_4e84c33ff46e4e2ca5079a494db3a0e6",
            "value": 445
          }
        },
        "3b51386f693546fe8ac5f5f2bb3613c4": {
          "model_module": "@jupyter-widgets/controls",
          "model_name": "HTMLModel",
          "model_module_version": "1.5.0",
          "state": {
            "_dom_classes": [],
            "_model_module": "@jupyter-widgets/controls",
            "_model_module_version": "1.5.0",
            "_model_name": "HTMLModel",
            "_view_count": null,
            "_view_module": "@jupyter-widgets/controls",
            "_view_module_version": "1.5.0",
            "_view_name": "HTMLView",
            "description": "",
            "description_tooltip": null,
            "layout": "IPY_MODEL_02e9d246d7d64cb193594b5e20c9aa23",
            "placeholder": "​",
            "style": "IPY_MODEL_1e2802b0f6af44d3b89be668c07105ef",
            "value": " 445/445 [00:00&lt;00:00, 29.0kB/s]"
          }
        },
        "34fbe693d37c4b4585dc62efe5b3cde6": {
          "model_module": "@jupyter-widgets/base",
          "model_name": "LayoutModel",
          "model_module_version": "1.2.0",
          "state": {
            "_model_module": "@jupyter-widgets/base",
            "_model_module_version": "1.2.0",
            "_model_name": "LayoutModel",
            "_view_count": null,
            "_view_module": "@jupyter-widgets/base",
            "_view_module_version": "1.2.0",
            "_view_name": "LayoutView",
            "align_content": null,
            "align_items": null,
            "align_self": null,
            "border": null,
            "bottom": null,
            "display": null,
            "flex": null,
            "flex_flow": null,
            "grid_area": null,
            "grid_auto_columns": null,
            "grid_auto_flow": null,
            "grid_auto_rows": null,
            "grid_column": null,
            "grid_gap": null,
            "grid_row": null,
            "grid_template_areas": null,
            "grid_template_columns": null,
            "grid_template_rows": null,
            "height": null,
            "justify_content": null,
            "justify_items": null,
            "left": null,
            "margin": null,
            "max_height": null,
            "max_width": null,
            "min_height": null,
            "min_width": null,
            "object_fit": null,
            "object_position": null,
            "order": null,
            "overflow": null,
            "overflow_x": null,
            "overflow_y": null,
            "padding": null,
            "right": null,
            "top": null,
            "visibility": null,
            "width": null
          }
        },
        "41f64c9a449043948a364c26474d4d21": {
          "model_module": "@jupyter-widgets/base",
          "model_name": "LayoutModel",
          "model_module_version": "1.2.0",
          "state": {
            "_model_module": "@jupyter-widgets/base",
            "_model_module_version": "1.2.0",
            "_model_name": "LayoutModel",
            "_view_count": null,
            "_view_module": "@jupyter-widgets/base",
            "_view_module_version": "1.2.0",
            "_view_name": "LayoutView",
            "align_content": null,
            "align_items": null,
            "align_self": null,
            "border": null,
            "bottom": null,
            "display": null,
            "flex": null,
            "flex_flow": null,
            "grid_area": null,
            "grid_auto_columns": null,
            "grid_auto_flow": null,
            "grid_auto_rows": null,
            "grid_column": null,
            "grid_gap": null,
            "grid_row": null,
            "grid_template_areas": null,
            "grid_template_columns": null,
            "grid_template_rows": null,
            "height": null,
            "justify_content": null,
            "justify_items": null,
            "left": null,
            "margin": null,
            "max_height": null,
            "max_width": null,
            "min_height": null,
            "min_width": null,
            "object_fit": null,
            "object_position": null,
            "order": null,
            "overflow": null,
            "overflow_x": null,
            "overflow_y": null,
            "padding": null,
            "right": null,
            "top": null,
            "visibility": null,
            "width": null
          }
        },
        "e2a3574e80204e248b0da1d3c770c4da": {
          "model_module": "@jupyter-widgets/controls",
          "model_name": "DescriptionStyleModel",
          "model_module_version": "1.5.0",
          "state": {
            "_model_module": "@jupyter-widgets/controls",
            "_model_module_version": "1.5.0",
            "_model_name": "DescriptionStyleModel",
            "_view_count": null,
            "_view_module": "@jupyter-widgets/base",
            "_view_module_version": "1.2.0",
            "_view_name": "StyleView",
            "description_width": ""
          }
        },
        "0eed8f53dab5470390742fa491541455": {
          "model_module": "@jupyter-widgets/base",
          "model_name": "LayoutModel",
          "model_module_version": "1.2.0",
          "state": {
            "_model_module": "@jupyter-widgets/base",
            "_model_module_version": "1.2.0",
            "_model_name": "LayoutModel",
            "_view_count": null,
            "_view_module": "@jupyter-widgets/base",
            "_view_module_version": "1.2.0",
            "_view_name": "LayoutView",
            "align_content": null,
            "align_items": null,
            "align_self": null,
            "border": null,
            "bottom": null,
            "display": null,
            "flex": null,
            "flex_flow": null,
            "grid_area": null,
            "grid_auto_columns": null,
            "grid_auto_flow": null,
            "grid_auto_rows": null,
            "grid_column": null,
            "grid_gap": null,
            "grid_row": null,
            "grid_template_areas": null,
            "grid_template_columns": null,
            "grid_template_rows": null,
            "height": null,
            "justify_content": null,
            "justify_items": null,
            "left": null,
            "margin": null,
            "max_height": null,
            "max_width": null,
            "min_height": null,
            "min_width": null,
            "object_fit": null,
            "object_position": null,
            "order": null,
            "overflow": null,
            "overflow_x": null,
            "overflow_y": null,
            "padding": null,
            "right": null,
            "top": null,
            "visibility": null,
            "width": null
          }
        },
        "4e84c33ff46e4e2ca5079a494db3a0e6": {
          "model_module": "@jupyter-widgets/controls",
          "model_name": "ProgressStyleModel",
          "model_module_version": "1.5.0",
          "state": {
            "_model_module": "@jupyter-widgets/controls",
            "_model_module_version": "1.5.0",
            "_model_name": "ProgressStyleModel",
            "_view_count": null,
            "_view_module": "@jupyter-widgets/base",
            "_view_module_version": "1.2.0",
            "_view_name": "StyleView",
            "bar_color": null,
            "description_width": ""
          }
        },
        "02e9d246d7d64cb193594b5e20c9aa23": {
          "model_module": "@jupyter-widgets/base",
          "model_name": "LayoutModel",
          "model_module_version": "1.2.0",
          "state": {
            "_model_module": "@jupyter-widgets/base",
            "_model_module_version": "1.2.0",
            "_model_name": "LayoutModel",
            "_view_count": null,
            "_view_module": "@jupyter-widgets/base",
            "_view_module_version": "1.2.0",
            "_view_name": "LayoutView",
            "align_content": null,
            "align_items": null,
            "align_self": null,
            "border": null,
            "bottom": null,
            "display": null,
            "flex": null,
            "flex_flow": null,
            "grid_area": null,
            "grid_auto_columns": null,
            "grid_auto_flow": null,
            "grid_auto_rows": null,
            "grid_column": null,
            "grid_gap": null,
            "grid_row": null,
            "grid_template_areas": null,
            "grid_template_columns": null,
            "grid_template_rows": null,
            "height": null,
            "justify_content": null,
            "justify_items": null,
            "left": null,
            "margin": null,
            "max_height": null,
            "max_width": null,
            "min_height": null,
            "min_width": null,
            "object_fit": null,
            "object_position": null,
            "order": null,
            "overflow": null,
            "overflow_x": null,
            "overflow_y": null,
            "padding": null,
            "right": null,
            "top": null,
            "visibility": null,
            "width": null
          }
        },
        "1e2802b0f6af44d3b89be668c07105ef": {
          "model_module": "@jupyter-widgets/controls",
          "model_name": "DescriptionStyleModel",
          "model_module_version": "1.5.0",
          "state": {
            "_model_module": "@jupyter-widgets/controls",
            "_model_module_version": "1.5.0",
            "_model_name": "DescriptionStyleModel",
            "_view_count": null,
            "_view_module": "@jupyter-widgets/base",
            "_view_module_version": "1.2.0",
            "_view_name": "StyleView",
            "description_width": ""
          }
        },
        "8dfce7b448c6436887ef1df5b68f1098": {
          "model_module": "@jupyter-widgets/controls",
          "model_name": "HBoxModel",
          "model_module_version": "1.5.0",
          "state": {
            "_dom_classes": [],
            "_model_module": "@jupyter-widgets/controls",
            "_model_module_version": "1.5.0",
            "_model_name": "HBoxModel",
            "_view_count": null,
            "_view_module": "@jupyter-widgets/controls",
            "_view_module_version": "1.5.0",
            "_view_name": "HBoxView",
            "box_style": "",
            "children": [
              "IPY_MODEL_24312912350e447a900338da8efaf92d",
              "IPY_MODEL_7806c764d48445fcb58401704d1c7ad3",
              "IPY_MODEL_9e6bee87f30a44cbb64046712cbd880f"
            ],
            "layout": "IPY_MODEL_f81e06699cfc4da68b0b50f3e5159178"
          }
        },
        "24312912350e447a900338da8efaf92d": {
          "model_module": "@jupyter-widgets/controls",
          "model_name": "HTMLModel",
          "model_module_version": "1.5.0",
          "state": {
            "_dom_classes": [],
            "_model_module": "@jupyter-widgets/controls",
            "_model_module_version": "1.5.0",
            "_model_name": "HTMLModel",
            "_view_count": null,
            "_view_module": "@jupyter-widgets/controls",
            "_view_module_version": "1.5.0",
            "_view_name": "HTMLView",
            "description": "",
            "description_tooltip": null,
            "layout": "IPY_MODEL_79915de4020647af927222f8eb62ad67",
            "placeholder": "​",
            "style": "IPY_MODEL_f33df014adc945478db16b575818ea4b",
            "value": "Downloading data files: 100%"
          }
        },
        "7806c764d48445fcb58401704d1c7ad3": {
          "model_module": "@jupyter-widgets/controls",
          "model_name": "FloatProgressModel",
          "model_module_version": "1.5.0",
          "state": {
            "_dom_classes": [],
            "_model_module": "@jupyter-widgets/controls",
            "_model_module_version": "1.5.0",
            "_model_name": "FloatProgressModel",
            "_view_count": null,
            "_view_module": "@jupyter-widgets/controls",
            "_view_module_version": "1.5.0",
            "_view_name": "ProgressView",
            "bar_style": "success",
            "description": "",
            "description_tooltip": null,
            "layout": "IPY_MODEL_722c79fa27a54a50b236ac46806379b0",
            "max": 1,
            "min": 0,
            "orientation": "horizontal",
            "style": "IPY_MODEL_1cf7b79781bb4378854e1bcaed622b5b",
            "value": 1
          }
        },
        "9e6bee87f30a44cbb64046712cbd880f": {
          "model_module": "@jupyter-widgets/controls",
          "model_name": "HTMLModel",
          "model_module_version": "1.5.0",
          "state": {
            "_dom_classes": [],
            "_model_module": "@jupyter-widgets/controls",
            "_model_module_version": "1.5.0",
            "_model_name": "HTMLModel",
            "_view_count": null,
            "_view_module": "@jupyter-widgets/controls",
            "_view_module_version": "1.5.0",
            "_view_name": "HTMLView",
            "description": "",
            "description_tooltip": null,
            "layout": "IPY_MODEL_02367e5b5e684e7a97597ee72c762d15",
            "placeholder": "​",
            "style": "IPY_MODEL_27a673fd862f4984bf4a7102799ab048",
            "value": " 1/1 [00:00&lt;00:00,  1.44it/s]"
          }
        },
        "f81e06699cfc4da68b0b50f3e5159178": {
          "model_module": "@jupyter-widgets/base",
          "model_name": "LayoutModel",
          "model_module_version": "1.2.0",
          "state": {
            "_model_module": "@jupyter-widgets/base",
            "_model_module_version": "1.2.0",
            "_model_name": "LayoutModel",
            "_view_count": null,
            "_view_module": "@jupyter-widgets/base",
            "_view_module_version": "1.2.0",
            "_view_name": "LayoutView",
            "align_content": null,
            "align_items": null,
            "align_self": null,
            "border": null,
            "bottom": null,
            "display": null,
            "flex": null,
            "flex_flow": null,
            "grid_area": null,
            "grid_auto_columns": null,
            "grid_auto_flow": null,
            "grid_auto_rows": null,
            "grid_column": null,
            "grid_gap": null,
            "grid_row": null,
            "grid_template_areas": null,
            "grid_template_columns": null,
            "grid_template_rows": null,
            "height": null,
            "justify_content": null,
            "justify_items": null,
            "left": null,
            "margin": null,
            "max_height": null,
            "max_width": null,
            "min_height": null,
            "min_width": null,
            "object_fit": null,
            "object_position": null,
            "order": null,
            "overflow": null,
            "overflow_x": null,
            "overflow_y": null,
            "padding": null,
            "right": null,
            "top": null,
            "visibility": null,
            "width": null
          }
        },
        "79915de4020647af927222f8eb62ad67": {
          "model_module": "@jupyter-widgets/base",
          "model_name": "LayoutModel",
          "model_module_version": "1.2.0",
          "state": {
            "_model_module": "@jupyter-widgets/base",
            "_model_module_version": "1.2.0",
            "_model_name": "LayoutModel",
            "_view_count": null,
            "_view_module": "@jupyter-widgets/base",
            "_view_module_version": "1.2.0",
            "_view_name": "LayoutView",
            "align_content": null,
            "align_items": null,
            "align_self": null,
            "border": null,
            "bottom": null,
            "display": null,
            "flex": null,
            "flex_flow": null,
            "grid_area": null,
            "grid_auto_columns": null,
            "grid_auto_flow": null,
            "grid_auto_rows": null,
            "grid_column": null,
            "grid_gap": null,
            "grid_row": null,
            "grid_template_areas": null,
            "grid_template_columns": null,
            "grid_template_rows": null,
            "height": null,
            "justify_content": null,
            "justify_items": null,
            "left": null,
            "margin": null,
            "max_height": null,
            "max_width": null,
            "min_height": null,
            "min_width": null,
            "object_fit": null,
            "object_position": null,
            "order": null,
            "overflow": null,
            "overflow_x": null,
            "overflow_y": null,
            "padding": null,
            "right": null,
            "top": null,
            "visibility": null,
            "width": null
          }
        },
        "f33df014adc945478db16b575818ea4b": {
          "model_module": "@jupyter-widgets/controls",
          "model_name": "DescriptionStyleModel",
          "model_module_version": "1.5.0",
          "state": {
            "_model_module": "@jupyter-widgets/controls",
            "_model_module_version": "1.5.0",
            "_model_name": "DescriptionStyleModel",
            "_view_count": null,
            "_view_module": "@jupyter-widgets/base",
            "_view_module_version": "1.2.0",
            "_view_name": "StyleView",
            "description_width": ""
          }
        },
        "722c79fa27a54a50b236ac46806379b0": {
          "model_module": "@jupyter-widgets/base",
          "model_name": "LayoutModel",
          "model_module_version": "1.2.0",
          "state": {
            "_model_module": "@jupyter-widgets/base",
            "_model_module_version": "1.2.0",
            "_model_name": "LayoutModel",
            "_view_count": null,
            "_view_module": "@jupyter-widgets/base",
            "_view_module_version": "1.2.0",
            "_view_name": "LayoutView",
            "align_content": null,
            "align_items": null,
            "align_self": null,
            "border": null,
            "bottom": null,
            "display": null,
            "flex": null,
            "flex_flow": null,
            "grid_area": null,
            "grid_auto_columns": null,
            "grid_auto_flow": null,
            "grid_auto_rows": null,
            "grid_column": null,
            "grid_gap": null,
            "grid_row": null,
            "grid_template_areas": null,
            "grid_template_columns": null,
            "grid_template_rows": null,
            "height": null,
            "justify_content": null,
            "justify_items": null,
            "left": null,
            "margin": null,
            "max_height": null,
            "max_width": null,
            "min_height": null,
            "min_width": null,
            "object_fit": null,
            "object_position": null,
            "order": null,
            "overflow": null,
            "overflow_x": null,
            "overflow_y": null,
            "padding": null,
            "right": null,
            "top": null,
            "visibility": null,
            "width": null
          }
        },
        "1cf7b79781bb4378854e1bcaed622b5b": {
          "model_module": "@jupyter-widgets/controls",
          "model_name": "ProgressStyleModel",
          "model_module_version": "1.5.0",
          "state": {
            "_model_module": "@jupyter-widgets/controls",
            "_model_module_version": "1.5.0",
            "_model_name": "ProgressStyleModel",
            "_view_count": null,
            "_view_module": "@jupyter-widgets/base",
            "_view_module_version": "1.2.0",
            "_view_name": "StyleView",
            "bar_color": null,
            "description_width": ""
          }
        },
        "02367e5b5e684e7a97597ee72c762d15": {
          "model_module": "@jupyter-widgets/base",
          "model_name": "LayoutModel",
          "model_module_version": "1.2.0",
          "state": {
            "_model_module": "@jupyter-widgets/base",
            "_model_module_version": "1.2.0",
            "_model_name": "LayoutModel",
            "_view_count": null,
            "_view_module": "@jupyter-widgets/base",
            "_view_module_version": "1.2.0",
            "_view_name": "LayoutView",
            "align_content": null,
            "align_items": null,
            "align_self": null,
            "border": null,
            "bottom": null,
            "display": null,
            "flex": null,
            "flex_flow": null,
            "grid_area": null,
            "grid_auto_columns": null,
            "grid_auto_flow": null,
            "grid_auto_rows": null,
            "grid_column": null,
            "grid_gap": null,
            "grid_row": null,
            "grid_template_areas": null,
            "grid_template_columns": null,
            "grid_template_rows": null,
            "height": null,
            "justify_content": null,
            "justify_items": null,
            "left": null,
            "margin": null,
            "max_height": null,
            "max_width": null,
            "min_height": null,
            "min_width": null,
            "object_fit": null,
            "object_position": null,
            "order": null,
            "overflow": null,
            "overflow_x": null,
            "overflow_y": null,
            "padding": null,
            "right": null,
            "top": null,
            "visibility": null,
            "width": null
          }
        },
        "27a673fd862f4984bf4a7102799ab048": {
          "model_module": "@jupyter-widgets/controls",
          "model_name": "DescriptionStyleModel",
          "model_module_version": "1.5.0",
          "state": {
            "_model_module": "@jupyter-widgets/controls",
            "_model_module_version": "1.5.0",
            "_model_name": "DescriptionStyleModel",
            "_view_count": null,
            "_view_module": "@jupyter-widgets/base",
            "_view_module_version": "1.2.0",
            "_view_name": "StyleView",
            "description_width": ""
          }
        },
        "1f01ade35f0e48d8a05518eea64a2acc": {
          "model_module": "@jupyter-widgets/controls",
          "model_name": "HBoxModel",
          "model_module_version": "1.5.0",
          "state": {
            "_dom_classes": [],
            "_model_module": "@jupyter-widgets/controls",
            "_model_module_version": "1.5.0",
            "_model_name": "HBoxModel",
            "_view_count": null,
            "_view_module": "@jupyter-widgets/controls",
            "_view_module_version": "1.5.0",
            "_view_name": "HBoxView",
            "box_style": "",
            "children": [
              "IPY_MODEL_dd500226bb3543c7982b301f710c55fe",
              "IPY_MODEL_b498daaed0474a2cbeb144eb829a65f7",
              "IPY_MODEL_a1c35eaecf574c239f758953ffc7d6db"
            ],
            "layout": "IPY_MODEL_10ed2a2a10bd4169b5715782be23997b"
          }
        },
        "dd500226bb3543c7982b301f710c55fe": {
          "model_module": "@jupyter-widgets/controls",
          "model_name": "HTMLModel",
          "model_module_version": "1.5.0",
          "state": {
            "_dom_classes": [],
            "_model_module": "@jupyter-widgets/controls",
            "_model_module_version": "1.5.0",
            "_model_name": "HTMLModel",
            "_view_count": null,
            "_view_module": "@jupyter-widgets/controls",
            "_view_module_version": "1.5.0",
            "_view_name": "HTMLView",
            "description": "",
            "description_tooltip": null,
            "layout": "IPY_MODEL_ba72d425aad743d094ec9cc46efc99bd",
            "placeholder": "​",
            "style": "IPY_MODEL_874976d16be2415bbeffc683b69006fb",
            "value": "Downloading data: 100%"
          }
        },
        "b498daaed0474a2cbeb144eb829a65f7": {
          "model_module": "@jupyter-widgets/controls",
          "model_name": "FloatProgressModel",
          "model_module_version": "1.5.0",
          "state": {
            "_dom_classes": [],
            "_model_module": "@jupyter-widgets/controls",
            "_model_module_version": "1.5.0",
            "_model_name": "FloatProgressModel",
            "_view_count": null,
            "_view_module": "@jupyter-widgets/controls",
            "_view_module_version": "1.5.0",
            "_view_name": "ProgressView",
            "bar_style": "success",
            "description": "",
            "description_tooltip": null,
            "layout": "IPY_MODEL_14831f6496c04d38b9f1732740288eb3",
            "max": 33622,
            "min": 0,
            "orientation": "horizontal",
            "style": "IPY_MODEL_baaad75c92544a499b9c148e9cd62931",
            "value": 33622
          }
        },
        "a1c35eaecf574c239f758953ffc7d6db": {
          "model_module": "@jupyter-widgets/controls",
          "model_name": "HTMLModel",
          "model_module_version": "1.5.0",
          "state": {
            "_dom_classes": [],
            "_model_module": "@jupyter-widgets/controls",
            "_model_module_version": "1.5.0",
            "_model_name": "HTMLModel",
            "_view_count": null,
            "_view_module": "@jupyter-widgets/controls",
            "_view_module_version": "1.5.0",
            "_view_name": "HTMLView",
            "description": "",
            "description_tooltip": null,
            "layout": "IPY_MODEL_0b38750f938445ba820984d2ec08b7fc",
            "placeholder": "​",
            "style": "IPY_MODEL_3a022e24e38641b3a34e3d4deb2795d9",
            "value": " 33.6k/33.6k [00:00&lt;00:00, 1.16MB/s]"
          }
        },
        "10ed2a2a10bd4169b5715782be23997b": {
          "model_module": "@jupyter-widgets/base",
          "model_name": "LayoutModel",
          "model_module_version": "1.2.0",
          "state": {
            "_model_module": "@jupyter-widgets/base",
            "_model_module_version": "1.2.0",
            "_model_name": "LayoutModel",
            "_view_count": null,
            "_view_module": "@jupyter-widgets/base",
            "_view_module_version": "1.2.0",
            "_view_name": "LayoutView",
            "align_content": null,
            "align_items": null,
            "align_self": null,
            "border": null,
            "bottom": null,
            "display": null,
            "flex": null,
            "flex_flow": null,
            "grid_area": null,
            "grid_auto_columns": null,
            "grid_auto_flow": null,
            "grid_auto_rows": null,
            "grid_column": null,
            "grid_gap": null,
            "grid_row": null,
            "grid_template_areas": null,
            "grid_template_columns": null,
            "grid_template_rows": null,
            "height": null,
            "justify_content": null,
            "justify_items": null,
            "left": null,
            "margin": null,
            "max_height": null,
            "max_width": null,
            "min_height": null,
            "min_width": null,
            "object_fit": null,
            "object_position": null,
            "order": null,
            "overflow": null,
            "overflow_x": null,
            "overflow_y": null,
            "padding": null,
            "right": null,
            "top": null,
            "visibility": null,
            "width": null
          }
        },
        "ba72d425aad743d094ec9cc46efc99bd": {
          "model_module": "@jupyter-widgets/base",
          "model_name": "LayoutModel",
          "model_module_version": "1.2.0",
          "state": {
            "_model_module": "@jupyter-widgets/base",
            "_model_module_version": "1.2.0",
            "_model_name": "LayoutModel",
            "_view_count": null,
            "_view_module": "@jupyter-widgets/base",
            "_view_module_version": "1.2.0",
            "_view_name": "LayoutView",
            "align_content": null,
            "align_items": null,
            "align_self": null,
            "border": null,
            "bottom": null,
            "display": null,
            "flex": null,
            "flex_flow": null,
            "grid_area": null,
            "grid_auto_columns": null,
            "grid_auto_flow": null,
            "grid_auto_rows": null,
            "grid_column": null,
            "grid_gap": null,
            "grid_row": null,
            "grid_template_areas": null,
            "grid_template_columns": null,
            "grid_template_rows": null,
            "height": null,
            "justify_content": null,
            "justify_items": null,
            "left": null,
            "margin": null,
            "max_height": null,
            "max_width": null,
            "min_height": null,
            "min_width": null,
            "object_fit": null,
            "object_position": null,
            "order": null,
            "overflow": null,
            "overflow_x": null,
            "overflow_y": null,
            "padding": null,
            "right": null,
            "top": null,
            "visibility": null,
            "width": null
          }
        },
        "874976d16be2415bbeffc683b69006fb": {
          "model_module": "@jupyter-widgets/controls",
          "model_name": "DescriptionStyleModel",
          "model_module_version": "1.5.0",
          "state": {
            "_model_module": "@jupyter-widgets/controls",
            "_model_module_version": "1.5.0",
            "_model_name": "DescriptionStyleModel",
            "_view_count": null,
            "_view_module": "@jupyter-widgets/base",
            "_view_module_version": "1.2.0",
            "_view_name": "StyleView",
            "description_width": ""
          }
        },
        "14831f6496c04d38b9f1732740288eb3": {
          "model_module": "@jupyter-widgets/base",
          "model_name": "LayoutModel",
          "model_module_version": "1.2.0",
          "state": {
            "_model_module": "@jupyter-widgets/base",
            "_model_module_version": "1.2.0",
            "_model_name": "LayoutModel",
            "_view_count": null,
            "_view_module": "@jupyter-widgets/base",
            "_view_module_version": "1.2.0",
            "_view_name": "LayoutView",
            "align_content": null,
            "align_items": null,
            "align_self": null,
            "border": null,
            "bottom": null,
            "display": null,
            "flex": null,
            "flex_flow": null,
            "grid_area": null,
            "grid_auto_columns": null,
            "grid_auto_flow": null,
            "grid_auto_rows": null,
            "grid_column": null,
            "grid_gap": null,
            "grid_row": null,
            "grid_template_areas": null,
            "grid_template_columns": null,
            "grid_template_rows": null,
            "height": null,
            "justify_content": null,
            "justify_items": null,
            "left": null,
            "margin": null,
            "max_height": null,
            "max_width": null,
            "min_height": null,
            "min_width": null,
            "object_fit": null,
            "object_position": null,
            "order": null,
            "overflow": null,
            "overflow_x": null,
            "overflow_y": null,
            "padding": null,
            "right": null,
            "top": null,
            "visibility": null,
            "width": null
          }
        },
        "baaad75c92544a499b9c148e9cd62931": {
          "model_module": "@jupyter-widgets/controls",
          "model_name": "ProgressStyleModel",
          "model_module_version": "1.5.0",
          "state": {
            "_model_module": "@jupyter-widgets/controls",
            "_model_module_version": "1.5.0",
            "_model_name": "ProgressStyleModel",
            "_view_count": null,
            "_view_module": "@jupyter-widgets/base",
            "_view_module_version": "1.2.0",
            "_view_name": "StyleView",
            "bar_color": null,
            "description_width": ""
          }
        },
        "0b38750f938445ba820984d2ec08b7fc": {
          "model_module": "@jupyter-widgets/base",
          "model_name": "LayoutModel",
          "model_module_version": "1.2.0",
          "state": {
            "_model_module": "@jupyter-widgets/base",
            "_model_module_version": "1.2.0",
            "_model_name": "LayoutModel",
            "_view_count": null,
            "_view_module": "@jupyter-widgets/base",
            "_view_module_version": "1.2.0",
            "_view_name": "LayoutView",
            "align_content": null,
            "align_items": null,
            "align_self": null,
            "border": null,
            "bottom": null,
            "display": null,
            "flex": null,
            "flex_flow": null,
            "grid_area": null,
            "grid_auto_columns": null,
            "grid_auto_flow": null,
            "grid_auto_rows": null,
            "grid_column": null,
            "grid_gap": null,
            "grid_row": null,
            "grid_template_areas": null,
            "grid_template_columns": null,
            "grid_template_rows": null,
            "height": null,
            "justify_content": null,
            "justify_items": null,
            "left": null,
            "margin": null,
            "max_height": null,
            "max_width": null,
            "min_height": null,
            "min_width": null,
            "object_fit": null,
            "object_position": null,
            "order": null,
            "overflow": null,
            "overflow_x": null,
            "overflow_y": null,
            "padding": null,
            "right": null,
            "top": null,
            "visibility": null,
            "width": null
          }
        },
        "3a022e24e38641b3a34e3d4deb2795d9": {
          "model_module": "@jupyter-widgets/controls",
          "model_name": "DescriptionStyleModel",
          "model_module_version": "1.5.0",
          "state": {
            "_model_module": "@jupyter-widgets/controls",
            "_model_module_version": "1.5.0",
            "_model_name": "DescriptionStyleModel",
            "_view_count": null,
            "_view_module": "@jupyter-widgets/base",
            "_view_module_version": "1.2.0",
            "_view_name": "StyleView",
            "description_width": ""
          }
        },
        "9b3bceab7e444e258f759900f039b7bb": {
          "model_module": "@jupyter-widgets/controls",
          "model_name": "HBoxModel",
          "model_module_version": "1.5.0",
          "state": {
            "_dom_classes": [],
            "_model_module": "@jupyter-widgets/controls",
            "_model_module_version": "1.5.0",
            "_model_name": "HBoxModel",
            "_view_count": null,
            "_view_module": "@jupyter-widgets/controls",
            "_view_module_version": "1.5.0",
            "_view_name": "HBoxView",
            "box_style": "",
            "children": [
              "IPY_MODEL_4e4daeae38e04b43b1ac387b2b0a9f67",
              "IPY_MODEL_7ace86e249b547afa17fba74ab1c4098",
              "IPY_MODEL_bd819c87f2df43c892e764f94b7bcb67"
            ],
            "layout": "IPY_MODEL_7512fc57ce5942b3b5f2b2ff7acb7df1"
          }
        },
        "4e4daeae38e04b43b1ac387b2b0a9f67": {
          "model_module": "@jupyter-widgets/controls",
          "model_name": "HTMLModel",
          "model_module_version": "1.5.0",
          "state": {
            "_dom_classes": [],
            "_model_module": "@jupyter-widgets/controls",
            "_model_module_version": "1.5.0",
            "_model_name": "HTMLModel",
            "_view_count": null,
            "_view_module": "@jupyter-widgets/controls",
            "_view_module_version": "1.5.0",
            "_view_name": "HTMLView",
            "description": "",
            "description_tooltip": null,
            "layout": "IPY_MODEL_816671682f624b53a879b6ce31e80e95",
            "placeholder": "​",
            "style": "IPY_MODEL_d03074f52b1a44efabeceeb27653d6e7",
            "value": "Extracting data files: 100%"
          }
        },
        "7ace86e249b547afa17fba74ab1c4098": {
          "model_module": "@jupyter-widgets/controls",
          "model_name": "FloatProgressModel",
          "model_module_version": "1.5.0",
          "state": {
            "_dom_classes": [],
            "_model_module": "@jupyter-widgets/controls",
            "_model_module_version": "1.5.0",
            "_model_name": "FloatProgressModel",
            "_view_count": null,
            "_view_module": "@jupyter-widgets/controls",
            "_view_module_version": "1.5.0",
            "_view_name": "ProgressView",
            "bar_style": "success",
            "description": "",
            "description_tooltip": null,
            "layout": "IPY_MODEL_5c3a28fa32194b348076699a807b03ba",
            "max": 1,
            "min": 0,
            "orientation": "horizontal",
            "style": "IPY_MODEL_1173f2b5005d4758a6444a2e01257506",
            "value": 1
          }
        },
        "bd819c87f2df43c892e764f94b7bcb67": {
          "model_module": "@jupyter-widgets/controls",
          "model_name": "HTMLModel",
          "model_module_version": "1.5.0",
          "state": {
            "_dom_classes": [],
            "_model_module": "@jupyter-widgets/controls",
            "_model_module_version": "1.5.0",
            "_model_name": "HTMLModel",
            "_view_count": null,
            "_view_module": "@jupyter-widgets/controls",
            "_view_module_version": "1.5.0",
            "_view_name": "HTMLView",
            "description": "",
            "description_tooltip": null,
            "layout": "IPY_MODEL_956911693ae94f7c9cabaeb3b94d0804",
            "placeholder": "​",
            "style": "IPY_MODEL_356a9143e11a4a94b7f3f0b6d0a3a355",
            "value": " 1/1 [00:00&lt;00:00, 57.63it/s]"
          }
        },
        "7512fc57ce5942b3b5f2b2ff7acb7df1": {
          "model_module": "@jupyter-widgets/base",
          "model_name": "LayoutModel",
          "model_module_version": "1.2.0",
          "state": {
            "_model_module": "@jupyter-widgets/base",
            "_model_module_version": "1.2.0",
            "_model_name": "LayoutModel",
            "_view_count": null,
            "_view_module": "@jupyter-widgets/base",
            "_view_module_version": "1.2.0",
            "_view_name": "LayoutView",
            "align_content": null,
            "align_items": null,
            "align_self": null,
            "border": null,
            "bottom": null,
            "display": null,
            "flex": null,
            "flex_flow": null,
            "grid_area": null,
            "grid_auto_columns": null,
            "grid_auto_flow": null,
            "grid_auto_rows": null,
            "grid_column": null,
            "grid_gap": null,
            "grid_row": null,
            "grid_template_areas": null,
            "grid_template_columns": null,
            "grid_template_rows": null,
            "height": null,
            "justify_content": null,
            "justify_items": null,
            "left": null,
            "margin": null,
            "max_height": null,
            "max_width": null,
            "min_height": null,
            "min_width": null,
            "object_fit": null,
            "object_position": null,
            "order": null,
            "overflow": null,
            "overflow_x": null,
            "overflow_y": null,
            "padding": null,
            "right": null,
            "top": null,
            "visibility": null,
            "width": null
          }
        },
        "816671682f624b53a879b6ce31e80e95": {
          "model_module": "@jupyter-widgets/base",
          "model_name": "LayoutModel",
          "model_module_version": "1.2.0",
          "state": {
            "_model_module": "@jupyter-widgets/base",
            "_model_module_version": "1.2.0",
            "_model_name": "LayoutModel",
            "_view_count": null,
            "_view_module": "@jupyter-widgets/base",
            "_view_module_version": "1.2.0",
            "_view_name": "LayoutView",
            "align_content": null,
            "align_items": null,
            "align_self": null,
            "border": null,
            "bottom": null,
            "display": null,
            "flex": null,
            "flex_flow": null,
            "grid_area": null,
            "grid_auto_columns": null,
            "grid_auto_flow": null,
            "grid_auto_rows": null,
            "grid_column": null,
            "grid_gap": null,
            "grid_row": null,
            "grid_template_areas": null,
            "grid_template_columns": null,
            "grid_template_rows": null,
            "height": null,
            "justify_content": null,
            "justify_items": null,
            "left": null,
            "margin": null,
            "max_height": null,
            "max_width": null,
            "min_height": null,
            "min_width": null,
            "object_fit": null,
            "object_position": null,
            "order": null,
            "overflow": null,
            "overflow_x": null,
            "overflow_y": null,
            "padding": null,
            "right": null,
            "top": null,
            "visibility": null,
            "width": null
          }
        },
        "d03074f52b1a44efabeceeb27653d6e7": {
          "model_module": "@jupyter-widgets/controls",
          "model_name": "DescriptionStyleModel",
          "model_module_version": "1.5.0",
          "state": {
            "_model_module": "@jupyter-widgets/controls",
            "_model_module_version": "1.5.0",
            "_model_name": "DescriptionStyleModel",
            "_view_count": null,
            "_view_module": "@jupyter-widgets/base",
            "_view_module_version": "1.2.0",
            "_view_name": "StyleView",
            "description_width": ""
          }
        },
        "5c3a28fa32194b348076699a807b03ba": {
          "model_module": "@jupyter-widgets/base",
          "model_name": "LayoutModel",
          "model_module_version": "1.2.0",
          "state": {
            "_model_module": "@jupyter-widgets/base",
            "_model_module_version": "1.2.0",
            "_model_name": "LayoutModel",
            "_view_count": null,
            "_view_module": "@jupyter-widgets/base",
            "_view_module_version": "1.2.0",
            "_view_name": "LayoutView",
            "align_content": null,
            "align_items": null,
            "align_self": null,
            "border": null,
            "bottom": null,
            "display": null,
            "flex": null,
            "flex_flow": null,
            "grid_area": null,
            "grid_auto_columns": null,
            "grid_auto_flow": null,
            "grid_auto_rows": null,
            "grid_column": null,
            "grid_gap": null,
            "grid_row": null,
            "grid_template_areas": null,
            "grid_template_columns": null,
            "grid_template_rows": null,
            "height": null,
            "justify_content": null,
            "justify_items": null,
            "left": null,
            "margin": null,
            "max_height": null,
            "max_width": null,
            "min_height": null,
            "min_width": null,
            "object_fit": null,
            "object_position": null,
            "order": null,
            "overflow": null,
            "overflow_x": null,
            "overflow_y": null,
            "padding": null,
            "right": null,
            "top": null,
            "visibility": null,
            "width": null
          }
        },
        "1173f2b5005d4758a6444a2e01257506": {
          "model_module": "@jupyter-widgets/controls",
          "model_name": "ProgressStyleModel",
          "model_module_version": "1.5.0",
          "state": {
            "_model_module": "@jupyter-widgets/controls",
            "_model_module_version": "1.5.0",
            "_model_name": "ProgressStyleModel",
            "_view_count": null,
            "_view_module": "@jupyter-widgets/base",
            "_view_module_version": "1.2.0",
            "_view_name": "StyleView",
            "bar_color": null,
            "description_width": ""
          }
        },
        "956911693ae94f7c9cabaeb3b94d0804": {
          "model_module": "@jupyter-widgets/base",
          "model_name": "LayoutModel",
          "model_module_version": "1.2.0",
          "state": {
            "_model_module": "@jupyter-widgets/base",
            "_model_module_version": "1.2.0",
            "_model_name": "LayoutModel",
            "_view_count": null,
            "_view_module": "@jupyter-widgets/base",
            "_view_module_version": "1.2.0",
            "_view_name": "LayoutView",
            "align_content": null,
            "align_items": null,
            "align_self": null,
            "border": null,
            "bottom": null,
            "display": null,
            "flex": null,
            "flex_flow": null,
            "grid_area": null,
            "grid_auto_columns": null,
            "grid_auto_flow": null,
            "grid_auto_rows": null,
            "grid_column": null,
            "grid_gap": null,
            "grid_row": null,
            "grid_template_areas": null,
            "grid_template_columns": null,
            "grid_template_rows": null,
            "height": null,
            "justify_content": null,
            "justify_items": null,
            "left": null,
            "margin": null,
            "max_height": null,
            "max_width": null,
            "min_height": null,
            "min_width": null,
            "object_fit": null,
            "object_position": null,
            "order": null,
            "overflow": null,
            "overflow_x": null,
            "overflow_y": null,
            "padding": null,
            "right": null,
            "top": null,
            "visibility": null,
            "width": null
          }
        },
        "356a9143e11a4a94b7f3f0b6d0a3a355": {
          "model_module": "@jupyter-widgets/controls",
          "model_name": "DescriptionStyleModel",
          "model_module_version": "1.5.0",
          "state": {
            "_model_module": "@jupyter-widgets/controls",
            "_model_module_version": "1.5.0",
            "_model_name": "DescriptionStyleModel",
            "_view_count": null,
            "_view_module": "@jupyter-widgets/base",
            "_view_module_version": "1.2.0",
            "_view_name": "StyleView",
            "description_width": ""
          }
        },
        "245e1b960169484e92360f2da0b58bda": {
          "model_module": "@jupyter-widgets/controls",
          "model_name": "HBoxModel",
          "model_module_version": "1.5.0",
          "state": {
            "_dom_classes": [],
            "_model_module": "@jupyter-widgets/controls",
            "_model_module_version": "1.5.0",
            "_model_name": "HBoxModel",
            "_view_count": null,
            "_view_module": "@jupyter-widgets/controls",
            "_view_module_version": "1.5.0",
            "_view_name": "HBoxView",
            "box_style": "",
            "children": [
              "IPY_MODEL_8b6b36b7745a4ce7b91ba9c2d4b125a6",
              "IPY_MODEL_17e4cd87de284afba2c07c7c9d54cf59",
              "IPY_MODEL_4be4e00270964cc0a1c3ba19358a0aa2"
            ],
            "layout": "IPY_MODEL_a43279ca31fb426999315f188f0b6d1b"
          }
        },
        "8b6b36b7745a4ce7b91ba9c2d4b125a6": {
          "model_module": "@jupyter-widgets/controls",
          "model_name": "HTMLModel",
          "model_module_version": "1.5.0",
          "state": {
            "_dom_classes": [],
            "_model_module": "@jupyter-widgets/controls",
            "_model_module_version": "1.5.0",
            "_model_name": "HTMLModel",
            "_view_count": null,
            "_view_module": "@jupyter-widgets/controls",
            "_view_module_version": "1.5.0",
            "_view_name": "HTMLView",
            "description": "",
            "description_tooltip": null,
            "layout": "IPY_MODEL_d0a45fbf7d13403f96ed5397ff150a11",
            "placeholder": "​",
            "style": "IPY_MODEL_1e74e81ca73242e2948771ae7f454086",
            "value": "Generating train split:   0%"
          }
        },
        "17e4cd87de284afba2c07c7c9d54cf59": {
          "model_module": "@jupyter-widgets/controls",
          "model_name": "FloatProgressModel",
          "model_module_version": "1.5.0",
          "state": {
            "_dom_classes": [],
            "_model_module": "@jupyter-widgets/controls",
            "_model_module_version": "1.5.0",
            "_model_name": "FloatProgressModel",
            "_view_count": null,
            "_view_module": "@jupyter-widgets/controls",
            "_view_module_version": "1.5.0",
            "_view_name": "ProgressView",
            "bar_style": "",
            "description": "",
            "description_tooltip": null,
            "layout": "IPY_MODEL_3f95f6fa5d244f30b438123a11650a2f",
            "max": 11,
            "min": 0,
            "orientation": "horizontal",
            "style": "IPY_MODEL_95b7d00f40c64b99a1deb5e487558f93",
            "value": 11
          }
        },
        "4be4e00270964cc0a1c3ba19358a0aa2": {
          "model_module": "@jupyter-widgets/controls",
          "model_name": "HTMLModel",
          "model_module_version": "1.5.0",
          "state": {
            "_dom_classes": [],
            "_model_module": "@jupyter-widgets/controls",
            "_model_module_version": "1.5.0",
            "_model_name": "HTMLModel",
            "_view_count": null,
            "_view_module": "@jupyter-widgets/controls",
            "_view_module_version": "1.5.0",
            "_view_name": "HTMLView",
            "description": "",
            "description_tooltip": null,
            "layout": "IPY_MODEL_c04f0d0c9bdb4d8eb511b09fa3bb5afb",
            "placeholder": "​",
            "style": "IPY_MODEL_91ab2371af2b4e1497c4a7d2ff95bc24",
            "value": " 0/11 [00:00&lt;?, ? examples/s]"
          }
        },
        "a43279ca31fb426999315f188f0b6d1b": {
          "model_module": "@jupyter-widgets/base",
          "model_name": "LayoutModel",
          "model_module_version": "1.2.0",
          "state": {
            "_model_module": "@jupyter-widgets/base",
            "_model_module_version": "1.2.0",
            "_model_name": "LayoutModel",
            "_view_count": null,
            "_view_module": "@jupyter-widgets/base",
            "_view_module_version": "1.2.0",
            "_view_name": "LayoutView",
            "align_content": null,
            "align_items": null,
            "align_self": null,
            "border": null,
            "bottom": null,
            "display": null,
            "flex": null,
            "flex_flow": null,
            "grid_area": null,
            "grid_auto_columns": null,
            "grid_auto_flow": null,
            "grid_auto_rows": null,
            "grid_column": null,
            "grid_gap": null,
            "grid_row": null,
            "grid_template_areas": null,
            "grid_template_columns": null,
            "grid_template_rows": null,
            "height": null,
            "justify_content": null,
            "justify_items": null,
            "left": null,
            "margin": null,
            "max_height": null,
            "max_width": null,
            "min_height": null,
            "min_width": null,
            "object_fit": null,
            "object_position": null,
            "order": null,
            "overflow": null,
            "overflow_x": null,
            "overflow_y": null,
            "padding": null,
            "right": null,
            "top": null,
            "visibility": "hidden",
            "width": null
          }
        },
        "d0a45fbf7d13403f96ed5397ff150a11": {
          "model_module": "@jupyter-widgets/base",
          "model_name": "LayoutModel",
          "model_module_version": "1.2.0",
          "state": {
            "_model_module": "@jupyter-widgets/base",
            "_model_module_version": "1.2.0",
            "_model_name": "LayoutModel",
            "_view_count": null,
            "_view_module": "@jupyter-widgets/base",
            "_view_module_version": "1.2.0",
            "_view_name": "LayoutView",
            "align_content": null,
            "align_items": null,
            "align_self": null,
            "border": null,
            "bottom": null,
            "display": null,
            "flex": null,
            "flex_flow": null,
            "grid_area": null,
            "grid_auto_columns": null,
            "grid_auto_flow": null,
            "grid_auto_rows": null,
            "grid_column": null,
            "grid_gap": null,
            "grid_row": null,
            "grid_template_areas": null,
            "grid_template_columns": null,
            "grid_template_rows": null,
            "height": null,
            "justify_content": null,
            "justify_items": null,
            "left": null,
            "margin": null,
            "max_height": null,
            "max_width": null,
            "min_height": null,
            "min_width": null,
            "object_fit": null,
            "object_position": null,
            "order": null,
            "overflow": null,
            "overflow_x": null,
            "overflow_y": null,
            "padding": null,
            "right": null,
            "top": null,
            "visibility": null,
            "width": null
          }
        },
        "1e74e81ca73242e2948771ae7f454086": {
          "model_module": "@jupyter-widgets/controls",
          "model_name": "DescriptionStyleModel",
          "model_module_version": "1.5.0",
          "state": {
            "_model_module": "@jupyter-widgets/controls",
            "_model_module_version": "1.5.0",
            "_model_name": "DescriptionStyleModel",
            "_view_count": null,
            "_view_module": "@jupyter-widgets/base",
            "_view_module_version": "1.2.0",
            "_view_name": "StyleView",
            "description_width": ""
          }
        },
        "3f95f6fa5d244f30b438123a11650a2f": {
          "model_module": "@jupyter-widgets/base",
          "model_name": "LayoutModel",
          "model_module_version": "1.2.0",
          "state": {
            "_model_module": "@jupyter-widgets/base",
            "_model_module_version": "1.2.0",
            "_model_name": "LayoutModel",
            "_view_count": null,
            "_view_module": "@jupyter-widgets/base",
            "_view_module_version": "1.2.0",
            "_view_name": "LayoutView",
            "align_content": null,
            "align_items": null,
            "align_self": null,
            "border": null,
            "bottom": null,
            "display": null,
            "flex": null,
            "flex_flow": null,
            "grid_area": null,
            "grid_auto_columns": null,
            "grid_auto_flow": null,
            "grid_auto_rows": null,
            "grid_column": null,
            "grid_gap": null,
            "grid_row": null,
            "grid_template_areas": null,
            "grid_template_columns": null,
            "grid_template_rows": null,
            "height": null,
            "justify_content": null,
            "justify_items": null,
            "left": null,
            "margin": null,
            "max_height": null,
            "max_width": null,
            "min_height": null,
            "min_width": null,
            "object_fit": null,
            "object_position": null,
            "order": null,
            "overflow": null,
            "overflow_x": null,
            "overflow_y": null,
            "padding": null,
            "right": null,
            "top": null,
            "visibility": null,
            "width": null
          }
        },
        "95b7d00f40c64b99a1deb5e487558f93": {
          "model_module": "@jupyter-widgets/controls",
          "model_name": "ProgressStyleModel",
          "model_module_version": "1.5.0",
          "state": {
            "_model_module": "@jupyter-widgets/controls",
            "_model_module_version": "1.5.0",
            "_model_name": "ProgressStyleModel",
            "_view_count": null,
            "_view_module": "@jupyter-widgets/base",
            "_view_module_version": "1.2.0",
            "_view_name": "StyleView",
            "bar_color": null,
            "description_width": ""
          }
        },
        "c04f0d0c9bdb4d8eb511b09fa3bb5afb": {
          "model_module": "@jupyter-widgets/base",
          "model_name": "LayoutModel",
          "model_module_version": "1.2.0",
          "state": {
            "_model_module": "@jupyter-widgets/base",
            "_model_module_version": "1.2.0",
            "_model_name": "LayoutModel",
            "_view_count": null,
            "_view_module": "@jupyter-widgets/base",
            "_view_module_version": "1.2.0",
            "_view_name": "LayoutView",
            "align_content": null,
            "align_items": null,
            "align_self": null,
            "border": null,
            "bottom": null,
            "display": null,
            "flex": null,
            "flex_flow": null,
            "grid_area": null,
            "grid_auto_columns": null,
            "grid_auto_flow": null,
            "grid_auto_rows": null,
            "grid_column": null,
            "grid_gap": null,
            "grid_row": null,
            "grid_template_areas": null,
            "grid_template_columns": null,
            "grid_template_rows": null,
            "height": null,
            "justify_content": null,
            "justify_items": null,
            "left": null,
            "margin": null,
            "max_height": null,
            "max_width": null,
            "min_height": null,
            "min_width": null,
            "object_fit": null,
            "object_position": null,
            "order": null,
            "overflow": null,
            "overflow_x": null,
            "overflow_y": null,
            "padding": null,
            "right": null,
            "top": null,
            "visibility": null,
            "width": null
          }
        },
        "91ab2371af2b4e1497c4a7d2ff95bc24": {
          "model_module": "@jupyter-widgets/controls",
          "model_name": "DescriptionStyleModel",
          "model_module_version": "1.5.0",
          "state": {
            "_model_module": "@jupyter-widgets/controls",
            "_model_module_version": "1.5.0",
            "_model_name": "DescriptionStyleModel",
            "_view_count": null,
            "_view_module": "@jupyter-widgets/base",
            "_view_module_version": "1.2.0",
            "_view_name": "StyleView",
            "description_width": ""
          }
        },
        "3958adc5ea484492a06868e066abfbbe": {
          "model_module": "@jupyter-widgets/controls",
          "model_name": "HBoxModel",
          "model_module_version": "1.5.0",
          "state": {
            "_dom_classes": [],
            "_model_module": "@jupyter-widgets/controls",
            "_model_module_version": "1.5.0",
            "_model_name": "HBoxModel",
            "_view_count": null,
            "_view_module": "@jupyter-widgets/controls",
            "_view_module_version": "1.5.0",
            "_view_name": "HBoxView",
            "box_style": "",
            "children": [
              "IPY_MODEL_6eba915ebdbf4f088e8bd69f9cf56edd",
              "IPY_MODEL_42c08717dc5f40ce8639d66dc3f5e9a5",
              "IPY_MODEL_ceaa16950c95491782c629130de01db0"
            ],
            "layout": "IPY_MODEL_a55da1c894d0483aaafa3696233bc6ef"
          }
        },
        "6eba915ebdbf4f088e8bd69f9cf56edd": {
          "model_module": "@jupyter-widgets/controls",
          "model_name": "HTMLModel",
          "model_module_version": "1.5.0",
          "state": {
            "_dom_classes": [],
            "_model_module": "@jupyter-widgets/controls",
            "_model_module_version": "1.5.0",
            "_model_name": "HTMLModel",
            "_view_count": null,
            "_view_module": "@jupyter-widgets/controls",
            "_view_module_version": "1.5.0",
            "_view_name": "HTMLView",
            "description": "",
            "description_tooltip": null,
            "layout": "IPY_MODEL_d45f21c6fe8a4f84a950e589d4a1594e",
            "placeholder": "​",
            "style": "IPY_MODEL_056cae48d08748eb818d13cfb3f27903",
            "value": "Saving the dataset (1/1 shards): 100%"
          }
        },
        "42c08717dc5f40ce8639d66dc3f5e9a5": {
          "model_module": "@jupyter-widgets/controls",
          "model_name": "FloatProgressModel",
          "model_module_version": "1.5.0",
          "state": {
            "_dom_classes": [],
            "_model_module": "@jupyter-widgets/controls",
            "_model_module_version": "1.5.0",
            "_model_name": "FloatProgressModel",
            "_view_count": null,
            "_view_module": "@jupyter-widgets/controls",
            "_view_module_version": "1.5.0",
            "_view_name": "ProgressView",
            "bar_style": "",
            "description": "",
            "description_tooltip": null,
            "layout": "IPY_MODEL_ebb2e9dc3e274781859526b00663508e",
            "max": 713,
            "min": 0,
            "orientation": "horizontal",
            "style": "IPY_MODEL_d6613c23662e434fbdb92a779e7ec479",
            "value": 713
          }
        },
        "ceaa16950c95491782c629130de01db0": {
          "model_module": "@jupyter-widgets/controls",
          "model_name": "HTMLModel",
          "model_module_version": "1.5.0",
          "state": {
            "_dom_classes": [],
            "_model_module": "@jupyter-widgets/controls",
            "_model_module_version": "1.5.0",
            "_model_name": "HTMLModel",
            "_view_count": null,
            "_view_module": "@jupyter-widgets/controls",
            "_view_module_version": "1.5.0",
            "_view_name": "HTMLView",
            "description": "",
            "description_tooltip": null,
            "layout": "IPY_MODEL_fb811dfdda3b4dbfa1e85319c4c6a476",
            "placeholder": "​",
            "style": "IPY_MODEL_c40dadd8854a4c559ad3f418ec2badc2",
            "value": " 713/713 [00:00&lt;00:00, 30088.63 examples/s]"
          }
        },
        "a55da1c894d0483aaafa3696233bc6ef": {
          "model_module": "@jupyter-widgets/base",
          "model_name": "LayoutModel",
          "model_module_version": "1.2.0",
          "state": {
            "_model_module": "@jupyter-widgets/base",
            "_model_module_version": "1.2.0",
            "_model_name": "LayoutModel",
            "_view_count": null,
            "_view_module": "@jupyter-widgets/base",
            "_view_module_version": "1.2.0",
            "_view_name": "LayoutView",
            "align_content": null,
            "align_items": null,
            "align_self": null,
            "border": null,
            "bottom": null,
            "display": null,
            "flex": null,
            "flex_flow": null,
            "grid_area": null,
            "grid_auto_columns": null,
            "grid_auto_flow": null,
            "grid_auto_rows": null,
            "grid_column": null,
            "grid_gap": null,
            "grid_row": null,
            "grid_template_areas": null,
            "grid_template_columns": null,
            "grid_template_rows": null,
            "height": null,
            "justify_content": null,
            "justify_items": null,
            "left": null,
            "margin": null,
            "max_height": null,
            "max_width": null,
            "min_height": null,
            "min_width": null,
            "object_fit": null,
            "object_position": null,
            "order": null,
            "overflow": null,
            "overflow_x": null,
            "overflow_y": null,
            "padding": null,
            "right": null,
            "top": null,
            "visibility": "hidden",
            "width": null
          }
        },
        "d45f21c6fe8a4f84a950e589d4a1594e": {
          "model_module": "@jupyter-widgets/base",
          "model_name": "LayoutModel",
          "model_module_version": "1.2.0",
          "state": {
            "_model_module": "@jupyter-widgets/base",
            "_model_module_version": "1.2.0",
            "_model_name": "LayoutModel",
            "_view_count": null,
            "_view_module": "@jupyter-widgets/base",
            "_view_module_version": "1.2.0",
            "_view_name": "LayoutView",
            "align_content": null,
            "align_items": null,
            "align_self": null,
            "border": null,
            "bottom": null,
            "display": null,
            "flex": null,
            "flex_flow": null,
            "grid_area": null,
            "grid_auto_columns": null,
            "grid_auto_flow": null,
            "grid_auto_rows": null,
            "grid_column": null,
            "grid_gap": null,
            "grid_row": null,
            "grid_template_areas": null,
            "grid_template_columns": null,
            "grid_template_rows": null,
            "height": null,
            "justify_content": null,
            "justify_items": null,
            "left": null,
            "margin": null,
            "max_height": null,
            "max_width": null,
            "min_height": null,
            "min_width": null,
            "object_fit": null,
            "object_position": null,
            "order": null,
            "overflow": null,
            "overflow_x": null,
            "overflow_y": null,
            "padding": null,
            "right": null,
            "top": null,
            "visibility": null,
            "width": null
          }
        },
        "056cae48d08748eb818d13cfb3f27903": {
          "model_module": "@jupyter-widgets/controls",
          "model_name": "DescriptionStyleModel",
          "model_module_version": "1.5.0",
          "state": {
            "_model_module": "@jupyter-widgets/controls",
            "_model_module_version": "1.5.0",
            "_model_name": "DescriptionStyleModel",
            "_view_count": null,
            "_view_module": "@jupyter-widgets/base",
            "_view_module_version": "1.2.0",
            "_view_name": "StyleView",
            "description_width": ""
          }
        },
        "ebb2e9dc3e274781859526b00663508e": {
          "model_module": "@jupyter-widgets/base",
          "model_name": "LayoutModel",
          "model_module_version": "1.2.0",
          "state": {
            "_model_module": "@jupyter-widgets/base",
            "_model_module_version": "1.2.0",
            "_model_name": "LayoutModel",
            "_view_count": null,
            "_view_module": "@jupyter-widgets/base",
            "_view_module_version": "1.2.0",
            "_view_name": "LayoutView",
            "align_content": null,
            "align_items": null,
            "align_self": null,
            "border": null,
            "bottom": null,
            "display": null,
            "flex": null,
            "flex_flow": null,
            "grid_area": null,
            "grid_auto_columns": null,
            "grid_auto_flow": null,
            "grid_auto_rows": null,
            "grid_column": null,
            "grid_gap": null,
            "grid_row": null,
            "grid_template_areas": null,
            "grid_template_columns": null,
            "grid_template_rows": null,
            "height": null,
            "justify_content": null,
            "justify_items": null,
            "left": null,
            "margin": null,
            "max_height": null,
            "max_width": null,
            "min_height": null,
            "min_width": null,
            "object_fit": null,
            "object_position": null,
            "order": null,
            "overflow": null,
            "overflow_x": null,
            "overflow_y": null,
            "padding": null,
            "right": null,
            "top": null,
            "visibility": null,
            "width": null
          }
        },
        "d6613c23662e434fbdb92a779e7ec479": {
          "model_module": "@jupyter-widgets/controls",
          "model_name": "ProgressStyleModel",
          "model_module_version": "1.5.0",
          "state": {
            "_model_module": "@jupyter-widgets/controls",
            "_model_module_version": "1.5.0",
            "_model_name": "ProgressStyleModel",
            "_view_count": null,
            "_view_module": "@jupyter-widgets/base",
            "_view_module_version": "1.2.0",
            "_view_name": "StyleView",
            "bar_color": null,
            "description_width": ""
          }
        },
        "fb811dfdda3b4dbfa1e85319c4c6a476": {
          "model_module": "@jupyter-widgets/base",
          "model_name": "LayoutModel",
          "model_module_version": "1.2.0",
          "state": {
            "_model_module": "@jupyter-widgets/base",
            "_model_module_version": "1.2.0",
            "_model_name": "LayoutModel",
            "_view_count": null,
            "_view_module": "@jupyter-widgets/base",
            "_view_module_version": "1.2.0",
            "_view_name": "LayoutView",
            "align_content": null,
            "align_items": null,
            "align_self": null,
            "border": null,
            "bottom": null,
            "display": null,
            "flex": null,
            "flex_flow": null,
            "grid_area": null,
            "grid_auto_columns": null,
            "grid_auto_flow": null,
            "grid_auto_rows": null,
            "grid_column": null,
            "grid_gap": null,
            "grid_row": null,
            "grid_template_areas": null,
            "grid_template_columns": null,
            "grid_template_rows": null,
            "height": null,
            "justify_content": null,
            "justify_items": null,
            "left": null,
            "margin": null,
            "max_height": null,
            "max_width": null,
            "min_height": null,
            "min_width": null,
            "object_fit": null,
            "object_position": null,
            "order": null,
            "overflow": null,
            "overflow_x": null,
            "overflow_y": null,
            "padding": null,
            "right": null,
            "top": null,
            "visibility": null,
            "width": null
          }
        },
        "c40dadd8854a4c559ad3f418ec2badc2": {
          "model_module": "@jupyter-widgets/controls",
          "model_name": "DescriptionStyleModel",
          "model_module_version": "1.5.0",
          "state": {
            "_model_module": "@jupyter-widgets/controls",
            "_model_module_version": "1.5.0",
            "_model_name": "DescriptionStyleModel",
            "_view_count": null,
            "_view_module": "@jupyter-widgets/base",
            "_view_module_version": "1.2.0",
            "_view_name": "StyleView",
            "description_width": ""
          }
        },
        "0ea793c74bf440c6b3902e5870c5f924": {
          "model_module": "@jupyter-widgets/controls",
          "model_name": "HBoxModel",
          "model_module_version": "1.5.0",
          "state": {
            "_dom_classes": [],
            "_model_module": "@jupyter-widgets/controls",
            "_model_module_version": "1.5.0",
            "_model_name": "HBoxModel",
            "_view_count": null,
            "_view_module": "@jupyter-widgets/controls",
            "_view_module_version": "1.5.0",
            "_view_name": "HBoxView",
            "box_style": "",
            "children": [
              "IPY_MODEL_bec574bbf01b45cf803c3bec3f18b294",
              "IPY_MODEL_07ab949492df4147a2dca695546d13ff",
              "IPY_MODEL_fecf640aeb5248b4a56116fab29cd6ae"
            ],
            "layout": "IPY_MODEL_e27de8c810ae4621af13a85a792a4a08"
          }
        },
        "bec574bbf01b45cf803c3bec3f18b294": {
          "model_module": "@jupyter-widgets/controls",
          "model_name": "HTMLModel",
          "model_module_version": "1.5.0",
          "state": {
            "_dom_classes": [],
            "_model_module": "@jupyter-widgets/controls",
            "_model_module_version": "1.5.0",
            "_model_name": "HTMLModel",
            "_view_count": null,
            "_view_module": "@jupyter-widgets/controls",
            "_view_module_version": "1.5.0",
            "_view_name": "HTMLView",
            "description": "",
            "description_tooltip": null,
            "layout": "IPY_MODEL_a57699bf3b9840ceaf4a3922ae0ac41e",
            "placeholder": "​",
            "style": "IPY_MODEL_69b566580d3f441b9e20cb7077a84d18",
            "value": "Saving the dataset (1/1 shards): 100%"
          }
        },
        "07ab949492df4147a2dca695546d13ff": {
          "model_module": "@jupyter-widgets/controls",
          "model_name": "FloatProgressModel",
          "model_module_version": "1.5.0",
          "state": {
            "_dom_classes": [],
            "_model_module": "@jupyter-widgets/controls",
            "_model_module_version": "1.5.0",
            "_model_name": "FloatProgressModel",
            "_view_count": null,
            "_view_module": "@jupyter-widgets/controls",
            "_view_module_version": "1.5.0",
            "_view_name": "ProgressView",
            "bar_style": "",
            "description": "",
            "description_tooltip": null,
            "layout": "IPY_MODEL_9fcecd997bb4444e9db8c38eb1201e9d",
            "max": 713,
            "min": 0,
            "orientation": "horizontal",
            "style": "IPY_MODEL_4506285a54df40b9968a47f115da09b2",
            "value": 713
          }
        },
        "fecf640aeb5248b4a56116fab29cd6ae": {
          "model_module": "@jupyter-widgets/controls",
          "model_name": "HTMLModel",
          "model_module_version": "1.5.0",
          "state": {
            "_dom_classes": [],
            "_model_module": "@jupyter-widgets/controls",
            "_model_module_version": "1.5.0",
            "_model_name": "HTMLModel",
            "_view_count": null,
            "_view_module": "@jupyter-widgets/controls",
            "_view_module_version": "1.5.0",
            "_view_name": "HTMLView",
            "description": "",
            "description_tooltip": null,
            "layout": "IPY_MODEL_6feb1f9bf64c4779bccf3748aec5def3",
            "placeholder": "​",
            "style": "IPY_MODEL_b7bd55bda6224fee85b0f668c2ffd98e",
            "value": " 713/713 [00:00&lt;00:00, 39481.14 examples/s]"
          }
        },
        "e27de8c810ae4621af13a85a792a4a08": {
          "model_module": "@jupyter-widgets/base",
          "model_name": "LayoutModel",
          "model_module_version": "1.2.0",
          "state": {
            "_model_module": "@jupyter-widgets/base",
            "_model_module_version": "1.2.0",
            "_model_name": "LayoutModel",
            "_view_count": null,
            "_view_module": "@jupyter-widgets/base",
            "_view_module_version": "1.2.0",
            "_view_name": "LayoutView",
            "align_content": null,
            "align_items": null,
            "align_self": null,
            "border": null,
            "bottom": null,
            "display": null,
            "flex": null,
            "flex_flow": null,
            "grid_area": null,
            "grid_auto_columns": null,
            "grid_auto_flow": null,
            "grid_auto_rows": null,
            "grid_column": null,
            "grid_gap": null,
            "grid_row": null,
            "grid_template_areas": null,
            "grid_template_columns": null,
            "grid_template_rows": null,
            "height": null,
            "justify_content": null,
            "justify_items": null,
            "left": null,
            "margin": null,
            "max_height": null,
            "max_width": null,
            "min_height": null,
            "min_width": null,
            "object_fit": null,
            "object_position": null,
            "order": null,
            "overflow": null,
            "overflow_x": null,
            "overflow_y": null,
            "padding": null,
            "right": null,
            "top": null,
            "visibility": "hidden",
            "width": null
          }
        },
        "a57699bf3b9840ceaf4a3922ae0ac41e": {
          "model_module": "@jupyter-widgets/base",
          "model_name": "LayoutModel",
          "model_module_version": "1.2.0",
          "state": {
            "_model_module": "@jupyter-widgets/base",
            "_model_module_version": "1.2.0",
            "_model_name": "LayoutModel",
            "_view_count": null,
            "_view_module": "@jupyter-widgets/base",
            "_view_module_version": "1.2.0",
            "_view_name": "LayoutView",
            "align_content": null,
            "align_items": null,
            "align_self": null,
            "border": null,
            "bottom": null,
            "display": null,
            "flex": null,
            "flex_flow": null,
            "grid_area": null,
            "grid_auto_columns": null,
            "grid_auto_flow": null,
            "grid_auto_rows": null,
            "grid_column": null,
            "grid_gap": null,
            "grid_row": null,
            "grid_template_areas": null,
            "grid_template_columns": null,
            "grid_template_rows": null,
            "height": null,
            "justify_content": null,
            "justify_items": null,
            "left": null,
            "margin": null,
            "max_height": null,
            "max_width": null,
            "min_height": null,
            "min_width": null,
            "object_fit": null,
            "object_position": null,
            "order": null,
            "overflow": null,
            "overflow_x": null,
            "overflow_y": null,
            "padding": null,
            "right": null,
            "top": null,
            "visibility": null,
            "width": null
          }
        },
        "69b566580d3f441b9e20cb7077a84d18": {
          "model_module": "@jupyter-widgets/controls",
          "model_name": "DescriptionStyleModel",
          "model_module_version": "1.5.0",
          "state": {
            "_model_module": "@jupyter-widgets/controls",
            "_model_module_version": "1.5.0",
            "_model_name": "DescriptionStyleModel",
            "_view_count": null,
            "_view_module": "@jupyter-widgets/base",
            "_view_module_version": "1.2.0",
            "_view_name": "StyleView",
            "description_width": ""
          }
        },
        "9fcecd997bb4444e9db8c38eb1201e9d": {
          "model_module": "@jupyter-widgets/base",
          "model_name": "LayoutModel",
          "model_module_version": "1.2.0",
          "state": {
            "_model_module": "@jupyter-widgets/base",
            "_model_module_version": "1.2.0",
            "_model_name": "LayoutModel",
            "_view_count": null,
            "_view_module": "@jupyter-widgets/base",
            "_view_module_version": "1.2.0",
            "_view_name": "LayoutView",
            "align_content": null,
            "align_items": null,
            "align_self": null,
            "border": null,
            "bottom": null,
            "display": null,
            "flex": null,
            "flex_flow": null,
            "grid_area": null,
            "grid_auto_columns": null,
            "grid_auto_flow": null,
            "grid_auto_rows": null,
            "grid_column": null,
            "grid_gap": null,
            "grid_row": null,
            "grid_template_areas": null,
            "grid_template_columns": null,
            "grid_template_rows": null,
            "height": null,
            "justify_content": null,
            "justify_items": null,
            "left": null,
            "margin": null,
            "max_height": null,
            "max_width": null,
            "min_height": null,
            "min_width": null,
            "object_fit": null,
            "object_position": null,
            "order": null,
            "overflow": null,
            "overflow_x": null,
            "overflow_y": null,
            "padding": null,
            "right": null,
            "top": null,
            "visibility": null,
            "width": null
          }
        },
        "4506285a54df40b9968a47f115da09b2": {
          "model_module": "@jupyter-widgets/controls",
          "model_name": "ProgressStyleModel",
          "model_module_version": "1.5.0",
          "state": {
            "_model_module": "@jupyter-widgets/controls",
            "_model_module_version": "1.5.0",
            "_model_name": "ProgressStyleModel",
            "_view_count": null,
            "_view_module": "@jupyter-widgets/base",
            "_view_module_version": "1.2.0",
            "_view_name": "StyleView",
            "bar_color": null,
            "description_width": ""
          }
        },
        "6feb1f9bf64c4779bccf3748aec5def3": {
          "model_module": "@jupyter-widgets/base",
          "model_name": "LayoutModel",
          "model_module_version": "1.2.0",
          "state": {
            "_model_module": "@jupyter-widgets/base",
            "_model_module_version": "1.2.0",
            "_model_name": "LayoutModel",
            "_view_count": null,
            "_view_module": "@jupyter-widgets/base",
            "_view_module_version": "1.2.0",
            "_view_name": "LayoutView",
            "align_content": null,
            "align_items": null,
            "align_self": null,
            "border": null,
            "bottom": null,
            "display": null,
            "flex": null,
            "flex_flow": null,
            "grid_area": null,
            "grid_auto_columns": null,
            "grid_auto_flow": null,
            "grid_auto_rows": null,
            "grid_column": null,
            "grid_gap": null,
            "grid_row": null,
            "grid_template_areas": null,
            "grid_template_columns": null,
            "grid_template_rows": null,
            "height": null,
            "justify_content": null,
            "justify_items": null,
            "left": null,
            "margin": null,
            "max_height": null,
            "max_width": null,
            "min_height": null,
            "min_width": null,
            "object_fit": null,
            "object_position": null,
            "order": null,
            "overflow": null,
            "overflow_x": null,
            "overflow_y": null,
            "padding": null,
            "right": null,
            "top": null,
            "visibility": null,
            "width": null
          }
        },
        "b7bd55bda6224fee85b0f668c2ffd98e": {
          "model_module": "@jupyter-widgets/controls",
          "model_name": "DescriptionStyleModel",
          "model_module_version": "1.5.0",
          "state": {
            "_model_module": "@jupyter-widgets/controls",
            "_model_module_version": "1.5.0",
            "_model_name": "DescriptionStyleModel",
            "_view_count": null,
            "_view_module": "@jupyter-widgets/base",
            "_view_module_version": "1.2.0",
            "_view_name": "StyleView",
            "description_width": ""
          }
        },
        "8eb4105f6b7a48ac844532c15c16b22c": {
          "model_module": "@jupyter-widgets/controls",
          "model_name": "HBoxModel",
          "model_module_version": "1.5.0",
          "state": {
            "_dom_classes": [],
            "_model_module": "@jupyter-widgets/controls",
            "_model_module_version": "1.5.0",
            "_model_name": "HBoxModel",
            "_view_count": null,
            "_view_module": "@jupyter-widgets/controls",
            "_view_module_version": "1.5.0",
            "_view_name": "HBoxView",
            "box_style": "",
            "children": [
              "IPY_MODEL_a6d7735e2ed441e28f5a0f31bed998fc",
              "IPY_MODEL_2dde10a270eb474fb77dadd1642d3102",
              "IPY_MODEL_af9047fd47f34311907e6b5a7485fa17"
            ],
            "layout": "IPY_MODEL_8c4d103b76964b579a52fde863a1f95f"
          }
        },
        "a6d7735e2ed441e28f5a0f31bed998fc": {
          "model_module": "@jupyter-widgets/controls",
          "model_name": "HTMLModel",
          "model_module_version": "1.5.0",
          "state": {
            "_dom_classes": [],
            "_model_module": "@jupyter-widgets/controls",
            "_model_module_version": "1.5.0",
            "_model_name": "HTMLModel",
            "_view_count": null,
            "_view_module": "@jupyter-widgets/controls",
            "_view_module_version": "1.5.0",
            "_view_name": "HTMLView",
            "description": "",
            "description_tooltip": null,
            "layout": "IPY_MODEL_07c37f5c0be34b6fa791b71cc1686249",
            "placeholder": "​",
            "style": "IPY_MODEL_ee9cfdacbc19429ea2e50f15cc5940d0",
            "value": "Pushing dataset shards to the dataset hub: 100%"
          }
        },
        "2dde10a270eb474fb77dadd1642d3102": {
          "model_module": "@jupyter-widgets/controls",
          "model_name": "FloatProgressModel",
          "model_module_version": "1.5.0",
          "state": {
            "_dom_classes": [],
            "_model_module": "@jupyter-widgets/controls",
            "_model_module_version": "1.5.0",
            "_model_name": "FloatProgressModel",
            "_view_count": null,
            "_view_module": "@jupyter-widgets/controls",
            "_view_module_version": "1.5.0",
            "_view_name": "ProgressView",
            "bar_style": "success",
            "description": "",
            "description_tooltip": null,
            "layout": "IPY_MODEL_e73509a4136940d58c66027b36ea31cf",
            "max": 1,
            "min": 0,
            "orientation": "horizontal",
            "style": "IPY_MODEL_6d708e4a769d480b8e3d38bcf166a484",
            "value": 1
          }
        },
        "af9047fd47f34311907e6b5a7485fa17": {
          "model_module": "@jupyter-widgets/controls",
          "model_name": "HTMLModel",
          "model_module_version": "1.5.0",
          "state": {
            "_dom_classes": [],
            "_model_module": "@jupyter-widgets/controls",
            "_model_module_version": "1.5.0",
            "_model_name": "HTMLModel",
            "_view_count": null,
            "_view_module": "@jupyter-widgets/controls",
            "_view_module_version": "1.5.0",
            "_view_name": "HTMLView",
            "description": "",
            "description_tooltip": null,
            "layout": "IPY_MODEL_ee3eacfc78f04b70bbe1031886704993",
            "placeholder": "​",
            "style": "IPY_MODEL_bf462fa851f94397bb159c106724ea16",
            "value": " 1/1 [00:00&lt;00:00,  1.16it/s]"
          }
        },
        "8c4d103b76964b579a52fde863a1f95f": {
          "model_module": "@jupyter-widgets/base",
          "model_name": "LayoutModel",
          "model_module_version": "1.2.0",
          "state": {
            "_model_module": "@jupyter-widgets/base",
            "_model_module_version": "1.2.0",
            "_model_name": "LayoutModel",
            "_view_count": null,
            "_view_module": "@jupyter-widgets/base",
            "_view_module_version": "1.2.0",
            "_view_name": "LayoutView",
            "align_content": null,
            "align_items": null,
            "align_self": null,
            "border": null,
            "bottom": null,
            "display": null,
            "flex": null,
            "flex_flow": null,
            "grid_area": null,
            "grid_auto_columns": null,
            "grid_auto_flow": null,
            "grid_auto_rows": null,
            "grid_column": null,
            "grid_gap": null,
            "grid_row": null,
            "grid_template_areas": null,
            "grid_template_columns": null,
            "grid_template_rows": null,
            "height": null,
            "justify_content": null,
            "justify_items": null,
            "left": null,
            "margin": null,
            "max_height": null,
            "max_width": null,
            "min_height": null,
            "min_width": null,
            "object_fit": null,
            "object_position": null,
            "order": null,
            "overflow": null,
            "overflow_x": null,
            "overflow_y": null,
            "padding": null,
            "right": null,
            "top": null,
            "visibility": null,
            "width": null
          }
        },
        "07c37f5c0be34b6fa791b71cc1686249": {
          "model_module": "@jupyter-widgets/base",
          "model_name": "LayoutModel",
          "model_module_version": "1.2.0",
          "state": {
            "_model_module": "@jupyter-widgets/base",
            "_model_module_version": "1.2.0",
            "_model_name": "LayoutModel",
            "_view_count": null,
            "_view_module": "@jupyter-widgets/base",
            "_view_module_version": "1.2.0",
            "_view_name": "LayoutView",
            "align_content": null,
            "align_items": null,
            "align_self": null,
            "border": null,
            "bottom": null,
            "display": null,
            "flex": null,
            "flex_flow": null,
            "grid_area": null,
            "grid_auto_columns": null,
            "grid_auto_flow": null,
            "grid_auto_rows": null,
            "grid_column": null,
            "grid_gap": null,
            "grid_row": null,
            "grid_template_areas": null,
            "grid_template_columns": null,
            "grid_template_rows": null,
            "height": null,
            "justify_content": null,
            "justify_items": null,
            "left": null,
            "margin": null,
            "max_height": null,
            "max_width": null,
            "min_height": null,
            "min_width": null,
            "object_fit": null,
            "object_position": null,
            "order": null,
            "overflow": null,
            "overflow_x": null,
            "overflow_y": null,
            "padding": null,
            "right": null,
            "top": null,
            "visibility": null,
            "width": null
          }
        },
        "ee9cfdacbc19429ea2e50f15cc5940d0": {
          "model_module": "@jupyter-widgets/controls",
          "model_name": "DescriptionStyleModel",
          "model_module_version": "1.5.0",
          "state": {
            "_model_module": "@jupyter-widgets/controls",
            "_model_module_version": "1.5.0",
            "_model_name": "DescriptionStyleModel",
            "_view_count": null,
            "_view_module": "@jupyter-widgets/base",
            "_view_module_version": "1.2.0",
            "_view_name": "StyleView",
            "description_width": ""
          }
        },
        "e73509a4136940d58c66027b36ea31cf": {
          "model_module": "@jupyter-widgets/base",
          "model_name": "LayoutModel",
          "model_module_version": "1.2.0",
          "state": {
            "_model_module": "@jupyter-widgets/base",
            "_model_module_version": "1.2.0",
            "_model_name": "LayoutModel",
            "_view_count": null,
            "_view_module": "@jupyter-widgets/base",
            "_view_module_version": "1.2.0",
            "_view_name": "LayoutView",
            "align_content": null,
            "align_items": null,
            "align_self": null,
            "border": null,
            "bottom": null,
            "display": null,
            "flex": null,
            "flex_flow": null,
            "grid_area": null,
            "grid_auto_columns": null,
            "grid_auto_flow": null,
            "grid_auto_rows": null,
            "grid_column": null,
            "grid_gap": null,
            "grid_row": null,
            "grid_template_areas": null,
            "grid_template_columns": null,
            "grid_template_rows": null,
            "height": null,
            "justify_content": null,
            "justify_items": null,
            "left": null,
            "margin": null,
            "max_height": null,
            "max_width": null,
            "min_height": null,
            "min_width": null,
            "object_fit": null,
            "object_position": null,
            "order": null,
            "overflow": null,
            "overflow_x": null,
            "overflow_y": null,
            "padding": null,
            "right": null,
            "top": null,
            "visibility": null,
            "width": null
          }
        },
        "6d708e4a769d480b8e3d38bcf166a484": {
          "model_module": "@jupyter-widgets/controls",
          "model_name": "ProgressStyleModel",
          "model_module_version": "1.5.0",
          "state": {
            "_model_module": "@jupyter-widgets/controls",
            "_model_module_version": "1.5.0",
            "_model_name": "ProgressStyleModel",
            "_view_count": null,
            "_view_module": "@jupyter-widgets/base",
            "_view_module_version": "1.2.0",
            "_view_name": "StyleView",
            "bar_color": null,
            "description_width": ""
          }
        },
        "ee3eacfc78f04b70bbe1031886704993": {
          "model_module": "@jupyter-widgets/base",
          "model_name": "LayoutModel",
          "model_module_version": "1.2.0",
          "state": {
            "_model_module": "@jupyter-widgets/base",
            "_model_module_version": "1.2.0",
            "_model_name": "LayoutModel",
            "_view_count": null,
            "_view_module": "@jupyter-widgets/base",
            "_view_module_version": "1.2.0",
            "_view_name": "LayoutView",
            "align_content": null,
            "align_items": null,
            "align_self": null,
            "border": null,
            "bottom": null,
            "display": null,
            "flex": null,
            "flex_flow": null,
            "grid_area": null,
            "grid_auto_columns": null,
            "grid_auto_flow": null,
            "grid_auto_rows": null,
            "grid_column": null,
            "grid_gap": null,
            "grid_row": null,
            "grid_template_areas": null,
            "grid_template_columns": null,
            "grid_template_rows": null,
            "height": null,
            "justify_content": null,
            "justify_items": null,
            "left": null,
            "margin": null,
            "max_height": null,
            "max_width": null,
            "min_height": null,
            "min_width": null,
            "object_fit": null,
            "object_position": null,
            "order": null,
            "overflow": null,
            "overflow_x": null,
            "overflow_y": null,
            "padding": null,
            "right": null,
            "top": null,
            "visibility": null,
            "width": null
          }
        },
        "bf462fa851f94397bb159c106724ea16": {
          "model_module": "@jupyter-widgets/controls",
          "model_name": "DescriptionStyleModel",
          "model_module_version": "1.5.0",
          "state": {
            "_model_module": "@jupyter-widgets/controls",
            "_model_module_version": "1.5.0",
            "_model_name": "DescriptionStyleModel",
            "_view_count": null,
            "_view_module": "@jupyter-widgets/base",
            "_view_module_version": "1.2.0",
            "_view_name": "StyleView",
            "description_width": ""
          }
        },
        "682d1a40f42442f297744a0a59f4cc32": {
          "model_module": "@jupyter-widgets/controls",
          "model_name": "HBoxModel",
          "model_module_version": "1.5.0",
          "state": {
            "_dom_classes": [],
            "_model_module": "@jupyter-widgets/controls",
            "_model_module_version": "1.5.0",
            "_model_name": "HBoxModel",
            "_view_count": null,
            "_view_module": "@jupyter-widgets/controls",
            "_view_module_version": "1.5.0",
            "_view_name": "HBoxView",
            "box_style": "",
            "children": [
              "IPY_MODEL_0bfc5caffd8544f5bac389797a58e4d1",
              "IPY_MODEL_a7bb3f11f0754f7592e32ba32a947aa9",
              "IPY_MODEL_071e0ec9318f4ff286105f39d13a379c"
            ],
            "layout": "IPY_MODEL_4dea69dbb33d4828ae86bb0db5cbf9fc"
          }
        },
        "0bfc5caffd8544f5bac389797a58e4d1": {
          "model_module": "@jupyter-widgets/controls",
          "model_name": "HTMLModel",
          "model_module_version": "1.5.0",
          "state": {
            "_dom_classes": [],
            "_model_module": "@jupyter-widgets/controls",
            "_model_module_version": "1.5.0",
            "_model_name": "HTMLModel",
            "_view_count": null,
            "_view_module": "@jupyter-widgets/controls",
            "_view_module_version": "1.5.0",
            "_view_name": "HTMLView",
            "description": "",
            "description_tooltip": null,
            "layout": "IPY_MODEL_3b83afc3208746368d36b53bed613143",
            "placeholder": "​",
            "style": "IPY_MODEL_edfe2db19b254d9d9c4ed73408e3e196",
            "value": "Creating parquet from Arrow format: 100%"
          }
        },
        "a7bb3f11f0754f7592e32ba32a947aa9": {
          "model_module": "@jupyter-widgets/controls",
          "model_name": "FloatProgressModel",
          "model_module_version": "1.5.0",
          "state": {
            "_dom_classes": [],
            "_model_module": "@jupyter-widgets/controls",
            "_model_module_version": "1.5.0",
            "_model_name": "FloatProgressModel",
            "_view_count": null,
            "_view_module": "@jupyter-widgets/controls",
            "_view_module_version": "1.5.0",
            "_view_name": "ProgressView",
            "bar_style": "success",
            "description": "",
            "description_tooltip": null,
            "layout": "IPY_MODEL_6c9b0a9021f046b18a72b29d964a1db2",
            "max": 1,
            "min": 0,
            "orientation": "horizontal",
            "style": "IPY_MODEL_3593f628cd214913a8bcbbfede3e73a6",
            "value": 1
          }
        },
        "071e0ec9318f4ff286105f39d13a379c": {
          "model_module": "@jupyter-widgets/controls",
          "model_name": "HTMLModel",
          "model_module_version": "1.5.0",
          "state": {
            "_dom_classes": [],
            "_model_module": "@jupyter-widgets/controls",
            "_model_module_version": "1.5.0",
            "_model_name": "HTMLModel",
            "_view_count": null,
            "_view_module": "@jupyter-widgets/controls",
            "_view_module_version": "1.5.0",
            "_view_name": "HTMLView",
            "description": "",
            "description_tooltip": null,
            "layout": "IPY_MODEL_a37b5bcf182c48869728899a944d435d",
            "placeholder": "​",
            "style": "IPY_MODEL_6d632a9fef594a2c933d569577d09365",
            "value": " 1/1 [00:00&lt;00:00, 16.49ba/s]"
          }
        },
        "4dea69dbb33d4828ae86bb0db5cbf9fc": {
          "model_module": "@jupyter-widgets/base",
          "model_name": "LayoutModel",
          "model_module_version": "1.2.0",
          "state": {
            "_model_module": "@jupyter-widgets/base",
            "_model_module_version": "1.2.0",
            "_model_name": "LayoutModel",
            "_view_count": null,
            "_view_module": "@jupyter-widgets/base",
            "_view_module_version": "1.2.0",
            "_view_name": "LayoutView",
            "align_content": null,
            "align_items": null,
            "align_self": null,
            "border": null,
            "bottom": null,
            "display": null,
            "flex": null,
            "flex_flow": null,
            "grid_area": null,
            "grid_auto_columns": null,
            "grid_auto_flow": null,
            "grid_auto_rows": null,
            "grid_column": null,
            "grid_gap": null,
            "grid_row": null,
            "grid_template_areas": null,
            "grid_template_columns": null,
            "grid_template_rows": null,
            "height": null,
            "justify_content": null,
            "justify_items": null,
            "left": null,
            "margin": null,
            "max_height": null,
            "max_width": null,
            "min_height": null,
            "min_width": null,
            "object_fit": null,
            "object_position": null,
            "order": null,
            "overflow": null,
            "overflow_x": null,
            "overflow_y": null,
            "padding": null,
            "right": null,
            "top": null,
            "visibility": null,
            "width": null
          }
        },
        "3b83afc3208746368d36b53bed613143": {
          "model_module": "@jupyter-widgets/base",
          "model_name": "LayoutModel",
          "model_module_version": "1.2.0",
          "state": {
            "_model_module": "@jupyter-widgets/base",
            "_model_module_version": "1.2.0",
            "_model_name": "LayoutModel",
            "_view_count": null,
            "_view_module": "@jupyter-widgets/base",
            "_view_module_version": "1.2.0",
            "_view_name": "LayoutView",
            "align_content": null,
            "align_items": null,
            "align_self": null,
            "border": null,
            "bottom": null,
            "display": null,
            "flex": null,
            "flex_flow": null,
            "grid_area": null,
            "grid_auto_columns": null,
            "grid_auto_flow": null,
            "grid_auto_rows": null,
            "grid_column": null,
            "grid_gap": null,
            "grid_row": null,
            "grid_template_areas": null,
            "grid_template_columns": null,
            "grid_template_rows": null,
            "height": null,
            "justify_content": null,
            "justify_items": null,
            "left": null,
            "margin": null,
            "max_height": null,
            "max_width": null,
            "min_height": null,
            "min_width": null,
            "object_fit": null,
            "object_position": null,
            "order": null,
            "overflow": null,
            "overflow_x": null,
            "overflow_y": null,
            "padding": null,
            "right": null,
            "top": null,
            "visibility": null,
            "width": null
          }
        },
        "edfe2db19b254d9d9c4ed73408e3e196": {
          "model_module": "@jupyter-widgets/controls",
          "model_name": "DescriptionStyleModel",
          "model_module_version": "1.5.0",
          "state": {
            "_model_module": "@jupyter-widgets/controls",
            "_model_module_version": "1.5.0",
            "_model_name": "DescriptionStyleModel",
            "_view_count": null,
            "_view_module": "@jupyter-widgets/base",
            "_view_module_version": "1.2.0",
            "_view_name": "StyleView",
            "description_width": ""
          }
        },
        "6c9b0a9021f046b18a72b29d964a1db2": {
          "model_module": "@jupyter-widgets/base",
          "model_name": "LayoutModel",
          "model_module_version": "1.2.0",
          "state": {
            "_model_module": "@jupyter-widgets/base",
            "_model_module_version": "1.2.0",
            "_model_name": "LayoutModel",
            "_view_count": null,
            "_view_module": "@jupyter-widgets/base",
            "_view_module_version": "1.2.0",
            "_view_name": "LayoutView",
            "align_content": null,
            "align_items": null,
            "align_self": null,
            "border": null,
            "bottom": null,
            "display": null,
            "flex": null,
            "flex_flow": null,
            "grid_area": null,
            "grid_auto_columns": null,
            "grid_auto_flow": null,
            "grid_auto_rows": null,
            "grid_column": null,
            "grid_gap": null,
            "grid_row": null,
            "grid_template_areas": null,
            "grid_template_columns": null,
            "grid_template_rows": null,
            "height": null,
            "justify_content": null,
            "justify_items": null,
            "left": null,
            "margin": null,
            "max_height": null,
            "max_width": null,
            "min_height": null,
            "min_width": null,
            "object_fit": null,
            "object_position": null,
            "order": null,
            "overflow": null,
            "overflow_x": null,
            "overflow_y": null,
            "padding": null,
            "right": null,
            "top": null,
            "visibility": null,
            "width": null
          }
        },
        "3593f628cd214913a8bcbbfede3e73a6": {
          "model_module": "@jupyter-widgets/controls",
          "model_name": "ProgressStyleModel",
          "model_module_version": "1.5.0",
          "state": {
            "_model_module": "@jupyter-widgets/controls",
            "_model_module_version": "1.5.0",
            "_model_name": "ProgressStyleModel",
            "_view_count": null,
            "_view_module": "@jupyter-widgets/base",
            "_view_module_version": "1.2.0",
            "_view_name": "StyleView",
            "bar_color": null,
            "description_width": ""
          }
        },
        "a37b5bcf182c48869728899a944d435d": {
          "model_module": "@jupyter-widgets/base",
          "model_name": "LayoutModel",
          "model_module_version": "1.2.0",
          "state": {
            "_model_module": "@jupyter-widgets/base",
            "_model_module_version": "1.2.0",
            "_model_name": "LayoutModel",
            "_view_count": null,
            "_view_module": "@jupyter-widgets/base",
            "_view_module_version": "1.2.0",
            "_view_name": "LayoutView",
            "align_content": null,
            "align_items": null,
            "align_self": null,
            "border": null,
            "bottom": null,
            "display": null,
            "flex": null,
            "flex_flow": null,
            "grid_area": null,
            "grid_auto_columns": null,
            "grid_auto_flow": null,
            "grid_auto_rows": null,
            "grid_column": null,
            "grid_gap": null,
            "grid_row": null,
            "grid_template_areas": null,
            "grid_template_columns": null,
            "grid_template_rows": null,
            "height": null,
            "justify_content": null,
            "justify_items": null,
            "left": null,
            "margin": null,
            "max_height": null,
            "max_width": null,
            "min_height": null,
            "min_width": null,
            "object_fit": null,
            "object_position": null,
            "order": null,
            "overflow": null,
            "overflow_x": null,
            "overflow_y": null,
            "padding": null,
            "right": null,
            "top": null,
            "visibility": null,
            "width": null
          }
        },
        "6d632a9fef594a2c933d569577d09365": {
          "model_module": "@jupyter-widgets/controls",
          "model_name": "DescriptionStyleModel",
          "model_module_version": "1.5.0",
          "state": {
            "_model_module": "@jupyter-widgets/controls",
            "_model_module_version": "1.5.0",
            "_model_name": "DescriptionStyleModel",
            "_view_count": null,
            "_view_module": "@jupyter-widgets/base",
            "_view_module_version": "1.2.0",
            "_view_name": "StyleView",
            "description_width": ""
          }
        },
        "b973e9aee1364400b0c22e386d0f540f": {
          "model_module": "@jupyter-widgets/controls",
          "model_name": "HBoxModel",
          "model_module_version": "1.5.0",
          "state": {
            "_dom_classes": [],
            "_model_module": "@jupyter-widgets/controls",
            "_model_module_version": "1.5.0",
            "_model_name": "HBoxModel",
            "_view_count": null,
            "_view_module": "@jupyter-widgets/controls",
            "_view_module_version": "1.5.0",
            "_view_name": "HBoxView",
            "box_style": "",
            "children": [
              "IPY_MODEL_41dd4929b9d64f7da519531e8a333044",
              "IPY_MODEL_2cbf486f658e46a6bc3d6cafd24f7bcc",
              "IPY_MODEL_27c920e6e2ed461f89e222937bd33a2e"
            ],
            "layout": "IPY_MODEL_fd057707d6a64a64ad5aa7482b575927"
          }
        },
        "41dd4929b9d64f7da519531e8a333044": {
          "model_module": "@jupyter-widgets/controls",
          "model_name": "HTMLModel",
          "model_module_version": "1.5.0",
          "state": {
            "_dom_classes": [],
            "_model_module": "@jupyter-widgets/controls",
            "_model_module_version": "1.5.0",
            "_model_name": "HTMLModel",
            "_view_count": null,
            "_view_module": "@jupyter-widgets/controls",
            "_view_module_version": "1.5.0",
            "_view_name": "HTMLView",
            "description": "",
            "description_tooltip": null,
            "layout": "IPY_MODEL_80c03560ba944a4f8cfc25cbe937af9e",
            "placeholder": "​",
            "style": "IPY_MODEL_dd4a27c252a44d4fa5101b21026594b5",
            "value": "Deleting unused files from dataset repository: 100%"
          }
        },
        "2cbf486f658e46a6bc3d6cafd24f7bcc": {
          "model_module": "@jupyter-widgets/controls",
          "model_name": "FloatProgressModel",
          "model_module_version": "1.5.0",
          "state": {
            "_dom_classes": [],
            "_model_module": "@jupyter-widgets/controls",
            "_model_module_version": "1.5.0",
            "_model_name": "FloatProgressModel",
            "_view_count": null,
            "_view_module": "@jupyter-widgets/controls",
            "_view_module_version": "1.5.0",
            "_view_name": "ProgressView",
            "bar_style": "success",
            "description": "",
            "description_tooltip": null,
            "layout": "IPY_MODEL_d48f2effa62843389241d8a810b389a3",
            "max": 1,
            "min": 0,
            "orientation": "horizontal",
            "style": "IPY_MODEL_c1518ca0348d42ecb8f9f3a10a19bfba",
            "value": 1
          }
        },
        "27c920e6e2ed461f89e222937bd33a2e": {
          "model_module": "@jupyter-widgets/controls",
          "model_name": "HTMLModel",
          "model_module_version": "1.5.0",
          "state": {
            "_dom_classes": [],
            "_model_module": "@jupyter-widgets/controls",
            "_model_module_version": "1.5.0",
            "_model_name": "HTMLModel",
            "_view_count": null,
            "_view_module": "@jupyter-widgets/controls",
            "_view_module_version": "1.5.0",
            "_view_name": "HTMLView",
            "description": "",
            "description_tooltip": null,
            "layout": "IPY_MODEL_4dff9496f7044824a5ac4bcf00a40689",
            "placeholder": "​",
            "style": "IPY_MODEL_3c378a8e4f0a49e4a9657d559a747386",
            "value": " 1/1 [00:00&lt;00:00,  4.65it/s]"
          }
        },
        "fd057707d6a64a64ad5aa7482b575927": {
          "model_module": "@jupyter-widgets/base",
          "model_name": "LayoutModel",
          "model_module_version": "1.2.0",
          "state": {
            "_model_module": "@jupyter-widgets/base",
            "_model_module_version": "1.2.0",
            "_model_name": "LayoutModel",
            "_view_count": null,
            "_view_module": "@jupyter-widgets/base",
            "_view_module_version": "1.2.0",
            "_view_name": "LayoutView",
            "align_content": null,
            "align_items": null,
            "align_self": null,
            "border": null,
            "bottom": null,
            "display": null,
            "flex": null,
            "flex_flow": null,
            "grid_area": null,
            "grid_auto_columns": null,
            "grid_auto_flow": null,
            "grid_auto_rows": null,
            "grid_column": null,
            "grid_gap": null,
            "grid_row": null,
            "grid_template_areas": null,
            "grid_template_columns": null,
            "grid_template_rows": null,
            "height": null,
            "justify_content": null,
            "justify_items": null,
            "left": null,
            "margin": null,
            "max_height": null,
            "max_width": null,
            "min_height": null,
            "min_width": null,
            "object_fit": null,
            "object_position": null,
            "order": null,
            "overflow": null,
            "overflow_x": null,
            "overflow_y": null,
            "padding": null,
            "right": null,
            "top": null,
            "visibility": null,
            "width": null
          }
        },
        "80c03560ba944a4f8cfc25cbe937af9e": {
          "model_module": "@jupyter-widgets/base",
          "model_name": "LayoutModel",
          "model_module_version": "1.2.0",
          "state": {
            "_model_module": "@jupyter-widgets/base",
            "_model_module_version": "1.2.0",
            "_model_name": "LayoutModel",
            "_view_count": null,
            "_view_module": "@jupyter-widgets/base",
            "_view_module_version": "1.2.0",
            "_view_name": "LayoutView",
            "align_content": null,
            "align_items": null,
            "align_self": null,
            "border": null,
            "bottom": null,
            "display": null,
            "flex": null,
            "flex_flow": null,
            "grid_area": null,
            "grid_auto_columns": null,
            "grid_auto_flow": null,
            "grid_auto_rows": null,
            "grid_column": null,
            "grid_gap": null,
            "grid_row": null,
            "grid_template_areas": null,
            "grid_template_columns": null,
            "grid_template_rows": null,
            "height": null,
            "justify_content": null,
            "justify_items": null,
            "left": null,
            "margin": null,
            "max_height": null,
            "max_width": null,
            "min_height": null,
            "min_width": null,
            "object_fit": null,
            "object_position": null,
            "order": null,
            "overflow": null,
            "overflow_x": null,
            "overflow_y": null,
            "padding": null,
            "right": null,
            "top": null,
            "visibility": null,
            "width": null
          }
        },
        "dd4a27c252a44d4fa5101b21026594b5": {
          "model_module": "@jupyter-widgets/controls",
          "model_name": "DescriptionStyleModel",
          "model_module_version": "1.5.0",
          "state": {
            "_model_module": "@jupyter-widgets/controls",
            "_model_module_version": "1.5.0",
            "_model_name": "DescriptionStyleModel",
            "_view_count": null,
            "_view_module": "@jupyter-widgets/base",
            "_view_module_version": "1.2.0",
            "_view_name": "StyleView",
            "description_width": ""
          }
        },
        "d48f2effa62843389241d8a810b389a3": {
          "model_module": "@jupyter-widgets/base",
          "model_name": "LayoutModel",
          "model_module_version": "1.2.0",
          "state": {
            "_model_module": "@jupyter-widgets/base",
            "_model_module_version": "1.2.0",
            "_model_name": "LayoutModel",
            "_view_count": null,
            "_view_module": "@jupyter-widgets/base",
            "_view_module_version": "1.2.0",
            "_view_name": "LayoutView",
            "align_content": null,
            "align_items": null,
            "align_self": null,
            "border": null,
            "bottom": null,
            "display": null,
            "flex": null,
            "flex_flow": null,
            "grid_area": null,
            "grid_auto_columns": null,
            "grid_auto_flow": null,
            "grid_auto_rows": null,
            "grid_column": null,
            "grid_gap": null,
            "grid_row": null,
            "grid_template_areas": null,
            "grid_template_columns": null,
            "grid_template_rows": null,
            "height": null,
            "justify_content": null,
            "justify_items": null,
            "left": null,
            "margin": null,
            "max_height": null,
            "max_width": null,
            "min_height": null,
            "min_width": null,
            "object_fit": null,
            "object_position": null,
            "order": null,
            "overflow": null,
            "overflow_x": null,
            "overflow_y": null,
            "padding": null,
            "right": null,
            "top": null,
            "visibility": null,
            "width": null
          }
        },
        "c1518ca0348d42ecb8f9f3a10a19bfba": {
          "model_module": "@jupyter-widgets/controls",
          "model_name": "ProgressStyleModel",
          "model_module_version": "1.5.0",
          "state": {
            "_model_module": "@jupyter-widgets/controls",
            "_model_module_version": "1.5.0",
            "_model_name": "ProgressStyleModel",
            "_view_count": null,
            "_view_module": "@jupyter-widgets/base",
            "_view_module_version": "1.2.0",
            "_view_name": "StyleView",
            "bar_color": null,
            "description_width": ""
          }
        },
        "4dff9496f7044824a5ac4bcf00a40689": {
          "model_module": "@jupyter-widgets/base",
          "model_name": "LayoutModel",
          "model_module_version": "1.2.0",
          "state": {
            "_model_module": "@jupyter-widgets/base",
            "_model_module_version": "1.2.0",
            "_model_name": "LayoutModel",
            "_view_count": null,
            "_view_module": "@jupyter-widgets/base",
            "_view_module_version": "1.2.0",
            "_view_name": "LayoutView",
            "align_content": null,
            "align_items": null,
            "align_self": null,
            "border": null,
            "bottom": null,
            "display": null,
            "flex": null,
            "flex_flow": null,
            "grid_area": null,
            "grid_auto_columns": null,
            "grid_auto_flow": null,
            "grid_auto_rows": null,
            "grid_column": null,
            "grid_gap": null,
            "grid_row": null,
            "grid_template_areas": null,
            "grid_template_columns": null,
            "grid_template_rows": null,
            "height": null,
            "justify_content": null,
            "justify_items": null,
            "left": null,
            "margin": null,
            "max_height": null,
            "max_width": null,
            "min_height": null,
            "min_width": null,
            "object_fit": null,
            "object_position": null,
            "order": null,
            "overflow": null,
            "overflow_x": null,
            "overflow_y": null,
            "padding": null,
            "right": null,
            "top": null,
            "visibility": null,
            "width": null
          }
        },
        "3c378a8e4f0a49e4a9657d559a747386": {
          "model_module": "@jupyter-widgets/controls",
          "model_name": "DescriptionStyleModel",
          "model_module_version": "1.5.0",
          "state": {
            "_model_module": "@jupyter-widgets/controls",
            "_model_module_version": "1.5.0",
            "_model_name": "DescriptionStyleModel",
            "_view_count": null,
            "_view_module": "@jupyter-widgets/base",
            "_view_module_version": "1.2.0",
            "_view_name": "StyleView",
            "description_width": ""
          }
        },
        "9217e01be5f84afb8abe0b972545248c": {
          "model_module": "@jupyter-widgets/controls",
          "model_name": "HBoxModel",
          "model_module_version": "1.5.0",
          "state": {
            "_dom_classes": [],
            "_model_module": "@jupyter-widgets/controls",
            "_model_module_version": "1.5.0",
            "_model_name": "HBoxModel",
            "_view_count": null,
            "_view_module": "@jupyter-widgets/controls",
            "_view_module_version": "1.5.0",
            "_view_name": "HBoxView",
            "box_style": "",
            "children": [
              "IPY_MODEL_d3355dc1252549a391065422d643f518",
              "IPY_MODEL_ca21a7b7e8194712bd9303ec5eb12514",
              "IPY_MODEL_da35b1378bab472090667c7b38755305"
            ],
            "layout": "IPY_MODEL_a97f5ccfb7a24f6fbce1b20c898eb82a"
          }
        },
        "d3355dc1252549a391065422d643f518": {
          "model_module": "@jupyter-widgets/controls",
          "model_name": "HTMLModel",
          "model_module_version": "1.5.0",
          "state": {
            "_dom_classes": [],
            "_model_module": "@jupyter-widgets/controls",
            "_model_module_version": "1.5.0",
            "_model_name": "HTMLModel",
            "_view_count": null,
            "_view_module": "@jupyter-widgets/controls",
            "_view_module_version": "1.5.0",
            "_view_name": "HTMLView",
            "description": "",
            "description_tooltip": null,
            "layout": "IPY_MODEL_ab7ff914bcd24772a7b63f43ccc31b7b",
            "placeholder": "​",
            "style": "IPY_MODEL_73dc47ccc08043c28518ce8cda6083cd",
            "value": "Saving the dataset (1/1 shards): 100%"
          }
        },
        "ca21a7b7e8194712bd9303ec5eb12514": {
          "model_module": "@jupyter-widgets/controls",
          "model_name": "FloatProgressModel",
          "model_module_version": "1.5.0",
          "state": {
            "_dom_classes": [],
            "_model_module": "@jupyter-widgets/controls",
            "_model_module_version": "1.5.0",
            "_model_name": "FloatProgressModel",
            "_view_count": null,
            "_view_module": "@jupyter-widgets/controls",
            "_view_module_version": "1.5.0",
            "_view_name": "ProgressView",
            "bar_style": "",
            "description": "",
            "description_tooltip": null,
            "layout": "IPY_MODEL_ba4c967c479947c7b01b6b1544aceb08",
            "max": 1,
            "min": 0,
            "orientation": "horizontal",
            "style": "IPY_MODEL_25f3c59823cc400abbcc9ebacdf2944e",
            "value": 1
          }
        },
        "da35b1378bab472090667c7b38755305": {
          "model_module": "@jupyter-widgets/controls",
          "model_name": "HTMLModel",
          "model_module_version": "1.5.0",
          "state": {
            "_dom_classes": [],
            "_model_module": "@jupyter-widgets/controls",
            "_model_module_version": "1.5.0",
            "_model_name": "HTMLModel",
            "_view_count": null,
            "_view_module": "@jupyter-widgets/controls",
            "_view_module_version": "1.5.0",
            "_view_name": "HTMLView",
            "description": "",
            "description_tooltip": null,
            "layout": "IPY_MODEL_73490044ef444e1eb6a4e19d21f3da01",
            "placeholder": "​",
            "style": "IPY_MODEL_be37825a629f4d478f149e21e3bb65eb",
            "value": " 1/1 [00:00&lt;00:00, 58.15 examples/s]"
          }
        },
        "a97f5ccfb7a24f6fbce1b20c898eb82a": {
          "model_module": "@jupyter-widgets/base",
          "model_name": "LayoutModel",
          "model_module_version": "1.2.0",
          "state": {
            "_model_module": "@jupyter-widgets/base",
            "_model_module_version": "1.2.0",
            "_model_name": "LayoutModel",
            "_view_count": null,
            "_view_module": "@jupyter-widgets/base",
            "_view_module_version": "1.2.0",
            "_view_name": "LayoutView",
            "align_content": null,
            "align_items": null,
            "align_self": null,
            "border": null,
            "bottom": null,
            "display": null,
            "flex": null,
            "flex_flow": null,
            "grid_area": null,
            "grid_auto_columns": null,
            "grid_auto_flow": null,
            "grid_auto_rows": null,
            "grid_column": null,
            "grid_gap": null,
            "grid_row": null,
            "grid_template_areas": null,
            "grid_template_columns": null,
            "grid_template_rows": null,
            "height": null,
            "justify_content": null,
            "justify_items": null,
            "left": null,
            "margin": null,
            "max_height": null,
            "max_width": null,
            "min_height": null,
            "min_width": null,
            "object_fit": null,
            "object_position": null,
            "order": null,
            "overflow": null,
            "overflow_x": null,
            "overflow_y": null,
            "padding": null,
            "right": null,
            "top": null,
            "visibility": "hidden",
            "width": null
          }
        },
        "ab7ff914bcd24772a7b63f43ccc31b7b": {
          "model_module": "@jupyter-widgets/base",
          "model_name": "LayoutModel",
          "model_module_version": "1.2.0",
          "state": {
            "_model_module": "@jupyter-widgets/base",
            "_model_module_version": "1.2.0",
            "_model_name": "LayoutModel",
            "_view_count": null,
            "_view_module": "@jupyter-widgets/base",
            "_view_module_version": "1.2.0",
            "_view_name": "LayoutView",
            "align_content": null,
            "align_items": null,
            "align_self": null,
            "border": null,
            "bottom": null,
            "display": null,
            "flex": null,
            "flex_flow": null,
            "grid_area": null,
            "grid_auto_columns": null,
            "grid_auto_flow": null,
            "grid_auto_rows": null,
            "grid_column": null,
            "grid_gap": null,
            "grid_row": null,
            "grid_template_areas": null,
            "grid_template_columns": null,
            "grid_template_rows": null,
            "height": null,
            "justify_content": null,
            "justify_items": null,
            "left": null,
            "margin": null,
            "max_height": null,
            "max_width": null,
            "min_height": null,
            "min_width": null,
            "object_fit": null,
            "object_position": null,
            "order": null,
            "overflow": null,
            "overflow_x": null,
            "overflow_y": null,
            "padding": null,
            "right": null,
            "top": null,
            "visibility": null,
            "width": null
          }
        },
        "73dc47ccc08043c28518ce8cda6083cd": {
          "model_module": "@jupyter-widgets/controls",
          "model_name": "DescriptionStyleModel",
          "model_module_version": "1.5.0",
          "state": {
            "_model_module": "@jupyter-widgets/controls",
            "_model_module_version": "1.5.0",
            "_model_name": "DescriptionStyleModel",
            "_view_count": null,
            "_view_module": "@jupyter-widgets/base",
            "_view_module_version": "1.2.0",
            "_view_name": "StyleView",
            "description_width": ""
          }
        },
        "ba4c967c479947c7b01b6b1544aceb08": {
          "model_module": "@jupyter-widgets/base",
          "model_name": "LayoutModel",
          "model_module_version": "1.2.0",
          "state": {
            "_model_module": "@jupyter-widgets/base",
            "_model_module_version": "1.2.0",
            "_model_name": "LayoutModel",
            "_view_count": null,
            "_view_module": "@jupyter-widgets/base",
            "_view_module_version": "1.2.0",
            "_view_name": "LayoutView",
            "align_content": null,
            "align_items": null,
            "align_self": null,
            "border": null,
            "bottom": null,
            "display": null,
            "flex": null,
            "flex_flow": null,
            "grid_area": null,
            "grid_auto_columns": null,
            "grid_auto_flow": null,
            "grid_auto_rows": null,
            "grid_column": null,
            "grid_gap": null,
            "grid_row": null,
            "grid_template_areas": null,
            "grid_template_columns": null,
            "grid_template_rows": null,
            "height": null,
            "justify_content": null,
            "justify_items": null,
            "left": null,
            "margin": null,
            "max_height": null,
            "max_width": null,
            "min_height": null,
            "min_width": null,
            "object_fit": null,
            "object_position": null,
            "order": null,
            "overflow": null,
            "overflow_x": null,
            "overflow_y": null,
            "padding": null,
            "right": null,
            "top": null,
            "visibility": null,
            "width": null
          }
        },
        "25f3c59823cc400abbcc9ebacdf2944e": {
          "model_module": "@jupyter-widgets/controls",
          "model_name": "ProgressStyleModel",
          "model_module_version": "1.5.0",
          "state": {
            "_model_module": "@jupyter-widgets/controls",
            "_model_module_version": "1.5.0",
            "_model_name": "ProgressStyleModel",
            "_view_count": null,
            "_view_module": "@jupyter-widgets/base",
            "_view_module_version": "1.2.0",
            "_view_name": "StyleView",
            "bar_color": null,
            "description_width": ""
          }
        },
        "73490044ef444e1eb6a4e19d21f3da01": {
          "model_module": "@jupyter-widgets/base",
          "model_name": "LayoutModel",
          "model_module_version": "1.2.0",
          "state": {
            "_model_module": "@jupyter-widgets/base",
            "_model_module_version": "1.2.0",
            "_model_name": "LayoutModel",
            "_view_count": null,
            "_view_module": "@jupyter-widgets/base",
            "_view_module_version": "1.2.0",
            "_view_name": "LayoutView",
            "align_content": null,
            "align_items": null,
            "align_self": null,
            "border": null,
            "bottom": null,
            "display": null,
            "flex": null,
            "flex_flow": null,
            "grid_area": null,
            "grid_auto_columns": null,
            "grid_auto_flow": null,
            "grid_auto_rows": null,
            "grid_column": null,
            "grid_gap": null,
            "grid_row": null,
            "grid_template_areas": null,
            "grid_template_columns": null,
            "grid_template_rows": null,
            "height": null,
            "justify_content": null,
            "justify_items": null,
            "left": null,
            "margin": null,
            "max_height": null,
            "max_width": null,
            "min_height": null,
            "min_width": null,
            "object_fit": null,
            "object_position": null,
            "order": null,
            "overflow": null,
            "overflow_x": null,
            "overflow_y": null,
            "padding": null,
            "right": null,
            "top": null,
            "visibility": null,
            "width": null
          }
        },
        "be37825a629f4d478f149e21e3bb65eb": {
          "model_module": "@jupyter-widgets/controls",
          "model_name": "DescriptionStyleModel",
          "model_module_version": "1.5.0",
          "state": {
            "_model_module": "@jupyter-widgets/controls",
            "_model_module_version": "1.5.0",
            "_model_name": "DescriptionStyleModel",
            "_view_count": null,
            "_view_module": "@jupyter-widgets/base",
            "_view_module_version": "1.2.0",
            "_view_name": "StyleView",
            "description_width": ""
          }
        },
        "753888901df64139a55ce44290d5ad80": {
          "model_module": "@jupyter-widgets/controls",
          "model_name": "HBoxModel",
          "model_module_version": "1.5.0",
          "state": {
            "_dom_classes": [],
            "_model_module": "@jupyter-widgets/controls",
            "_model_module_version": "1.5.0",
            "_model_name": "HBoxModel",
            "_view_count": null,
            "_view_module": "@jupyter-widgets/controls",
            "_view_module_version": "1.5.0",
            "_view_name": "HBoxView",
            "box_style": "",
            "children": [
              "IPY_MODEL_6a9217f469c84189853bbf61123c3959",
              "IPY_MODEL_bc8f12a0cd654f42a786745f5938548f",
              "IPY_MODEL_09dd16cdbbcf4d26b6a583a959d21fab"
            ],
            "layout": "IPY_MODEL_0cffbd39de494ed19845f004bb18fc6c"
          }
        },
        "6a9217f469c84189853bbf61123c3959": {
          "model_module": "@jupyter-widgets/controls",
          "model_name": "HTMLModel",
          "model_module_version": "1.5.0",
          "state": {
            "_dom_classes": [],
            "_model_module": "@jupyter-widgets/controls",
            "_model_module_version": "1.5.0",
            "_model_name": "HTMLModel",
            "_view_count": null,
            "_view_module": "@jupyter-widgets/controls",
            "_view_module_version": "1.5.0",
            "_view_name": "HTMLView",
            "description": "",
            "description_tooltip": null,
            "layout": "IPY_MODEL_f69923d0cd6040c39e77c949565ecb05",
            "placeholder": "​",
            "style": "IPY_MODEL_e7f14f67a4034349ac4e9db9a4c3d037",
            "value": "Saving the dataset (1/1 shards): 100%"
          }
        },
        "bc8f12a0cd654f42a786745f5938548f": {
          "model_module": "@jupyter-widgets/controls",
          "model_name": "FloatProgressModel",
          "model_module_version": "1.5.0",
          "state": {
            "_dom_classes": [],
            "_model_module": "@jupyter-widgets/controls",
            "_model_module_version": "1.5.0",
            "_model_name": "FloatProgressModel",
            "_view_count": null,
            "_view_module": "@jupyter-widgets/controls",
            "_view_module_version": "1.5.0",
            "_view_name": "ProgressView",
            "bar_style": "",
            "description": "",
            "description_tooltip": null,
            "layout": "IPY_MODEL_b249a6108bb74681b52eb82c48ef8975",
            "max": 1,
            "min": 0,
            "orientation": "horizontal",
            "style": "IPY_MODEL_fd7783445da34e039a137a78445f2508",
            "value": 1
          }
        },
        "09dd16cdbbcf4d26b6a583a959d21fab": {
          "model_module": "@jupyter-widgets/controls",
          "model_name": "HTMLModel",
          "model_module_version": "1.5.0",
          "state": {
            "_dom_classes": [],
            "_model_module": "@jupyter-widgets/controls",
            "_model_module_version": "1.5.0",
            "_model_name": "HTMLModel",
            "_view_count": null,
            "_view_module": "@jupyter-widgets/controls",
            "_view_module_version": "1.5.0",
            "_view_name": "HTMLView",
            "description": "",
            "description_tooltip": null,
            "layout": "IPY_MODEL_5a049a3685fb4709b63d09b89e09a181",
            "placeholder": "​",
            "style": "IPY_MODEL_a31739d965184d12ba2fb40f61ab3632",
            "value": " 1/1 [00:00&lt;00:00, 64.32 examples/s]"
          }
        },
        "0cffbd39de494ed19845f004bb18fc6c": {
          "model_module": "@jupyter-widgets/base",
          "model_name": "LayoutModel",
          "model_module_version": "1.2.0",
          "state": {
            "_model_module": "@jupyter-widgets/base",
            "_model_module_version": "1.2.0",
            "_model_name": "LayoutModel",
            "_view_count": null,
            "_view_module": "@jupyter-widgets/base",
            "_view_module_version": "1.2.0",
            "_view_name": "LayoutView",
            "align_content": null,
            "align_items": null,
            "align_self": null,
            "border": null,
            "bottom": null,
            "display": null,
            "flex": null,
            "flex_flow": null,
            "grid_area": null,
            "grid_auto_columns": null,
            "grid_auto_flow": null,
            "grid_auto_rows": null,
            "grid_column": null,
            "grid_gap": null,
            "grid_row": null,
            "grid_template_areas": null,
            "grid_template_columns": null,
            "grid_template_rows": null,
            "height": null,
            "justify_content": null,
            "justify_items": null,
            "left": null,
            "margin": null,
            "max_height": null,
            "max_width": null,
            "min_height": null,
            "min_width": null,
            "object_fit": null,
            "object_position": null,
            "order": null,
            "overflow": null,
            "overflow_x": null,
            "overflow_y": null,
            "padding": null,
            "right": null,
            "top": null,
            "visibility": "hidden",
            "width": null
          }
        },
        "f69923d0cd6040c39e77c949565ecb05": {
          "model_module": "@jupyter-widgets/base",
          "model_name": "LayoutModel",
          "model_module_version": "1.2.0",
          "state": {
            "_model_module": "@jupyter-widgets/base",
            "_model_module_version": "1.2.0",
            "_model_name": "LayoutModel",
            "_view_count": null,
            "_view_module": "@jupyter-widgets/base",
            "_view_module_version": "1.2.0",
            "_view_name": "LayoutView",
            "align_content": null,
            "align_items": null,
            "align_self": null,
            "border": null,
            "bottom": null,
            "display": null,
            "flex": null,
            "flex_flow": null,
            "grid_area": null,
            "grid_auto_columns": null,
            "grid_auto_flow": null,
            "grid_auto_rows": null,
            "grid_column": null,
            "grid_gap": null,
            "grid_row": null,
            "grid_template_areas": null,
            "grid_template_columns": null,
            "grid_template_rows": null,
            "height": null,
            "justify_content": null,
            "justify_items": null,
            "left": null,
            "margin": null,
            "max_height": null,
            "max_width": null,
            "min_height": null,
            "min_width": null,
            "object_fit": null,
            "object_position": null,
            "order": null,
            "overflow": null,
            "overflow_x": null,
            "overflow_y": null,
            "padding": null,
            "right": null,
            "top": null,
            "visibility": null,
            "width": null
          }
        },
        "e7f14f67a4034349ac4e9db9a4c3d037": {
          "model_module": "@jupyter-widgets/controls",
          "model_name": "DescriptionStyleModel",
          "model_module_version": "1.5.0",
          "state": {
            "_model_module": "@jupyter-widgets/controls",
            "_model_module_version": "1.5.0",
            "_model_name": "DescriptionStyleModel",
            "_view_count": null,
            "_view_module": "@jupyter-widgets/base",
            "_view_module_version": "1.2.0",
            "_view_name": "StyleView",
            "description_width": ""
          }
        },
        "b249a6108bb74681b52eb82c48ef8975": {
          "model_module": "@jupyter-widgets/base",
          "model_name": "LayoutModel",
          "model_module_version": "1.2.0",
          "state": {
            "_model_module": "@jupyter-widgets/base",
            "_model_module_version": "1.2.0",
            "_model_name": "LayoutModel",
            "_view_count": null,
            "_view_module": "@jupyter-widgets/base",
            "_view_module_version": "1.2.0",
            "_view_name": "LayoutView",
            "align_content": null,
            "align_items": null,
            "align_self": null,
            "border": null,
            "bottom": null,
            "display": null,
            "flex": null,
            "flex_flow": null,
            "grid_area": null,
            "grid_auto_columns": null,
            "grid_auto_flow": null,
            "grid_auto_rows": null,
            "grid_column": null,
            "grid_gap": null,
            "grid_row": null,
            "grid_template_areas": null,
            "grid_template_columns": null,
            "grid_template_rows": null,
            "height": null,
            "justify_content": null,
            "justify_items": null,
            "left": null,
            "margin": null,
            "max_height": null,
            "max_width": null,
            "min_height": null,
            "min_width": null,
            "object_fit": null,
            "object_position": null,
            "order": null,
            "overflow": null,
            "overflow_x": null,
            "overflow_y": null,
            "padding": null,
            "right": null,
            "top": null,
            "visibility": null,
            "width": null
          }
        },
        "fd7783445da34e039a137a78445f2508": {
          "model_module": "@jupyter-widgets/controls",
          "model_name": "ProgressStyleModel",
          "model_module_version": "1.5.0",
          "state": {
            "_model_module": "@jupyter-widgets/controls",
            "_model_module_version": "1.5.0",
            "_model_name": "ProgressStyleModel",
            "_view_count": null,
            "_view_module": "@jupyter-widgets/base",
            "_view_module_version": "1.2.0",
            "_view_name": "StyleView",
            "bar_color": null,
            "description_width": ""
          }
        },
        "5a049a3685fb4709b63d09b89e09a181": {
          "model_module": "@jupyter-widgets/base",
          "model_name": "LayoutModel",
          "model_module_version": "1.2.0",
          "state": {
            "_model_module": "@jupyter-widgets/base",
            "_model_module_version": "1.2.0",
            "_model_name": "LayoutModel",
            "_view_count": null,
            "_view_module": "@jupyter-widgets/base",
            "_view_module_version": "1.2.0",
            "_view_name": "LayoutView",
            "align_content": null,
            "align_items": null,
            "align_self": null,
            "border": null,
            "bottom": null,
            "display": null,
            "flex": null,
            "flex_flow": null,
            "grid_area": null,
            "grid_auto_columns": null,
            "grid_auto_flow": null,
            "grid_auto_rows": null,
            "grid_column": null,
            "grid_gap": null,
            "grid_row": null,
            "grid_template_areas": null,
            "grid_template_columns": null,
            "grid_template_rows": null,
            "height": null,
            "justify_content": null,
            "justify_items": null,
            "left": null,
            "margin": null,
            "max_height": null,
            "max_width": null,
            "min_height": null,
            "min_width": null,
            "object_fit": null,
            "object_position": null,
            "order": null,
            "overflow": null,
            "overflow_x": null,
            "overflow_y": null,
            "padding": null,
            "right": null,
            "top": null,
            "visibility": null,
            "width": null
          }
        },
        "a31739d965184d12ba2fb40f61ab3632": {
          "model_module": "@jupyter-widgets/controls",
          "model_name": "DescriptionStyleModel",
          "model_module_version": "1.5.0",
          "state": {
            "_model_module": "@jupyter-widgets/controls",
            "_model_module_version": "1.5.0",
            "_model_name": "DescriptionStyleModel",
            "_view_count": null,
            "_view_module": "@jupyter-widgets/base",
            "_view_module_version": "1.2.0",
            "_view_name": "StyleView",
            "description_width": ""
          }
        },
        "b536d6d717fb4b18b0fd7b6d4aa514b9": {
          "model_module": "@jupyter-widgets/controls",
          "model_name": "HBoxModel",
          "model_module_version": "1.5.0",
          "state": {
            "_dom_classes": [],
            "_model_module": "@jupyter-widgets/controls",
            "_model_module_version": "1.5.0",
            "_model_name": "HBoxModel",
            "_view_count": null,
            "_view_module": "@jupyter-widgets/controls",
            "_view_module_version": "1.5.0",
            "_view_name": "HBoxView",
            "box_style": "",
            "children": [
              "IPY_MODEL_1c23e2517c384f89a57168efa408df30",
              "IPY_MODEL_71b160dca48a4da2938ea57645dec2fc",
              "IPY_MODEL_e18d2bde8b4f4ba4aec122f63dcb2eb6"
            ],
            "layout": "IPY_MODEL_577ebe1a5c79426cbf2572e11105adcd"
          }
        },
        "1c23e2517c384f89a57168efa408df30": {
          "model_module": "@jupyter-widgets/controls",
          "model_name": "HTMLModel",
          "model_module_version": "1.5.0",
          "state": {
            "_dom_classes": [],
            "_model_module": "@jupyter-widgets/controls",
            "_model_module_version": "1.5.0",
            "_model_name": "HTMLModel",
            "_view_count": null,
            "_view_module": "@jupyter-widgets/controls",
            "_view_module_version": "1.5.0",
            "_view_name": "HTMLView",
            "description": "",
            "description_tooltip": null,
            "layout": "IPY_MODEL_3f6a67b6bd074d148849daea233a3c8f",
            "placeholder": "​",
            "style": "IPY_MODEL_954c12424a384fc4a188f9e193dfff88",
            "value": "Pushing dataset shards to the dataset hub: 100%"
          }
        },
        "71b160dca48a4da2938ea57645dec2fc": {
          "model_module": "@jupyter-widgets/controls",
          "model_name": "FloatProgressModel",
          "model_module_version": "1.5.0",
          "state": {
            "_dom_classes": [],
            "_model_module": "@jupyter-widgets/controls",
            "_model_module_version": "1.5.0",
            "_model_name": "FloatProgressModel",
            "_view_count": null,
            "_view_module": "@jupyter-widgets/controls",
            "_view_module_version": "1.5.0",
            "_view_name": "ProgressView",
            "bar_style": "success",
            "description": "",
            "description_tooltip": null,
            "layout": "IPY_MODEL_cba1a183883743469a34ad81b6f214e5",
            "max": 1,
            "min": 0,
            "orientation": "horizontal",
            "style": "IPY_MODEL_6478b56748e5403591f1e00bad795997",
            "value": 1
          }
        },
        "e18d2bde8b4f4ba4aec122f63dcb2eb6": {
          "model_module": "@jupyter-widgets/controls",
          "model_name": "HTMLModel",
          "model_module_version": "1.5.0",
          "state": {
            "_dom_classes": [],
            "_model_module": "@jupyter-widgets/controls",
            "_model_module_version": "1.5.0",
            "_model_name": "HTMLModel",
            "_view_count": null,
            "_view_module": "@jupyter-widgets/controls",
            "_view_module_version": "1.5.0",
            "_view_name": "HTMLView",
            "description": "",
            "description_tooltip": null,
            "layout": "IPY_MODEL_c0cf8e1024844f368c97843af62f3066",
            "placeholder": "​",
            "style": "IPY_MODEL_e6dc9dd74c704f8393590ee766c02eb5",
            "value": " 1/1 [00:00&lt;00:00,  3.09it/s]"
          }
        },
        "577ebe1a5c79426cbf2572e11105adcd": {
          "model_module": "@jupyter-widgets/base",
          "model_name": "LayoutModel",
          "model_module_version": "1.2.0",
          "state": {
            "_model_module": "@jupyter-widgets/base",
            "_model_module_version": "1.2.0",
            "_model_name": "LayoutModel",
            "_view_count": null,
            "_view_module": "@jupyter-widgets/base",
            "_view_module_version": "1.2.0",
            "_view_name": "LayoutView",
            "align_content": null,
            "align_items": null,
            "align_self": null,
            "border": null,
            "bottom": null,
            "display": null,
            "flex": null,
            "flex_flow": null,
            "grid_area": null,
            "grid_auto_columns": null,
            "grid_auto_flow": null,
            "grid_auto_rows": null,
            "grid_column": null,
            "grid_gap": null,
            "grid_row": null,
            "grid_template_areas": null,
            "grid_template_columns": null,
            "grid_template_rows": null,
            "height": null,
            "justify_content": null,
            "justify_items": null,
            "left": null,
            "margin": null,
            "max_height": null,
            "max_width": null,
            "min_height": null,
            "min_width": null,
            "object_fit": null,
            "object_position": null,
            "order": null,
            "overflow": null,
            "overflow_x": null,
            "overflow_y": null,
            "padding": null,
            "right": null,
            "top": null,
            "visibility": null,
            "width": null
          }
        },
        "3f6a67b6bd074d148849daea233a3c8f": {
          "model_module": "@jupyter-widgets/base",
          "model_name": "LayoutModel",
          "model_module_version": "1.2.0",
          "state": {
            "_model_module": "@jupyter-widgets/base",
            "_model_module_version": "1.2.0",
            "_model_name": "LayoutModel",
            "_view_count": null,
            "_view_module": "@jupyter-widgets/base",
            "_view_module_version": "1.2.0",
            "_view_name": "LayoutView",
            "align_content": null,
            "align_items": null,
            "align_self": null,
            "border": null,
            "bottom": null,
            "display": null,
            "flex": null,
            "flex_flow": null,
            "grid_area": null,
            "grid_auto_columns": null,
            "grid_auto_flow": null,
            "grid_auto_rows": null,
            "grid_column": null,
            "grid_gap": null,
            "grid_row": null,
            "grid_template_areas": null,
            "grid_template_columns": null,
            "grid_template_rows": null,
            "height": null,
            "justify_content": null,
            "justify_items": null,
            "left": null,
            "margin": null,
            "max_height": null,
            "max_width": null,
            "min_height": null,
            "min_width": null,
            "object_fit": null,
            "object_position": null,
            "order": null,
            "overflow": null,
            "overflow_x": null,
            "overflow_y": null,
            "padding": null,
            "right": null,
            "top": null,
            "visibility": null,
            "width": null
          }
        },
        "954c12424a384fc4a188f9e193dfff88": {
          "model_module": "@jupyter-widgets/controls",
          "model_name": "DescriptionStyleModel",
          "model_module_version": "1.5.0",
          "state": {
            "_model_module": "@jupyter-widgets/controls",
            "_model_module_version": "1.5.0",
            "_model_name": "DescriptionStyleModel",
            "_view_count": null,
            "_view_module": "@jupyter-widgets/base",
            "_view_module_version": "1.2.0",
            "_view_name": "StyleView",
            "description_width": ""
          }
        },
        "cba1a183883743469a34ad81b6f214e5": {
          "model_module": "@jupyter-widgets/base",
          "model_name": "LayoutModel",
          "model_module_version": "1.2.0",
          "state": {
            "_model_module": "@jupyter-widgets/base",
            "_model_module_version": "1.2.0",
            "_model_name": "LayoutModel",
            "_view_count": null,
            "_view_module": "@jupyter-widgets/base",
            "_view_module_version": "1.2.0",
            "_view_name": "LayoutView",
            "align_content": null,
            "align_items": null,
            "align_self": null,
            "border": null,
            "bottom": null,
            "display": null,
            "flex": null,
            "flex_flow": null,
            "grid_area": null,
            "grid_auto_columns": null,
            "grid_auto_flow": null,
            "grid_auto_rows": null,
            "grid_column": null,
            "grid_gap": null,
            "grid_row": null,
            "grid_template_areas": null,
            "grid_template_columns": null,
            "grid_template_rows": null,
            "height": null,
            "justify_content": null,
            "justify_items": null,
            "left": null,
            "margin": null,
            "max_height": null,
            "max_width": null,
            "min_height": null,
            "min_width": null,
            "object_fit": null,
            "object_position": null,
            "order": null,
            "overflow": null,
            "overflow_x": null,
            "overflow_y": null,
            "padding": null,
            "right": null,
            "top": null,
            "visibility": null,
            "width": null
          }
        },
        "6478b56748e5403591f1e00bad795997": {
          "model_module": "@jupyter-widgets/controls",
          "model_name": "ProgressStyleModel",
          "model_module_version": "1.5.0",
          "state": {
            "_model_module": "@jupyter-widgets/controls",
            "_model_module_version": "1.5.0",
            "_model_name": "ProgressStyleModel",
            "_view_count": null,
            "_view_module": "@jupyter-widgets/base",
            "_view_module_version": "1.2.0",
            "_view_name": "StyleView",
            "bar_color": null,
            "description_width": ""
          }
        },
        "c0cf8e1024844f368c97843af62f3066": {
          "model_module": "@jupyter-widgets/base",
          "model_name": "LayoutModel",
          "model_module_version": "1.2.0",
          "state": {
            "_model_module": "@jupyter-widgets/base",
            "_model_module_version": "1.2.0",
            "_model_name": "LayoutModel",
            "_view_count": null,
            "_view_module": "@jupyter-widgets/base",
            "_view_module_version": "1.2.0",
            "_view_name": "LayoutView",
            "align_content": null,
            "align_items": null,
            "align_self": null,
            "border": null,
            "bottom": null,
            "display": null,
            "flex": null,
            "flex_flow": null,
            "grid_area": null,
            "grid_auto_columns": null,
            "grid_auto_flow": null,
            "grid_auto_rows": null,
            "grid_column": null,
            "grid_gap": null,
            "grid_row": null,
            "grid_template_areas": null,
            "grid_template_columns": null,
            "grid_template_rows": null,
            "height": null,
            "justify_content": null,
            "justify_items": null,
            "left": null,
            "margin": null,
            "max_height": null,
            "max_width": null,
            "min_height": null,
            "min_width": null,
            "object_fit": null,
            "object_position": null,
            "order": null,
            "overflow": null,
            "overflow_x": null,
            "overflow_y": null,
            "padding": null,
            "right": null,
            "top": null,
            "visibility": null,
            "width": null
          }
        },
        "e6dc9dd74c704f8393590ee766c02eb5": {
          "model_module": "@jupyter-widgets/controls",
          "model_name": "DescriptionStyleModel",
          "model_module_version": "1.5.0",
          "state": {
            "_model_module": "@jupyter-widgets/controls",
            "_model_module_version": "1.5.0",
            "_model_name": "DescriptionStyleModel",
            "_view_count": null,
            "_view_module": "@jupyter-widgets/base",
            "_view_module_version": "1.2.0",
            "_view_name": "StyleView",
            "description_width": ""
          }
        },
        "ff18777afea84db39e18ad4252126799": {
          "model_module": "@jupyter-widgets/controls",
          "model_name": "HBoxModel",
          "model_module_version": "1.5.0",
          "state": {
            "_dom_classes": [],
            "_model_module": "@jupyter-widgets/controls",
            "_model_module_version": "1.5.0",
            "_model_name": "HBoxModel",
            "_view_count": null,
            "_view_module": "@jupyter-widgets/controls",
            "_view_module_version": "1.5.0",
            "_view_name": "HBoxView",
            "box_style": "",
            "children": [
              "IPY_MODEL_1b15fa33d7454a62ac281f4fa699b76c",
              "IPY_MODEL_e216228ce2e5486e9d76d9b567305564",
              "IPY_MODEL_83c85b35932a4ed58e825ae7bd2b1324"
            ],
            "layout": "IPY_MODEL_02b55147104d4a198f48672528764817"
          }
        },
        "1b15fa33d7454a62ac281f4fa699b76c": {
          "model_module": "@jupyter-widgets/controls",
          "model_name": "HTMLModel",
          "model_module_version": "1.5.0",
          "state": {
            "_dom_classes": [],
            "_model_module": "@jupyter-widgets/controls",
            "_model_module_version": "1.5.0",
            "_model_name": "HTMLModel",
            "_view_count": null,
            "_view_module": "@jupyter-widgets/controls",
            "_view_module_version": "1.5.0",
            "_view_name": "HTMLView",
            "description": "",
            "description_tooltip": null,
            "layout": "IPY_MODEL_177d63fe4f004e839a91030c23aa6fe8",
            "placeholder": "​",
            "style": "IPY_MODEL_8b2aa5e321864b7198d186f55fae0f61",
            "value": "Creating parquet from Arrow format: 100%"
          }
        },
        "e216228ce2e5486e9d76d9b567305564": {
          "model_module": "@jupyter-widgets/controls",
          "model_name": "FloatProgressModel",
          "model_module_version": "1.5.0",
          "state": {
            "_dom_classes": [],
            "_model_module": "@jupyter-widgets/controls",
            "_model_module_version": "1.5.0",
            "_model_name": "FloatProgressModel",
            "_view_count": null,
            "_view_module": "@jupyter-widgets/controls",
            "_view_module_version": "1.5.0",
            "_view_name": "ProgressView",
            "bar_style": "success",
            "description": "",
            "description_tooltip": null,
            "layout": "IPY_MODEL_4b40b6ca341e4d729784da11f0df6b76",
            "max": 1,
            "min": 0,
            "orientation": "horizontal",
            "style": "IPY_MODEL_8056489c79034ba1b283a593f4f84486",
            "value": 1
          }
        },
        "83c85b35932a4ed58e825ae7bd2b1324": {
          "model_module": "@jupyter-widgets/controls",
          "model_name": "HTMLModel",
          "model_module_version": "1.5.0",
          "state": {
            "_dom_classes": [],
            "_model_module": "@jupyter-widgets/controls",
            "_model_module_version": "1.5.0",
            "_model_name": "HTMLModel",
            "_view_count": null,
            "_view_module": "@jupyter-widgets/controls",
            "_view_module_version": "1.5.0",
            "_view_name": "HTMLView",
            "description": "",
            "description_tooltip": null,
            "layout": "IPY_MODEL_421f5310256d41829964fd38c92023e5",
            "placeholder": "​",
            "style": "IPY_MODEL_6ad265a46b034e479e61cf3082b2bd92",
            "value": " 1/1 [00:00&lt;00:00, 65.25ba/s]"
          }
        },
        "02b55147104d4a198f48672528764817": {
          "model_module": "@jupyter-widgets/base",
          "model_name": "LayoutModel",
          "model_module_version": "1.2.0",
          "state": {
            "_model_module": "@jupyter-widgets/base",
            "_model_module_version": "1.2.0",
            "_model_name": "LayoutModel",
            "_view_count": null,
            "_view_module": "@jupyter-widgets/base",
            "_view_module_version": "1.2.0",
            "_view_name": "LayoutView",
            "align_content": null,
            "align_items": null,
            "align_self": null,
            "border": null,
            "bottom": null,
            "display": null,
            "flex": null,
            "flex_flow": null,
            "grid_area": null,
            "grid_auto_columns": null,
            "grid_auto_flow": null,
            "grid_auto_rows": null,
            "grid_column": null,
            "grid_gap": null,
            "grid_row": null,
            "grid_template_areas": null,
            "grid_template_columns": null,
            "grid_template_rows": null,
            "height": null,
            "justify_content": null,
            "justify_items": null,
            "left": null,
            "margin": null,
            "max_height": null,
            "max_width": null,
            "min_height": null,
            "min_width": null,
            "object_fit": null,
            "object_position": null,
            "order": null,
            "overflow": null,
            "overflow_x": null,
            "overflow_y": null,
            "padding": null,
            "right": null,
            "top": null,
            "visibility": null,
            "width": null
          }
        },
        "177d63fe4f004e839a91030c23aa6fe8": {
          "model_module": "@jupyter-widgets/base",
          "model_name": "LayoutModel",
          "model_module_version": "1.2.0",
          "state": {
            "_model_module": "@jupyter-widgets/base",
            "_model_module_version": "1.2.0",
            "_model_name": "LayoutModel",
            "_view_count": null,
            "_view_module": "@jupyter-widgets/base",
            "_view_module_version": "1.2.0",
            "_view_name": "LayoutView",
            "align_content": null,
            "align_items": null,
            "align_self": null,
            "border": null,
            "bottom": null,
            "display": null,
            "flex": null,
            "flex_flow": null,
            "grid_area": null,
            "grid_auto_columns": null,
            "grid_auto_flow": null,
            "grid_auto_rows": null,
            "grid_column": null,
            "grid_gap": null,
            "grid_row": null,
            "grid_template_areas": null,
            "grid_template_columns": null,
            "grid_template_rows": null,
            "height": null,
            "justify_content": null,
            "justify_items": null,
            "left": null,
            "margin": null,
            "max_height": null,
            "max_width": null,
            "min_height": null,
            "min_width": null,
            "object_fit": null,
            "object_position": null,
            "order": null,
            "overflow": null,
            "overflow_x": null,
            "overflow_y": null,
            "padding": null,
            "right": null,
            "top": null,
            "visibility": null,
            "width": null
          }
        },
        "8b2aa5e321864b7198d186f55fae0f61": {
          "model_module": "@jupyter-widgets/controls",
          "model_name": "DescriptionStyleModel",
          "model_module_version": "1.5.0",
          "state": {
            "_model_module": "@jupyter-widgets/controls",
            "_model_module_version": "1.5.0",
            "_model_name": "DescriptionStyleModel",
            "_view_count": null,
            "_view_module": "@jupyter-widgets/base",
            "_view_module_version": "1.2.0",
            "_view_name": "StyleView",
            "description_width": ""
          }
        },
        "4b40b6ca341e4d729784da11f0df6b76": {
          "model_module": "@jupyter-widgets/base",
          "model_name": "LayoutModel",
          "model_module_version": "1.2.0",
          "state": {
            "_model_module": "@jupyter-widgets/base",
            "_model_module_version": "1.2.0",
            "_model_name": "LayoutModel",
            "_view_count": null,
            "_view_module": "@jupyter-widgets/base",
            "_view_module_version": "1.2.0",
            "_view_name": "LayoutView",
            "align_content": null,
            "align_items": null,
            "align_self": null,
            "border": null,
            "bottom": null,
            "display": null,
            "flex": null,
            "flex_flow": null,
            "grid_area": null,
            "grid_auto_columns": null,
            "grid_auto_flow": null,
            "grid_auto_rows": null,
            "grid_column": null,
            "grid_gap": null,
            "grid_row": null,
            "grid_template_areas": null,
            "grid_template_columns": null,
            "grid_template_rows": null,
            "height": null,
            "justify_content": null,
            "justify_items": null,
            "left": null,
            "margin": null,
            "max_height": null,
            "max_width": null,
            "min_height": null,
            "min_width": null,
            "object_fit": null,
            "object_position": null,
            "order": null,
            "overflow": null,
            "overflow_x": null,
            "overflow_y": null,
            "padding": null,
            "right": null,
            "top": null,
            "visibility": null,
            "width": null
          }
        },
        "8056489c79034ba1b283a593f4f84486": {
          "model_module": "@jupyter-widgets/controls",
          "model_name": "ProgressStyleModel",
          "model_module_version": "1.5.0",
          "state": {
            "_model_module": "@jupyter-widgets/controls",
            "_model_module_version": "1.5.0",
            "_model_name": "ProgressStyleModel",
            "_view_count": null,
            "_view_module": "@jupyter-widgets/base",
            "_view_module_version": "1.2.0",
            "_view_name": "StyleView",
            "bar_color": null,
            "description_width": ""
          }
        },
        "421f5310256d41829964fd38c92023e5": {
          "model_module": "@jupyter-widgets/base",
          "model_name": "LayoutModel",
          "model_module_version": "1.2.0",
          "state": {
            "_model_module": "@jupyter-widgets/base",
            "_model_module_version": "1.2.0",
            "_model_name": "LayoutModel",
            "_view_count": null,
            "_view_module": "@jupyter-widgets/base",
            "_view_module_version": "1.2.0",
            "_view_name": "LayoutView",
            "align_content": null,
            "align_items": null,
            "align_self": null,
            "border": null,
            "bottom": null,
            "display": null,
            "flex": null,
            "flex_flow": null,
            "grid_area": null,
            "grid_auto_columns": null,
            "grid_auto_flow": null,
            "grid_auto_rows": null,
            "grid_column": null,
            "grid_gap": null,
            "grid_row": null,
            "grid_template_areas": null,
            "grid_template_columns": null,
            "grid_template_rows": null,
            "height": null,
            "justify_content": null,
            "justify_items": null,
            "left": null,
            "margin": null,
            "max_height": null,
            "max_width": null,
            "min_height": null,
            "min_width": null,
            "object_fit": null,
            "object_position": null,
            "order": null,
            "overflow": null,
            "overflow_x": null,
            "overflow_y": null,
            "padding": null,
            "right": null,
            "top": null,
            "visibility": null,
            "width": null
          }
        },
        "6ad265a46b034e479e61cf3082b2bd92": {
          "model_module": "@jupyter-widgets/controls",
          "model_name": "DescriptionStyleModel",
          "model_module_version": "1.5.0",
          "state": {
            "_model_module": "@jupyter-widgets/controls",
            "_model_module_version": "1.5.0",
            "_model_name": "DescriptionStyleModel",
            "_view_count": null,
            "_view_module": "@jupyter-widgets/base",
            "_view_module_version": "1.2.0",
            "_view_name": "StyleView",
            "description_width": ""
          }
        },
        "ccd888b496494015b5bfbc38f530c75b": {
          "model_module": "@jupyter-widgets/controls",
          "model_name": "HBoxModel",
          "model_module_version": "1.5.0",
          "state": {
            "_dom_classes": [],
            "_model_module": "@jupyter-widgets/controls",
            "_model_module_version": "1.5.0",
            "_model_name": "HBoxModel",
            "_view_count": null,
            "_view_module": "@jupyter-widgets/controls",
            "_view_module_version": "1.5.0",
            "_view_name": "HBoxView",
            "box_style": "",
            "children": [
              "IPY_MODEL_d60577dd0dfd4159bcf1a758fc3f5fbe",
              "IPY_MODEL_da498531e7a64f64a50289da8d50e2f6",
              "IPY_MODEL_6a7884d3b1274543b480c38fb2560bcf"
            ],
            "layout": "IPY_MODEL_7509f505ec244d54af88d972f0aa0e5d"
          }
        },
        "d60577dd0dfd4159bcf1a758fc3f5fbe": {
          "model_module": "@jupyter-widgets/controls",
          "model_name": "HTMLModel",
          "model_module_version": "1.5.0",
          "state": {
            "_dom_classes": [],
            "_model_module": "@jupyter-widgets/controls",
            "_model_module_version": "1.5.0",
            "_model_name": "HTMLModel",
            "_view_count": null,
            "_view_module": "@jupyter-widgets/controls",
            "_view_module_version": "1.5.0",
            "_view_name": "HTMLView",
            "description": "",
            "description_tooltip": null,
            "layout": "IPY_MODEL_ff2998e0975042b69c032f43709b3695",
            "placeholder": "​",
            "style": "IPY_MODEL_95b499be49fd48589336bf7065eac2e5",
            "value": "Deleting unused files from dataset repository: 100%"
          }
        },
        "da498531e7a64f64a50289da8d50e2f6": {
          "model_module": "@jupyter-widgets/controls",
          "model_name": "FloatProgressModel",
          "model_module_version": "1.5.0",
          "state": {
            "_dom_classes": [],
            "_model_module": "@jupyter-widgets/controls",
            "_model_module_version": "1.5.0",
            "_model_name": "FloatProgressModel",
            "_view_count": null,
            "_view_module": "@jupyter-widgets/controls",
            "_view_module_version": "1.5.0",
            "_view_name": "ProgressView",
            "bar_style": "success",
            "description": "",
            "description_tooltip": null,
            "layout": "IPY_MODEL_ef33ce93ea954a67916bdaad21b2f956",
            "max": 1,
            "min": 0,
            "orientation": "horizontal",
            "style": "IPY_MODEL_c83f36fef5174ed1b5829db3e8b8bb3b",
            "value": 1
          }
        },
        "6a7884d3b1274543b480c38fb2560bcf": {
          "model_module": "@jupyter-widgets/controls",
          "model_name": "HTMLModel",
          "model_module_version": "1.5.0",
          "state": {
            "_dom_classes": [],
            "_model_module": "@jupyter-widgets/controls",
            "_model_module_version": "1.5.0",
            "_model_name": "HTMLModel",
            "_view_count": null,
            "_view_module": "@jupyter-widgets/controls",
            "_view_module_version": "1.5.0",
            "_view_name": "HTMLView",
            "description": "",
            "description_tooltip": null,
            "layout": "IPY_MODEL_76c95b2aa4674b9eb2e7a80ff86eee9f",
            "placeholder": "​",
            "style": "IPY_MODEL_a5d1301ffc0e424cad93ebe448377ba7",
            "value": " 1/1 [00:00&lt;00:00,  7.50it/s]"
          }
        },
        "7509f505ec244d54af88d972f0aa0e5d": {
          "model_module": "@jupyter-widgets/base",
          "model_name": "LayoutModel",
          "model_module_version": "1.2.0",
          "state": {
            "_model_module": "@jupyter-widgets/base",
            "_model_module_version": "1.2.0",
            "_model_name": "LayoutModel",
            "_view_count": null,
            "_view_module": "@jupyter-widgets/base",
            "_view_module_version": "1.2.0",
            "_view_name": "LayoutView",
            "align_content": null,
            "align_items": null,
            "align_self": null,
            "border": null,
            "bottom": null,
            "display": null,
            "flex": null,
            "flex_flow": null,
            "grid_area": null,
            "grid_auto_columns": null,
            "grid_auto_flow": null,
            "grid_auto_rows": null,
            "grid_column": null,
            "grid_gap": null,
            "grid_row": null,
            "grid_template_areas": null,
            "grid_template_columns": null,
            "grid_template_rows": null,
            "height": null,
            "justify_content": null,
            "justify_items": null,
            "left": null,
            "margin": null,
            "max_height": null,
            "max_width": null,
            "min_height": null,
            "min_width": null,
            "object_fit": null,
            "object_position": null,
            "order": null,
            "overflow": null,
            "overflow_x": null,
            "overflow_y": null,
            "padding": null,
            "right": null,
            "top": null,
            "visibility": null,
            "width": null
          }
        },
        "ff2998e0975042b69c032f43709b3695": {
          "model_module": "@jupyter-widgets/base",
          "model_name": "LayoutModel",
          "model_module_version": "1.2.0",
          "state": {
            "_model_module": "@jupyter-widgets/base",
            "_model_module_version": "1.2.0",
            "_model_name": "LayoutModel",
            "_view_count": null,
            "_view_module": "@jupyter-widgets/base",
            "_view_module_version": "1.2.0",
            "_view_name": "LayoutView",
            "align_content": null,
            "align_items": null,
            "align_self": null,
            "border": null,
            "bottom": null,
            "display": null,
            "flex": null,
            "flex_flow": null,
            "grid_area": null,
            "grid_auto_columns": null,
            "grid_auto_flow": null,
            "grid_auto_rows": null,
            "grid_column": null,
            "grid_gap": null,
            "grid_row": null,
            "grid_template_areas": null,
            "grid_template_columns": null,
            "grid_template_rows": null,
            "height": null,
            "justify_content": null,
            "justify_items": null,
            "left": null,
            "margin": null,
            "max_height": null,
            "max_width": null,
            "min_height": null,
            "min_width": null,
            "object_fit": null,
            "object_position": null,
            "order": null,
            "overflow": null,
            "overflow_x": null,
            "overflow_y": null,
            "padding": null,
            "right": null,
            "top": null,
            "visibility": null,
            "width": null
          }
        },
        "95b499be49fd48589336bf7065eac2e5": {
          "model_module": "@jupyter-widgets/controls",
          "model_name": "DescriptionStyleModel",
          "model_module_version": "1.5.0",
          "state": {
            "_model_module": "@jupyter-widgets/controls",
            "_model_module_version": "1.5.0",
            "_model_name": "DescriptionStyleModel",
            "_view_count": null,
            "_view_module": "@jupyter-widgets/base",
            "_view_module_version": "1.2.0",
            "_view_name": "StyleView",
            "description_width": ""
          }
        },
        "ef33ce93ea954a67916bdaad21b2f956": {
          "model_module": "@jupyter-widgets/base",
          "model_name": "LayoutModel",
          "model_module_version": "1.2.0",
          "state": {
            "_model_module": "@jupyter-widgets/base",
            "_model_module_version": "1.2.0",
            "_model_name": "LayoutModel",
            "_view_count": null,
            "_view_module": "@jupyter-widgets/base",
            "_view_module_version": "1.2.0",
            "_view_name": "LayoutView",
            "align_content": null,
            "align_items": null,
            "align_self": null,
            "border": null,
            "bottom": null,
            "display": null,
            "flex": null,
            "flex_flow": null,
            "grid_area": null,
            "grid_auto_columns": null,
            "grid_auto_flow": null,
            "grid_auto_rows": null,
            "grid_column": null,
            "grid_gap": null,
            "grid_row": null,
            "grid_template_areas": null,
            "grid_template_columns": null,
            "grid_template_rows": null,
            "height": null,
            "justify_content": null,
            "justify_items": null,
            "left": null,
            "margin": null,
            "max_height": null,
            "max_width": null,
            "min_height": null,
            "min_width": null,
            "object_fit": null,
            "object_position": null,
            "order": null,
            "overflow": null,
            "overflow_x": null,
            "overflow_y": null,
            "padding": null,
            "right": null,
            "top": null,
            "visibility": null,
            "width": null
          }
        },
        "c83f36fef5174ed1b5829db3e8b8bb3b": {
          "model_module": "@jupyter-widgets/controls",
          "model_name": "ProgressStyleModel",
          "model_module_version": "1.5.0",
          "state": {
            "_model_module": "@jupyter-widgets/controls",
            "_model_module_version": "1.5.0",
            "_model_name": "ProgressStyleModel",
            "_view_count": null,
            "_view_module": "@jupyter-widgets/base",
            "_view_module_version": "1.2.0",
            "_view_name": "StyleView",
            "bar_color": null,
            "description_width": ""
          }
        },
        "76c95b2aa4674b9eb2e7a80ff86eee9f": {
          "model_module": "@jupyter-widgets/base",
          "model_name": "LayoutModel",
          "model_module_version": "1.2.0",
          "state": {
            "_model_module": "@jupyter-widgets/base",
            "_model_module_version": "1.2.0",
            "_model_name": "LayoutModel",
            "_view_count": null,
            "_view_module": "@jupyter-widgets/base",
            "_view_module_version": "1.2.0",
            "_view_name": "LayoutView",
            "align_content": null,
            "align_items": null,
            "align_self": null,
            "border": null,
            "bottom": null,
            "display": null,
            "flex": null,
            "flex_flow": null,
            "grid_area": null,
            "grid_auto_columns": null,
            "grid_auto_flow": null,
            "grid_auto_rows": null,
            "grid_column": null,
            "grid_gap": null,
            "grid_row": null,
            "grid_template_areas": null,
            "grid_template_columns": null,
            "grid_template_rows": null,
            "height": null,
            "justify_content": null,
            "justify_items": null,
            "left": null,
            "margin": null,
            "max_height": null,
            "max_width": null,
            "min_height": null,
            "min_width": null,
            "object_fit": null,
            "object_position": null,
            "order": null,
            "overflow": null,
            "overflow_x": null,
            "overflow_y": null,
            "padding": null,
            "right": null,
            "top": null,
            "visibility": null,
            "width": null
          }
        },
        "a5d1301ffc0e424cad93ebe448377ba7": {
          "model_module": "@jupyter-widgets/controls",
          "model_name": "DescriptionStyleModel",
          "model_module_version": "1.5.0",
          "state": {
            "_model_module": "@jupyter-widgets/controls",
            "_model_module_version": "1.5.0",
            "_model_name": "DescriptionStyleModel",
            "_view_count": null,
            "_view_module": "@jupyter-widgets/base",
            "_view_module_version": "1.2.0",
            "_view_name": "StyleView",
            "description_width": ""
          }
        },
        "3043ef569f8549d9a9a6ad2cd2188aab": {
          "model_module": "@jupyter-widgets/controls",
          "model_name": "HBoxModel",
          "model_module_version": "1.5.0",
          "state": {
            "_dom_classes": [],
            "_model_module": "@jupyter-widgets/controls",
            "_model_module_version": "1.5.0",
            "_model_name": "HBoxModel",
            "_view_count": null,
            "_view_module": "@jupyter-widgets/controls",
            "_view_module_version": "1.5.0",
            "_view_name": "HBoxView",
            "box_style": "",
            "children": [
              "IPY_MODEL_4dfe9501b9d648ec909b54c7cdf88808",
              "IPY_MODEL_7ea6885ce52547b998fd777928278dc6",
              "IPY_MODEL_b48f24ef80f143b5bc1cbae10e2c30e0"
            ],
            "layout": "IPY_MODEL_a6cc9fa8026d4c799893746d4e8d9ea8"
          }
        },
        "4dfe9501b9d648ec909b54c7cdf88808": {
          "model_module": "@jupyter-widgets/controls",
          "model_name": "HTMLModel",
          "model_module_version": "1.5.0",
          "state": {
            "_dom_classes": [],
            "_model_module": "@jupyter-widgets/controls",
            "_model_module_version": "1.5.0",
            "_model_name": "HTMLModel",
            "_view_count": null,
            "_view_module": "@jupyter-widgets/controls",
            "_view_module_version": "1.5.0",
            "_view_name": "HTMLView",
            "description": "",
            "description_tooltip": null,
            "layout": "IPY_MODEL_ea6d7cd8e31a458f8dc374417729679b",
            "placeholder": "​",
            "style": "IPY_MODEL_1c9da2604c814196b7abb9a8567bff6e",
            "value": "Downloading metadata: 100%"
          }
        },
        "7ea6885ce52547b998fd777928278dc6": {
          "model_module": "@jupyter-widgets/controls",
          "model_name": "FloatProgressModel",
          "model_module_version": "1.5.0",
          "state": {
            "_dom_classes": [],
            "_model_module": "@jupyter-widgets/controls",
            "_model_module_version": "1.5.0",
            "_model_name": "FloatProgressModel",
            "_view_count": null,
            "_view_module": "@jupyter-widgets/controls",
            "_view_module_version": "1.5.0",
            "_view_name": "ProgressView",
            "bar_style": "success",
            "description": "",
            "description_tooltip": null,
            "layout": "IPY_MODEL_b0ce13db49f94356b370cab17746d2f8",
            "max": 426,
            "min": 0,
            "orientation": "horizontal",
            "style": "IPY_MODEL_82691deedbf14350ae66a461181f6ccb",
            "value": 426
          }
        },
        "b48f24ef80f143b5bc1cbae10e2c30e0": {
          "model_module": "@jupyter-widgets/controls",
          "model_name": "HTMLModel",
          "model_module_version": "1.5.0",
          "state": {
            "_dom_classes": [],
            "_model_module": "@jupyter-widgets/controls",
            "_model_module_version": "1.5.0",
            "_model_name": "HTMLModel",
            "_view_count": null,
            "_view_module": "@jupyter-widgets/controls",
            "_view_module_version": "1.5.0",
            "_view_name": "HTMLView",
            "description": "",
            "description_tooltip": null,
            "layout": "IPY_MODEL_80669b9f8098420488ccac874c83968c",
            "placeholder": "​",
            "style": "IPY_MODEL_24a55215ee404be09490e7da60e5bf09",
            "value": " 426/426 [00:00&lt;00:00, 39.2kB/s]"
          }
        },
        "a6cc9fa8026d4c799893746d4e8d9ea8": {
          "model_module": "@jupyter-widgets/base",
          "model_name": "LayoutModel",
          "model_module_version": "1.2.0",
          "state": {
            "_model_module": "@jupyter-widgets/base",
            "_model_module_version": "1.2.0",
            "_model_name": "LayoutModel",
            "_view_count": null,
            "_view_module": "@jupyter-widgets/base",
            "_view_module_version": "1.2.0",
            "_view_name": "LayoutView",
            "align_content": null,
            "align_items": null,
            "align_self": null,
            "border": null,
            "bottom": null,
            "display": null,
            "flex": null,
            "flex_flow": null,
            "grid_area": null,
            "grid_auto_columns": null,
            "grid_auto_flow": null,
            "grid_auto_rows": null,
            "grid_column": null,
            "grid_gap": null,
            "grid_row": null,
            "grid_template_areas": null,
            "grid_template_columns": null,
            "grid_template_rows": null,
            "height": null,
            "justify_content": null,
            "justify_items": null,
            "left": null,
            "margin": null,
            "max_height": null,
            "max_width": null,
            "min_height": null,
            "min_width": null,
            "object_fit": null,
            "object_position": null,
            "order": null,
            "overflow": null,
            "overflow_x": null,
            "overflow_y": null,
            "padding": null,
            "right": null,
            "top": null,
            "visibility": null,
            "width": null
          }
        },
        "ea6d7cd8e31a458f8dc374417729679b": {
          "model_module": "@jupyter-widgets/base",
          "model_name": "LayoutModel",
          "model_module_version": "1.2.0",
          "state": {
            "_model_module": "@jupyter-widgets/base",
            "_model_module_version": "1.2.0",
            "_model_name": "LayoutModel",
            "_view_count": null,
            "_view_module": "@jupyter-widgets/base",
            "_view_module_version": "1.2.0",
            "_view_name": "LayoutView",
            "align_content": null,
            "align_items": null,
            "align_self": null,
            "border": null,
            "bottom": null,
            "display": null,
            "flex": null,
            "flex_flow": null,
            "grid_area": null,
            "grid_auto_columns": null,
            "grid_auto_flow": null,
            "grid_auto_rows": null,
            "grid_column": null,
            "grid_gap": null,
            "grid_row": null,
            "grid_template_areas": null,
            "grid_template_columns": null,
            "grid_template_rows": null,
            "height": null,
            "justify_content": null,
            "justify_items": null,
            "left": null,
            "margin": null,
            "max_height": null,
            "max_width": null,
            "min_height": null,
            "min_width": null,
            "object_fit": null,
            "object_position": null,
            "order": null,
            "overflow": null,
            "overflow_x": null,
            "overflow_y": null,
            "padding": null,
            "right": null,
            "top": null,
            "visibility": null,
            "width": null
          }
        },
        "1c9da2604c814196b7abb9a8567bff6e": {
          "model_module": "@jupyter-widgets/controls",
          "model_name": "DescriptionStyleModel",
          "model_module_version": "1.5.0",
          "state": {
            "_model_module": "@jupyter-widgets/controls",
            "_model_module_version": "1.5.0",
            "_model_name": "DescriptionStyleModel",
            "_view_count": null,
            "_view_module": "@jupyter-widgets/base",
            "_view_module_version": "1.2.0",
            "_view_name": "StyleView",
            "description_width": ""
          }
        },
        "b0ce13db49f94356b370cab17746d2f8": {
          "model_module": "@jupyter-widgets/base",
          "model_name": "LayoutModel",
          "model_module_version": "1.2.0",
          "state": {
            "_model_module": "@jupyter-widgets/base",
            "_model_module_version": "1.2.0",
            "_model_name": "LayoutModel",
            "_view_count": null,
            "_view_module": "@jupyter-widgets/base",
            "_view_module_version": "1.2.0",
            "_view_name": "LayoutView",
            "align_content": null,
            "align_items": null,
            "align_self": null,
            "border": null,
            "bottom": null,
            "display": null,
            "flex": null,
            "flex_flow": null,
            "grid_area": null,
            "grid_auto_columns": null,
            "grid_auto_flow": null,
            "grid_auto_rows": null,
            "grid_column": null,
            "grid_gap": null,
            "grid_row": null,
            "grid_template_areas": null,
            "grid_template_columns": null,
            "grid_template_rows": null,
            "height": null,
            "justify_content": null,
            "justify_items": null,
            "left": null,
            "margin": null,
            "max_height": null,
            "max_width": null,
            "min_height": null,
            "min_width": null,
            "object_fit": null,
            "object_position": null,
            "order": null,
            "overflow": null,
            "overflow_x": null,
            "overflow_y": null,
            "padding": null,
            "right": null,
            "top": null,
            "visibility": null,
            "width": null
          }
        },
        "82691deedbf14350ae66a461181f6ccb": {
          "model_module": "@jupyter-widgets/controls",
          "model_name": "ProgressStyleModel",
          "model_module_version": "1.5.0",
          "state": {
            "_model_module": "@jupyter-widgets/controls",
            "_model_module_version": "1.5.0",
            "_model_name": "ProgressStyleModel",
            "_view_count": null,
            "_view_module": "@jupyter-widgets/base",
            "_view_module_version": "1.2.0",
            "_view_name": "StyleView",
            "bar_color": null,
            "description_width": ""
          }
        },
        "80669b9f8098420488ccac874c83968c": {
          "model_module": "@jupyter-widgets/base",
          "model_name": "LayoutModel",
          "model_module_version": "1.2.0",
          "state": {
            "_model_module": "@jupyter-widgets/base",
            "_model_module_version": "1.2.0",
            "_model_name": "LayoutModel",
            "_view_count": null,
            "_view_module": "@jupyter-widgets/base",
            "_view_module_version": "1.2.0",
            "_view_name": "LayoutView",
            "align_content": null,
            "align_items": null,
            "align_self": null,
            "border": null,
            "bottom": null,
            "display": null,
            "flex": null,
            "flex_flow": null,
            "grid_area": null,
            "grid_auto_columns": null,
            "grid_auto_flow": null,
            "grid_auto_rows": null,
            "grid_column": null,
            "grid_gap": null,
            "grid_row": null,
            "grid_template_areas": null,
            "grid_template_columns": null,
            "grid_template_rows": null,
            "height": null,
            "justify_content": null,
            "justify_items": null,
            "left": null,
            "margin": null,
            "max_height": null,
            "max_width": null,
            "min_height": null,
            "min_width": null,
            "object_fit": null,
            "object_position": null,
            "order": null,
            "overflow": null,
            "overflow_x": null,
            "overflow_y": null,
            "padding": null,
            "right": null,
            "top": null,
            "visibility": null,
            "width": null
          }
        },
        "24a55215ee404be09490e7da60e5bf09": {
          "model_module": "@jupyter-widgets/controls",
          "model_name": "DescriptionStyleModel",
          "model_module_version": "1.5.0",
          "state": {
            "_model_module": "@jupyter-widgets/controls",
            "_model_module_version": "1.5.0",
            "_model_name": "DescriptionStyleModel",
            "_view_count": null,
            "_view_module": "@jupyter-widgets/base",
            "_view_module_version": "1.2.0",
            "_view_name": "StyleView",
            "description_width": ""
          }
        }
      }
    }
  },
  "nbformat": 4,
  "nbformat_minor": 0
}